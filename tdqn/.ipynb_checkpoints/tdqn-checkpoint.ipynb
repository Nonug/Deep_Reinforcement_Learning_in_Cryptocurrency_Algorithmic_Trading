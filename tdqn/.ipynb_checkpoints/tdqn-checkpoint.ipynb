{
 "cells": [
  {
   "cell_type": "code",
   "execution_count": 1,
   "id": "continent-shaft",
   "metadata": {},
   "outputs": [],
   "source": [
    "from tradingSimulator import TradingSimulator\n",
    "simulator = TradingSimulator()"
   ]
  },
  {
   "cell_type": "code",
   "execution_count": null,
   "id": "sharp-oklahoma",
   "metadata": {},
   "outputs": [],
   "source": [
    "# strategy in {\n",
    "#     'Buy and Hold',\n",
    "#     'Sell and Hold',\n",
    "#     'Trend Following Moving Averages',\n",
    "#     'Mean Reversion Moving Averages',\n",
    "#     'TDQN'\n",
    "# }\n",
    "# cryptocurrency in {'Bitcoin', 'Ethereum'}\n",
    "# network in {\"DQN\", \"LSTM\", \"BiLSTM\", \"DuelingDQN\", \"ConvDuelingDQN\"}"
   ]
  },
  {
   "cell_type": "code",
   "execution_count": null,
   "id": "isolated-shadow",
   "metadata": {},
   "outputs": [],
   "source": [
    "cryptocurrency = \"Bitcoin\"\n",
    "simulator.exploratoryDataAnalysis(cryptocurrency, '2014-01-01', '2021-01-01')"
   ]
  },
  {
   "cell_type": "code",
   "execution_count": 2,
   "id": "engaging-fundamental",
   "metadata": {},
   "outputs": [],
   "source": [
    "percentageCosts = [0, 0.1, 0.2]\n",
    "transactionCosts = percentageCosts[1]/100\n",
    "stateLength = 30\n",
    "AI_TRAINING_PARAM = {\n",
    "    'startingDate': '2014-01-01',\n",
    "    'endingDate': '2017-01-01',\n",
    "    'money': 100000,\n",
    "    'percentageCosts': percentageCosts,\n",
    "    'transactionCosts': transactionCosts,\n",
    "    # Parameters related to the DQN algorithm\n",
    "    'stateLength': stateLength,\n",
    "    'numberOfEpisodes': 50,\n",
    "    'gamma': 0.4,\n",
    "    'learningRate': 0.0001,\n",
    "    'targetNetworkUpdate': 1000,\n",
    "    'learningUpdatePeriod': 1,\n",
    "    'capacity': 100000,\n",
    "    'batchSize': 32,\n",
    "    'experiencesRequired': 1000,\n",
    "    'epsilonStart': 1.0,\n",
    "    'epsilonEnd': 0.01,\n",
    "    'epsilonDecay': 10000,\n",
    "    'name': 'training',\n",
    "    'network': 'DQN',\n",
    "}\n",
    "\n",
    "NON_AI_TRAINING_PARAM = {\n",
    "    'startingDate': '2014-01-01',\n",
    "    'endingDate': '2017-01-01',\n",
    "    'money': 100000,\n",
    "    'stateLength': stateLength,\n",
    "    'percentageCosts': percentageCosts,\n",
    "    'transactionCosts': transactionCosts,\n",
    "    'name': 'training',\n",
    "    'network': ''\n",
    "}\n",
    "\n",
    "VALIDATION_BACKTEST_PARAM = {\n",
    "    'startingDate': '2014-01-01',\n",
    "    'endingDate': '2017-01-01',\n",
    "    'money': 100000,\n",
    "    'stateLength': stateLength,\n",
    "    'transactionCosts': transactionCosts,\n",
    "    'name': 'validation_backtest',\n",
    "    'network': '',\n",
    "}\n",
    "\n",
    "VALIDATION_PARAM = {\n",
    "    'startingDate': '2017-01-01',\n",
    "    'endingDate': '2019-01-01',\n",
    "    'money': 100000,\n",
    "    'stateLength': stateLength,\n",
    "    'transactionCosts': transactionCosts,\n",
    "    'name': 'validation_test',\n",
    "    'network': '',\n",
    "}\n",
    "\n",
    "BACKTEST_PARAM = {\n",
    "    'startingDate': '2014-01-01',\n",
    "    'endingDate': '2019-01-01',\n",
    "    'money': 100000,\n",
    "    'stateLength': stateLength,\n",
    "    'transactionCosts': transactionCosts,\n",
    "    'name': 'backtest',\n",
    "    'network': '',\n",
    "}\n",
    "\n",
    "TEST_PARAM = {\n",
    "    'startingDate': '2019-01-01',\n",
    "    'endingDate': '2021-01-01',\n",
    "    'money': 100000,\n",
    "    'stateLength': stateLength,\n",
    "    'transactionCosts': transactionCosts,\n",
    "    'name': 'test',\n",
    "    'network': '',\n",
    "}\n",
    "\n",
    "ETH_TEST_PARAM = {\n",
    "    'startingDate': '2019-01-01',\n",
    "    'endingDate': '2021-01-01',\n",
    "    'money': 100000,\n",
    "    'stateLength': stateLength,\n",
    "    'transactionCosts': transactionCosts,\n",
    "    'name': 'test',\n",
    "    'network': '',\n",
    "}"
   ]
  },
  {
   "cell_type": "code",
   "execution_count": null,
   "id": "under-greece",
   "metadata": {
    "scrolled": true
   },
   "outputs": [],
   "source": [
    "strategy = \"TDQN\"\n",
    "trainCryptocurrency = \"Bitcoin\"\n",
    "AI_TRAINING_PARAM['network'] = 'LSTM'\n",
    "AI_TRAINING_PARAM['name'] = 'btc_tdqn_lstm_training'\n",
    "simulator.aiTrain(strategy, trainCryptocurrency, AI_TRAINING_PARAM)\n",
    "print()"
   ]
  },
  {
   "cell_type": "code",
   "execution_count": null,
   "id": "temporal-powder",
   "metadata": {},
   "outputs": [],
   "source": [
    "strategy = \"TDQN\"\n",
    "trainCryptocurrency = \"Bitcoin\"\n",
    "testCryptocurrency = \"Bitcoin\"\n",
    "VALIDATION_PARAM['network'] = 'LSTM'\n",
    "VALIDATION_PARAM['name'] = 'btc_tdqn_lstm_validation'\n",
    "simulator.test(strategy, trainCryptocurrency, testCryptocurrency, VALIDATION_PARAM)\n",
    "print()"
   ]
  },
  {
   "cell_type": "code",
   "execution_count": null,
   "id": "reduced-aruba",
   "metadata": {},
   "outputs": [],
   "source": [
    "strategy = \"TDQN\"\n",
    "trainCryptocurrency = \"Bitcoin\"\n",
    "testCryptocurrency = \"Bitcoin\"\n",
    "BACKTEST_PARAM['name'] = 'btc_tdqn_lstm_backtest'\n",
    "BACKTEST_PARAM['network'] = 'LSTM'\n",
    "simulator.test(strategy, trainCryptocurrency, testCryptocurrency, BACKTEST_PARAM)\n",
    "print()"
   ]
  },
  {
   "cell_type": "code",
   "execution_count": null,
   "id": "occupational-tribune",
   "metadata": {},
   "outputs": [],
   "source": [
    "strategy = \"TDQN\"\n",
    "trainCryptocurrency = \"Bitcoin\"\n",
    "testCryptocurrency = \"Bitcoin\"\n",
    "TEST_PARAM['name'] = 'btc_tdqn_lstm_test'\n",
    "TEST_PARAM['network'] = 'LSTM'\n",
    "simulator.test(strategy, trainCryptocurrency, testCryptocurrency, TEST_PARAM)\n",
    "print()"
   ]
  },
  {
   "cell_type": "code",
   "execution_count": null,
   "id": "proprietary-extension",
   "metadata": {},
   "outputs": [],
   "source": [
    "# Haven't scraped eth s2f\n",
    "# strategy = \"TDQN\"\n",
    "# trainCryptocurrency = \"Bitcoin\"\n",
    "# testCryptocurrency = \"Ethereum\"\n",
    "# ETH_TEST_PARAM['name'] = 'eth_tdqn_lstm_test'\n",
    "# ETH_TEST_PARAM['network'] = 'LSTM'\n",
    "# simulator.test(strategy, trainCryptocurrency, testCryptocurrency, ETH_TEST_PARAM)\n",
    "# print()"
   ]
  },
  {
   "cell_type": "code",
   "execution_count": null,
   "id": "accurate-reform",
   "metadata": {},
   "outputs": [],
   "source": [
    "strategy = \"TDQN\"\n",
    "trainCryptocurrency = \"Bitcoin\"\n",
    "AI_TRAINING_PARAM['network'] = 'DQN'\n",
    "AI_TRAINING_PARAM['name'] = 'btc_tdqn_dqn_training'\n",
    "AI_TRAINING_PARAM['network'] = 'DQN'\n",
    "simulator.aiTrain(strategy, trainCryptocurrency, AI_TRAINING_PARAM)\n",
    "print()"
   ]
  },
  {
   "cell_type": "code",
   "execution_count": null,
   "id": "further-letter",
   "metadata": {},
   "outputs": [],
   "source": [
    "strategy = \"TDQN\"\n",
    "trainCryptocurrency = \"Bitcoin\"\n",
    "testCryptocurrency = \"Bitcoin\"\n",
    "VALIDATION_PARAM['name'] = 'btc_tdqn_dqn_validation'\n",
    "VALIDATION_PARAM['network'] = 'DQN'\n",
    "simulator.test(strategy, trainCryptocurrency, testCryptocurrency, VALIDATION_PARAM)\n",
    "print()"
   ]
  },
  {
   "cell_type": "code",
   "execution_count": null,
   "id": "premier-scoop",
   "metadata": {},
   "outputs": [],
   "source": [
    "strategy = \"TDQN\"\n",
    "trainCryptocurrency = \"Bitcoin\"\n",
    "testCryptocurrency = \"Bitcoin\"\n",
    "BACKTEST_PARAM['name'] = 'btc_tdqn_dqn_backtest'\n",
    "BACKTEST_PARAM['network'] = 'DQN'\n",
    "simulator.test(strategy, trainCryptocurrency, testCryptocurrency, BACKTEST_PARAM)\n",
    "print()"
   ]
  },
  {
   "cell_type": "code",
   "execution_count": null,
   "id": "proved-configuration",
   "metadata": {},
   "outputs": [],
   "source": [
    "strategy = \"TDQN\"\n",
    "trainCryptocurrency = \"Bitcoin\"\n",
    "testCryptocurrency = \"Bitcoin\"\n",
    "TEST_PARAM['name'] = 'btc_tdqn_dqn_test'\n",
    "TEST_PARAM['network'] = 'DQN'\n",
    "simulator.test(strategy, trainCryptocurrency, testCryptocurrency, TEST_PARAM)\n",
    "print()"
   ]
  },
  {
   "cell_type": "code",
   "execution_count": null,
   "id": "subsequent-worker",
   "metadata": {},
   "outputs": [],
   "source": [
    "# Haven't scraped eth s2f\n",
    "# strategy = \"TDQN\"\n",
    "# trainCryptocurrency = \"Bitcoin\"\n",
    "# testCryptocurrency = \"Ethereum\"\n",
    "# ETH_TEST_PARAM['name'] = 'eth_tdqn_dqn_test'\n",
    "# ETH_TEST_PARAM['network'] = 'DQN'\n",
    "# simulator.test(strategy, trainCryptocurrency, testCryptocurrency, ETH_TEST_PARAM)\n",
    "# print()"
   ]
  },
  {
   "cell_type": "code",
   "execution_count": null,
   "id": "lesbian-boulder",
   "metadata": {},
   "outputs": [
    {
     "name": "stderr",
     "output_type": "stream",
     "text": [
      "\r",
      "  0%|          | 0/3 [00:00<?, ?it/s]"
     ]
    },
    {
     "name": "stdout",
     "output_type": "stream",
     "text": [
      "Training progression (hardware selected => cpu):\n"
     ]
    },
    {
     "name": "stderr",
     "output_type": "stream",
     "text": [
      " 67%|██████▋   | 2/3 [03:35<01:48, 108.54s/it]"
     ]
    }
   ],
   "source": [
    "strategy = \"TDQN\"\n",
    "trainCryptocurrency = \"Bitcoin\"\n",
    "AI_TRAINING_PARAM['network'] = 'BiLSTM'\n",
    "AI_TRAINING_PARAM['name'] = 'btc_tdqn_bilstm_training'\n",
    "AI_TRAINING_PARAM['network'] = 'BiLSTM'\n",
    "simulator.aiTrain(strategy, trainCryptocurrency, AI_TRAINING_PARAM)\n",
    "print()"
   ]
  },
  {
   "cell_type": "code",
   "execution_count": null,
   "id": "automatic-guatemala",
   "metadata": {},
   "outputs": [],
   "source": [
    "strategy = \"TDQN\"\n",
    "trainCryptocurrency = \"Bitcoin\"\n",
    "testCryptocurrency = \"Bitcoin\"\n",
    "VALIDATION_PARAM['name'] = 'btc_tdqn_bilstm_validation'\n",
    "VALIDATION_PARAM['network'] = 'BiLSTM'\n",
    "simulator.test(strategy, trainCryptocurrency, testCryptocurrency, VALIDATION_PARAM)\n",
    "print()"
   ]
  },
  {
   "cell_type": "code",
   "execution_count": null,
   "id": "foster-emphasis",
   "metadata": {},
   "outputs": [],
   "source": [
    "strategy = \"TDQN\"\n",
    "trainCryptocurrency = \"Bitcoin\"\n",
    "testCryptocurrency = \"Bitcoin\"\n",
    "BACKTEST_PARAM['name'] = 'btc_tdqn_bilstm_backtest'\n",
    "BACKTEST_PARAM['network'] = 'BiLSTM'\n",
    "simulator.test(strategy, trainCryptocurrency, testCryptocurrency, BACKTEST_PARAM)\n",
    "print()"
   ]
  },
  {
   "cell_type": "code",
   "execution_count": null,
   "id": "velvet-advocacy",
   "metadata": {},
   "outputs": [],
   "source": [
    "strategy = \"TDQN\"\n",
    "trainCryptocurrency = \"Bitcoin\"\n",
    "testCryptocurrency = \"Bitcoin\"\n",
    "TEST_PARAM['name'] = 'btc_tdqn_bilstm_test'\n",
    "TEST_PARAM['network'] = 'BiLSTM'\n",
    "simulator.test(strategy, trainCryptocurrency, testCryptocurrency, TEST_PARAM)\n",
    "print()"
   ]
  },
  {
   "cell_type": "code",
   "execution_count": null,
   "id": "collaborative-double",
   "metadata": {},
   "outputs": [],
   "source": [
    "Haven't scraped eth s2f\n",
    "strategy = \"TDQN\"\n",
    "trainCryptocurrency = \"Bitcoin\"\n",
    "testCryptocurrency = \"Ethereum\"\n",
    "ETH_TEST_PARAM['name'] = 'eth_tdqn_bilstm_test'\n",
    "ETH_TEST_PARAM['network'] = 'BiLSTM'\n",
    "simulator.test(strategy, trainCryptocurrency, testCryptocurrency, ETH_TEST_PARAM)\n",
    "print()"
   ]
  },
  {
   "cell_type": "code",
   "execution_count": null,
   "id": "supported-desire",
   "metadata": {},
   "outputs": [],
   "source": [
    "strategy = \"TDQN\"\n",
    "trainCryptocurrency = \"Bitcoin\"\n",
    "AI_TRAINING_PARAM['network'] = 'DuelingDQN'\n",
    "AI_TRAINING_PARAM['name'] = 'btc_tdqn_dueling_dqn_training'\n",
    "simulator.aiTrain(strategy, trainCryptocurrency, AI_TRAINING_PARAM)\n",
    "print()"
   ]
  },
  {
   "cell_type": "code",
   "execution_count": null,
   "id": "brazilian-qualification",
   "metadata": {},
   "outputs": [],
   "source": [
    "strategy = \"TDQN\"\n",
    "trainCryptocurrency = \"Bitcoin\"\n",
    "testCryptocurrency = \"Bitcoin\"\n",
    "VALIDATION_PARAM['name'] = 'btc_tdqn_duelingDQN_validation'\n",
    "VALIDATION_PARAM['network'] = 'DuelingDQN'\n",
    "simulator.test(strategy, trainCryptocurrency, testCryptocurrency, VALIDATION_PARAM)\n",
    "print()"
   ]
  },
  {
   "cell_type": "code",
   "execution_count": null,
   "id": "encouraging-notion",
   "metadata": {},
   "outputs": [],
   "source": [
    "strategy = \"TDQN\"\n",
    "trainCryptocurrency = \"Bitcoin\"\n",
    "testCryptocurrency = \"Bitcoin\"\n",
    "BACKTEST_PARAM['name'] = 'btc_tdqn_duelingDQN_backtest'\n",
    "BACKTEST_PARAM['network'] = 'DuelingDQN'\n",
    "simulator.test(strategy, trainCryptocurrency, testCryptocurrency, BACKTEST_PARAM)\n",
    "print()"
   ]
  },
  {
   "cell_type": "code",
   "execution_count": null,
   "id": "assisted-jesus",
   "metadata": {},
   "outputs": [],
   "source": [
    "strategy = \"TDQN\"\n",
    "trainCryptocurrency = \"Bitcoin\"\n",
    "testCryptocurrency = \"Bitcoin\"\n",
    "TEST_PARAM['name'] = 'btc_tdqn_duelingDQN_test'\n",
    "TEST_PARAM['network'] = 'DuelingDQN'\n",
    "simulator.test(strategy, trainCryptocurrency, testCryptocurrency, TEST_PARAM)\n",
    "print()"
   ]
  },
  {
   "cell_type": "code",
   "execution_count": null,
   "id": "intensive-conclusion",
   "metadata": {},
   "outputs": [],
   "source": [
    "# Haven't scraped eth s2f\n",
    "# strategy = \"TDQN\"\n",
    "# trainCryptocurrency = \"Bitcoin\"\n",
    "# testCryptocurrency = \"Ethereum\"\n",
    "# ETH_TEST_PARAM['name'] = 'eth_tdqn_duelingDQN_test'\n",
    "# ETH_TEST_PARAM['network'] = 'DuelingDQN'\n",
    "# simulator.test(strategy, trainCryptocurrency, testCryptocurrency, ETH_TEST_PARAM)\n",
    "# print()"
   ]
  },
  {
   "cell_type": "code",
   "execution_count": null,
   "id": "amino-seating",
   "metadata": {},
   "outputs": [],
   "source": [
    "# strategy = \"TDQN\"\n",
    "# trainCryptocurrency = \"Bitcoin\"\n",
    "# AI_TRAINING_PARAM['network'] = 'ConvDuelingDQN'\n",
    "# AI_TRAINING_PARAM['name'] = 'btc_tdqn_conv_dueling_dqn_training'\n",
    "# simulator.aiTrain(strategy, trainCryptocurrency, AI_TRAINING_PARAM)\n",
    "# print()"
   ]
  },
  {
   "cell_type": "code",
   "execution_count": null,
   "id": "latest-ozone",
   "metadata": {},
   "outputs": [],
   "source": [
    "# strategy = \"TDQN\"\n",
    "# trainCryptocurrency = \"Bitcoin\"\n",
    "# testCryptocurrency = \"Bitcoin\"\n",
    "# VALIDATION_PARAM['name'] = 'btc_tdqn_convDuelingDQN_validation'\n",
    "# VALIDATION_PARAM['network'] = 'ConvDuelingDQN'\n",
    "# simulator.test(strategy, trainCryptocurrency, testCryptocurrency, VALIDATION_PARAM)\n",
    "# print()"
   ]
  },
  {
   "cell_type": "code",
   "execution_count": null,
   "id": "wired-factor",
   "metadata": {},
   "outputs": [],
   "source": [
    "# strategy = \"TDQN\"\n",
    "# trainCryptocurrency = \"Bitcoin\"\n",
    "# testCryptocurrency = \"Bitcoin\"\n",
    "# BACKTEST_PARAM['name'] = 'btc_tdqn_convDuelingDQN_backtest'\n",
    "# BACKTEST_PARAM['network'] = 'ConvDuelingDQN'\n",
    "# simulator.test(strategy, trainCryptocurrency, testCryptocurrency, BACKTEST_PARAM)\n",
    "# print()"
   ]
  },
  {
   "cell_type": "code",
   "execution_count": null,
   "id": "fourth-constitution",
   "metadata": {},
   "outputs": [],
   "source": [
    "# strategy = \"TDQN\"\n",
    "# trainCryptocurrency = \"Bitcoin\"\n",
    "# testCryptocurrency = \"Bitcoin\"\n",
    "# TEST_PARAM['name'] = 'btc_tdqn_convDuelingDQN_test'\n",
    "# TEST_PARAM['network'] = 'ConvDuelingDQN'\n",
    "# simulator.test(strategy, trainCryptocurrency, testCryptocurrency, TEST_PARAM)\n",
    "# print()"
   ]
  },
  {
   "cell_type": "code",
   "execution_count": null,
   "id": "waiting-enhancement",
   "metadata": {},
   "outputs": [],
   "source": [
    "# Haven't scraped eth s2f\n",
    "# strategy = \"TDQN\"\n",
    "# trainCryptocurrency = \"Bitcoin\"\n",
    "# testCryptocurrency = \"Ethereum\"\n",
    "# ETH_TEST_PARAM['name'] = 'eth_tdqn_convDuelingDQN_test'\n",
    "# ETH_TEST_PARAM['network'] = 'ConvDuelingDQN'\n",
    "# simulator.test(strategy, trainCryptocurrency, testCryptocurrency, ETH_TEST_PARAM)\n",
    "# print()"
   ]
  },
  {
   "cell_type": "code",
   "execution_count": null,
   "id": "interracial-paris",
   "metadata": {},
   "outputs": [],
   "source": [
    "strategy = \"Buy and Hold\"\n",
    "trainCryptocurrency = \"Bitcoin\"\n",
    "NON_AI_TRAINING_PARAM['name'] = 'btc_b&h_training'\n",
    "NON_AI_TRAINING_PARAM['network'] = ''\n",
    "simulator.nonAiTrain(strategy, trainCryptocurrency, NON_AI_TRAINING_PARAM)\n",
    "print()"
   ]
  },
  {
   "cell_type": "code",
   "execution_count": null,
   "id": "copyrighted-adelaide",
   "metadata": {},
   "outputs": [],
   "source": [
    "strategy = \"Buy and Hold\"\n",
    "trainCryptocurrency = \"Bitcoin\"\n",
    "testCryptocurrency = \"Bitcoin\"\n",
    "VALIDATION_PARAM['name'] = 'btc_b&h_validation'\n",
    "VALIDATION_PARAM['network'] = ''\n",
    "simulator.test(strategy, trainCryptocurrency, testCryptocurrency, VALIDATION_PARAM)\n",
    "print()"
   ]
  },
  {
   "cell_type": "code",
   "execution_count": null,
   "id": "contemporary-tomato",
   "metadata": {},
   "outputs": [],
   "source": [
    "strategy = \"Buy and Hold\"\n",
    "trainCryptocurrency = \"Bitcoin\"\n",
    "testCryptocurrency = \"Bitcoin\"\n",
    "BACKTEST_PARAM['name'] = 'btc_b&h_backtest'\n",
    "BACKTEST_PARAM['network'] = ''\n",
    "simulator.test(strategy, trainCryptocurrency, testCryptocurrency, BACKTEST_PARAM)\n",
    "print()"
   ]
  },
  {
   "cell_type": "code",
   "execution_count": null,
   "id": "bulgarian-episode",
   "metadata": {},
   "outputs": [],
   "source": [
    "strategy = \"Buy and Hold\"\n",
    "trainCryptocurrency = \"Bitcoin\"\n",
    "testCryptocurrency = \"Bitcoin\"\n",
    "TEST_PARAM['name'] = 'btc_b&h_test'\n",
    "TEST_PARAM['network'] = ''\n",
    "simulator.test(strategy, trainCryptocurrency, testCryptocurrency, TEST_PARAM)\n",
    "print()"
   ]
  },
  {
   "cell_type": "code",
   "execution_count": null,
   "id": "circular-label",
   "metadata": {},
   "outputs": [],
   "source": [
    "# strategy = \"Buy and Hold\"\n",
    "# trainCryptocurrency = \"Bitcoin\"\n",
    "# testCryptocurrency = \"Ethereum\"\n",
    "# ETH_TEST_PARAM['name'] = 'eth_b&h_test'\n",
    "# ETH_TEST_PARAM['network'] = ''\n",
    "# simulator.test(strategy, trainCryptocurrency, testCryptocurrency, ETH_TEST_PARAM)\n",
    "# print()"
   ]
  },
  {
   "cell_type": "code",
   "execution_count": null,
   "id": "suspected-focus",
   "metadata": {},
   "outputs": [],
   "source": [
    "strategy = \"Sell and Hold\"\n",
    "trainCryptocurrency = \"Bitcoin\"\n",
    "NON_AI_TRAINING_PARAM['name'] = 'btc_s&h_training'\n",
    "NON_AI_TRAINING_PARAM['network'] = ''\n",
    "simulator.nonAiTrain(strategy, trainCryptocurrency, NON_AI_TRAINING_PARAM)\n",
    "print()"
   ]
  },
  {
   "cell_type": "code",
   "execution_count": null,
   "id": "interracial-difficulty",
   "metadata": {},
   "outputs": [],
   "source": [
    "strategy = \"Sell and Hold\"\n",
    "trainCryptocurrency = \"Bitcoin\"\n",
    "testCryptocurrency = \"Bitcoin\"\n",
    "VALIDATION_PARAM['name'] = 'btc_s&h_validation'\n",
    "VALIDATION_PARAM['network'] = ''\n",
    "simulator.test(strategy, trainCryptocurrency, testCryptocurrency, VALIDATION_PARAM)\n",
    "print()"
   ]
  },
  {
   "cell_type": "code",
   "execution_count": null,
   "id": "agreed-emerald",
   "metadata": {},
   "outputs": [],
   "source": [
    "strategy = \"Sell and Hold\"\n",
    "trainCryptocurrency = \"Bitcoin\"\n",
    "testCryptocurrency = \"Bitcoin\"\n",
    "BACKTEST_PARAM['name'] = 'btc_s&h_backtest'\n",
    "BACKTEST_PARAM['network'] = ''\n",
    "simulator.test(strategy, trainCryptocurrency, testCryptocurrency, BACKTEST_PARAM)\n",
    "print()"
   ]
  },
  {
   "cell_type": "code",
   "execution_count": null,
   "id": "enhanced-firmware",
   "metadata": {},
   "outputs": [],
   "source": [
    "strategy = \"Sell and Hold\"\n",
    "trainCryptocurrency = \"Bitcoin\"\n",
    "testCryptocurrency = \"Bitcoin\"\n",
    "TEST_PARAM['name'] = 'btc_s&h_test'\n",
    "TEST_PARAM['network'] = ''\n",
    "simulator.test(strategy, trainCryptocurrency, testCryptocurrency, TEST_PARAM)\n",
    "print()"
   ]
  },
  {
   "cell_type": "code",
   "execution_count": null,
   "id": "amateur-mechanics",
   "metadata": {},
   "outputs": [],
   "source": [
    "# strategy = \"Sell and Hold\"\n",
    "# trainCryptocurrency = \"Bitcoin\"\n",
    "# testCryptocurrency = \"Ethereum\"\n",
    "# ETH_TEST_PARAM['name'] = 'eth_s&h_test'\n",
    "# ETH_TEST_PARAM['network'] = ''\n",
    "# simulator.test(strategy, trainCryptocurrency, testCryptocurrency, ETH_TEST_PARAM)\n",
    "# print()"
   ]
  },
  {
   "cell_type": "code",
   "execution_count": null,
   "id": "genetic-mountain",
   "metadata": {},
   "outputs": [],
   "source": [
    "strategy = \"Trend Following Moving Averages\"\n",
    "trainCryptocurrency = \"Bitcoin\"\n",
    "NON_AI_TRAINING_PARAM['name'] = 'btc_tfma_training'\n",
    "NON_AI_TRAINING_PARAM['network'] = ''\n",
    "simulator.nonAiTrain(strategy, trainCryptocurrency, NON_AI_TRAINING_PARAM)\n",
    "print()"
   ]
  },
  {
   "cell_type": "code",
   "execution_count": null,
   "id": "proprietary-laugh",
   "metadata": {},
   "outputs": [],
   "source": [
    "strategy = \"Trend Following Moving Averages\"\n",
    "trainCryptocurrency = \"Bitcoin\"\n",
    "testCryptocurrency = \"Bitcoin\"\n",
    "VALIDATION_PARAM['name'] = \"btc_tfma_validation\"\n",
    "VALIDATION_PARAM['network'] = ''\n",
    "simulator.test(strategy, trainCryptocurrency, testCryptocurrency, VALIDATION_PARAM)\n",
    "print()"
   ]
  },
  {
   "cell_type": "code",
   "execution_count": null,
   "id": "every-calvin",
   "metadata": {},
   "outputs": [],
   "source": [
    "strategy = \"Trend Following Moving Averages\"\n",
    "trainCryptocurrency = \"Bitcoin\"\n",
    "testCryptocurrency = \"Bitcoin\"\n",
    "BACKTEST_PARAM['name'] = \"btc_tfma_backtest\"\n",
    "BACKTEST_PARAM['network'] = ''\n",
    "simulator.test(strategy, trainCryptocurrency, testCryptocurrency, BACKTEST_PARAM)\n",
    "print()"
   ]
  },
  {
   "cell_type": "code",
   "execution_count": null,
   "id": "loaded-blogger",
   "metadata": {},
   "outputs": [],
   "source": [
    "strategy = \"Trend Following Moving Averages\"\n",
    "trainCryptocurrency = \"Bitcoin\"\n",
    "testCryptocurrency = \"Bitcoin\"\n",
    "TEST_PARAM['name'] = \"btc_tfma_test\"\n",
    "TEST_PARAM['network'] = ''\n",
    "simulator.test(strategy, trainCryptocurrency, testCryptocurrency, TEST_PARAM)\n",
    "print()"
   ]
  },
  {
   "cell_type": "code",
   "execution_count": null,
   "id": "retained-evanescence",
   "metadata": {},
   "outputs": [],
   "source": [
    "# strategy = \"Trend Following Moving Averages\"\n",
    "# trainCryptocurrency = \"Bitcoin\"\n",
    "# testCryptocurrency = \"Ethereum\"\n",
    "# ETH_TEST_PARAM['name'] = \"eth_tfma_test\"\n",
    "# ETH_TEST_PARAM['network'] = ''\n",
    "# simulator.test(strategy, trainCryptocurrency, testCryptocurrency, ETH_TEST_PARAM)\n",
    "# print()"
   ]
  },
  {
   "cell_type": "code",
   "execution_count": null,
   "id": "cellular-acceptance",
   "metadata": {},
   "outputs": [],
   "source": [
    "strategy = \"Mean Reversion Moving Averages\"\n",
    "trainCryptocurrency = \"Bitcoin\"\n",
    "testCryptocurrency = \"Bitcoin\"\n",
    "NON_AI_TRAINING_PARAM['name'] = 'btc_mrma_training'\n",
    "NON_AI_TRAINING_PARAM['network'] = ''\n",
    "simulator.nonAitrain(strategy, trainCryptocurrency, NON_AI_TRAINING_PARAM)\n",
    "print()"
   ]
  },
  {
   "cell_type": "code",
   "execution_count": null,
   "id": "swedish-toddler",
   "metadata": {},
   "outputs": [],
   "source": [
    "strategy = \"Mean Reversion Moving Averages\"\n",
    "trainCryptocurrency = \"Bitcoin\"\n",
    "testCryptocurrency = \"Bitcoin\"\n",
    "VALIDATION_PARAM['name'] = \"btc_mrma_validation\"\n",
    "VALIDATION_PARAM['network'] = ''\n",
    "simulator.test(strategy, trainCryptocurrency, testCryptocurrency, VALIDATION_PARAM)\n",
    "print()"
   ]
  },
  {
   "cell_type": "code",
   "execution_count": null,
   "id": "imposed-invite",
   "metadata": {},
   "outputs": [],
   "source": [
    "strategy = \"Mean Reversion Moving Averages\"\n",
    "trainCryptocurrency = \"Bitcoin\"\n",
    "testCryptocurrency = \"Bitcoin\"\n",
    "BACKTEST_PARAM['name'] = \"btc_mrma_backtest\"\n",
    "BACKTEST_PARAM['network'] = ''\n",
    "simulator.test(strategy, trainCryptocurrency, testCryptocurrency, BACKTEST_PARAM)\n",
    "print()"
   ]
  },
  {
   "cell_type": "code",
   "execution_count": null,
   "id": "associate-celebrity",
   "metadata": {},
   "outputs": [],
   "source": [
    "strategy = \"Mean Reversion Moving Averages\"\n",
    "trainCryptocurrency = \"Bitcoin\"\n",
    "testCryptocurrency = \"Bitcoin\"\n",
    "TEST_PARAM['name'] = \"btc_mrma_test\"\n",
    "TEST_PARAM['network'] = ''\n",
    "simulator.test(strategy, trainCryptocurrency, testCryptocurrency, TEST_PARAM)\n",
    "print()"
   ]
  },
  {
   "cell_type": "code",
   "execution_count": null,
   "id": "rural-pennsylvania",
   "metadata": {},
   "outputs": [],
   "source": [
    "# strategy = \"Mean Reversion Moving Averages\"\n",
    "# trainCryptocurrency = \"Bitcoin\"\n",
    "# testCryptocurrency = \"Ethereum\"\n",
    "# ETH_TEST_PARAM['name'] = \"eth_mrma_test\"\n",
    "# ETH_TEST_PARAM['network'] = ''\n",
    "# simulator.test(strategy, trainCryptocurrency, testCryptocurrency, ETH_TEST_PARAM)\n",
    "# print()"
   ]
  }
 ],
 "metadata": {
  "kernelspec": {
   "display_name": "Python 3",
   "language": "python",
   "name": "python3"
  },
  "language_info": {
   "codemirror_mode": {
    "name": "ipython",
    "version": 3
   },
   "file_extension": ".py",
   "mimetype": "text/x-python",
   "name": "python",
   "nbconvert_exporter": "python",
   "pygments_lexer": "ipython3",
   "version": "3.8.8"
  }
 },
 "nbformat": 4,
 "nbformat_minor": 5
}
