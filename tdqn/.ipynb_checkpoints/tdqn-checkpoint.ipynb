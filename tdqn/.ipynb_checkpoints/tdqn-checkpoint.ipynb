{
 "cells": [
  {
   "cell_type": "code",
   "execution_count": 1,
   "id": "continent-shaft",
   "metadata": {},
   "outputs": [],
   "source": [
    "from tradingSimulator import TradingSimulator\n",
    "simulator = TradingSimulator()"
   ]
  },
  {
   "cell_type": "code",
   "execution_count": 119,
   "id": "lesbian-arnold",
   "metadata": {},
   "outputs": [],
   "source": [
    "# methods provided:\n",
    "# simulator.simulateNewStrategy(strategy, cryptocurrency, saveStrategy=True)\n",
    "# simulator.simulateExistingStrategy(strategy, cryptocurrency)\n",
    "# simulator.evaluateStrategy(strategy, saveStrategy=True)\n",
    "# simulator.evaluateStock(cryptocurrency)\n",
    "\n",
    "# strategy in {'Buy and Hold', 'Sell and Hold', 'Trend Following Moving Averages', 'Mean Reversion Moving Averages', 'TDQN'}\n",
    "# cryptocurrency in {'Bitcoin'}"
   ]
  },
  {
   "cell_type": "code",
   "execution_count": 120,
   "id": "exterior-train",
   "metadata": {},
   "outputs": [],
   "source": [
    "strategy = \"Buy and Hold\"\n",
    "cryptocurrency = \"Bitcoin\"\n",
    "simulator.simulateNewStrategy(strategy, cryptocurrency, saveStrategy=True)\n",
    "simulator.evaluateStrategy(strategy, saveStrategy=True)"
   ]
  },
  {
   "cell_type": "code",
   "execution_count": null,
   "id": "christian-palmer",
   "metadata": {},
   "outputs": [
    {
     "name": "stderr",
     "output_type": "stream",
     "text": [
      "\r",
      "  0%|          | 0/50 [00:00<?, ?it/s]"
     ]
    },
    {
     "name": "stdout",
     "output_type": "stream",
     "text": [
      "Training progression (hardware selected => cpu):\n"
     ]
    }
   ],
   "source": [
    "strategy = \"TDQN\"\n",
    "cryptocurrency = \"Bitcoin\"\n",
    "simulator.simulateNewStrategy(strategy, cryptocurrency, saveStrategy=True)\n",
    "simulator.evaluateStrategy(strategy, saveStrategy=True)"
   ]
  }
 ],
 "metadata": {
  "kernelspec": {
   "display_name": "Python 3",
   "language": "python",
   "name": "python3"
  },
  "language_info": {
   "codemirror_mode": {
    "name": "ipython",
    "version": 3
   },
   "file_extension": ".py",
   "mimetype": "text/x-python",
   "name": "python",
   "nbconvert_exporter": "python",
   "pygments_lexer": "ipython3",
   "version": "3.8.8"
  }
 },
 "nbformat": 4,
 "nbformat_minor": 5
}
