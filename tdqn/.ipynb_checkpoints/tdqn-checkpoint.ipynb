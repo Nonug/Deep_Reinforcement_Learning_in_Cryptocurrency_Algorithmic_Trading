{
 "cells": [
  {
   "cell_type": "code",
   "execution_count": null,
   "metadata": {},
   "outputs": [],
   "source": [
    "from tradingSimulator import TradingSimulator\n",
    "simulator = TradingSimulator()"
   ]
  },
  {
   "cell_type": "code",
   "execution_count": null,
   "metadata": {},
   "outputs": [],
   "source": [
    "# strategy in {\n",
    "#     'Buy and Hold',\n",
    "#     'Sell and Hold',\n",
    "#     'Trend Following Moving Averages',\n",
    "#     'Mean Reversion Moving Averages',\n",
    "#     'TDQN'\n",
    "# }\n",
    "# cryptocurrency in {'Bitcoin', 'Ethereum'}\n",
    "# network in {\"DQN\", \"LSTM\", \"BiLSTM\", \"DuelingDQN\", \"ConvDuelingDQN\"}"
   ]
  },
  {
   "cell_type": "code",
   "execution_count": null,
   "metadata": {},
   "outputs": [],
   "source": [
    "# cryptocurrency = \"Bitcoin\"\n",
    "# simulator.exploratoryDataAnalysis(cryptocurrency, '2014-01-01', '2021-01-01')"
   ]
  },
  {
   "cell_type": "code",
   "execution_count": 2,
   "metadata": {},
   "outputs": [],
   "source": [
    "percentageCosts = [0, 0.1, 0.2]\n",
    "transactionCosts = percentageCosts[1]/100\n",
    "stateLength = 30\n",
    "AI_TRAINING_PARAM = {\n",
    "    'startingDate': '2014-01-01',\n",
    "    'endingDate': '2017-01-01',\n",
    "    'money': 100000,\n",
    "    'percentageCosts': percentageCosts,\n",
    "    'transactionCosts': transactionCosts,\n",
    "    'name': 'training',\n",
    "    'network': 'DQN',\n",
    "    # Parameters related to the DQN algorithm\n",
    "    'stateLength': stateLength,\n",
    "    'numberOfEpisodes': 50,\n",
    "    'gamma': 0.4,\n",
    "    'learningRate': 0.0001,\n",
    "    'targetNetworkUpdate': 1000,\n",
    "    'learningUpdatePeriod': 1,\n",
    "    # Default parameters related to the Experience Replay mechanism\n",
    "    'capacity': 100000,\n",
    "    'batchSize': 32,\n",
    "    'experiencesRequired': 1000,\n",
    "    # Default parameters related to the Deep Neural Network\n",
    "    'numberOfNeurons': 512,\n",
    "    'dropout': 0.2,\n",
    "    # Default parameters related to the Epsilon-Greedy exploration technique\n",
    "    'epsilonStart': 1.0,\n",
    "    'epsilonEnd': 0.01,\n",
    "    'epsilonDecay': 10000,\n",
    "    # Default parameters regarding the sticky actions RL generalization technique\n",
    "    'alpha': 0.1,\n",
    "    # Default parameters related to preprocessing\n",
    "    'filterOrder': 5,\n",
    "    # Default paramters related to the clipping of both the gradient and the RL rewards\n",
    "    'gradientClipping': 1,\n",
    "    'rewardClipping': 1,\n",
    "    # Default parameter related to the L2 Regularization \n",
    "    'L2Factor': 0.000001,\n",
    "}\n",
    "\n",
    "NON_AI_TRAINING_PARAM = {\n",
    "    'startingDate': '2014-01-01',\n",
    "    'endingDate': '2017-01-01',\n",
    "    'money': 100000,\n",
    "    'stateLength': stateLength,\n",
    "    'percentageCosts': percentageCosts,\n",
    "    'transactionCosts': transactionCosts,\n",
    "    'name': 'training',\n",
    "    'network': ''\n",
    "}\n",
    "\n",
    "VALIDATION_PARAM = {\n",
    "    'startingDate': '2017-01-01',\n",
    "    'endingDate': '2019-01-01',\n",
    "    'money': 100000,\n",
    "    'stateLength': stateLength,\n",
    "    'transactionCosts': transactionCosts,\n",
    "    'name': 'validation',\n",
    "    'network': '',\n",
    "}\n",
    "\n",
    "BACKTEST_PARAM = {\n",
    "    'startingDate': '2014-01-01',\n",
    "    'endingDate': '2021-01-01',\n",
    "    'money': 100000,\n",
    "    'stateLength': stateLength,\n",
    "    'transactionCosts': transactionCosts,\n",
    "    'name': 'backtest',\n",
    "    'network': '',\n",
    "}\n",
    "\n",
    "TEST_PARAM = {\n",
    "    'startingDate': '2019-01-01',\n",
    "    'endingDate': '2021-01-01',\n",
    "    'money': 100000,\n",
    "    'stateLength': stateLength,\n",
    "    'transactionCosts': transactionCosts,\n",
    "    'name': 'test',\n",
    "    'network': '',\n",
    "}\n",
    "\n",
    "ETH_TEST_PARAM = {\n",
    "    'startingDate': '2019-01-01',\n",
    "    'endingDate': '2021-01-01',\n",
    "    'money': 100000,\n",
    "    'stateLength': stateLength,\n",
    "    'transactionCosts': transactionCosts,\n",
    "    'name': 'test',\n",
    "    'network': '',\n",
    "}"
   ]
  },
  {
   "cell_type": "code",
   "execution_count": null,
   "metadata": {
    "scrolled": true
   },
   "outputs": [
    {
     "name": "stdout",
     "output_type": "stream",
     "text": [
      "Training1\n"
     ]
    },
    {
     "name": "stderr",
     "output_type": "stream",
     "text": [
      "  0%|          | 0/50 [00:00<?, ?it/s]"
     ]
    },
    {
     "name": "stdout",
     "output_type": "stream",
     "text": [
      "Training progression (hardware selected => cuda:0):\n"
     ]
    },
    {
     "name": "stderr",
     "output_type": "stream",
     "text": [
      "100%|██████████| 50/50 [05:44<00:00,  6.89s/it]\n"
     ]
    },
    {
     "name": "stdout",
     "output_type": "stream",
     "text": [
      "╒═══════════════════════════╤══════════╕\n",
      "│   Performance Indicator   │   TDQN   │\n",
      "╞═══════════════════════════╪══════════╡\n",
      "│    Profit & Loss (P&L)    │  -81692  │\n",
      "├───────────────────────────┼──────────┤\n",
      "│     Annualized Return     │ -100.00% │\n",
      "├───────────────────────────┼──────────┤\n",
      "│   Annualized Volatility   │  58.74%  │\n",
      "├───────────────────────────┼──────────┤\n",
      "│       Sharpe Ratio        │  -1.691  │\n",
      "├───────────────────────────┼──────────┤\n",
      "│       Sortino Ratio       │  -2.049  │\n",
      "├───────────────────────────┼──────────┤\n",
      "│     Maximum Drawdown      │  85.04%  │\n",
      "├───────────────────────────┼──────────┤\n",
      "│ Maximum Drawdown Duration │ 310 days │\n",
      "├───────────────────────────┼──────────┤\n",
      "│       Profitability       │  42.66%  │\n",
      "├───────────────────────────┼──────────┤\n",
      "│ Ratio Average Profit/Loss │  0.880   │\n",
      "├───────────────────────────┼──────────┤\n",
      "│         Skewness          │  -0.485  │\n",
      "╘═══════════════════════════╧══════════╛\n",
      "Validation1\n",
      "╒═══════════════════════════╤═══════════╕\n",
      "│   Performance Indicator   │   TDQN    │\n",
      "╞═══════════════════════════╪═══════════╡\n",
      "│    Profit & Loss (P&L)    │  -96253   │\n",
      "├───────────────────────────┼───────────┤\n",
      "│     Annualized Return     │ -100.00%  │\n",
      "├───────────────────────────┼───────────┤\n",
      "│   Annualized Volatility   │  40.16%   │\n",
      "├───────────────────────────┼───────────┤\n",
      "│       Sharpe Ratio        │  -1.208   │\n",
      "├───────────────────────────┼───────────┤\n",
      "│       Sortino Ratio       │  -1.343   │\n",
      "├───────────────────────────┼───────────┤\n",
      "│     Maximum Drawdown      │  97.45%   │\n",
      "├───────────────────────────┼───────────┤\n",
      "│ Maximum Drawdown Duration │ 1361 days │\n",
      "├───────────────────────────┼───────────┤\n",
      "│       Profitability       │  48.65%   │\n",
      "├───────────────────────────┼───────────┤\n",
      "│ Ratio Average Profit/Loss │   0.820   │\n",
      "├───────────────────────────┼───────────┤\n",
      "│         Skewness          │   0.053   │\n",
      "╘═══════════════════════════╧═══════════╛\n",
      "Training2\n"
     ]
    },
    {
     "name": "stderr",
     "output_type": "stream",
     "text": [
      "  0%|          | 0/50 [00:00<?, ?it/s]"
     ]
    },
    {
     "name": "stdout",
     "output_type": "stream",
     "text": [
      "Training progression (hardware selected => cuda:0):\n"
     ]
    },
    {
     "name": "stderr",
     "output_type": "stream",
     "text": [
      "100%|██████████| 50/50 [12:01<00:00, 14.43s/it]\n"
     ]
    },
    {
     "name": "stdout",
     "output_type": "stream",
     "text": [
      "╒═══════════════════════════╤══════════╕\n",
      "│   Performance Indicator   │   TDQN   │\n",
      "╞═══════════════════════════╪══════════╡\n",
      "│    Profit & Loss (P&L)    │  -48356  │\n",
      "├───────────────────────────┼──────────┤\n",
      "│     Annualized Return     │  -8.90%  │\n",
      "├───────────────────────────┼──────────┤\n",
      "│   Annualized Volatility   │  58.09%  │\n",
      "├───────────────────────────┼──────────┤\n",
      "│       Sharpe Ratio        │  -0.101  │\n",
      "├───────────────────────────┼──────────┤\n",
      "│       Sortino Ratio       │  -0.132  │\n",
      "├───────────────────────────┼──────────┤\n",
      "│     Maximum Drawdown      │  71.38%  │\n",
      "├───────────────────────────┼──────────┤\n",
      "│ Maximum Drawdown Duration │ 596 days │\n",
      "├───────────────────────────┼──────────┤\n",
      "│       Profitability       │  42.62%  │\n",
      "├───────────────────────────┼──────────┤\n",
      "│ Ratio Average Profit/Loss │  0.863   │\n",
      "├───────────────────────────┼──────────┤\n",
      "│         Skewness          │  0.108   │\n",
      "╘═══════════════════════════╧══════════╛\n",
      "Validation2\n",
      "╒═══════════════════════════╤══════════╕\n",
      "│   Performance Indicator   │   TDQN   │\n",
      "╞═══════════════════════════╪══════════╡\n",
      "│    Profit & Loss (P&L)    │  283968  │\n",
      "├───────────────────────────┼──────────┤\n",
      "│     Annualized Return     │  47.54%  │\n",
      "├───────────────────────────┼──────────┤\n",
      "│   Annualized Volatility   │  63.21%  │\n",
      "├───────────────────────────┼──────────┤\n",
      "│       Sharpe Ratio        │  0.805   │\n",
      "├───────────────────────────┼──────────┤\n",
      "│       Sortino Ratio       │  1.059   │\n",
      "├───────────────────────────┼──────────┤\n",
      "│     Maximum Drawdown      │  88.69%  │\n",
      "├───────────────────────────┼──────────┤\n",
      "│ Maximum Drawdown Duration │ 380 days │\n",
      "├───────────────────────────┼──────────┤\n",
      "│       Profitability       │  41.90%  │\n",
      "├───────────────────────────┼──────────┤\n",
      "│ Ratio Average Profit/Loss │  1.544   │\n",
      "├───────────────────────────┼──────────┤\n",
      "│         Skewness          │  0.238   │\n",
      "╘═══════════════════════════╧══════════╛\n",
      "Training3\n"
     ]
    },
    {
     "name": "stderr",
     "output_type": "stream",
     "text": [
      "  0%|          | 0/50 [00:00<?, ?it/s]"
     ]
    },
    {
     "name": "stdout",
     "output_type": "stream",
     "text": [
      "Training progression (hardware selected => cuda:0):\n"
     ]
    },
    {
     "name": "stderr",
     "output_type": "stream",
     "text": [
      "  6%|▌         | 3/50 [01:04<16:51, 21.52s/it]"
     ]
    }
   ],
   "source": [
    "strategy = \"TDQN\"\n",
    "trainCryptocurrency = \"Bitcoin\"\n",
    "AI_TRAINING_PARAM['network'] = 'DQN'\n",
    "AI_TRAINING_PARAM['name'] = 'btc_tdqn_DQN_training'\n",
    "VALIDATION_PARAM['network'] = 'DQN'\n",
    "VALIDATION_PARAM['name'] = 'btc_tdqn_DQN_validation'\n",
    "simulator.aiTrainWithCrossValidation(strategy, trainCryptocurrency, AI_TRAINING_PARAM, VALIDATION_PARAM)\n",
    "print()"
   ]
  },
  {
   "cell_type": "code",
   "execution_count": null,
   "metadata": {
    "scrolled": true
   },
   "outputs": [],
   "source": [
    "strategy = \"TDQN\"\n",
    "trainCryptocurrency = \"Bitcoin\"\n",
    "testCryptocurrency = \"Bitcoin\"\n",
    "TEST_PARAM['name'] = 'btc_tdqn_DQN_test'\n",
    "TEST_PARAM['network'] = 'DQN'\n",
    "simulator.test(strategy, trainCryptocurrency, testCryptocurrency, AI_TRAINING_PARAM, TEST_PARAM)\n",
    "print()"
   ]
  },
  {
   "cell_type": "code",
   "execution_count": null,
   "metadata": {},
   "outputs": [],
   "source": [
    "strategy = \"TDQN\"\n",
    "trainCryptocurrency = \"Bitcoin\"\n",
    "testCryptocurrency = \"Bitcoin\"\n",
    "BACKTEST_PARAM['name'] = 'btc_tdqn_DQN_backtest'\n",
    "BACKTEST_PARAM['network'] = 'DQN'\n",
    "simulator.test(strategy, trainCryptocurrency, testCryptocurrency, AI_TRAINING_PARAM, BACKTEST_PARAM)\n",
    "print()"
   ]
  },
  {
   "cell_type": "code",
   "execution_count": null,
   "metadata": {},
   "outputs": [],
   "source": [
    "# Haven't scraped eth s2f\n",
    "# strategy = \"TDQN\"\n",
    "# trainCryptocurrency = \"Bitcoin\"\n",
    "# testCryptocurrency = \"Ethereum\"\n",
    "# ETH_TEST_PARAM['name'] = 'eth_tdqn_DQN_test'\n",
    "# ETH_TEST_PARAM['network'] = 'DQN'\n",
    "# simulator.test(strategy, trainCryptocurrency, testCryptocurrency, AI_TRAINING_PARAM, ETH_TEST_PARAM)\n",
    "# print()"
   ]
  },
  {
   "cell_type": "code",
   "execution_count": null,
   "metadata": {},
   "outputs": [],
   "source": [
    "# strategy = \"Mean Reversion Moving Averages\"\n",
    "# trainCryptocurrency = \"Bitcoin\"\n",
    "# NON_AI_TRAINING_PARAM['name'] = 'btc_mrma_training'\n",
    "# simulator.nonAiTrain(strategy, trainCryptocurrency, NON_AI_TRAINING_PARAM)\n",
    "# print()"
   ]
  },
  {
   "cell_type": "code",
   "execution_count": 10,
   "metadata": {},
   "outputs": [
    {
     "name": "stdout",
     "output_type": "stream",
     "text": [
      "╒═══════════════════════════╤═══════════╕\n",
      "│   Performance Indicator   │   MAMR    │\n",
      "╞═══════════════════════════╪═══════════╡\n",
      "│    Profit & Loss (P&L)    │  -95086   │\n",
      "├───────────────────────────┼───────────┤\n",
      "│     Annualized Return     │ -100.00%  │\n",
      "├───────────────────────────┼───────────┤\n",
      "│   Annualized Volatility   │  48.38%   │\n",
      "├───────────────────────────┼───────────┤\n",
      "│       Sharpe Ratio        │  -0.369   │\n",
      "├───────────────────────────┼───────────┤\n",
      "│       Sortino Ratio       │  -0.403   │\n",
      "├───────────────────────────┼───────────┤\n",
      "│     Maximum Drawdown      │  98.24%   │\n",
      "├───────────────────────────┼───────────┤\n",
      "│ Maximum Drawdown Duration │ 1762 days │\n",
      "├───────────────────────────┼───────────┤\n",
      "│       Profitability       │  62.61%   │\n",
      "├───────────────────────────┼───────────┤\n",
      "│ Ratio Average Profit/Loss │   0.553   │\n",
      "├───────────────────────────┼───────────┤\n",
      "│         Skewness          │  -0.244   │\n",
      "╘═══════════════════════════╧═══════════╛\n",
      "\n"
     ]
    },
    {
     "data": {
      "image/png": "[encoded data removed]",
      "text/plain": [
       "<Figure size 720x576 with 2 Axes>"
      ]
     },
     "metadata": {
      "needs_background": "light"
     },
     "output_type": "display_data"
    }
   ],
   "source": [
    "# strategy = \"Mean Reversion Moving Averages\"\n",
    "# trainCryptocurrency = \"Bitcoin\"\n",
    "# testCryptocurrency = \"Bitcoin\"\n",
    "# BACKTEST_PARAM['name'] = 'btc_mrma_backtest'\n",
    "# simulator.test(strategy, trainCryptocurrency, testCryptocurrency, NON_AI_TRAINING_PARAM, BACKTEST_PARAM)\n",
    "# print()"
   ]
  },
  {
   "cell_type": "code",
   "execution_count": 11,
   "metadata": {},
   "outputs": [
    {
     "name": "stdout",
     "output_type": "stream",
     "text": [
      "╒═══════════════════════════╤══════════╕\n",
      "│   Performance Indicator   │   MAMR   │\n",
      "╞═══════════════════════════╪══════════╡\n",
      "│    Profit & Loss (P&L)    │  -89511  │\n",
      "├───────────────────────────┼──────────┤\n",
      "│     Annualized Return     │ -100.00% │\n",
      "├───────────────────────────┼──────────┤\n",
      "│   Annualized Volatility   │  53.45%  │\n",
      "├───────────────────────────┼──────────┤\n",
      "│       Sharpe Ratio        │  -1.172  │\n",
      "├───────────────────────────┼──────────┤\n",
      "│       Sortino Ratio       │  -1.265  │\n",
      "├───────────────────────────┼──────────┤\n",
      "│     Maximum Drawdown      │  90.87%  │\n",
      "├───────────────────────────┼──────────┤\n",
      "│ Maximum Drawdown Duration │ 576 days │\n",
      "├───────────────────────────┼──────────┤\n",
      "│       Profitability       │  50.94%  │\n",
      "├───────────────────────────┼──────────┤\n",
      "│ Ratio Average Profit/Loss │  0.652   │\n",
      "├───────────────────────────┼──────────┤\n",
      "│         Skewness          │  -1.325  │\n",
      "╘═══════════════════════════╧══════════╛\n",
      "\n"
     ]
    },
    {
     "data": {
      "image/png": "[encoded data removed]",
      "text/plain": [
       "<Figure size 720x576 with 2 Axes>"
      ]
     },
     "metadata": {
      "needs_background": "light"
     },
     "output_type": "display_data"
    }
   ],
   "source": [
    "# strategy = \"Mean Reversion Moving Averages\"\n",
    "# trainCryptocurrency = \"Bitcoin\"\n",
    "# testCryptocurrency = \"Bitcoin\"\n",
    "# TEST_PARAM['name'] = 'btc_mrma_test'\n",
    "# simulator.test(strategy, trainCryptocurrency, testCryptocurrency, NON_AI_TRAINING_PARAM, TEST_PARAM)\n",
    "# print()"
   ]
  },
  {
   "cell_type": "code",
   "execution_count": null,
   "metadata": {},
   "outputs": [],
   "source": [
    "# strategy = \"Mean Reversion Moving Averages\"\n",
    "# trainCryptocurrency = \"Bitcoin\"\n",
    "# testCryptocurrency = \"Ethereum\"\n",
    "# ETH_TEST_PARAM['name'] = 'eth_mrma_test'\n",
    "# simulator.test(strategy, trainCryptocurrency, testCryptocurrency, NON_AI_TRAINING_PARAM, ETH_TEST_PARAM)\n",
    "# print()"
   ]
  }
 ],
 "metadata": {
  "kernelspec": {
   "display_name": "Python 3",
   "language": "python",
   "name": "python3"
  },
  "language_info": {
   "codemirror_mode": {
    "name": "ipython",
    "version": 3
   },
   "file_extension": ".py",
   "mimetype": "text/x-python",
   "name": "python",
   "nbconvert_exporter": "python",
   "pygments_lexer": "ipython3",
   "version": "3.7.4"
  }
 },
 "nbformat": 4,
 "nbformat_minor": 5
}
