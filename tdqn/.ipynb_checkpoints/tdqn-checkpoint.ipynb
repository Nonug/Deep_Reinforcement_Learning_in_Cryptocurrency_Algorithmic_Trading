{
 "cells": [
  {
   "cell_type": "code",
   "execution_count": null,
   "id": "continent-shaft",
   "metadata": {},
   "outputs": [],
   "source": [
    "from tradingSimulator import TradingSimulator\n",
    "simulator = TradingSimulator()"
   ]
  },
  {
   "cell_type": "code",
   "execution_count": null,
   "id": "sharp-oklahoma",
   "metadata": {},
   "outputs": [],
   "source": [
    "# strategy in {\n",
    "#     'Buy and Hold',\n",
    "#     'Sell and Hold',\n",
    "#     'Trend Following Moving Averages',\n",
    "#     'Mean Reversion Moving Averages',\n",
    "#     'TDQN'\n",
    "# }\n",
    "# cryptocurrency in {'Bitcoin', 'Ethereum'}"
   ]
  },
  {
   "cell_type": "code",
   "execution_count": null,
   "id": "isolated-shadow",
   "metadata": {},
   "outputs": [],
   "source": [
    "cryptocurrency = \"Bitcoin\"\n",
    "simulator.exploratoryDataAnalysis(cryptocurrency, '2014-01-01', '2021-01-01')"
   ]
  },
  {
   "cell_type": "code",
   "execution_count": null,
   "id": "engaging-fundamental",
   "metadata": {},
   "outputs": [],
   "source": [
    "percentageCosts = [0, 0.1, 0.2]\n",
    "transactionCosts = percentageCosts[1]/100\n",
    "stateLength = 30\n",
    "AI_TRAINING_PARAM = {\n",
    "    'startingDate': '2014-01-01',\n",
    "    'endingDate': '2017-01-01',\n",
    "    'money': 100000,\n",
    "    'percentageCosts': percentageCosts,\n",
    "    'transactionCosts': transactionCosts,\n",
    "    # Parameters related to the DQN algorithm\n",
    "    'stateLength': stateLength,\n",
    "    'numberOfEpisodes': 50,\n",
    "    'gamma': 0.4,\n",
    "    'learningRate': 0.0001,\n",
    "    'targetNetworkUpdate': 1000,\n",
    "    'learningUpdatePeriod': 1,\n",
    "    'capacity': 100000,\n",
    "    'batchSize': 32,\n",
    "    'experiencesRequired': 1000,\n",
    "    'epsilonStart': 1.0,\n",
    "    'epsilonEnd': 0.01,\n",
    "    'epsilonDecay': 10000,\n",
    "    'name': 'training',\n",
    "}\n",
    "\n",
    "NON_AI_TRAINING_PARAM = {\n",
    "    'startingDate': '2014-01-01',\n",
    "    'endingDate': '2017-01-01',\n",
    "    'money': 100000,\n",
    "    'stateLength': stateLength,\n",
    "    'percentageCosts': percentageCosts,\n",
    "    'transactionCosts': transactionCosts,\n",
    "    'name': 'training',\n",
    "}\n",
    "\n",
    "VALIDATION_BACKTEST_PARAM = {\n",
    "    'startingDate': '2014-01-01',\n",
    "    'endingDate': '2017-01-01',\n",
    "    'money': 100000,\n",
    "    'stateLength': stateLength,\n",
    "    'transactionCosts': transactionCosts,\n",
    "    'name': 'validation_backtest'\n",
    "}\n",
    "\n",
    "VALIDATION_PARAM = {\n",
    "    'startingDate': '2017-01-01',\n",
    "    'endingDate': '2019-01-01',\n",
    "    'money': 100000,\n",
    "    'stateLength': stateLength,\n",
    "    'transactionCosts': transactionCosts,\n",
    "    'name': 'validation_test'\n",
    "}\n",
    "\n",
    "BACKTEST_PARAM = {\n",
    "    'startingDate': '2014-01-01',\n",
    "    'endingDate': '2019-01-01',\n",
    "    'money': 100000,\n",
    "    'stateLength': stateLength,\n",
    "    'transactionCosts': transactionCosts,\n",
    "    'name': 'backtest'\n",
    "}\n",
    "\n",
    "TEST_PARAM = {\n",
    "    'startingDate': '2019-01-01',\n",
    "    'endingDate': '2021-01-01',\n",
    "    'money': 100000,\n",
    "    'stateLength': stateLength,\n",
    "    'transactionCosts': transactionCosts,\n",
    "    'name': 'test'\n",
    "}\n",
    "\n",
    "ETH_TEST_PARAM = {\n",
    "    'startingDate': '2019-01-01',\n",
    "    'endingDate': '2021-01-01',\n",
    "    'money': 100000,\n",
    "    'stateLength': stateLength,\n",
    "    'transactionCosts': transactionCosts,\n",
    "    'name': 'test'\n",
    "}"
   ]
  },
  {
   "cell_type": "code",
   "execution_count": null,
   "id": "sexual-chaos",
   "metadata": {
    "scrolled": false
   },
   "outputs": [],
   "source": [
    "strategy = \"TDQN\"\n",
    "trainCryptocurrency = \"Bitcoin\"\n",
    "AI_TRAINING_PARAM['name'] = 'btc_tdqn_training'\n",
    "simulator.aiTrain(strategy, trainCryptocurrency, AI_TRAINING_PARAM)\n",
    "print()"
   ]
  },
  {
   "cell_type": "code",
   "execution_count": null,
   "id": "christian-palmer",
   "metadata": {},
   "outputs": [],
   "source": [
    "# May be unnecssary because it should be the same as training results\n",
    "# strategy = \"TDQN\"\n",
    "# trainCryptocurrency = \"Bitcoin\"\n",
    "# testCryptocurrency = \"Bitcoin\"\n",
    "# VALIDATION_BACKTEST_PARAM['name'] = 'btc_tdqn_validation_backtest'\n",
    "# simulator.test(strategy, trainCryptocurrency, testCryptocurrency, VALIDATION_BACKTEST_PARAM)\n",
    "# print()"
   ]
  },
  {
   "cell_type": "code",
   "execution_count": null,
   "id": "hindu-thomas",
   "metadata": {},
   "outputs": [],
   "source": [
    "strategy = \"TDQN\"\n",
    "trainCryptocurrency = \"Bitcoin\"\n",
    "testCryptocurrency = \"Bitcoin\"\n",
    "VALIDATION_PARAM['name'] = 'btc_tdqn_validation'\n",
    "simulator.test(strategy, trainCryptocurrency, testCryptocurrency, VALIDATION_PARAM)\n",
    "print()"
   ]
  },
  {
   "cell_type": "code",
   "execution_count": null,
   "id": "worst-david",
   "metadata": {},
   "outputs": [],
   "source": [
    "strategy = \"TDQN\"\n",
    "trainCryptocurrency = \"Bitcoin\"\n",
    "testCryptocurrency = \"Bitcoin\"\n",
    "BACKTEST_PARAM['name'] = 'btc_tdqn_backtest'\n",
    "simulator.test(strategy, trainCryptocurrency, testCryptocurrency, BACKTEST_PARAM)\n",
    "print()"
   ]
  },
  {
   "cell_type": "code",
   "execution_count": null,
   "id": "female-father",
   "metadata": {},
   "outputs": [],
   "source": [
    "strategy = \"TDQN\"\n",
    "trainCryptocurrency = \"Bitcoin\"\n",
    "testCryptocurrency = \"Bitcoin\"\n",
    "TEST_PARAM['name'] = 'btc_tdqn_test'\n",
    "simulator.test(strategy, trainCryptocurrency, testCryptocurrency, TEST_PARAM)\n",
    "print()"
   ]
  },
  {
   "cell_type": "code",
   "execution_count": null,
   "id": "warming-equipment",
   "metadata": {},
   "outputs": [],
   "source": [
    "# Haven't scraped eth s2f\n",
    "# strategy = \"TDQN\"\n",
    "# trainCryptocurrency = \"Bitcoin\"\n",
    "# testCryptocurrency = \"Ethereum\"\n",
    "# TEST_PARAM['name'] = 'eth_tdqn_test'\n",
    "# simulator.test(strategy, trainCryptocurrency, testCryptocurrency, ETH_TEST_PARAM)\n",
    "# print()"
   ]
  },
  {
   "cell_type": "code",
   "execution_count": null,
   "id": "interracial-paris",
   "metadata": {},
   "outputs": [],
   "source": [
    "strategy = \"Buy and Hold\"\n",
    "trainCryptocurrency = \"Bitcoin\"\n",
    "NON_AI_TRAINING_PARAM['name'] = 'btc_b&h_training'\n",
    "simulator.nonAiTrain(strategy, trainCryptocurrency, NON_AI_TRAINING_PARAM)\n",
    "print()"
   ]
  },
  {
   "cell_type": "code",
   "execution_count": null,
   "id": "herbal-poland",
   "metadata": {},
   "outputs": [],
   "source": [
    "# strategy = \"Buy and Hold\"\n",
    "# trainCryptocurrency = \"Bitcoin\"\n",
    "# testCryptocurrency = \"Bitcoin\"\n",
    "# VALIDATION_BACKTEST_PARAM['name'] = 'btc_b&h_validation_backtest'\n",
    "# simulator.test(strategy, trainCryptocurrency, testCryptocurrency, VALIDATION_BACKTEST_PARAM)\n",
    "# print()"
   ]
  },
  {
   "cell_type": "code",
   "execution_count": null,
   "id": "copyrighted-adelaide",
   "metadata": {},
   "outputs": [],
   "source": [
    "strategy = \"Buy and Hold\"\n",
    "trainCryptocurrency = \"Bitcoin\"\n",
    "testCryptocurrency = \"Bitcoin\"\n",
    "VALIDATION_PARAM['name'] = 'btc_b&h_validation'\n",
    "simulator.test(strategy, trainCryptocurrency, testCryptocurrency, VALIDATION_PARAM)\n",
    "print()"
   ]
  },
  {
   "cell_type": "code",
   "execution_count": null,
   "id": "contemporary-tomato",
   "metadata": {},
   "outputs": [],
   "source": [
    "strategy = \"Buy and Hold\"\n",
    "trainCryptocurrency = \"Bitcoin\"\n",
    "testCryptocurrency = \"Bitcoin\"\n",
    "BACKTEST_PARAM['name'] = 'btc_b&h_backtest'\n",
    "simulator.test(strategy, trainCryptocurrency, testCryptocurrency, BACKTEST_PARAM)\n",
    "print()"
   ]
  },
  {
   "cell_type": "code",
   "execution_count": null,
   "id": "bulgarian-episode",
   "metadata": {},
   "outputs": [],
   "source": [
    "strategy = \"Buy and Hold\"\n",
    "trainCryptocurrency = \"Bitcoin\"\n",
    "testCryptocurrency = \"Bitcoin\"\n",
    "TEST_PARAM['name'] = 'btc_b&h_test'\n",
    "simulator.test(strategy, trainCryptocurrency, testCryptocurrency, TEST_PARAM)\n",
    "print()"
   ]
  },
  {
   "cell_type": "code",
   "execution_count": null,
   "id": "circular-label",
   "metadata": {},
   "outputs": [],
   "source": [
    "# strategy = \"Buy and Hold\"\n",
    "# trainCryptocurrency = \"Bitcoin\"\n",
    "# testCryptocurrency = \"Ethereum\"\n",
    "# ETH_TEST_PARAM['name'] = 'eth_b&h_test'\n",
    "# simulator.test(strategy, trainCryptocurrency, testCryptocurrency, ETH_TEST_PARAM)\n",
    "# print()"
   ]
  },
  {
   "cell_type": "code",
   "execution_count": null,
   "id": "suspected-focus",
   "metadata": {},
   "outputs": [],
   "source": [
    "strategy = \"Sell and Hold\"\n",
    "trainCryptocurrency = \"Bitcoin\"\n",
    "NON_AI_TRAINING_PARAM['name'] = 'btc_s&h_training'\n",
    "simulator.nonAiTrain(strategy, trainCryptocurrency, NON_AI_TRAINING_PARAM)\n",
    "print()"
   ]
  },
  {
   "cell_type": "code",
   "execution_count": null,
   "id": "golden-penalty",
   "metadata": {},
   "outputs": [],
   "source": [
    "# strategy = \"Sell and Hold\"\n",
    "# trainCryptocurrency = \"Bitcoin\"\n",
    "# testCryptocurrency = \"Bitcoin\"\n",
    "# VALIDATION_BACKTEST_PARAM['name'] = 'btc_s&h_validation_backtest'\n",
    "# simulator.test(strategy, trainCryptocurrency, testCryptocurrency, VALIDATION_BACKTEST_PARAM)\n",
    "# print()"
   ]
  },
  {
   "cell_type": "code",
   "execution_count": null,
   "id": "interracial-difficulty",
   "metadata": {},
   "outputs": [],
   "source": [
    "strategy = \"Sell and Hold\"\n",
    "trainCryptocurrency = \"Bitcoin\"\n",
    "testCryptocurrency = \"Bitcoin\"\n",
    "VALIDATION_PARAM['name'] = 'btc_s&h_validation'\n",
    "simulator.test(strategy, trainCryptocurrency, testCryptocurrency, VALIDATION_PARAM)\n",
    "print()"
   ]
  },
  {
   "cell_type": "code",
   "execution_count": null,
   "id": "agreed-emerald",
   "metadata": {},
   "outputs": [],
   "source": [
    "strategy = \"Sell and Hold\"\n",
    "trainCryptocurrency = \"Bitcoin\"\n",
    "testCryptocurrency = \"Bitcoin\"\n",
    "BACKTEST_PARAM['name'] = 'btc_s&h_backtest'\n",
    "simulator.test(strategy, trainCryptocurrency, testCryptocurrency, BACKTEST_PARAM)\n",
    "print()"
   ]
  },
  {
   "cell_type": "code",
   "execution_count": null,
   "id": "enhanced-firmware",
   "metadata": {},
   "outputs": [],
   "source": [
    "strategy = \"Sell and Hold\"\n",
    "trainCryptocurrency = \"Bitcoin\"\n",
    "testCryptocurrency = \"Bitcoin\"\n",
    "TEST_PARAM['name'] = 'btc_s&h_test'\n",
    "simulator.test(strategy, trainCryptocurrency, testCryptocurrency, TEST_PARAM)\n",
    "print()"
   ]
  },
  {
   "cell_type": "code",
   "execution_count": null,
   "id": "amateur-mechanics",
   "metadata": {},
   "outputs": [],
   "source": [
    "# strategy = \"Sell and Hold\"\n",
    "# trainCryptocurrency = \"Bitcoin\"\n",
    "# testCryptocurrency = \"Ethereum\"\n",
    "# ETH_TEST_PARAM['name'] = 'eth_s&h_test'\n",
    "# simulator.test(strategy, trainCryptocurrency, testCryptocurrency, ETH_TEST_PARAM)\n",
    "# print()"
   ]
  },
  {
   "cell_type": "code",
   "execution_count": null,
   "id": "genetic-mountain",
   "metadata": {},
   "outputs": [],
   "source": [
    "strategy = \"Trend Following Moving Averages\"\n",
    "trainCryptocurrency = \"Bitcoin\"\n",
    "NON_AI_TRAINING_PARAM['name'] = 'btc_tfma_training'\n",
    "simulator.nonAiTrain(strategy, trainCryptocurrency, NON_AI_TRAINING_PARAM)\n",
    "print()"
   ]
  },
  {
   "cell_type": "code",
   "execution_count": null,
   "id": "personal-utilization",
   "metadata": {},
   "outputs": [],
   "source": [
    "# strategy = \"Trend Following Moving Averages\"\n",
    "# trainCryptocurrency = \"Bitcoin\"\n",
    "# testCryptocurrency = \"Bitcoin\"\n",
    "# VALIDATION_BACKTEST_PARAM['name'] = \"btc_tfma_validation_backtest\"\n",
    "# simulator.test(strategy, trainCryptocurrency, testCryptocurrency, VALIDATION_BACKTEST_PARAM)\n",
    "# print()"
   ]
  },
  {
   "cell_type": "code",
   "execution_count": null,
   "id": "proprietary-laugh",
   "metadata": {},
   "outputs": [],
   "source": [
    "strategy = \"Trend Following Moving Averages\"\n",
    "trainCryptocurrency = \"Bitcoin\"\n",
    "testCryptocurrency = \"Bitcoin\"\n",
    "VALIDATION_PARAM['name'] = \"btc_tfma_validation\"\n",
    "simulator.test(strategy, trainCryptocurrency, testCryptocurrency, VALIDATION_PARAM)\n",
    "print()"
   ]
  },
  {
   "cell_type": "code",
   "execution_count": null,
   "id": "every-calvin",
   "metadata": {},
   "outputs": [],
   "source": [
    "strategy = \"Trend Following Moving Averages\"\n",
    "trainCryptocurrency = \"Bitcoin\"\n",
    "testCryptocurrency = \"Bitcoin\"\n",
    "BACKTEST_PARAM['name'] = \"btc_tfma_backtest\"\n",
    "simulator.test(strategy, trainCryptocurrency, testCryptocurrency, BACKTEST_PARAM)\n",
    "print()"
   ]
  },
  {
   "cell_type": "code",
   "execution_count": null,
   "id": "loaded-blogger",
   "metadata": {},
   "outputs": [],
   "source": [
    "strategy = \"Trend Following Moving Averages\"\n",
    "trainCryptocurrency = \"Bitcoin\"\n",
    "testCryptocurrency = \"Bitcoin\"\n",
    "TEST_PARAM['name'] = \"btc_tfma_test\"\n",
    "simulator.test(strategy, trainCryptocurrency, testCryptocurrency, TEST_PARAM)\n",
    "print()"
   ]
  },
  {
   "cell_type": "code",
   "execution_count": null,
   "id": "retained-evanescence",
   "metadata": {},
   "outputs": [],
   "source": [
    "# strategy = \"Trend Following Moving Averages\"\n",
    "# trainCryptocurrency = \"Bitcoin\"\n",
    "# testCryptocurrency = \"Ethereum\"\n",
    "# ETH_TEST_PARAM['name'] = \"eth_tfma_test\"\n",
    "# simulator.test(strategy, trainCryptocurrency, testCryptocurrency, ETH_TEST_PARAM)\n",
    "# print()"
   ]
  },
  {
   "cell_type": "code",
   "execution_count": null,
   "id": "cellular-acceptance",
   "metadata": {},
   "outputs": [],
   "source": [
    "strategy = \"Mean Reversion Moving Averages\"\n",
    "trainCryptocurrency = \"Bitcoin\"\n",
    "testCryptocurrency = \"Bitcoin\"\n",
    "NON_AI_TRAINING_PARAM['name'] = 'btc_mrma_training'\n",
    "simulator.nonAitrain(strategy, trainCryptocurrency, NON_AI_TRAINING_PARAM)\n",
    "print()"
   ]
  },
  {
   "cell_type": "code",
   "execution_count": null,
   "id": "hearing-macro",
   "metadata": {},
   "outputs": [],
   "source": [
    "# strategy = \"Mean Reversion Moving Averages\"\n",
    "# trainCryptocurrency = \"Bitcoin\"\n",
    "# testCryptocurrency = \"Bitcoin\"\n",
    "# VALIDATION_BACKTEST_PARAM['name'] = \"btc_mrma_validation_backtest\"\n",
    "# simulator.test(strategy, trainCryptocurrency, testCryptocurrency, VALIDATION_BACKTEST_PARAM)\n",
    "# print()"
   ]
  },
  {
   "cell_type": "code",
   "execution_count": null,
   "id": "swedish-toddler",
   "metadata": {},
   "outputs": [],
   "source": [
    "strategy = \"Mean Reversion Moving Averages\"\n",
    "trainCryptocurrency = \"Bitcoin\"\n",
    "testCryptocurrency = \"Bitcoin\"\n",
    "VALIDATION_PARAM['name'] = \"btc_mrma_validation\"\n",
    "simulator.test(strategy, trainCryptocurrency, testCryptocurrency, VALIDATION_PARAM)\n",
    "print()"
   ]
  },
  {
   "cell_type": "code",
   "execution_count": null,
   "id": "imposed-invite",
   "metadata": {},
   "outputs": [],
   "source": [
    "strategy = \"Mean Reversion Moving Averages\"\n",
    "trainCryptocurrency = \"Bitcoin\"\n",
    "testCryptocurrency = \"Bitcoin\"\n",
    "BACKTEST_PARAM['name'] = \"btc_mrma_backtest\"\n",
    "simulator.test(strategy, trainCryptocurrency, testCryptocurrency, BACKTEST_PARAM)\n",
    "print()"
   ]
  },
  {
   "cell_type": "code",
   "execution_count": null,
   "id": "associate-celebrity",
   "metadata": {},
   "outputs": [],
   "source": [
    "strategy = \"Mean Reversion Moving Averages\"\n",
    "trainCryptocurrency = \"Bitcoin\"\n",
    "testCryptocurrency = \"Bitcoin\"\n",
    "TEST_PARAM['name'] = \"btc_mrma_test\"\n",
    "simulator.test(strategy, trainCryptocurrency, testCryptocurrency, TEST_PARAM)\n",
    "print()"
   ]
  },
  {
   "cell_type": "code",
   "execution_count": null,
   "id": "rural-pennsylvania",
   "metadata": {},
   "outputs": [],
   "source": [
    "# strategy = \"Mean Reversion Moving Averages\"\n",
    "# trainCryptocurrency = \"Bitcoin\"\n",
    "# testCryptocurrency = \"Ethereum\"\n",
    "# ETH_TEST_PARAM['name'] = \"eth_mrma_test\"\n",
    "# simulator.test(strategy, trainCryptocurrency, testCryptocurrency, ETH_TEST_PARAM)\n",
    "# print()"
   ]
  }
 ],
 "metadata": {
  "kernelspec": {
   "display_name": "Python 3",
   "language": "python",
   "name": "python3"
  },
  "language_info": {
   "codemirror_mode": {
    "name": "ipython",
    "version": 3
   },
   "file_extension": ".py",
   "mimetype": "text/x-python",
   "name": "python",
   "nbconvert_exporter": "python",
   "pygments_lexer": "ipython3",
   "version": "3.8.8"
  }
 },
 "nbformat": 4,
 "nbformat_minor": 5
}
