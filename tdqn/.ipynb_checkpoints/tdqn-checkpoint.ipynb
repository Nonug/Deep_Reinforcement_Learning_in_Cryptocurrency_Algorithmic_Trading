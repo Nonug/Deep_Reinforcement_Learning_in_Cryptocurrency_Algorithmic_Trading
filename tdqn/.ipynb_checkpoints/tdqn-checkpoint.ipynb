{
 "cells": [
  {
   "cell_type": "code",
   "execution_count": 1,
   "metadata": {},
   "outputs": [],
   "source": [
    "# import the files\n",
    "from tradingSimulator import TradingSimulator\n",
    "simulator = TradingSimulator()"
   ]
  },
  {
   "cell_type": "code",
   "execution_count": 2,
   "metadata": {},
   "outputs": [],
   "source": [
    "# strategy, cryptocurrency and network supported\n",
    "# strategy in {\n",
    "#     'Buy and Hold',\n",
    "#     'Sell and Hold',\n",
    "#     'Trend Following Moving Averages',\n",
    "#     'Mean Reversion Moving Averages',\n",
    "#     'TDQN'\n",
    "# }\n",
    "# cryptocurrency in {'Bitcoin', 'Ethereum'}\n",
    "# network in {\"DuelingDQN\", \"ConvDuelingDQN\"}"
   ]
  },
  {
   "cell_type": "code",
   "execution_count": 3,
   "metadata": {},
   "outputs": [],
   "source": [
    "# EDA\n",
    "# cryptocurrency = \"Bitcoin\"\n",
    "# simulator.exploratoryDataAnalysis(cryptocurrency, '2014-01-01', '2021-01-01')"
   ]
  },
  {
   "cell_type": "code",
   "execution_count": null,
   "metadata": {},
   "outputs": [
    {
     "name": "stdout",
     "output_type": "stream",
     "text": [
      "gamma: 0.677755879992466, learningRate: 0.0009039453914553879, dropout: 0.11290102329349878,\n",
      "epsilonDecay: 362545.80508293305, alpha: 0.3724899321971593, L2Factor: 0.08743510521792865\n",
      "Training1\n"
     ]
    },
    {
     "name": "stderr",
     "output_type": "stream",
     "text": [
      "\r",
      "  0%|          | 0/1 [00:00<?, ?it/s]"
     ]
    },
    {
     "name": "stdout",
     "output_type": "stream",
     "text": [
      "Training progression (hardware selected => cpu):\n"
     ]
    },
    {
     "name": "stderr",
     "output_type": "stream",
     "text": [
      "100%|██████████| 1/1 [00:06<00:00,  6.79s/it]\n"
     ]
    },
    {
     "name": "stdout",
     "output_type": "stream",
     "text": [
      "╒═══════════════════════════╤══════════╕\n",
      "│   Performance Indicator   │   TDQN   │\n",
      "╞═══════════════════════════╪══════════╡\n",
      "│    Profit & Loss (P&L)    │  -59868  │\n",
      "├───────────────────────────┼──────────┤\n",
      "│     Annualized Return     │ -66.35%  │\n",
      "├───────────────────────────┼──────────┤\n",
      "│   Annualized Volatility   │  58.82%  │\n",
      "├───────────────────────────┼──────────┤\n",
      "│       Sharpe Ratio        │  -0.778  │\n",
      "├───────────────────────────┼──────────┤\n",
      "│       Sortino Ratio       │  -1.068  │\n",
      "├───────────────────────────┼──────────┤\n",
      "│     Maximum Drawdown      │  61.58%  │\n",
      "├───────────────────────────┼──────────┤\n",
      "│ Maximum Drawdown Duration │ 331 days │\n",
      "├───────────────────────────┼──────────┤\n",
      "│       Profitability       │  0.00%   │\n",
      "├───────────────────────────┼──────────┤\n",
      "│ Ratio Average Profit/Loss │  0.000   │\n",
      "├───────────────────────────┼──────────┤\n",
      "│         Skewness          │  0.414   │\n",
      "╘═══════════════════════════╧══════════╛\n",
      "Validation1\n",
      "╒═══════════════════════════╤══════════╕\n",
      "│   Performance Indicator   │   TDQN   │\n",
      "╞═══════════════════════════╪══════════╡\n",
      "│    Profit & Loss (P&L)    │ 1609963  │\n",
      "├───────────────────────────┼──────────┤\n",
      "│     Annualized Return     │  48.61%  │\n",
      "├───────────────────────────┼──────────┤\n",
      "│   Annualized Volatility   │  59.90%  │\n",
      "├───────────────────────────┼──────────┤\n",
      "│       Sharpe Ratio        │  1.117   │\n",
      "├───────────────────────────┼──────────┤\n",
      "│       Sortino Ratio       │  1.466   │\n",
      "├───────────────────────────┼──────────┤\n",
      "│     Maximum Drawdown      │  83.47%  │\n",
      "├───────────────────────────┼──────────┤\n",
      "│ Maximum Drawdown Duration │ 364 days │\n",
      "├───────────────────────────┼──────────┤\n",
      "│       Profitability       │ 100.00%  │\n",
      "├───────────────────────────┼──────────┤\n",
      "│ Ratio Average Profit/Loss │   inf    │\n",
      "├───────────────────────────┼──────────┤\n",
      "│         Skewness          │  0.228   │\n",
      "╘═══════════════════════════╧══════════╛\n",
      "Training2\n"
     ]
    },
    {
     "name": "stderr",
     "output_type": "stream",
     "text": [
      "\r",
      "  0%|          | 0/1 [00:00<?, ?it/s]"
     ]
    },
    {
     "name": "stdout",
     "output_type": "stream",
     "text": [
      "Training progression (hardware selected => cpu):\n"
     ]
    },
    {
     "name": "stderr",
     "output_type": "stream",
     "text": [
      "100%|██████████| 1/1 [00:15<00:00, 15.77s/it]\n"
     ]
    },
    {
     "name": "stdout",
     "output_type": "stream",
     "text": [
      "╒═══════════════════════════╤══════════╕\n",
      "│   Performance Indicator   │   TDQN   │\n",
      "╞═══════════════════════════╪══════════╡\n",
      "│    Profit & Loss (P&L)    │  -53305  │\n",
      "├───────────────────────────┼──────────┤\n",
      "│     Annualized Return     │  6.01%   │\n",
      "├───────────────────────────┼──────────┤\n",
      "│   Annualized Volatility   │  78.80%  │\n",
      "├───────────────────────────┼──────────┤\n",
      "│       Sharpe Ratio        │  0.054   │\n",
      "├───────────────────────────┼──────────┤\n",
      "│       Sortino Ratio       │  0.068   │\n",
      "├───────────────────────────┼──────────┤\n",
      "│     Maximum Drawdown      │  83.98%  │\n",
      "├───────────────────────────┼──────────┤\n",
      "│ Maximum Drawdown Duration │ 640 days │\n",
      "├───────────────────────────┼──────────┤\n",
      "│       Profitability       │  50.00%  │\n",
      "├───────────────────────────┼──────────┤\n",
      "│ Ratio Average Profit/Loss │  0.427   │\n",
      "├───────────────────────────┼──────────┤\n",
      "│         Skewness          │  1.852   │\n",
      "╘═══════════════════════════╧══════════╛\n",
      "Validation2\n",
      "╒═══════════════════════════╤══════════╕\n",
      "│   Performance Indicator   │   TDQN   │\n",
      "╞═══════════════════════════╪══════════╡\n",
      "│    Profit & Loss (P&L)    │  225917  │\n",
      "├───────────────────────────┼──────────┤\n",
      "│     Annualized Return     │  51.06%  │\n",
      "├───────────────────────────┼──────────┤\n",
      "│   Annualized Volatility   │  76.74%  │\n",
      "├───────────────────────────┼──────────┤\n",
      "│       Sharpe Ratio        │  0.733   │\n",
      "├───────────────────────────┼──────────┤\n",
      "│       Sortino Ratio       │  0.971   │\n",
      "├───────────────────────────┼──────────┤\n",
      "│     Maximum Drawdown      │  83.45%  │\n",
      "├───────────────────────────┼──────────┤\n",
      "│ Maximum Drawdown Duration │ 364 days │\n",
      "├───────────────────────────┼──────────┤\n",
      "│       Profitability       │  43.75%  │\n",
      "├───────────────────────────┼──────────┤\n",
      "│ Ratio Average Profit/Loss │  4.387   │\n",
      "├───────────────────────────┼──────────┤\n",
      "│         Skewness          │  1.193   │\n",
      "╘═══════════════════════════╧══════════╛\n",
      "Training3\n"
     ]
    },
    {
     "name": "stderr",
     "output_type": "stream",
     "text": [
      "\r",
      "  0%|          | 0/1 [00:00<?, ?it/s]"
     ]
    },
    {
     "name": "stdout",
     "output_type": "stream",
     "text": [
      "Training progression (hardware selected => cpu):\n"
     ]
    },
    {
     "name": "stderr",
     "output_type": "stream",
     "text": [
      "100%|██████████| 1/1 [00:19<00:00, 19.40s/it]\n"
     ]
    },
    {
     "name": "stdout",
     "output_type": "stream",
     "text": [
      "╒═══════════════════════════╤══════════╕\n",
      "│   Performance Indicator   │   TDQN   │\n",
      "╞═══════════════════════════╪══════════╡\n",
      "│    Profit & Loss (P&L)    │  -20440  │\n",
      "├───────────────────────────┼──────────┤\n",
      "│     Annualized Return     │  11.56%  │\n",
      "├───────────────────────────┼──────────┤\n",
      "│   Annualized Volatility   │  52.95%  │\n",
      "├───────────────────────────┼──────────┤\n",
      "│       Sharpe Ratio        │  0.169   │\n",
      "├───────────────────────────┼──────────┤\n",
      "│       Sortino Ratio       │  0.203   │\n",
      "├───────────────────────────┼──────────┤\n",
      "│     Maximum Drawdown      │  85.87%  │\n",
      "├───────────────────────────┼──────────┤\n",
      "│ Maximum Drawdown Duration │ 346 days │\n",
      "├───────────────────────────┼──────────┤\n",
      "│       Profitability       │  46.79%  │\n",
      "├───────────────────────────┼──────────┤\n",
      "│ Ratio Average Profit/Loss │  0.961   │\n",
      "├───────────────────────────┼──────────┤\n",
      "│         Skewness          │  -0.298  │\n",
      "╘═══════════════════════════╧══════════╛\n",
      "Validation3\n",
      "╒═══════════════════════════╤══════════╕\n",
      "│   Performance Indicator   │   TDQN   │\n",
      "╞═══════════════════════════╪══════════╡\n",
      "│    Profit & Loss (P&L)    │  285459  │\n",
      "├───────────────────────────┼──────────┤\n",
      "│     Annualized Return     │  76.00%  │\n",
      "├───────────────────────────┼──────────┤\n",
      "│   Annualized Volatility   │  71.93%  │\n",
      "├───────────────────────────┼──────────┤\n",
      "│       Sharpe Ratio        │  1.004   │\n",
      "├───────────────────────────┼──────────┤\n",
      "│       Sortino Ratio       │  1.442   │\n",
      "├───────────────────────────┼──────────┤\n",
      "│     Maximum Drawdown      │  83.47%  │\n",
      "├───────────────────────────┼──────────┤\n",
      "│ Maximum Drawdown Duration │ 364 days │\n",
      "├───────────────────────────┼──────────┤\n",
      "│       Profitability       │ 100.00%  │\n",
      "├───────────────────────────┼──────────┤\n",
      "│ Ratio Average Profit/Loss │   inf    │\n",
      "├───────────────────────────┼──────────┤\n",
      "│         Skewness          │  0.356   │\n",
      "╘═══════════════════════════╧══════════╛\n",
      "Training4\n"
     ]
    },
    {
     "name": "stderr",
     "output_type": "stream",
     "text": [
      "\r",
      "  0%|          | 0/1 [00:00<?, ?it/s]"
     ]
    },
    {
     "name": "stdout",
     "output_type": "stream",
     "text": [
      "Training progression (hardware selected => cpu):\n"
     ]
    },
    {
     "name": "stderr",
     "output_type": "stream",
     "text": [
      "100%|██████████| 1/1 [00:26<00:00, 26.01s/it]\n"
     ]
    },
    {
     "name": "stdout",
     "output_type": "stream",
     "text": [
      "╒═══════════════════════════╤══════════╕\n",
      "│   Performance Indicator   │   TDQN   │\n",
      "╞═══════════════════════════╪══════════╡\n",
      "│    Profit & Loss (P&L)    │ -102244  │\n",
      "├───────────────────────────┼──────────┤\n",
      "│     Annualized Return     │ -22.19%  │\n",
      "├───────────────────────────┼──────────┤\n",
      "│   Annualized Volatility   │  96.34%  │\n",
      "├───────────────────────────┼──────────┤\n",
      "│       Sharpe Ratio        │  -0.113  │\n",
      "├───────────────────────────┼──────────┤\n",
      "│       Sortino Ratio       │  -0.095  │\n",
      "├───────────────────────────┼──────────┤\n",
      "│     Maximum Drawdown      │ 101.16%  │\n",
      "├───────────────────────────┼──────────┤\n",
      "│ Maximum Drawdown Duration │ 278 days │\n",
      "├───────────────────────────┼──────────┤\n",
      "│       Profitability       │  66.67%  │\n",
      "├───────────────────────────┼──────────┤\n",
      "│ Ratio Average Profit/Loss │  0.230   │\n",
      "├───────────────────────────┼──────────┤\n",
      "│         Skewness          │  -1.313  │\n",
      "╘═══════════════════════════╧══════════╛\n",
      "Validation4\n",
      "╒═══════════════════════════╤═════════╕\n",
      "│   Performance Indicator   │  TDQN   │\n",
      "╞═══════════════════════════╪═════════╡\n",
      "│    Profit & Loss (P&L)    │  57027  │\n",
      "├───────────────────────────┼─────────┤\n",
      "│     Annualized Return     │ 55.07%  │\n",
      "├───────────────────────────┼─────────┤\n",
      "│   Annualized Volatility   │ 36.86%  │\n",
      "├───────────────────────────┼─────────┤\n",
      "│       Sharpe Ratio        │  1.028  │\n",
      "├───────────────────────────┼─────────┤\n",
      "│       Sortino Ratio       │  1.428  │\n",
      "├───────────────────────────┼─────────┤\n",
      "│     Maximum Drawdown      │ 32.74%  │\n",
      "├───────────────────────────┼─────────┤\n",
      "│ Maximum Drawdown Duration │ 28 days │\n",
      "├───────────────────────────┼─────────┤\n",
      "│       Profitability       │ 100.00% │\n",
      "├───────────────────────────┼─────────┤\n",
      "│ Ratio Average Profit/Loss │   inf   │\n",
      "├───────────────────────────┼─────────┤\n",
      "│         Skewness          │  0.533  │\n",
      "╘═══════════════════════════╧═════════╛\n",
      "Training5\n"
     ]
    },
    {
     "name": "stderr",
     "output_type": "stream",
     "text": [
      "\r",
      "  0%|          | 0/1 [00:00<?, ?it/s]"
     ]
    },
    {
     "name": "stdout",
     "output_type": "stream",
     "text": [
      "Training progression (hardware selected => cpu):\n"
     ]
    },
    {
     "name": "stderr",
     "output_type": "stream",
     "text": [
      "100%|██████████| 1/1 [00:31<00:00, 31.69s/it]\n",
      "/home/johnny/Documents/COMP3359_GP15_Deep_Reinforcement_Learning_in_Cryptocurrency_Algorithmic_Trading/tdqn/tradingEnv.py:266: RuntimeWarning: More than 20 figures have been opened. Figures created through the pyplot interface (`matplotlib.pyplot.figure`) are retained until explicitly closed and may consume too much memory. (To control this warning, see the rcParam `figure.max_open_warning`).\n",
      "  fig = plt.figure(figsize=(10, 8))\n"
     ]
    },
    {
     "name": "stdout",
     "output_type": "stream",
     "text": [
      "╒═══════════════════════════╤══════════╕\n",
      "│   Performance Indicator   │   TDQN   │\n",
      "╞═══════════════════════════╪══════════╡\n",
      "│    Profit & Loss (P&L)    │  364249  │\n",
      "├───────────────────────────┼──────────┤\n",
      "│     Annualized Return     │  31.41%  │\n",
      "├───────────────────────────┼──────────┤\n",
      "│   Annualized Volatility   │  61.81%  │\n",
      "├───────────────────────────┼──────────┤\n",
      "│       Sharpe Ratio        │  0.652   │\n",
      "├───────────────────────────┼──────────┤\n",
      "│       Sortino Ratio       │  0.855   │\n",
      "├───────────────────────────┼──────────┤\n",
      "│     Maximum Drawdown      │  83.46%  │\n",
      "├───────────────────────────┼──────────┤\n",
      "│ Maximum Drawdown Duration │ 364 days │\n",
      "├───────────────────────────┼──────────┤\n",
      "│       Profitability       │ 100.00%  │\n",
      "├───────────────────────────┼──────────┤\n",
      "│ Ratio Average Profit/Loss │   inf    │\n",
      "├───────────────────────────┼──────────┤\n",
      "│         Skewness          │  0.168   │\n",
      "╘═══════════════════════════╧══════════╛\n",
      "gamma: 0.677755879992466, learningRate: 0.0009039453914553879, dropout: 0.11290102329349878,\n",
      "epsilonDecay: 362545.80508293305, alpha: 0.3724899321971593, L2Factor: 0.038387740073089684\n",
      "Training1\n"
     ]
    },
    {
     "name": "stderr",
     "output_type": "stream",
     "text": [
      "\r",
      "  0%|          | 0/1 [00:00<?, ?it/s]"
     ]
    },
    {
     "name": "stdout",
     "output_type": "stream",
     "text": [
      "Training progression (hardware selected => cpu):\n"
     ]
    },
    {
     "name": "stderr",
     "output_type": "stream",
     "text": [
      "100%|██████████| 1/1 [00:06<00:00,  6.24s/it]\n"
     ]
    },
    {
     "name": "stdout",
     "output_type": "stream",
     "text": [
      "╒═══════════════════════════╤══════════╕\n",
      "│   Performance Indicator   │   TDQN   │\n",
      "╞═══════════════════════════╪══════════╡\n",
      "│    Profit & Loss (P&L)    │  -59868  │\n",
      "├───────────────────────────┼──────────┤\n",
      "│     Annualized Return     │ -66.35%  │\n",
      "├───────────────────────────┼──────────┤\n",
      "│   Annualized Volatility   │  58.82%  │\n",
      "├───────────────────────────┼──────────┤\n",
      "│       Sharpe Ratio        │  -0.778  │\n",
      "├───────────────────────────┼──────────┤\n",
      "│       Sortino Ratio       │  -1.068  │\n",
      "├───────────────────────────┼──────────┤\n",
      "│     Maximum Drawdown      │  61.58%  │\n",
      "├───────────────────────────┼──────────┤\n",
      "│ Maximum Drawdown Duration │ 331 days │\n",
      "├───────────────────────────┼──────────┤\n",
      "│       Profitability       │  0.00%   │\n",
      "├───────────────────────────┼──────────┤\n",
      "│ Ratio Average Profit/Loss │  0.000   │\n",
      "├───────────────────────────┼──────────┤\n",
      "│         Skewness          │  0.414   │\n",
      "╘═══════════════════════════╧══════════╛\n",
      "Validation1\n",
      "╒═══════════════════════════╤══════════╕\n",
      "│   Performance Indicator   │   TDQN   │\n",
      "╞═══════════════════════════╪══════════╡\n",
      "│    Profit & Loss (P&L)    │ 1609963  │\n",
      "├───────────────────────────┼──────────┤\n",
      "│     Annualized Return     │  48.61%  │\n",
      "├───────────────────────────┼──────────┤\n",
      "│   Annualized Volatility   │  59.90%  │\n",
      "├───────────────────────────┼──────────┤\n",
      "│       Sharpe Ratio        │  1.117   │\n",
      "├───────────────────────────┼──────────┤\n",
      "│       Sortino Ratio       │  1.466   │\n",
      "├───────────────────────────┼──────────┤\n",
      "│     Maximum Drawdown      │  83.47%  │\n",
      "├───────────────────────────┼──────────┤\n",
      "│ Maximum Drawdown Duration │ 364 days │\n",
      "├───────────────────────────┼──────────┤\n",
      "│       Profitability       │ 100.00%  │\n",
      "├───────────────────────────┼──────────┤\n",
      "│ Ratio Average Profit/Loss │   inf    │\n",
      "├───────────────────────────┼──────────┤\n",
      "│         Skewness          │  0.228   │\n",
      "╘═══════════════════════════╧══════════╛\n",
      "Training2\n"
     ]
    },
    {
     "name": "stderr",
     "output_type": "stream",
     "text": [
      "\r",
      "  0%|          | 0/1 [00:00<?, ?it/s]"
     ]
    },
    {
     "name": "stdout",
     "output_type": "stream",
     "text": [
      "Training progression (hardware selected => cpu):\n"
     ]
    },
    {
     "name": "stderr",
     "output_type": "stream",
     "text": [
      "100%|██████████| 1/1 [00:13<00:00, 13.40s/it]\n"
     ]
    },
    {
     "name": "stdout",
     "output_type": "stream",
     "text": [
      "╒═══════════════════════════╤══════════╕\n",
      "│   Performance Indicator   │   TDQN   │\n",
      "╞═══════════════════════════╪══════════╡\n",
      "│    Profit & Loss (P&L)    │  -68074  │\n",
      "├───────────────────────────┼──────────┤\n",
      "│     Annualized Return     │ -40.21%  │\n",
      "├───────────────────────────┼──────────┤\n",
      "│   Annualized Volatility   │  58.41%  │\n",
      "├───────────────────────────┼──────────┤\n",
      "│       Sharpe Ratio        │  -0.379  │\n",
      "├───────────────────────────┼──────────┤\n",
      "│       Sortino Ratio       │  -0.480  │\n",
      "├───────────────────────────┼──────────┤\n",
      "│     Maximum Drawdown      │  87.34%  │\n",
      "├───────────────────────────┼──────────┤\n",
      "│ Maximum Drawdown Duration │ 346 days │\n",
      "├───────────────────────────┼──────────┤\n",
      "│       Profitability       │  0.00%   │\n",
      "├───────────────────────────┼──────────┤\n",
      "│ Ratio Average Profit/Loss │  0.000   │\n",
      "├───────────────────────────┼──────────┤\n",
      "│         Skewness          │  -0.097  │\n",
      "╘═══════════════════════════╧══════════╛\n",
      "Validation2\n",
      "╒═══════════════════════════╤══════════╕\n",
      "│   Performance Indicator   │   TDQN   │\n",
      "╞═══════════════════════════╪══════════╡\n",
      "│    Profit & Loss (P&L)    │  914077  │\n",
      "├───────────────────────────┼──────────┤\n",
      "│     Annualized Return     │  61.12%  │\n",
      "├───────────────────────────┼──────────┤\n",
      "│   Annualized Volatility   │  63.23%  │\n",
      "├───────────────────────────┼──────────┤\n",
      "│       Sharpe Ratio        │  1.157   │\n",
      "├───────────────────────────┼──────────┤\n",
      "│       Sortino Ratio       │  1.529   │\n",
      "├───────────────────────────┼──────────┤\n",
      "│     Maximum Drawdown      │  83.47%  │\n",
      "├───────────────────────────┼──────────┤\n",
      "│ Maximum Drawdown Duration │ 364 days │\n",
      "├───────────────────────────┼──────────┤\n",
      "│       Profitability       │ 100.00%  │\n",
      "├───────────────────────────┼──────────┤\n",
      "│ Ratio Average Profit/Loss │   inf    │\n",
      "├───────────────────────────┼──────────┤\n",
      "│         Skewness          │  0.306   │\n",
      "╘═══════════════════════════╧══════════╛\n",
      "Training3\n"
     ]
    },
    {
     "name": "stderr",
     "output_type": "stream",
     "text": [
      "\r",
      "  0%|          | 0/1 [00:00<?, ?it/s]"
     ]
    },
    {
     "name": "stdout",
     "output_type": "stream",
     "text": [
      "Training progression (hardware selected => cpu):\n"
     ]
    },
    {
     "name": "stderr",
     "output_type": "stream",
     "text": [
      "100%|██████████| 1/1 [00:18<00:00, 18.97s/it]\n"
     ]
    },
    {
     "name": "stdout",
     "output_type": "stream",
     "text": [
      "╒═══════════════════════════╤══════════╕\n",
      "│   Performance Indicator   │   TDQN   │\n",
      "╞═══════════════════════════╪══════════╡\n",
      "│    Profit & Loss (P&L)    │  -20528  │\n",
      "├───────────────────────────┼──────────┤\n",
      "│     Annualized Return     │  -4.02%  │\n",
      "├───────────────────────────┼──────────┤\n",
      "│   Annualized Volatility   │  22.88%  │\n",
      "├───────────────────────────┼──────────┤\n",
      "│       Sharpe Ratio        │  -0.116  │\n",
      "├───────────────────────────┼──────────┤\n",
      "│       Sortino Ratio       │  -0.143  │\n",
      "├───────────────────────────┼──────────┤\n",
      "│     Maximum Drawdown      │  56.14%  │\n",
      "├───────────────────────────┼──────────┤\n",
      "│ Maximum Drawdown Duration │ 714 days │\n",
      "├───────────────────────────┼──────────┤\n",
      "│       Profitability       │  0.00%   │\n",
      "├───────────────────────────┼──────────┤\n",
      "│ Ratio Average Profit/Loss │  0.000   │\n",
      "├───────────────────────────┼──────────┤\n",
      "│         Skewness          │  0.048   │\n",
      "╘═══════════════════════════╧══════════╛\n",
      "Validation3\n",
      "╒═══════════════════════════╤══════════╕\n",
      "│   Performance Indicator   │   TDQN   │\n",
      "╞═══════════════════════════╪══════════╡\n",
      "│    Profit & Loss (P&L)    │  297445  │\n",
      "├───────────────────────────┼──────────┤\n",
      "│     Annualized Return     │  77.76%  │\n",
      "├───────────────────────────┼──────────┤\n",
      "│   Annualized Volatility   │  73.59%  │\n",
      "├───────────────────────────┼──────────┤\n",
      "│       Sharpe Ratio        │  1.011   │\n",
      "├───────────────────────────┼──────────┤\n",
      "│       Sortino Ratio       │  1.538   │\n",
      "├───────────────────────────┼──────────┤\n",
      "│     Maximum Drawdown      │  83.44%  │\n",
      "├───────────────────────────┼──────────┤\n",
      "│ Maximum Drawdown Duration │ 364 days │\n",
      "├───────────────────────────┼──────────┤\n",
      "│       Profitability       │  50.00%  │\n",
      "├───────────────────────────┼──────────┤\n",
      "│ Ratio Average Profit/Loss │  36.804  │\n",
      "├───────────────────────────┼──────────┤\n",
      "│         Skewness          │  0.483   │\n",
      "╘═══════════════════════════╧══════════╛\n",
      "Training4\n"
     ]
    },
    {
     "name": "stderr",
     "output_type": "stream",
     "text": [
      "\r",
      "  0%|          | 0/1 [00:00<?, ?it/s]"
     ]
    },
    {
     "name": "stdout",
     "output_type": "stream",
     "text": [
      "Training progression (hardware selected => cpu):\n"
     ]
    },
    {
     "name": "stderr",
     "output_type": "stream",
     "text": [
      "100%|██████████| 1/1 [00:24<00:00, 24.75s/it]\n"
     ]
    },
    {
     "name": "stdout",
     "output_type": "stream",
     "text": [
      "╒═══════════════════════════╤══════════╕\n",
      "│   Performance Indicator   │   TDQN   │\n",
      "╞═══════════════════════════╪══════════╡\n",
      "│    Profit & Loss (P&L)    │  -99906  │\n",
      "├───────────────────────────┼──────────┤\n",
      "│     Annualized Return     │ -100.00% │\n",
      "├───────────────────────────┼──────────┤\n",
      "│   Annualized Volatility   │ 156.65%  │\n",
      "├───────────────────────────┼──────────┤\n",
      "│       Sharpe Ratio        │  -0.926  │\n",
      "├───────────────────────────┼──────────┤\n",
      "│       Sortino Ratio       │  -0.639  │\n",
      "├───────────────────────────┼──────────┤\n",
      "│     Maximum Drawdown      │ 100.02%  │\n",
      "├───────────────────────────┼──────────┤\n",
      "│ Maximum Drawdown Duration │ 848 days │\n",
      "├───────────────────────────┼──────────┤\n",
      "│       Profitability       │  85.71%  │\n",
      "├───────────────────────────┼──────────┤\n",
      "│ Ratio Average Profit/Loss │  0.000   │\n",
      "├───────────────────────────┼──────────┤\n",
      "│         Skewness          │ -23.963  │\n",
      "╘═══════════════════════════╧══════════╛\n",
      "Validation4\n",
      "╒═══════════════════════════╤═════════╕\n",
      "│   Performance Indicator   │  TDQN   │\n",
      "╞═══════════════════════════╪═════════╡\n",
      "│    Profit & Loss (P&L)    │  57027  │\n",
      "├───────────────────────────┼─────────┤\n",
      "│     Annualized Return     │ 55.07%  │\n",
      "├───────────────────────────┼─────────┤\n",
      "│   Annualized Volatility   │ 36.86%  │\n",
      "├───────────────────────────┼─────────┤\n",
      "│       Sharpe Ratio        │  1.028  │\n",
      "├───────────────────────────┼─────────┤\n",
      "│       Sortino Ratio       │  1.428  │\n",
      "├───────────────────────────┼─────────┤\n",
      "│     Maximum Drawdown      │ 32.74%  │\n",
      "├───────────────────────────┼─────────┤\n",
      "│ Maximum Drawdown Duration │ 28 days │\n",
      "├───────────────────────────┼─────────┤\n",
      "│       Profitability       │ 100.00% │\n",
      "├───────────────────────────┼─────────┤\n",
      "│ Ratio Average Profit/Loss │   inf   │\n",
      "├───────────────────────────┼─────────┤\n",
      "│         Skewness          │  0.533  │\n",
      "╘═══════════════════════════╧═════════╛\n",
      "Training5\n"
     ]
    },
    {
     "name": "stderr",
     "output_type": "stream",
     "text": [
      "\r",
      "  0%|          | 0/1 [00:00<?, ?it/s]"
     ]
    },
    {
     "name": "stdout",
     "output_type": "stream",
     "text": [
      "Training progression (hardware selected => cpu):\n"
     ]
    },
    {
     "name": "stderr",
     "output_type": "stream",
     "text": [
      "100%|██████████| 1/1 [00:32<00:00, 32.77s/it]\n"
     ]
    },
    {
     "name": "stdout",
     "output_type": "stream",
     "text": [
      "╒═══════════════════════════╤══════════╕\n",
      "│   Performance Indicator   │   TDQN   │\n",
      "╞═══════════════════════════╪══════════╡\n",
      "│    Profit & Loss (P&L)    │  -99906  │\n",
      "├───────────────────────────┼──────────┤\n",
      "│     Annualized Return     │ -100.00% │\n",
      "├───────────────────────────┼──────────┤\n",
      "│   Annualized Volatility   │ 140.16%  │\n",
      "├───────────────────────────┼──────────┤\n",
      "│       Sharpe Ratio        │  -0.828  │\n",
      "├───────────────────────────┼──────────┤\n",
      "│       Sortino Ratio       │  -0.511  │\n",
      "├───────────────────────────┼──────────┤\n",
      "│     Maximum Drawdown      │ 100.02%  │\n",
      "├───────────────────────────┼──────────┤\n",
      "│ Maximum Drawdown Duration │ 848 days │\n",
      "├───────────────────────────┼──────────┤\n",
      "│       Profitability       │  0.00%   │\n",
      "├───────────────────────────┼──────────┤\n",
      "│ Ratio Average Profit/Loss │  0.000   │\n",
      "├───────────────────────────┼──────────┤\n",
      "│         Skewness          │ -26.796  │\n",
      "╘═══════════════════════════╧══════════╛\n",
      "gamma: 0.677755879992466, learningRate: 0.0009039453914553879, dropout: 0.11290102329349878,\n",
      "epsilonDecay: 362545.80508293305, alpha: 0.3724899321971593, L2Factor: 0.08401718381846215\n",
      "Training1\n"
     ]
    },
    {
     "name": "stderr",
     "output_type": "stream",
     "text": [
      "\r",
      "  0%|          | 0/1 [00:00<?, ?it/s]"
     ]
    },
    {
     "name": "stdout",
     "output_type": "stream",
     "text": [
      "Training progression (hardware selected => cpu):\n"
     ]
    },
    {
     "name": "stderr",
     "output_type": "stream",
     "text": [
      "100%|██████████| 1/1 [00:06<00:00,  6.13s/it]\n"
     ]
    },
    {
     "name": "stdout",
     "output_type": "stream",
     "text": [
      "╒═══════════════════════════╤═════════╕\n",
      "│   Performance Indicator   │  TDQN   │\n",
      "╞═══════════════════════════╪═════════╡\n",
      "│    Profit & Loss (P&L)    │ -33619  │\n",
      "├───────────────────────────┼─────────┤\n",
      "│     Annualized Return     │ -16.73% │\n",
      "├───────────────────────────┼─────────┤\n",
      "│   Annualized Volatility   │ 57.82%  │\n",
      "├───────────────────────────┼─────────┤\n",
      "│       Sharpe Ratio        │ -0.199  │\n",
      "├───────────────────────────┼─────────┤\n",
      "│       Sortino Ratio       │ -0.259  │\n",
      "├───────────────────────────┼─────────┤\n",
      "│     Maximum Drawdown      │ 55.17%  │\n",
      "├───────────────────────────┼─────────┤\n",
      "│ Maximum Drawdown Duration │ 67 days │\n",
      "├───────────────────────────┼─────────┤\n",
      "│       Profitability       │ 35.00%  │\n",
      "├───────────────────────────┼─────────┤\n",
      "│ Ratio Average Profit/Loss │  0.693  │\n",
      "├───────────────────────────┼─────────┤\n",
      "│         Skewness          │  0.087  │\n",
      "╘═══════════════════════════╧═════════╛\n",
      "Validation1\n",
      "╒═══════════════════════════╤══════════╕\n",
      "│   Performance Indicator   │   TDQN   │\n",
      "╞═══════════════════════════╪══════════╡\n",
      "│    Profit & Loss (P&L)    │ -100704  │\n",
      "├───────────────────────────┼──────────┤\n",
      "│     Annualized Return     │ -100.00% │\n",
      "├───────────────────────────┼──────────┤\n",
      "│   Annualized Volatility   │ 154.15%  │\n",
      "├───────────────────────────┼──────────┤\n",
      "│       Sharpe Ratio        │  -0.237  │\n",
      "├───────────────────────────┼──────────┤\n",
      "│       Sortino Ratio       │  -0.172  │\n",
      "├───────────────────────────┼──────────┤\n",
      "│     Maximum Drawdown      │ 100.68%  │\n",
      "├───────────────────────────┼──────────┤\n",
      "│ Maximum Drawdown Duration │ 294 days │\n",
      "├───────────────────────────┼──────────┤\n",
      "│       Profitability       │  0.00%   │\n",
      "├───────────────────────────┼──────────┤\n",
      "│ Ratio Average Profit/Loss │  0.000   │\n",
      "├───────────────────────────┼──────────┤\n",
      "│         Skewness          │  6.314   │\n",
      "╘═══════════════════════════╧══════════╛\n",
      "Training2\n"
     ]
    },
    {
     "name": "stderr",
     "output_type": "stream",
     "text": [
      "\r",
      "  0%|          | 0/1 [00:00<?, ?it/s]"
     ]
    },
    {
     "name": "stdout",
     "output_type": "stream",
     "text": [
      "Training progression (hardware selected => cpu):\n"
     ]
    },
    {
     "name": "stderr",
     "output_type": "stream",
     "text": [
      "100%|██████████| 1/1 [00:19<00:00, 19.26s/it]\n"
     ]
    },
    {
     "name": "stdout",
     "output_type": "stream",
     "text": [
      "╒═══════════════════════════╤═════════╕\n",
      "│   Performance Indicator   │  TDQN   │\n",
      "╞═══════════════════════════╪═════════╡\n",
      "│    Profit & Loss (P&L)    │  46126  │\n",
      "├───────────────────────────┼─────────┤\n",
      "│     Annualized Return     │ 20.32%  │\n",
      "├───────────────────────────┼─────────┤\n",
      "│   Annualized Volatility   │ 21.63%  │\n",
      "├───────────────────────────┼─────────┤\n",
      "│       Sharpe Ratio        │  0.713  │\n",
      "├───────────────────────────┼─────────┤\n",
      "│       Sortino Ratio       │  0.890  │\n",
      "├───────────────────────────┼─────────┤\n",
      "│     Maximum Drawdown      │ 24.59%  │\n",
      "├───────────────────────────┼─────────┤\n",
      "│ Maximum Drawdown Duration │ 54 days │\n",
      "├───────────────────────────┼─────────┤\n",
      "│       Profitability       │ 100.00% │\n",
      "├───────────────────────────┼─────────┤\n",
      "│ Ratio Average Profit/Loss │   inf   │\n",
      "├───────────────────────────┼─────────┤\n",
      "│         Skewness          │  0.257  │\n",
      "╘═══════════════════════════╧═════════╛\n",
      "Validation2\n",
      "╒═══════════════════════════╤══════════╕\n",
      "│   Performance Indicator   │   TDQN   │\n",
      "╞═══════════════════════════╪══════════╡\n",
      "│    Profit & Loss (P&L)    │ -100359  │\n",
      "├───────────────────────────┼──────────┤\n",
      "│     Annualized Return     │ -100.00% │\n",
      "├───────────────────────────┼──────────┤\n",
      "│   Annualized Volatility   │ 127.21%  │\n",
      "├───────────────────────────┼──────────┤\n",
      "│       Sharpe Ratio        │  -0.858  │\n",
      "├───────────────────────────┼──────────┤\n",
      "│       Sortino Ratio       │  -0.444  │\n",
      "├───────────────────────────┼──────────┤\n",
      "│     Maximum Drawdown      │ 100.54%  │\n",
      "├───────────────────────────┼──────────┤\n",
      "│ Maximum Drawdown Duration │ 357 days │\n",
      "├───────────────────────────┼──────────┤\n",
      "│       Profitability       │  0.00%   │\n",
      "├───────────────────────────┼──────────┤\n",
      "│ Ratio Average Profit/Loss │  0.000   │\n",
      "├───────────────────────────┼──────────┤\n",
      "│         Skewness          │ -10.363  │\n",
      "╘═══════════════════════════╧══════════╛\n",
      "Training3\n"
     ]
    },
    {
     "name": "stderr",
     "output_type": "stream",
     "text": [
      "\r",
      "  0%|          | 0/1 [00:00<?, ?it/s]"
     ]
    },
    {
     "name": "stdout",
     "output_type": "stream",
     "text": [
      "Training progression (hardware selected => cpu):\n"
     ]
    },
    {
     "name": "stderr",
     "output_type": "stream",
     "text": [
      "100%|██████████| 1/1 [00:28<00:00, 28.95s/it]\n"
     ]
    },
    {
     "name": "stdout",
     "output_type": "stream",
     "text": [
      "╒═══════════════════════════╤══════════╕\n",
      "│   Performance Indicator   │   TDQN   │\n",
      "╞═══════════════════════════╪══════════╡\n",
      "│    Profit & Loss (P&L)    │  -20528  │\n",
      "├───────────────────────────┼──────────┤\n",
      "│     Annualized Return     │  -4.02%  │\n",
      "├───────────────────────────┼──────────┤\n",
      "│   Annualized Volatility   │  22.88%  │\n",
      "├───────────────────────────┼──────────┤\n",
      "│       Sharpe Ratio        │  -0.116  │\n",
      "├───────────────────────────┼──────────┤\n",
      "│       Sortino Ratio       │  -0.143  │\n",
      "├───────────────────────────┼──────────┤\n",
      "│     Maximum Drawdown      │  56.14%  │\n",
      "├───────────────────────────┼──────────┤\n",
      "│ Maximum Drawdown Duration │ 714 days │\n",
      "├───────────────────────────┼──────────┤\n",
      "│       Profitability       │  0.00%   │\n",
      "├───────────────────────────┼──────────┤\n",
      "│ Ratio Average Profit/Loss │  0.000   │\n",
      "├───────────────────────────┼──────────┤\n",
      "│         Skewness          │  0.048   │\n",
      "╘═══════════════════════════╧══════════╛\n",
      "Validation3\n",
      "╒═══════════════════════════╤═════════╕\n",
      "│   Performance Indicator   │  TDQN   │\n",
      "╞═══════════════════════════╪═════════╡\n",
      "│    Profit & Loss (P&L)    │ -101021 │\n",
      "├───────────────────────────┼─────────┤\n",
      "│     Annualized Return     │  9.38%  │\n",
      "├───────────────────────────┼─────────┤\n",
      "│   Annualized Volatility   │ 279.08% │\n",
      "├───────────────────────────┼─────────┤\n",
      "│       Sharpe Ratio        │  0.024  │\n",
      "├───────────────────────────┼─────────┤\n",
      "│       Sortino Ratio       │  0.025  │\n",
      "├───────────────────────────┼─────────┤\n",
      "│     Maximum Drawdown      │ 100.99% │\n",
      "├───────────────────────────┼─────────┤\n",
      "│ Maximum Drawdown Duration │ 61 days │\n",
      "├───────────────────────────┼─────────┤\n",
      "│       Profitability       │  0.00%  │\n",
      "├───────────────────────────┼─────────┤\n",
      "│ Ratio Average Profit/Loss │  0.000  │\n",
      "├───────────────────────────┼─────────┤\n",
      "│         Skewness          │ 19.500  │\n",
      "╘═══════════════════════════╧═════════╛\n",
      "Training4\n"
     ]
    },
    {
     "name": "stderr",
     "output_type": "stream",
     "text": [
      "\r",
      "  0%|          | 0/1 [00:00<?, ?it/s]"
     ]
    },
    {
     "name": "stdout",
     "output_type": "stream",
     "text": [
      "Training progression (hardware selected => cpu):\n"
     ]
    },
    {
     "name": "stderr",
     "output_type": "stream",
     "text": [
      "100%|██████████| 1/1 [00:25<00:00, 25.12s/it]\n"
     ]
    },
    {
     "name": "stdout",
     "output_type": "stream",
     "text": [
      "╒═══════════════════════════╤═════════╕\n",
      "│   Performance Indicator   │  TDQN   │\n",
      "╞═══════════════════════════╪═════════╡\n",
      "│    Profit & Loss (P&L)    │ 1623511 │\n",
      "├───────────────────────────┼─────────┤\n",
      "│     Annualized Return     │ 48.73%  │\n",
      "├───────────────────────────┼─────────┤\n",
      "│   Annualized Volatility   │ 60.13%  │\n",
      "├───────────────────────────┼─────────┤\n",
      "│       Sharpe Ratio        │  1.117  │\n",
      "├───────────────────────────┼─────────┤\n",
      "│       Sortino Ratio       │  1.475  │\n",
      "├───────────────────────────┼─────────┤\n",
      "│     Maximum Drawdown      │ 34.93%  │\n",
      "├───────────────────────────┼─────────┤\n",
      "│ Maximum Drawdown Duration │ 14 days │\n",
      "├───────────────────────────┼─────────┤\n",
      "│       Profitability       │ 100.00% │\n",
      "├───────────────────────────┼─────────┤\n",
      "│ Ratio Average Profit/Loss │   inf   │\n",
      "├───────────────────────────┼─────────┤\n",
      "│         Skewness          │  0.308  │\n",
      "╘═══════════════════════════╧═════════╛\n",
      "Validation4\n",
      "╒═══════════════════════════╤══════════╕\n",
      "│   Performance Indicator   │   TDQN   │\n",
      "╞═══════════════════════════╪══════════╡\n",
      "│    Profit & Loss (P&L)    │  -57209  │\n",
      "├───────────────────────────┼──────────┤\n",
      "│     Annualized Return     │ -64.14%  │\n",
      "├───────────────────────────┼──────────┤\n",
      "│   Annualized Volatility   │  53.39%  │\n",
      "├───────────────────────────┼──────────┤\n",
      "│       Sharpe Ratio        │  -0.828  │\n",
      "├───────────────────────────┼──────────┤\n",
      "│       Sortino Ratio       │  -1.063  │\n",
      "├───────────────────────────┼──────────┤\n",
      "│     Maximum Drawdown      │  66.23%  │\n",
      "├───────────────────────────┼──────────┤\n",
      "│ Maximum Drawdown Duration │ 285 days │\n",
      "├───────────────────────────┼──────────┤\n",
      "│       Profitability       │  0.00%   │\n",
      "├───────────────────────────┼──────────┤\n",
      "│ Ratio Average Profit/Loss │  0.000   │\n",
      "├───────────────────────────┼──────────┤\n",
      "│         Skewness          │  -0.150  │\n",
      "╘═══════════════════════════╧══════════╛\n",
      "Training5\n"
     ]
    },
    {
     "name": "stderr",
     "output_type": "stream",
     "text": [
      "\r",
      "  0%|          | 0/1 [00:00<?, ?it/s]"
     ]
    },
    {
     "name": "stdout",
     "output_type": "stream",
     "text": [
      "Training progression (hardware selected => cpu):\n"
     ]
    },
    {
     "name": "stderr",
     "output_type": "stream",
     "text": [
      "100%|██████████| 1/1 [00:32<00:00, 32.01s/it]\n"
     ]
    },
    {
     "name": "stdout",
     "output_type": "stream",
     "text": [
      "╒═══════════════════════════╤══════════╕\n",
      "│   Performance Indicator   │   TDQN   │\n",
      "╞═══════════════════════════╪══════════╡\n",
      "│    Profit & Loss (P&L)    │  364249  │\n",
      "├───────────────────────────┼──────────┤\n",
      "│     Annualized Return     │  31.41%  │\n",
      "├───────────────────────────┼──────────┤\n",
      "│   Annualized Volatility   │  61.81%  │\n",
      "├───────────────────────────┼──────────┤\n",
      "│       Sharpe Ratio        │  0.652   │\n",
      "├───────────────────────────┼──────────┤\n",
      "│       Sortino Ratio       │  0.855   │\n",
      "├───────────────────────────┼──────────┤\n",
      "│     Maximum Drawdown      │  83.46%  │\n",
      "├───────────────────────────┼──────────┤\n",
      "│ Maximum Drawdown Duration │ 364 days │\n",
      "├───────────────────────────┼──────────┤\n",
      "│       Profitability       │ 100.00%  │\n",
      "├───────────────────────────┼──────────┤\n",
      "│ Ratio Average Profit/Loss │   inf    │\n",
      "├───────────────────────────┼──────────┤\n",
      "│         Skewness          │  0.168   │\n",
      "╘═══════════════════════════╧══════════╛\n",
      "gamma: 0.677755879992466, learningRate: 0.0009039453914553879, dropout: 0.11290102329349878,\n",
      "epsilonDecay: 362545.80508293305, alpha: 0.10714452816999796, L2Factor: 0.08743510521792865\n",
      "Training1\n"
     ]
    },
    {
     "name": "stderr",
     "output_type": "stream",
     "text": [
      "\r",
      "  0%|          | 0/1 [00:00<?, ?it/s]"
     ]
    },
    {
     "name": "stdout",
     "output_type": "stream",
     "text": [
      "Training progression (hardware selected => cpu):\n"
     ]
    },
    {
     "name": "stderr",
     "output_type": "stream",
     "text": [
      "100%|██████████| 1/1 [00:06<00:00,  6.43s/it]\n"
     ]
    },
    {
     "name": "stdout",
     "output_type": "stream",
     "text": [
      "╒═══════════════════════════╤══════════╕\n",
      "│   Performance Indicator   │   TDQN   │\n",
      "╞═══════════════════════════╪══════════╡\n",
      "│    Profit & Loss (P&L)    │  -59868  │\n",
      "├───────────────────────────┼──────────┤\n",
      "│     Annualized Return     │ -66.35%  │\n",
      "├───────────────────────────┼──────────┤\n",
      "│   Annualized Volatility   │  58.82%  │\n",
      "├───────────────────────────┼──────────┤\n",
      "│       Sharpe Ratio        │  -0.778  │\n",
      "├───────────────────────────┼──────────┤\n",
      "│       Sortino Ratio       │  -1.068  │\n",
      "├───────────────────────────┼──────────┤\n",
      "│     Maximum Drawdown      │  61.58%  │\n",
      "├───────────────────────────┼──────────┤\n",
      "│ Maximum Drawdown Duration │ 331 days │\n",
      "├───────────────────────────┼──────────┤\n",
      "│       Profitability       │  0.00%   │\n",
      "├───────────────────────────┼──────────┤\n",
      "│ Ratio Average Profit/Loss │  0.000   │\n",
      "├───────────────────────────┼──────────┤\n",
      "│         Skewness          │  0.414   │\n",
      "╘═══════════════════════════╧══════════╛\n",
      "Validation1\n",
      "╒═══════════════════════════╤══════════╕\n",
      "│   Performance Indicator   │   TDQN   │\n",
      "╞═══════════════════════════╪══════════╡\n",
      "│    Profit & Loss (P&L)    │ 1609963  │\n",
      "├───────────────────────────┼──────────┤\n",
      "│     Annualized Return     │  48.61%  │\n",
      "├───────────────────────────┼──────────┤\n",
      "│   Annualized Volatility   │  59.90%  │\n",
      "├───────────────────────────┼──────────┤\n",
      "│       Sharpe Ratio        │  1.117   │\n",
      "├───────────────────────────┼──────────┤\n",
      "│       Sortino Ratio       │  1.466   │\n",
      "├───────────────────────────┼──────────┤\n",
      "│     Maximum Drawdown      │  83.47%  │\n",
      "├───────────────────────────┼──────────┤\n",
      "│ Maximum Drawdown Duration │ 364 days │\n",
      "├───────────────────────────┼──────────┤\n",
      "│       Profitability       │ 100.00%  │\n",
      "├───────────────────────────┼──────────┤\n",
      "│ Ratio Average Profit/Loss │   inf    │\n",
      "├───────────────────────────┼──────────┤\n",
      "│         Skewness          │  0.228   │\n",
      "╘═══════════════════════════╧══════════╛\n",
      "Training2\n"
     ]
    },
    {
     "name": "stderr",
     "output_type": "stream",
     "text": [
      "\r",
      "  0%|          | 0/1 [00:00<?, ?it/s]"
     ]
    },
    {
     "name": "stdout",
     "output_type": "stream",
     "text": [
      "Training progression (hardware selected => cpu):\n"
     ]
    },
    {
     "name": "stderr",
     "output_type": "stream",
     "text": [
      "100%|██████████| 1/1 [00:12<00:00, 12.85s/it]\n"
     ]
    },
    {
     "name": "stdout",
     "output_type": "stream",
     "text": [
      "╒═══════════════════════════╤═════════╕\n",
      "│   Performance Indicator   │  TDQN   │\n",
      "╞═══════════════════════════╪═════════╡\n",
      "│    Profit & Loss (P&L)    │  46126  │\n",
      "├───────────────────────────┼─────────┤\n",
      "│     Annualized Return     │ 20.32%  │\n",
      "├───────────────────────────┼─────────┤\n",
      "│   Annualized Volatility   │ 21.63%  │\n",
      "├───────────────────────────┼─────────┤\n",
      "│       Sharpe Ratio        │  0.713  │\n",
      "├───────────────────────────┼─────────┤\n",
      "│       Sortino Ratio       │  0.890  │\n",
      "├───────────────────────────┼─────────┤\n",
      "│     Maximum Drawdown      │ 24.59%  │\n",
      "├───────────────────────────┼─────────┤\n",
      "│ Maximum Drawdown Duration │ 54 days │\n",
      "├───────────────────────────┼─────────┤\n",
      "│       Profitability       │ 100.00% │\n",
      "├───────────────────────────┼─────────┤\n",
      "│ Ratio Average Profit/Loss │   inf   │\n",
      "├───────────────────────────┼─────────┤\n",
      "│         Skewness          │  0.257  │\n",
      "╘═══════════════════════════╧═════════╛\n",
      "Validation2\n",
      "╒═══════════════════════════╤══════════╕\n",
      "│   Performance Indicator   │   TDQN   │\n",
      "╞═══════════════════════════╪══════════╡\n",
      "│    Profit & Loss (P&L)    │ -100359  │\n",
      "├───────────────────────────┼──────────┤\n",
      "│     Annualized Return     │ -100.00% │\n",
      "├───────────────────────────┼──────────┤\n",
      "│   Annualized Volatility   │ 127.21%  │\n",
      "├───────────────────────────┼──────────┤\n",
      "│       Sharpe Ratio        │  -0.858  │\n",
      "├───────────────────────────┼──────────┤\n",
      "│       Sortino Ratio       │  -0.444  │\n",
      "├───────────────────────────┼──────────┤\n",
      "│     Maximum Drawdown      │ 100.54%  │\n",
      "├───────────────────────────┼──────────┤\n",
      "│ Maximum Drawdown Duration │ 357 days │\n",
      "├───────────────────────────┼──────────┤\n",
      "│       Profitability       │  0.00%   │\n",
      "├───────────────────────────┼──────────┤\n",
      "│ Ratio Average Profit/Loss │  0.000   │\n",
      "├───────────────────────────┼──────────┤\n",
      "│         Skewness          │ -10.363  │\n",
      "╘═══════════════════════════╧══════════╛\n",
      "Training3\n"
     ]
    },
    {
     "name": "stderr",
     "output_type": "stream",
     "text": [
      "\r",
      "  0%|          | 0/1 [00:00<?, ?it/s]"
     ]
    },
    {
     "name": "stdout",
     "output_type": "stream",
     "text": [
      "Training progression (hardware selected => cpu):\n"
     ]
    },
    {
     "name": "stderr",
     "output_type": "stream",
     "text": [
      "100%|██████████| 1/1 [00:19<00:00, 19.18s/it]\n"
     ]
    },
    {
     "name": "stdout",
     "output_type": "stream",
     "text": [
      "╒═══════════════════════════╤══════════╕\n",
      "│   Performance Indicator   │   TDQN   │\n",
      "╞═══════════════════════════╪══════════╡\n",
      "│    Profit & Loss (P&L)    │  -20528  │\n",
      "├───────────────────────────┼──────────┤\n",
      "│     Annualized Return     │  -4.02%  │\n",
      "├───────────────────────────┼──────────┤\n",
      "│   Annualized Volatility   │  22.88%  │\n",
      "├───────────────────────────┼──────────┤\n",
      "│       Sharpe Ratio        │  -0.116  │\n",
      "├───────────────────────────┼──────────┤\n",
      "│       Sortino Ratio       │  -0.143  │\n",
      "├───────────────────────────┼──────────┤\n",
      "│     Maximum Drawdown      │  56.14%  │\n",
      "├───────────────────────────┼──────────┤\n",
      "│ Maximum Drawdown Duration │ 714 days │\n",
      "├───────────────────────────┼──────────┤\n",
      "│       Profitability       │  0.00%   │\n",
      "├───────────────────────────┼──────────┤\n",
      "│ Ratio Average Profit/Loss │  0.000   │\n",
      "├───────────────────────────┼──────────┤\n",
      "│         Skewness          │  0.048   │\n",
      "╘═══════════════════════════╧══════════╛\n",
      "Validation3\n",
      "╒═══════════════════════════╤═════════╕\n",
      "│   Performance Indicator   │  TDQN   │\n",
      "╞═══════════════════════════╪═════════╡\n",
      "│    Profit & Loss (P&L)    │ -101021 │\n",
      "├───────────────────────────┼─────────┤\n",
      "│     Annualized Return     │  9.38%  │\n",
      "├───────────────────────────┼─────────┤\n",
      "│   Annualized Volatility   │ 279.08% │\n",
      "├───────────────────────────┼─────────┤\n",
      "│       Sharpe Ratio        │  0.024  │\n",
      "├───────────────────────────┼─────────┤\n",
      "│       Sortino Ratio       │  0.025  │\n",
      "├───────────────────────────┼─────────┤\n",
      "│     Maximum Drawdown      │ 100.99% │\n",
      "├───────────────────────────┼─────────┤\n",
      "│ Maximum Drawdown Duration │ 61 days │\n",
      "├───────────────────────────┼─────────┤\n",
      "│       Profitability       │  0.00%  │\n",
      "├───────────────────────────┼─────────┤\n",
      "│ Ratio Average Profit/Loss │  0.000  │\n",
      "├───────────────────────────┼─────────┤\n",
      "│         Skewness          │ 19.500  │\n",
      "╘═══════════════════════════╧═════════╛\n",
      "Training4\n"
     ]
    },
    {
     "name": "stderr",
     "output_type": "stream",
     "text": [
      "\r",
      "  0%|          | 0/1 [00:00<?, ?it/s]"
     ]
    },
    {
     "name": "stdout",
     "output_type": "stream",
     "text": [
      "Training progression (hardware selected => cpu):\n"
     ]
    },
    {
     "name": "stderr",
     "output_type": "stream",
     "text": [
      "100%|██████████| 1/1 [00:27<00:00, 27.14s/it]\n"
     ]
    },
    {
     "name": "stdout",
     "output_type": "stream",
     "text": [
      "╒═══════════════════════════╤══════════╕\n",
      "│   Performance Indicator   │   TDQN   │\n",
      "╞═══════════════════════════╪══════════╡\n",
      "│    Profit & Loss (P&L)    │  -99906  │\n",
      "├───────────────────────────┼──────────┤\n",
      "│     Annualized Return     │ -100.00% │\n",
      "├───────────────────────────┼──────────┤\n",
      "│   Annualized Volatility   │ 156.65%  │\n",
      "├───────────────────────────┼──────────┤\n",
      "│       Sharpe Ratio        │  -0.926  │\n",
      "├───────────────────────────┼──────────┤\n",
      "│       Sortino Ratio       │  -0.639  │\n",
      "├───────────────────────────┼──────────┤\n",
      "│     Maximum Drawdown      │ 100.02%  │\n",
      "├───────────────────────────┼──────────┤\n",
      "│ Maximum Drawdown Duration │ 848 days │\n",
      "├───────────────────────────┼──────────┤\n",
      "│       Profitability       │  0.00%   │\n",
      "├───────────────────────────┼──────────┤\n",
      "│ Ratio Average Profit/Loss │  0.000   │\n",
      "├───────────────────────────┼──────────┤\n",
      "│         Skewness          │ -23.963  │\n",
      "╘═══════════════════════════╧══════════╛\n",
      "Validation4\n",
      "╒═══════════════════════════╤═════════╕\n",
      "│   Performance Indicator   │  TDQN   │\n",
      "╞═══════════════════════════╪═════════╡\n",
      "│    Profit & Loss (P&L)    │  57027  │\n",
      "├───────────────────────────┼─────────┤\n",
      "│     Annualized Return     │ 55.07%  │\n",
      "├───────────────────────────┼─────────┤\n",
      "│   Annualized Volatility   │ 36.86%  │\n",
      "├───────────────────────────┼─────────┤\n",
      "│       Sharpe Ratio        │  1.028  │\n",
      "├───────────────────────────┼─────────┤\n",
      "│       Sortino Ratio       │  1.428  │\n",
      "├───────────────────────────┼─────────┤\n",
      "│     Maximum Drawdown      │ 32.74%  │\n",
      "├───────────────────────────┼─────────┤\n",
      "│ Maximum Drawdown Duration │ 28 days │\n",
      "├───────────────────────────┼─────────┤\n",
      "│       Profitability       │ 100.00% │\n",
      "├───────────────────────────┼─────────┤\n",
      "│ Ratio Average Profit/Loss │   inf   │\n",
      "├───────────────────────────┼─────────┤\n",
      "│         Skewness          │  0.533  │\n",
      "╘═══════════════════════════╧═════════╛\n",
      "Training5\n"
     ]
    },
    {
     "name": "stderr",
     "output_type": "stream",
     "text": [
      "\r",
      "  0%|          | 0/1 [00:00<?, ?it/s]"
     ]
    },
    {
     "name": "stdout",
     "output_type": "stream",
     "text": [
      "Training progression (hardware selected => cpu):\n"
     ]
    },
    {
     "name": "stderr",
     "output_type": "stream",
     "text": [
      "100%|██████████| 1/1 [00:32<00:00, 32.99s/it]\n"
     ]
    },
    {
     "name": "stdout",
     "output_type": "stream",
     "text": [
      "╒═══════════════════════════╤══════════╕\n",
      "│   Performance Indicator   │   TDQN   │\n",
      "╞═══════════════════════════╪══════════╡\n",
      "│    Profit & Loss (P&L)    │  -99906  │\n",
      "├───────────────────────────┼──────────┤\n",
      "│     Annualized Return     │ -100.00% │\n",
      "├───────────────────────────┼──────────┤\n",
      "│   Annualized Volatility   │ 140.16%  │\n",
      "├───────────────────────────┼──────────┤\n",
      "│       Sharpe Ratio        │  -0.828  │\n",
      "├───────────────────────────┼──────────┤\n",
      "│       Sortino Ratio       │  -0.511  │\n",
      "├───────────────────────────┼──────────┤\n",
      "│     Maximum Drawdown      │ 100.02%  │\n",
      "├───────────────────────────┼──────────┤\n",
      "│ Maximum Drawdown Duration │ 848 days │\n",
      "├───────────────────────────┼──────────┤\n",
      "│       Profitability       │  0.00%   │\n",
      "├───────────────────────────┼──────────┤\n",
      "│ Ratio Average Profit/Loss │  0.000   │\n",
      "├───────────────────────────┼──────────┤\n",
      "│         Skewness          │ -26.796  │\n",
      "╘═══════════════════════════╧══════════╛\n",
      "gamma: 0.677755879992466, learningRate: 0.0009039453914553879, dropout: 0.11290102329349878,\n",
      "epsilonDecay: 362545.80508293305, alpha: 0.10714452816999796, L2Factor: 0.038387740073089684\n",
      "Training1\n"
     ]
    },
    {
     "name": "stderr",
     "output_type": "stream",
     "text": [
      "\r",
      "  0%|          | 0/1 [00:00<?, ?it/s]"
     ]
    },
    {
     "name": "stdout",
     "output_type": "stream",
     "text": [
      "Training progression (hardware selected => cpu):\n"
     ]
    },
    {
     "name": "stderr",
     "output_type": "stream",
     "text": [
      "100%|██████████| 1/1 [00:06<00:00,  6.22s/it]\n"
     ]
    },
    {
     "name": "stdout",
     "output_type": "stream",
     "text": [
      "╒═══════════════════════════╤══════════╕\n",
      "│   Performance Indicator   │   TDQN   │\n",
      "╞═══════════════════════════╪══════════╡\n",
      "│    Profit & Loss (P&L)    │  -59868  │\n",
      "├───────────────────────────┼──────────┤\n",
      "│     Annualized Return     │ -66.35%  │\n",
      "├───────────────────────────┼──────────┤\n",
      "│   Annualized Volatility   │  58.82%  │\n",
      "├───────────────────────────┼──────────┤\n",
      "│       Sharpe Ratio        │  -0.778  │\n",
      "├───────────────────────────┼──────────┤\n",
      "│       Sortino Ratio       │  -1.068  │\n",
      "├───────────────────────────┼──────────┤\n",
      "│     Maximum Drawdown      │  61.58%  │\n",
      "├───────────────────────────┼──────────┤\n",
      "│ Maximum Drawdown Duration │ 331 days │\n",
      "├───────────────────────────┼──────────┤\n",
      "│       Profitability       │  0.00%   │\n",
      "├───────────────────────────┼──────────┤\n",
      "│ Ratio Average Profit/Loss │  0.000   │\n",
      "├───────────────────────────┼──────────┤\n",
      "│         Skewness          │  0.414   │\n",
      "╘═══════════════════════════╧══════════╛\n",
      "Validation1\n",
      "╒═══════════════════════════╤══════════╕\n",
      "│   Performance Indicator   │   TDQN   │\n",
      "╞═══════════════════════════╪══════════╡\n",
      "│    Profit & Loss (P&L)    │ 1609963  │\n",
      "├───────────────────────────┼──────────┤\n",
      "│     Annualized Return     │  48.61%  │\n",
      "├───────────────────────────┼──────────┤\n",
      "│   Annualized Volatility   │  59.90%  │\n",
      "├───────────────────────────┼──────────┤\n",
      "│       Sharpe Ratio        │  1.117   │\n",
      "├───────────────────────────┼──────────┤\n",
      "│       Sortino Ratio       │  1.466   │\n",
      "├───────────────────────────┼──────────┤\n",
      "│     Maximum Drawdown      │  83.47%  │\n",
      "├───────────────────────────┼──────────┤\n",
      "│ Maximum Drawdown Duration │ 364 days │\n",
      "├───────────────────────────┼──────────┤\n",
      "│       Profitability       │ 100.00%  │\n",
      "├───────────────────────────┼──────────┤\n",
      "│ Ratio Average Profit/Loss │   inf    │\n",
      "├───────────────────────────┼──────────┤\n",
      "│         Skewness          │  0.228   │\n",
      "╘═══════════════════════════╧══════════╛\n",
      "Training2\n"
     ]
    },
    {
     "name": "stderr",
     "output_type": "stream",
     "text": [
      "\r",
      "  0%|          | 0/1 [00:00<?, ?it/s]"
     ]
    },
    {
     "name": "stdout",
     "output_type": "stream",
     "text": [
      "Training progression (hardware selected => cpu):\n"
     ]
    },
    {
     "name": "stderr",
     "output_type": "stream",
     "text": [
      "100%|██████████| 1/1 [00:12<00:00, 12.74s/it]\n"
     ]
    },
    {
     "name": "stdout",
     "output_type": "stream",
     "text": [
      "╒═══════════════════════════╤═════════╕\n",
      "│   Performance Indicator   │  TDQN   │\n",
      "╞═══════════════════════════╪═════════╡\n",
      "│    Profit & Loss (P&L)    │  46126  │\n",
      "├───────────────────────────┼─────────┤\n",
      "│     Annualized Return     │ 20.32%  │\n",
      "├───────────────────────────┼─────────┤\n",
      "│   Annualized Volatility   │ 21.63%  │\n",
      "├───────────────────────────┼─────────┤\n",
      "│       Sharpe Ratio        │  0.713  │\n",
      "├───────────────────────────┼─────────┤\n",
      "│       Sortino Ratio       │  0.890  │\n",
      "├───────────────────────────┼─────────┤\n",
      "│     Maximum Drawdown      │ 24.59%  │\n",
      "├───────────────────────────┼─────────┤\n",
      "│ Maximum Drawdown Duration │ 54 days │\n",
      "├───────────────────────────┼─────────┤\n",
      "│       Profitability       │ 100.00% │\n",
      "├───────────────────────────┼─────────┤\n",
      "│ Ratio Average Profit/Loss │   inf   │\n",
      "├───────────────────────────┼─────────┤\n",
      "│         Skewness          │  0.257  │\n",
      "╘═══════════════════════════╧═════════╛\n",
      "Validation2\n",
      "╒═══════════════════════════╤══════════╕\n",
      "│   Performance Indicator   │   TDQN   │\n",
      "╞═══════════════════════════╪══════════╡\n",
      "│    Profit & Loss (P&L)    │ -100359  │\n",
      "├───────────────────────────┼──────────┤\n",
      "│     Annualized Return     │ -100.00% │\n",
      "├───────────────────────────┼──────────┤\n",
      "│   Annualized Volatility   │ 127.21%  │\n",
      "├───────────────────────────┼──────────┤\n",
      "│       Sharpe Ratio        │  -0.858  │\n",
      "├───────────────────────────┼──────────┤\n",
      "│       Sortino Ratio       │  -0.444  │\n",
      "├───────────────────────────┼──────────┤\n",
      "│     Maximum Drawdown      │ 100.54%  │\n",
      "├───────────────────────────┼──────────┤\n",
      "│ Maximum Drawdown Duration │ 357 days │\n",
      "├───────────────────────────┼──────────┤\n",
      "│       Profitability       │  0.00%   │\n",
      "├───────────────────────────┼──────────┤\n",
      "│ Ratio Average Profit/Loss │  0.000   │\n",
      "├───────────────────────────┼──────────┤\n",
      "│         Skewness          │ -10.363  │\n",
      "╘═══════════════════════════╧══════════╛\n",
      "Training3\n"
     ]
    },
    {
     "name": "stderr",
     "output_type": "stream",
     "text": [
      "\r",
      "  0%|          | 0/1 [00:00<?, ?it/s]"
     ]
    },
    {
     "name": "stdout",
     "output_type": "stream",
     "text": [
      "Training progression (hardware selected => cpu):\n"
     ]
    },
    {
     "name": "stderr",
     "output_type": "stream",
     "text": [
      "100%|██████████| 1/1 [00:20<00:00, 20.52s/it]\n"
     ]
    },
    {
     "name": "stdout",
     "output_type": "stream",
     "text": [
      "╒═══════════════════════════╤══════════╕\n",
      "│   Performance Indicator   │   TDQN   │\n",
      "╞═══════════════════════════╪══════════╡\n",
      "│    Profit & Loss (P&L)    │  -20528  │\n",
      "├───────────────────────────┼──────────┤\n",
      "│     Annualized Return     │  -4.02%  │\n",
      "├───────────────────────────┼──────────┤\n",
      "│   Annualized Volatility   │  22.88%  │\n",
      "├───────────────────────────┼──────────┤\n",
      "│       Sharpe Ratio        │  -0.116  │\n",
      "├───────────────────────────┼──────────┤\n",
      "│       Sortino Ratio       │  -0.143  │\n",
      "├───────────────────────────┼──────────┤\n",
      "│     Maximum Drawdown      │  56.14%  │\n",
      "├───────────────────────────┼──────────┤\n",
      "│ Maximum Drawdown Duration │ 714 days │\n",
      "├───────────────────────────┼──────────┤\n",
      "│       Profitability       │  0.00%   │\n",
      "├───────────────────────────┼──────────┤\n",
      "│ Ratio Average Profit/Loss │  0.000   │\n",
      "├───────────────────────────┼──────────┤\n",
      "│         Skewness          │  0.048   │\n",
      "╘═══════════════════════════╧══════════╛\n",
      "Validation3\n",
      "╒═══════════════════════════╤═════════╕\n",
      "│   Performance Indicator   │  TDQN   │\n",
      "╞═══════════════════════════╪═════════╡\n",
      "│    Profit & Loss (P&L)    │ -101021 │\n",
      "├───────────────────────────┼─────────┤\n",
      "│     Annualized Return     │  9.38%  │\n",
      "├───────────────────────────┼─────────┤\n",
      "│   Annualized Volatility   │ 279.08% │\n",
      "├───────────────────────────┼─────────┤\n",
      "│       Sharpe Ratio        │  0.024  │\n",
      "├───────────────────────────┼─────────┤\n",
      "│       Sortino Ratio       │  0.025  │\n",
      "├───────────────────────────┼─────────┤\n",
      "│     Maximum Drawdown      │ 100.99% │\n",
      "├───────────────────────────┼─────────┤\n",
      "│ Maximum Drawdown Duration │ 61 days │\n",
      "├───────────────────────────┼─────────┤\n",
      "│       Profitability       │  0.00%  │\n",
      "├───────────────────────────┼─────────┤\n",
      "│ Ratio Average Profit/Loss │  0.000  │\n",
      "├───────────────────────────┼─────────┤\n",
      "│         Skewness          │ 19.500  │\n",
      "╘═══════════════════════════╧═════════╛\n",
      "Training4\n"
     ]
    },
    {
     "name": "stderr",
     "output_type": "stream",
     "text": [
      "\r",
      "  0%|          | 0/1 [00:00<?, ?it/s]"
     ]
    },
    {
     "name": "stdout",
     "output_type": "stream",
     "text": [
      "Training progression (hardware selected => cpu):\n"
     ]
    },
    {
     "name": "stderr",
     "output_type": "stream",
     "text": [
      "100%|██████████| 1/1 [00:26<00:00, 26.38s/it]\n"
     ]
    },
    {
     "name": "stdout",
     "output_type": "stream",
     "text": [
      "╒═══════════════════════════╤══════════╕\n",
      "│   Performance Indicator   │   TDQN   │\n",
      "╞═══════════════════════════╪══════════╡\n",
      "│    Profit & Loss (P&L)    │  -99906  │\n",
      "├───────────────────────────┼──────────┤\n",
      "│     Annualized Return     │ -100.00% │\n",
      "├───────────────────────────┼──────────┤\n",
      "│   Annualized Volatility   │ 156.65%  │\n",
      "├───────────────────────────┼──────────┤\n",
      "│       Sharpe Ratio        │  -0.926  │\n",
      "├───────────────────────────┼──────────┤\n",
      "│       Sortino Ratio       │  -0.639  │\n",
      "├───────────────────────────┼──────────┤\n",
      "│     Maximum Drawdown      │ 100.02%  │\n",
      "├───────────────────────────┼──────────┤\n",
      "│ Maximum Drawdown Duration │ 848 days │\n",
      "├───────────────────────────┼──────────┤\n",
      "│       Profitability       │  0.00%   │\n",
      "├───────────────────────────┼──────────┤\n",
      "│ Ratio Average Profit/Loss │  0.000   │\n",
      "├───────────────────────────┼──────────┤\n",
      "│         Skewness          │ -23.963  │\n",
      "╘═══════════════════════════╧══════════╛\n",
      "Validation4\n",
      "╒═══════════════════════════╤═════════╕\n",
      "│   Performance Indicator   │  TDQN   │\n",
      "╞═══════════════════════════╪═════════╡\n",
      "│    Profit & Loss (P&L)    │  57027  │\n",
      "├───────────────────────────┼─────────┤\n",
      "│     Annualized Return     │ 55.07%  │\n",
      "├───────────────────────────┼─────────┤\n",
      "│   Annualized Volatility   │ 36.86%  │\n",
      "├───────────────────────────┼─────────┤\n",
      "│       Sharpe Ratio        │  1.028  │\n",
      "├───────────────────────────┼─────────┤\n",
      "│       Sortino Ratio       │  1.428  │\n",
      "├───────────────────────────┼─────────┤\n",
      "│     Maximum Drawdown      │ 32.74%  │\n",
      "├───────────────────────────┼─────────┤\n",
      "│ Maximum Drawdown Duration │ 28 days │\n",
      "├───────────────────────────┼─────────┤\n",
      "│       Profitability       │ 100.00% │\n",
      "├───────────────────────────┼─────────┤\n",
      "│ Ratio Average Profit/Loss │   inf   │\n",
      "├───────────────────────────┼─────────┤\n",
      "│         Skewness          │  0.533  │\n",
      "╘═══════════════════════════╧═════════╛\n",
      "Training5\n"
     ]
    },
    {
     "name": "stderr",
     "output_type": "stream",
     "text": [
      "\r",
      "  0%|          | 0/1 [00:00<?, ?it/s]"
     ]
    },
    {
     "name": "stdout",
     "output_type": "stream",
     "text": [
      "Training progression (hardware selected => cpu):\n"
     ]
    },
    {
     "name": "stderr",
     "output_type": "stream",
     "text": [
      "100%|██████████| 1/1 [00:31<00:00, 31.78s/it]\n"
     ]
    },
    {
     "name": "stdout",
     "output_type": "stream",
     "text": [
      "╒═══════════════════════════╤══════════╕\n",
      "│   Performance Indicator   │   TDQN   │\n",
      "╞═══════════════════════════╪══════════╡\n",
      "│    Profit & Loss (P&L)    │  -99906  │\n",
      "├───────────────────────────┼──────────┤\n",
      "│     Annualized Return     │ -100.00% │\n",
      "├───────────────────────────┼──────────┤\n",
      "│   Annualized Volatility   │ 140.16%  │\n",
      "├───────────────────────────┼──────────┤\n",
      "│       Sharpe Ratio        │  -0.828  │\n",
      "├───────────────────────────┼──────────┤\n",
      "│       Sortino Ratio       │  -0.511  │\n",
      "├───────────────────────────┼──────────┤\n",
      "│     Maximum Drawdown      │ 100.02%  │\n",
      "├───────────────────────────┼──────────┤\n",
      "│ Maximum Drawdown Duration │ 848 days │\n",
      "├───────────────────────────┼──────────┤\n",
      "│       Profitability       │  0.00%   │\n",
      "├───────────────────────────┼──────────┤\n",
      "│ Ratio Average Profit/Loss │  0.000   │\n",
      "├───────────────────────────┼──────────┤\n",
      "│         Skewness          │ -26.796  │\n",
      "╘═══════════════════════════╧══════════╛\n",
      "gamma: 0.677755879992466, learningRate: 0.0009039453914553879, dropout: 0.11290102329349878,\n",
      "epsilonDecay: 362545.80508293305, alpha: 0.10714452816999796, L2Factor: 0.08401718381846215\n",
      "Training1\n"
     ]
    },
    {
     "name": "stderr",
     "output_type": "stream",
     "text": [
      "\r",
      "  0%|          | 0/1 [00:00<?, ?it/s]"
     ]
    },
    {
     "name": "stdout",
     "output_type": "stream",
     "text": [
      "Training progression (hardware selected => cpu):\n"
     ]
    },
    {
     "name": "stderr",
     "output_type": "stream",
     "text": [
      "100%|██████████| 1/1 [00:06<00:00,  6.22s/it]\n"
     ]
    },
    {
     "name": "stdout",
     "output_type": "stream",
     "text": [
      "╒═══════════════════════════╤═════════╕\n",
      "│   Performance Indicator   │  TDQN   │\n",
      "╞═══════════════════════════╪═════════╡\n",
      "│    Profit & Loss (P&L)    │  59669  │\n",
      "├───────────────────────────┼─────────┤\n",
      "│     Annualized Return     │ 52.64%  │\n",
      "├───────────────────────────┼─────────┤\n",
      "│   Annualized Volatility   │ 27.95%  │\n",
      "├───────────────────────────┼─────────┤\n",
      "│       Sharpe Ratio        │  1.296  │\n",
      "├───────────────────────────┼─────────┤\n",
      "│       Sortino Ratio       │  1.579  │\n",
      "├───────────────────────────┼─────────┤\n",
      "│     Maximum Drawdown      │ 24.59%  │\n",
      "├───────────────────────────┼─────────┤\n",
      "│ Maximum Drawdown Duration │ 54 days │\n",
      "├───────────────────────────┼─────────┤\n",
      "│       Profitability       │ 100.00% │\n",
      "├───────────────────────────┼─────────┤\n",
      "│ Ratio Average Profit/Loss │   inf   │\n",
      "├───────────────────────────┼─────────┤\n",
      "│         Skewness          │  0.072  │\n",
      "╘═══════════════════════════╧═════════╛\n",
      "Validation1\n",
      "╒═══════════════════════════╤══════════╕\n",
      "│   Performance Indicator   │   TDQN   │\n",
      "╞═══════════════════════════╪══════════╡\n",
      "│    Profit & Loss (P&L)    │ -100704  │\n",
      "├───────────────────────────┼──────────┤\n",
      "│     Annualized Return     │ -100.00% │\n",
      "├───────────────────────────┼──────────┤\n",
      "│   Annualized Volatility   │ 154.15%  │\n",
      "├───────────────────────────┼──────────┤\n",
      "│       Sharpe Ratio        │  -0.237  │\n",
      "├───────────────────────────┼──────────┤\n",
      "│       Sortino Ratio       │  -0.172  │\n",
      "├───────────────────────────┼──────────┤\n",
      "│     Maximum Drawdown      │ 100.68%  │\n",
      "├───────────────────────────┼──────────┤\n",
      "│ Maximum Drawdown Duration │ 294 days │\n",
      "├───────────────────────────┼──────────┤\n",
      "│       Profitability       │  0.00%   │\n",
      "├───────────────────────────┼──────────┤\n",
      "│ Ratio Average Profit/Loss │  0.000   │\n",
      "├───────────────────────────┼──────────┤\n",
      "│         Skewness          │  6.314   │\n",
      "╘═══════════════════════════╧══════════╛\n",
      "Training2\n"
     ]
    },
    {
     "name": "stderr",
     "output_type": "stream",
     "text": [
      "\r",
      "  0%|          | 0/1 [00:00<?, ?it/s]"
     ]
    },
    {
     "name": "stdout",
     "output_type": "stream",
     "text": [
      "Training progression (hardware selected => cpu):\n"
     ]
    },
    {
     "name": "stderr",
     "output_type": "stream",
     "text": [
      "100%|██████████| 1/1 [00:12<00:00, 12.77s/it]\n"
     ]
    },
    {
     "name": "stdout",
     "output_type": "stream",
     "text": [
      "╒═══════════════════════════╤══════════╕\n",
      "│   Performance Indicator   │   TDQN   │\n",
      "╞═══════════════════════════╪══════════╡\n",
      "│    Profit & Loss (P&L)    │  -46325  │\n",
      "├───────────────────────────┼──────────┤\n",
      "│     Annualized Return     │  -6.89%  │\n",
      "├───────────────────────────┼──────────┤\n",
      "│   Annualized Volatility   │  57.89%  │\n",
      "├───────────────────────────┼──────────┤\n",
      "│       Sharpe Ratio        │  -0.079  │\n",
      "├───────────────────────────┼──────────┤\n",
      "│       Sortino Ratio       │  -0.101  │\n",
      "├───────────────────────────┼──────────┤\n",
      "│     Maximum Drawdown      │  78.61%  │\n",
      "├───────────────────────────┼──────────┤\n",
      "│ Maximum Drawdown Duration │ 346 days │\n",
      "├───────────────────────────┼──────────┤\n",
      "│       Profitability       │  0.00%   │\n",
      "├───────────────────────────┼──────────┤\n",
      "│ Ratio Average Profit/Loss │  0.000   │\n",
      "├───────────────────────────┼──────────┤\n",
      "│         Skewness          │  -0.063  │\n",
      "╘═══════════════════════════╧══════════╛\n",
      "Validation2\n",
      "╒═══════════════════════════╤══════════╕\n",
      "│   Performance Indicator   │   TDQN   │\n",
      "╞═══════════════════════════╪══════════╡\n",
      "│    Profit & Loss (P&L)    │  914077  │\n",
      "├───────────────────────────┼──────────┤\n",
      "│     Annualized Return     │  61.12%  │\n",
      "├───────────────────────────┼──────────┤\n",
      "│   Annualized Volatility   │  63.23%  │\n",
      "├───────────────────────────┼──────────┤\n",
      "│       Sharpe Ratio        │  1.157   │\n",
      "├───────────────────────────┼──────────┤\n",
      "│       Sortino Ratio       │  1.529   │\n",
      "├───────────────────────────┼──────────┤\n",
      "│     Maximum Drawdown      │  83.47%  │\n",
      "├───────────────────────────┼──────────┤\n",
      "│ Maximum Drawdown Duration │ 364 days │\n",
      "├───────────────────────────┼──────────┤\n",
      "│       Profitability       │ 100.00%  │\n",
      "├───────────────────────────┼──────────┤\n",
      "│ Ratio Average Profit/Loss │   inf    │\n",
      "├───────────────────────────┼──────────┤\n",
      "│         Skewness          │  0.306   │\n",
      "╘═══════════════════════════╧══════════╛\n",
      "Training3\n"
     ]
    },
    {
     "name": "stderr",
     "output_type": "stream",
     "text": [
      "\r",
      "  0%|          | 0/1 [00:00<?, ?it/s]"
     ]
    },
    {
     "name": "stdout",
     "output_type": "stream",
     "text": [
      "Training progression (hardware selected => cpu):\n"
     ]
    },
    {
     "name": "stderr",
     "output_type": "stream",
     "text": [
      "100%|██████████| 1/1 [00:20<00:00, 20.36s/it]\n"
     ]
    },
    {
     "name": "stdout",
     "output_type": "stream",
     "text": [
      "╒═══════════════════════════╤══════════╕\n",
      "│   Performance Indicator   │   TDQN   │\n",
      "╞═══════════════════════════╪══════════╡\n",
      "│    Profit & Loss (P&L)    │  20329   │\n",
      "├───────────────────────────┼──────────┤\n",
      "│     Annualized Return     │  21.47%  │\n",
      "├───────────────────────────┼──────────┤\n",
      "│   Annualized Volatility   │  52.63%  │\n",
      "├───────────────────────────┼──────────┤\n",
      "│       Sharpe Ratio        │  0.346   │\n",
      "├───────────────────────────┼──────────┤\n",
      "│       Sortino Ratio       │  0.427   │\n",
      "├───────────────────────────┼──────────┤\n",
      "│     Maximum Drawdown      │  78.61%  │\n",
      "├───────────────────────────┼──────────┤\n",
      "│ Maximum Drawdown Duration │ 346 days │\n",
      "├───────────────────────────┼──────────┤\n",
      "│       Profitability       │ 100.00%  │\n",
      "├───────────────────────────┼──────────┤\n",
      "│ Ratio Average Profit/Loss │   inf    │\n",
      "├───────────────────────────┼──────────┤\n",
      "│         Skewness          │  -0.133  │\n",
      "╘═══════════════════════════╧══════════╛\n",
      "Validation3\n",
      "╒═══════════════════════════╤══════════╕\n",
      "│   Performance Indicator   │   TDQN   │\n",
      "╞═══════════════════════════╪══════════╡\n",
      "│    Profit & Loss (P&L)    │  285459  │\n",
      "├───────────────────────────┼──────────┤\n",
      "│     Annualized Return     │  76.00%  │\n",
      "├───────────────────────────┼──────────┤\n",
      "│   Annualized Volatility   │  71.93%  │\n",
      "├───────────────────────────┼──────────┤\n",
      "│       Sharpe Ratio        │  1.004   │\n",
      "├───────────────────────────┼──────────┤\n",
      "│       Sortino Ratio       │  1.442   │\n",
      "├───────────────────────────┼──────────┤\n",
      "│     Maximum Drawdown      │  83.47%  │\n",
      "├───────────────────────────┼──────────┤\n",
      "│ Maximum Drawdown Duration │ 364 days │\n",
      "├───────────────────────────┼──────────┤\n",
      "│       Profitability       │ 100.00%  │\n",
      "├───────────────────────────┼──────────┤\n",
      "│ Ratio Average Profit/Loss │   inf    │\n",
      "├───────────────────────────┼──────────┤\n",
      "│         Skewness          │  0.356   │\n",
      "╘═══════════════════════════╧══════════╛\n",
      "Training4\n"
     ]
    },
    {
     "name": "stderr",
     "output_type": "stream",
     "text": [
      "\r",
      "  0%|          | 0/1 [00:00<?, ?it/s]"
     ]
    },
    {
     "name": "stdout",
     "output_type": "stream",
     "text": [
      "Training progression (hardware selected => cpu):\n"
     ]
    },
    {
     "name": "stderr",
     "output_type": "stream",
     "text": [
      "100%|██████████| 1/1 [00:25<00:00, 25.40s/it]\n"
     ]
    },
    {
     "name": "stdout",
     "output_type": "stream",
     "text": [
      "╒═══════════════════════════╤═══════════╕\n",
      "│   Performance Indicator   │   TDQN    │\n",
      "╞═══════════════════════════╪═══════════╡\n",
      "│    Profit & Loss (P&L)    │  -116588  │\n",
      "├───────────────────────────┼───────────┤\n",
      "│     Annualized Return     │  33.93%   │\n",
      "├───────────────────────────┼───────────┤\n",
      "│   Annualized Volatility   │  164.60%  │\n",
      "├───────────────────────────┼───────────┤\n",
      "│       Sharpe Ratio        │   0.232   │\n",
      "├───────────────────────────┼───────────┤\n",
      "│       Sortino Ratio       │   0.241   │\n",
      "├───────────────────────────┼───────────┤\n",
      "│     Maximum Drawdown      │  107.53%  │\n",
      "├───────────────────────────┼───────────┤\n",
      "│ Maximum Drawdown Duration │ 1056 days │\n",
      "├───────────────────────────┼───────────┤\n",
      "│       Profitability       │  40.00%   │\n",
      "├───────────────────────────┼───────────┤\n",
      "│ Ratio Average Profit/Loss │   0.915   │\n",
      "├───────────────────────────┼───────────┤\n",
      "│         Skewness          │   5.606   │\n",
      "╘═══════════════════════════╧═══════════╛\n",
      "Validation4\n",
      "╒═══════════════════════════╤══════════╕\n",
      "│   Performance Indicator   │   TDQN   │\n",
      "╞═══════════════════════════╪══════════╡\n",
      "│    Profit & Loss (P&L)    │  -63342  │\n",
      "├───────────────────────────┼──────────┤\n",
      "│     Annualized Return     │ -78.65%  │\n",
      "├───────────────────────────┼──────────┤\n",
      "│   Annualized Volatility   │  54.52%  │\n",
      "├───────────────────────────┼──────────┤\n",
      "│       Sharpe Ratio        │  -0.995  │\n",
      "├───────────────────────────┼──────────┤\n",
      "│       Sortino Ratio       │  -1.265  │\n",
      "├───────────────────────────┼──────────┤\n",
      "│     Maximum Drawdown      │  67.38%  │\n",
      "├───────────────────────────┼──────────┤\n",
      "│ Maximum Drawdown Duration │ 348 days │\n",
      "├───────────────────────────┼──────────┤\n",
      "│       Profitability       │  40.00%  │\n",
      "├───────────────────────────┼──────────┤\n",
      "│ Ratio Average Profit/Loss │  0.099   │\n",
      "├───────────────────────────┼──────────┤\n",
      "│         Skewness          │  -0.177  │\n",
      "╘═══════════════════════════╧══════════╛\n",
      "Training5\n"
     ]
    },
    {
     "name": "stderr",
     "output_type": "stream",
     "text": [
      "\r",
      "  0%|          | 0/1 [00:00<?, ?it/s]"
     ]
    },
    {
     "name": "stdout",
     "output_type": "stream",
     "text": [
      "Training progression (hardware selected => cpu):\n"
     ]
    },
    {
     "name": "stderr",
     "output_type": "stream",
     "text": [
      "100%|██████████| 1/1 [00:32<00:00, 32.43s/it]\n"
     ]
    },
    {
     "name": "stdout",
     "output_type": "stream",
     "text": [
      "╒═══════════════════════════╤══════════╕\n",
      "│   Performance Indicator   │   TDQN   │\n",
      "╞═══════════════════════════╪══════════╡\n",
      "│    Profit & Loss (P&L)    │  -99906  │\n",
      "├───────────────────────────┼──────────┤\n",
      "│     Annualized Return     │ -100.00% │\n",
      "├───────────────────────────┼──────────┤\n",
      "│   Annualized Volatility   │ 140.16%  │\n",
      "├───────────────────────────┼──────────┤\n",
      "│       Sharpe Ratio        │  -0.828  │\n",
      "├───────────────────────────┼──────────┤\n",
      "│       Sortino Ratio       │  -0.511  │\n",
      "├───────────────────────────┼──────────┤\n",
      "│     Maximum Drawdown      │ 100.02%  │\n",
      "├───────────────────────────┼──────────┤\n",
      "│ Maximum Drawdown Duration │ 848 days │\n",
      "├───────────────────────────┼──────────┤\n",
      "│       Profitability       │  0.00%   │\n",
      "├───────────────────────────┼──────────┤\n",
      "│ Ratio Average Profit/Loss │  0.000   │\n",
      "├───────────────────────────┼──────────┤\n",
      "│         Skewness          │ -26.796  │\n",
      "╘═══════════════════════════╧══════════╛\n",
      "gamma: 0.677755879992466, learningRate: 0.0009039453914553879, dropout: 0.11290102329349878,\n",
      "epsilonDecay: 362545.80508293305, alpha: 0.8529084319085842, L2Factor: 0.08743510521792865\n",
      "Training1\n"
     ]
    },
    {
     "name": "stderr",
     "output_type": "stream",
     "text": [
      "\r",
      "  0%|          | 0/1 [00:00<?, ?it/s]"
     ]
    },
    {
     "name": "stdout",
     "output_type": "stream",
     "text": [
      "Training progression (hardware selected => cpu):\n"
     ]
    },
    {
     "name": "stderr",
     "output_type": "stream",
     "text": [
      "100%|██████████| 1/1 [00:06<00:00,  6.31s/it]\n"
     ]
    },
    {
     "name": "stdout",
     "output_type": "stream",
     "text": [
      "╒═══════════════════════════╤══════════╕\n",
      "│   Performance Indicator   │   TDQN   │\n",
      "╞═══════════════════════════╪══════════╡\n",
      "│    Profit & Loss (P&L)    │  -59868  │\n",
      "├───────────────────────────┼──────────┤\n",
      "│     Annualized Return     │ -66.35%  │\n",
      "├───────────────────────────┼──────────┤\n",
      "│   Annualized Volatility   │  58.82%  │\n",
      "├───────────────────────────┼──────────┤\n",
      "│       Sharpe Ratio        │  -0.778  │\n",
      "├───────────────────────────┼──────────┤\n",
      "│       Sortino Ratio       │  -1.068  │\n",
      "├───────────────────────────┼──────────┤\n",
      "│     Maximum Drawdown      │  61.58%  │\n",
      "├───────────────────────────┼──────────┤\n",
      "│ Maximum Drawdown Duration │ 331 days │\n",
      "├───────────────────────────┼──────────┤\n",
      "│       Profitability       │  0.00%   │\n",
      "├───────────────────────────┼──────────┤\n",
      "│ Ratio Average Profit/Loss │  0.000   │\n",
      "├───────────────────────────┼──────────┤\n",
      "│         Skewness          │  0.414   │\n",
      "╘═══════════════════════════╧══════════╛\n",
      "Validation1\n",
      "╒═══════════════════════════╤══════════╕\n",
      "│   Performance Indicator   │   TDQN   │\n",
      "╞═══════════════════════════╪══════════╡\n",
      "│    Profit & Loss (P&L)    │ 1609963  │\n",
      "├───────────────────────────┼──────────┤\n",
      "│     Annualized Return     │  48.61%  │\n",
      "├───────────────────────────┼──────────┤\n",
      "│   Annualized Volatility   │  59.90%  │\n",
      "├───────────────────────────┼──────────┤\n",
      "│       Sharpe Ratio        │  1.117   │\n",
      "├───────────────────────────┼──────────┤\n",
      "│       Sortino Ratio       │  1.466   │\n",
      "├───────────────────────────┼──────────┤\n",
      "│     Maximum Drawdown      │  83.47%  │\n",
      "├───────────────────────────┼──────────┤\n",
      "│ Maximum Drawdown Duration │ 364 days │\n",
      "├───────────────────────────┼──────────┤\n",
      "│       Profitability       │ 100.00%  │\n",
      "├───────────────────────────┼──────────┤\n",
      "│ Ratio Average Profit/Loss │   inf    │\n",
      "├───────────────────────────┼──────────┤\n",
      "│         Skewness          │  0.228   │\n",
      "╘═══════════════════════════╧══════════╛\n",
      "Training2\n"
     ]
    },
    {
     "name": "stderr",
     "output_type": "stream",
     "text": [
      "\r",
      "  0%|          | 0/1 [00:00<?, ?it/s]"
     ]
    },
    {
     "name": "stdout",
     "output_type": "stream",
     "text": [
      "Training progression (hardware selected => cpu):\n"
     ]
    },
    {
     "name": "stderr",
     "output_type": "stream",
     "text": [
      "100%|██████████| 1/1 [00:18<00:00, 18.71s/it]\n"
     ]
    },
    {
     "name": "stdout",
     "output_type": "stream",
     "text": [
      "╒═══════════════════════════╤══════════╕\n",
      "│   Performance Indicator   │   TDQN   │\n",
      "╞═══════════════════════════╪══════════╡\n",
      "│    Profit & Loss (P&L)    │  -46325  │\n",
      "├───────────────────────────┼──────────┤\n",
      "│     Annualized Return     │  -6.89%  │\n",
      "├───────────────────────────┼──────────┤\n",
      "│   Annualized Volatility   │  57.89%  │\n",
      "├───────────────────────────┼──────────┤\n",
      "│       Sharpe Ratio        │  -0.079  │\n",
      "├───────────────────────────┼──────────┤\n",
      "│       Sortino Ratio       │  -0.101  │\n",
      "├───────────────────────────┼──────────┤\n",
      "│     Maximum Drawdown      │  78.61%  │\n",
      "├───────────────────────────┼──────────┤\n",
      "│ Maximum Drawdown Duration │ 346 days │\n",
      "├───────────────────────────┼──────────┤\n",
      "│       Profitability       │  0.00%   │\n",
      "├───────────────────────────┼──────────┤\n",
      "│ Ratio Average Profit/Loss │  0.000   │\n",
      "├───────────────────────────┼──────────┤\n",
      "│         Skewness          │  -0.063  │\n",
      "╘═══════════════════════════╧══════════╛\n",
      "Validation2\n",
      "╒═══════════════════════════╤══════════╕\n",
      "│   Performance Indicator   │   TDQN   │\n",
      "╞═══════════════════════════╪══════════╡\n",
      "│    Profit & Loss (P&L)    │  914077  │\n",
      "├───────────────────────────┼──────────┤\n",
      "│     Annualized Return     │  61.12%  │\n",
      "├───────────────────────────┼──────────┤\n",
      "│   Annualized Volatility   │  63.23%  │\n",
      "├───────────────────────────┼──────────┤\n",
      "│       Sharpe Ratio        │  1.157   │\n",
      "├───────────────────────────┼──────────┤\n",
      "│       Sortino Ratio       │  1.529   │\n",
      "├───────────────────────────┼──────────┤\n",
      "│     Maximum Drawdown      │  83.47%  │\n",
      "├───────────────────────────┼──────────┤\n",
      "│ Maximum Drawdown Duration │ 364 days │\n",
      "├───────────────────────────┼──────────┤\n",
      "│       Profitability       │ 100.00%  │\n",
      "├───────────────────────────┼──────────┤\n",
      "│ Ratio Average Profit/Loss │   inf    │\n",
      "├───────────────────────────┼──────────┤\n",
      "│         Skewness          │  0.306   │\n",
      "╘═══════════════════════════╧══════════╛\n",
      "Training3\n"
     ]
    },
    {
     "name": "stderr",
     "output_type": "stream",
     "text": [
      "\r",
      "  0%|          | 0/1 [00:00<?, ?it/s]"
     ]
    },
    {
     "name": "stdout",
     "output_type": "stream",
     "text": [
      "Training progression (hardware selected => cpu):\n"
     ]
    },
    {
     "name": "stderr",
     "output_type": "stream",
     "text": [
      "100%|██████████| 1/1 [00:29<00:00, 29.09s/it]\n"
     ]
    },
    {
     "name": "stdout",
     "output_type": "stream",
     "text": [
      "╒═══════════════════════════╤══════════╕\n",
      "│   Performance Indicator   │   TDQN   │\n",
      "╞═══════════════════════════╪══════════╡\n",
      "│    Profit & Loss (P&L)    │  -20528  │\n",
      "├───────────────────────────┼──────────┤\n",
      "│     Annualized Return     │  -4.02%  │\n",
      "├───────────────────────────┼──────────┤\n",
      "│   Annualized Volatility   │  22.88%  │\n",
      "├───────────────────────────┼──────────┤\n",
      "│       Sharpe Ratio        │  -0.116  │\n",
      "├───────────────────────────┼──────────┤\n",
      "│       Sortino Ratio       │  -0.143  │\n",
      "├───────────────────────────┼──────────┤\n",
      "│     Maximum Drawdown      │  56.14%  │\n",
      "├───────────────────────────┼──────────┤\n",
      "│ Maximum Drawdown Duration │ 714 days │\n",
      "├───────────────────────────┼──────────┤\n",
      "│       Profitability       │  0.00%   │\n",
      "├───────────────────────────┼──────────┤\n",
      "│ Ratio Average Profit/Loss │  0.000   │\n",
      "├───────────────────────────┼──────────┤\n",
      "│         Skewness          │  0.048   │\n",
      "╘═══════════════════════════╧══════════╛\n",
      "Validation3\n",
      "╒═══════════════════════════╤═════════╕\n",
      "│   Performance Indicator   │  TDQN   │\n",
      "╞═══════════════════════════╪═════════╡\n",
      "│    Profit & Loss (P&L)    │ -101021 │\n",
      "├───────────────────────────┼─────────┤\n",
      "│     Annualized Return     │  9.38%  │\n",
      "├───────────────────────────┼─────────┤\n",
      "│   Annualized Volatility   │ 279.08% │\n",
      "├───────────────────────────┼─────────┤\n",
      "│       Sharpe Ratio        │  0.024  │\n",
      "├───────────────────────────┼─────────┤\n",
      "│       Sortino Ratio       │  0.025  │\n",
      "├───────────────────────────┼─────────┤\n",
      "│     Maximum Drawdown      │ 100.99% │\n",
      "├───────────────────────────┼─────────┤\n",
      "│ Maximum Drawdown Duration │ 61 days │\n",
      "├───────────────────────────┼─────────┤\n",
      "│       Profitability       │  0.00%  │\n",
      "├───────────────────────────┼─────────┤\n",
      "│ Ratio Average Profit/Loss │  0.000  │\n",
      "├───────────────────────────┼─────────┤\n",
      "│         Skewness          │ 19.500  │\n",
      "╘═══════════════════════════╧═════════╛\n",
      "Training4\n"
     ]
    },
    {
     "name": "stderr",
     "output_type": "stream",
     "text": [
      "\r",
      "  0%|          | 0/1 [00:00<?, ?it/s]"
     ]
    },
    {
     "name": "stdout",
     "output_type": "stream",
     "text": [
      "Training progression (hardware selected => cpu):\n"
     ]
    },
    {
     "name": "stderr",
     "output_type": "stream",
     "text": [
      "100%|██████████| 1/1 [00:38<00:00, 38.81s/it]\n"
     ]
    },
    {
     "name": "stdout",
     "output_type": "stream",
     "text": [
      "╒═══════════════════════════╤══════════╕\n",
      "│   Performance Indicator   │   TDQN   │\n",
      "╞═══════════════════════════╪══════════╡\n",
      "│    Profit & Loss (P&L)    │  -99567  │\n",
      "├───────────────────────────┼──────────┤\n",
      "│     Annualized Return     │ -100.00% │\n",
      "├───────────────────────────┼──────────┤\n",
      "│   Annualized Volatility   │ 582.85%  │\n",
      "├───────────────────────────┼──────────┤\n",
      "│       Sharpe Ratio        │  -0.748  │\n",
      "├───────────────────────────┼──────────┤\n",
      "│       Sortino Ratio       │  -0.513  │\n",
      "├───────────────────────────┼──────────┤\n",
      "│     Maximum Drawdown      │ 102.64%  │\n",
      "├───────────────────────────┼──────────┤\n",
      "│ Maximum Drawdown Duration │ 153 days │\n",
      "├───────────────────────────┼──────────┤\n",
      "│       Profitability       │  41.99%  │\n",
      "├───────────────────────────┼──────────┤\n",
      "│ Ratio Average Profit/Loss │  0.997   │\n",
      "├───────────────────────────┼──────────┤\n",
      "│         Skewness          │ -23.022  │\n",
      "╘═══════════════════════════╧══════════╛\n",
      "Validation4\n",
      "╒═══════════════════════════╤═════════╕\n",
      "│   Performance Indicator   │  TDQN   │\n",
      "╞═══════════════════════════╪═════════╡\n",
      "│    Profit & Loss (P&L)    │  49366  │\n",
      "├───────────────────────────┼─────────┤\n",
      "│     Annualized Return     │ 60.76%  │\n",
      "├───────────────────────────┼─────────┤\n",
      "│   Annualized Volatility   │ 53.42%  │\n",
      "├───────────────────────────┼─────────┤\n",
      "│       Sharpe Ratio        │  0.783  │\n",
      "├───────────────────────────┼─────────┤\n",
      "│       Sortino Ratio       │  1.074  │\n",
      "├───────────────────────────┼─────────┤\n",
      "│     Maximum Drawdown      │ 41.04%  │\n",
      "├───────────────────────────┼─────────┤\n",
      "│ Maximum Drawdown Duration │ 28 days │\n",
      "├───────────────────────────┼─────────┤\n",
      "│       Profitability       │ 75.00%  │\n",
      "├───────────────────────────┼─────────┤\n",
      "│ Ratio Average Profit/Loss │  1.735  │\n",
      "├───────────────────────────┼─────────┤\n",
      "│         Skewness          │  0.529  │\n",
      "╘═══════════════════════════╧═════════╛\n",
      "Training5\n"
     ]
    },
    {
     "name": "stderr",
     "output_type": "stream",
     "text": [
      "\r",
      "  0%|          | 0/1 [00:00<?, ?it/s]"
     ]
    },
    {
     "name": "stdout",
     "output_type": "stream",
     "text": [
      "Training progression (hardware selected => cpu):\n"
     ]
    },
    {
     "name": "stderr",
     "output_type": "stream",
     "text": [
      "100%|██████████| 1/1 [00:50<00:00, 50.79s/it]\n"
     ]
    },
    {
     "name": "stdout",
     "output_type": "stream",
     "text": [
      "╒═══════════════════════════╤══════════╕\n",
      "│   Performance Indicator   │   TDQN   │\n",
      "╞═══════════════════════════╪══════════╡\n",
      "│    Profit & Loss (P&L)    │  364249  │\n",
      "├───────────────────────────┼──────────┤\n",
      "│     Annualized Return     │  31.41%  │\n",
      "├───────────────────────────┼──────────┤\n",
      "│   Annualized Volatility   │  61.81%  │\n",
      "├───────────────────────────┼──────────┤\n",
      "│       Sharpe Ratio        │  0.652   │\n",
      "├───────────────────────────┼──────────┤\n",
      "│       Sortino Ratio       │  0.855   │\n",
      "├───────────────────────────┼──────────┤\n",
      "│     Maximum Drawdown      │  83.46%  │\n",
      "├───────────────────────────┼──────────┤\n",
      "│ Maximum Drawdown Duration │ 364 days │\n",
      "├───────────────────────────┼──────────┤\n",
      "│       Profitability       │ 100.00%  │\n",
      "├───────────────────────────┼──────────┤\n",
      "│ Ratio Average Profit/Loss │   inf    │\n",
      "├───────────────────────────┼──────────┤\n",
      "│         Skewness          │  0.168   │\n",
      "╘═══════════════════════════╧══════════╛\n",
      "gamma: 0.677755879992466, learningRate: 0.0009039453914553879, dropout: 0.11290102329349878,\n",
      "epsilonDecay: 362545.80508293305, alpha: 0.8529084319085842, L2Factor: 0.038387740073089684\n",
      "Training1\n"
     ]
    },
    {
     "name": "stderr",
     "output_type": "stream",
     "text": [
      "\r",
      "  0%|          | 0/1 [00:00<?, ?it/s]"
     ]
    },
    {
     "name": "stdout",
     "output_type": "stream",
     "text": [
      "Training progression (hardware selected => cpu):\n"
     ]
    },
    {
     "name": "stderr",
     "output_type": "stream",
     "text": [
      "100%|██████████| 1/1 [00:09<00:00,  9.53s/it]\n"
     ]
    },
    {
     "name": "stdout",
     "output_type": "stream",
     "text": [
      "╒═══════════════════════════╤══════════╕\n",
      "│   Performance Indicator   │   TDQN   │\n",
      "╞═══════════════════════════╪══════════╡\n",
      "│    Profit & Loss (P&L)    │  -59868  │\n",
      "├───────────────────────────┼──────────┤\n",
      "│     Annualized Return     │ -66.35%  │\n",
      "├───────────────────────────┼──────────┤\n",
      "│   Annualized Volatility   │  58.82%  │\n",
      "├───────────────────────────┼──────────┤\n",
      "│       Sharpe Ratio        │  -0.778  │\n",
      "├───────────────────────────┼──────────┤\n",
      "│       Sortino Ratio       │  -1.068  │\n",
      "├───────────────────────────┼──────────┤\n",
      "│     Maximum Drawdown      │  61.58%  │\n",
      "├───────────────────────────┼──────────┤\n",
      "│ Maximum Drawdown Duration │ 331 days │\n",
      "├───────────────────────────┼──────────┤\n",
      "│       Profitability       │  0.00%   │\n",
      "├───────────────────────────┼──────────┤\n",
      "│ Ratio Average Profit/Loss │  0.000   │\n",
      "├───────────────────────────┼──────────┤\n",
      "│         Skewness          │  0.414   │\n",
      "╘═══════════════════════════╧══════════╛\n",
      "Validation1\n",
      "╒═══════════════════════════╤══════════╕\n",
      "│   Performance Indicator   │   TDQN   │\n",
      "╞═══════════════════════════╪══════════╡\n",
      "│    Profit & Loss (P&L)    │ 1609963  │\n",
      "├───────────────────────────┼──────────┤\n",
      "│     Annualized Return     │  48.61%  │\n",
      "├───────────────────────────┼──────────┤\n",
      "│   Annualized Volatility   │  59.90%  │\n",
      "├───────────────────────────┼──────────┤\n",
      "│       Sharpe Ratio        │  1.117   │\n",
      "├───────────────────────────┼──────────┤\n",
      "│       Sortino Ratio       │  1.466   │\n",
      "├───────────────────────────┼──────────┤\n",
      "│     Maximum Drawdown      │  83.47%  │\n",
      "├───────────────────────────┼──────────┤\n",
      "│ Maximum Drawdown Duration │ 364 days │\n",
      "├───────────────────────────┼──────────┤\n",
      "│       Profitability       │ 100.00%  │\n",
      "├───────────────────────────┼──────────┤\n",
      "│ Ratio Average Profit/Loss │   inf    │\n",
      "├───────────────────────────┼──────────┤\n",
      "│         Skewness          │  0.228   │\n",
      "╘═══════════════════════════╧══════════╛\n",
      "Training2\n"
     ]
    },
    {
     "name": "stderr",
     "output_type": "stream",
     "text": [
      "\r",
      "  0%|          | 0/1 [00:00<?, ?it/s]"
     ]
    },
    {
     "name": "stdout",
     "output_type": "stream",
     "text": [
      "Training progression (hardware selected => cpu):\n"
     ]
    },
    {
     "name": "stderr",
     "output_type": "stream",
     "text": [
      "100%|██████████| 1/1 [00:19<00:00, 19.22s/it]\n"
     ]
    },
    {
     "name": "stdout",
     "output_type": "stream",
     "text": [
      "╒═══════════════════════════╤══════════╕\n",
      "│   Performance Indicator   │   TDQN   │\n",
      "╞═══════════════════════════╪══════════╡\n",
      "│    Profit & Loss (P&L)    │  -46325  │\n",
      "├───────────────────────────┼──────────┤\n",
      "│     Annualized Return     │  -6.89%  │\n",
      "├───────────────────────────┼──────────┤\n",
      "│   Annualized Volatility   │  57.89%  │\n",
      "├───────────────────────────┼──────────┤\n",
      "│       Sharpe Ratio        │  -0.079  │\n",
      "├───────────────────────────┼──────────┤\n",
      "│       Sortino Ratio       │  -0.101  │\n",
      "├───────────────────────────┼──────────┤\n",
      "│     Maximum Drawdown      │  78.61%  │\n",
      "├───────────────────────────┼──────────┤\n",
      "│ Maximum Drawdown Duration │ 346 days │\n",
      "├───────────────────────────┼──────────┤\n",
      "│       Profitability       │  0.00%   │\n",
      "├───────────────────────────┼──────────┤\n",
      "│ Ratio Average Profit/Loss │  0.000   │\n",
      "├───────────────────────────┼──────────┤\n",
      "│         Skewness          │  -0.063  │\n",
      "╘═══════════════════════════╧══════════╛\n",
      "Validation2\n",
      "╒═══════════════════════════╤══════════╕\n",
      "│   Performance Indicator   │   TDQN   │\n",
      "╞═══════════════════════════╪══════════╡\n",
      "│    Profit & Loss (P&L)    │  914077  │\n",
      "├───────────────────────────┼──────────┤\n",
      "│     Annualized Return     │  61.12%  │\n",
      "├───────────────────────────┼──────────┤\n",
      "│   Annualized Volatility   │  63.23%  │\n",
      "├───────────────────────────┼──────────┤\n",
      "│       Sharpe Ratio        │  1.157   │\n",
      "├───────────────────────────┼──────────┤\n",
      "│       Sortino Ratio       │  1.529   │\n",
      "├───────────────────────────┼──────────┤\n",
      "│     Maximum Drawdown      │  83.47%  │\n",
      "├───────────────────────────┼──────────┤\n",
      "│ Maximum Drawdown Duration │ 364 days │\n",
      "├───────────────────────────┼──────────┤\n",
      "│       Profitability       │ 100.00%  │\n",
      "├───────────────────────────┼──────────┤\n",
      "│ Ratio Average Profit/Loss │   inf    │\n",
      "├───────────────────────────┼──────────┤\n",
      "│         Skewness          │  0.306   │\n",
      "╘═══════════════════════════╧══════════╛\n",
      "Training3\n"
     ]
    },
    {
     "name": "stderr",
     "output_type": "stream",
     "text": [
      "\r",
      "  0%|          | 0/1 [00:00<?, ?it/s]"
     ]
    },
    {
     "name": "stdout",
     "output_type": "stream",
     "text": [
      "Training progression (hardware selected => cpu):\n"
     ]
    },
    {
     "name": "stderr",
     "output_type": "stream",
     "text": [
      "100%|██████████| 1/1 [00:30<00:00, 30.14s/it]\n"
     ]
    },
    {
     "name": "stdout",
     "output_type": "stream",
     "text": [
      "╒═══════════════════════════╤══════════╕\n",
      "│   Performance Indicator   │   TDQN   │\n",
      "╞═══════════════════════════╪══════════╡\n",
      "│    Profit & Loss (P&L)    │  -25032  │\n",
      "├───────────────────────────┼──────────┤\n",
      "│     Annualized Return     │  9.59%   │\n",
      "├───────────────────────────┼──────────┤\n",
      "│   Annualized Volatility   │  52.38%  │\n",
      "├───────────────────────────┼──────────┤\n",
      "│       Sharpe Ratio        │  0.139   │\n",
      "├───────────────────────────┼──────────┤\n",
      "│       Sortino Ratio       │  0.169   │\n",
      "├───────────────────────────┼──────────┤\n",
      "│     Maximum Drawdown      │  74.13%  │\n",
      "├───────────────────────────┼──────────┤\n",
      "│ Maximum Drawdown Duration │ 225 days │\n",
      "├───────────────────────────┼──────────┤\n",
      "│       Profitability       │  47.42%  │\n",
      "├───────────────────────────┼──────────┤\n",
      "│ Ratio Average Profit/Loss │  0.921   │\n",
      "├───────────────────────────┼──────────┤\n",
      "│         Skewness          │  -0.343  │\n",
      "╘═══════════════════════════╧══════════╛\n",
      "Validation3\n",
      "╒═══════════════════════════╤═════════╕\n",
      "│   Performance Indicator   │  TDQN   │\n",
      "╞═══════════════════════════╪═════════╡\n",
      "│    Profit & Loss (P&L)    │ -101021 │\n",
      "├───────────────────────────┼─────────┤\n",
      "│     Annualized Return     │  9.38%  │\n",
      "├───────────────────────────┼─────────┤\n",
      "│   Annualized Volatility   │ 279.08% │\n",
      "├───────────────────────────┼─────────┤\n",
      "│       Sharpe Ratio        │  0.024  │\n",
      "├───────────────────────────┼─────────┤\n",
      "│       Sortino Ratio       │  0.025  │\n",
      "├───────────────────────────┼─────────┤\n",
      "│     Maximum Drawdown      │ 100.99% │\n",
      "├───────────────────────────┼─────────┤\n",
      "│ Maximum Drawdown Duration │ 61 days │\n",
      "├───────────────────────────┼─────────┤\n",
      "│       Profitability       │  0.00%  │\n",
      "├───────────────────────────┼─────────┤\n",
      "│ Ratio Average Profit/Loss │  0.000  │\n",
      "├───────────────────────────┼─────────┤\n",
      "│         Skewness          │ 19.500  │\n",
      "╘═══════════════════════════╧═════════╛\n",
      "Training4\n"
     ]
    },
    {
     "name": "stderr",
     "output_type": "stream",
     "text": [
      "\r",
      "  0%|          | 0/1 [00:00<?, ?it/s]"
     ]
    },
    {
     "name": "stdout",
     "output_type": "stream",
     "text": [
      "Training progression (hardware selected => cpu):\n"
     ]
    },
    {
     "name": "stderr",
     "output_type": "stream",
     "text": [
      "100%|██████████| 1/1 [00:39<00:00, 39.01s/it]\n"
     ]
    },
    {
     "name": "stdout",
     "output_type": "stream",
     "text": [
      "╒═══════════════════════════╤══════════╕\n",
      "│   Performance Indicator   │   TDQN   │\n",
      "╞═══════════════════════════╪══════════╡\n",
      "│    Profit & Loss (P&L)    │  -99906  │\n",
      "├───────────────────────────┼──────────┤\n",
      "│     Annualized Return     │ -100.00% │\n",
      "├───────────────────────────┼──────────┤\n",
      "│   Annualized Volatility   │ 156.65%  │\n",
      "├───────────────────────────┼──────────┤\n",
      "│       Sharpe Ratio        │  -0.926  │\n",
      "├───────────────────────────┼──────────┤\n",
      "│       Sortino Ratio       │  -0.639  │\n",
      "├───────────────────────────┼──────────┤\n",
      "│     Maximum Drawdown      │ 100.02%  │\n",
      "├───────────────────────────┼──────────┤\n",
      "│ Maximum Drawdown Duration │ 848 days │\n",
      "├───────────────────────────┼──────────┤\n",
      "│       Profitability       │  0.00%   │\n",
      "├───────────────────────────┼──────────┤\n",
      "│ Ratio Average Profit/Loss │  0.000   │\n",
      "├───────────────────────────┼──────────┤\n",
      "│         Skewness          │ -23.963  │\n",
      "╘═══════════════════════════╧══════════╛\n",
      "Validation4\n",
      "╒═══════════════════════════╤═════════╕\n",
      "│   Performance Indicator   │  TDQN   │\n",
      "╞═══════════════════════════╪═════════╡\n",
      "│    Profit & Loss (P&L)    │  57027  │\n",
      "├───────────────────────────┼─────────┤\n",
      "│     Annualized Return     │ 55.07%  │\n",
      "├───────────────────────────┼─────────┤\n",
      "│   Annualized Volatility   │ 36.86%  │\n",
      "├───────────────────────────┼─────────┤\n",
      "│       Sharpe Ratio        │  1.028  │\n",
      "├───────────────────────────┼─────────┤\n",
      "│       Sortino Ratio       │  1.428  │\n",
      "├───────────────────────────┼─────────┤\n",
      "│     Maximum Drawdown      │ 32.74%  │\n",
      "├───────────────────────────┼─────────┤\n",
      "│ Maximum Drawdown Duration │ 28 days │\n",
      "├───────────────────────────┼─────────┤\n",
      "│       Profitability       │ 100.00% │\n",
      "├───────────────────────────┼─────────┤\n",
      "│ Ratio Average Profit/Loss │   inf   │\n",
      "├───────────────────────────┼─────────┤\n",
      "│         Skewness          │  0.533  │\n",
      "╘═══════════════════════════╧═════════╛\n",
      "Training5\n"
     ]
    },
    {
     "name": "stderr",
     "output_type": "stream",
     "text": [
      "\r",
      "  0%|          | 0/1 [00:00<?, ?it/s]"
     ]
    },
    {
     "name": "stdout",
     "output_type": "stream",
     "text": [
      "Training progression (hardware selected => cpu):\n"
     ]
    },
    {
     "name": "stderr",
     "output_type": "stream",
     "text": [
      "100%|██████████| 1/1 [00:50<00:00, 50.20s/it]\n"
     ]
    },
    {
     "name": "stdout",
     "output_type": "stream",
     "text": [
      "╒═══════════════════════════╤═══════════╕\n",
      "│   Performance Indicator   │   TDQN    │\n",
      "╞═══════════════════════════╪═══════════╡\n",
      "│    Profit & Loss (P&L)    │  -101760  │\n",
      "├───────────────────────────┼───────────┤\n",
      "│     Annualized Return     │ -100.00%  │\n",
      "├───────────────────────────┼───────────┤\n",
      "│   Annualized Volatility   │  313.82%  │\n",
      "├───────────────────────────┼───────────┤\n",
      "│       Sharpe Ratio        │  -0.443   │\n",
      "├───────────────────────────┼───────────┤\n",
      "│       Sortino Ratio       │  -0.266   │\n",
      "├───────────────────────────┼───────────┤\n",
      "│     Maximum Drawdown      │  103.63%  │\n",
      "├───────────────────────────┼───────────┤\n",
      "│ Maximum Drawdown Duration │ 1474 days │\n",
      "├───────────────────────────┼───────────┤\n",
      "│       Profitability       │  45.20%   │\n",
      "├───────────────────────────┼───────────┤\n",
      "│ Ratio Average Profit/Loss │   0.921   │\n",
      "├───────────────────────────┼───────────┤\n",
      "│         Skewness          │  -38.093  │\n",
      "╘═══════════════════════════╧═══════════╛\n",
      "gamma: 0.677755879992466, learningRate: 0.0009039453914553879, dropout: 0.11290102329349878,\n",
      "epsilonDecay: 362545.80508293305, alpha: 0.8529084319085842, L2Factor: 0.08401718381846215\n",
      "Training1\n"
     ]
    },
    {
     "name": "stderr",
     "output_type": "stream",
     "text": [
      "\r",
      "  0%|          | 0/1 [00:00<?, ?it/s]"
     ]
    },
    {
     "name": "stdout",
     "output_type": "stream",
     "text": [
      "Training progression (hardware selected => cpu):\n"
     ]
    },
    {
     "name": "stderr",
     "output_type": "stream",
     "text": [
      "100%|██████████| 1/1 [00:09<00:00,  9.96s/it]\n"
     ]
    },
    {
     "name": "stdout",
     "output_type": "stream",
     "text": [
      "╒═══════════════════════════╤═════════╕\n",
      "│   Performance Indicator   │  TDQN   │\n",
      "╞═══════════════════════════╪═════════╡\n",
      "│    Profit & Loss (P&L)    │  59669  │\n",
      "├───────────────────────────┼─────────┤\n",
      "│     Annualized Return     │ 52.64%  │\n",
      "├───────────────────────────┼─────────┤\n",
      "│   Annualized Volatility   │ 27.95%  │\n",
      "├───────────────────────────┼─────────┤\n",
      "│       Sharpe Ratio        │  1.296  │\n",
      "├───────────────────────────┼─────────┤\n",
      "│       Sortino Ratio       │  1.579  │\n",
      "├───────────────────────────┼─────────┤\n",
      "│     Maximum Drawdown      │ 24.59%  │\n",
      "├───────────────────────────┼─────────┤\n",
      "│ Maximum Drawdown Duration │ 54 days │\n",
      "├───────────────────────────┼─────────┤\n",
      "│       Profitability       │ 100.00% │\n",
      "├───────────────────────────┼─────────┤\n",
      "│ Ratio Average Profit/Loss │   inf   │\n",
      "├───────────────────────────┼─────────┤\n",
      "│         Skewness          │  0.072  │\n",
      "╘═══════════════════════════╧═════════╛\n",
      "Validation1\n",
      "╒═══════════════════════════╤══════════╕\n",
      "│   Performance Indicator   │   TDQN   │\n",
      "╞═══════════════════════════╪══════════╡\n",
      "│    Profit & Loss (P&L)    │ -100704  │\n",
      "├───────────────────────────┼──────────┤\n",
      "│     Annualized Return     │ -100.00% │\n",
      "├───────────────────────────┼──────────┤\n",
      "│   Annualized Volatility   │ 154.15%  │\n",
      "├───────────────────────────┼──────────┤\n",
      "│       Sharpe Ratio        │  -0.237  │\n",
      "├───────────────────────────┼──────────┤\n",
      "│       Sortino Ratio       │  -0.172  │\n",
      "├───────────────────────────┼──────────┤\n",
      "│     Maximum Drawdown      │ 100.68%  │\n",
      "├───────────────────────────┼──────────┤\n",
      "│ Maximum Drawdown Duration │ 294 days │\n",
      "├───────────────────────────┼──────────┤\n",
      "│       Profitability       │  0.00%   │\n",
      "├───────────────────────────┼──────────┤\n",
      "│ Ratio Average Profit/Loss │  0.000   │\n",
      "├───────────────────────────┼──────────┤\n",
      "│         Skewness          │  6.314   │\n",
      "╘═══════════════════════════╧══════════╛\n",
      "Training2\n"
     ]
    },
    {
     "name": "stderr",
     "output_type": "stream",
     "text": [
      "\r",
      "  0%|          | 0/1 [00:00<?, ?it/s]"
     ]
    },
    {
     "name": "stdout",
     "output_type": "stream",
     "text": [
      "Training progression (hardware selected => cpu):\n"
     ]
    },
    {
     "name": "stderr",
     "output_type": "stream",
     "text": [
      "100%|██████████| 1/1 [00:19<00:00, 19.24s/it]\n"
     ]
    },
    {
     "name": "stdout",
     "output_type": "stream",
     "text": [
      "╒═══════════════════════════╤═════════╕\n",
      "│   Performance Indicator   │  TDQN   │\n",
      "╞═══════════════════════════╪═════════╡\n",
      "│    Profit & Loss (P&L)    │  46126  │\n",
      "├───────────────────────────┼─────────┤\n",
      "│     Annualized Return     │ 20.32%  │\n",
      "├───────────────────────────┼─────────┤\n",
      "│   Annualized Volatility   │ 21.63%  │\n",
      "├───────────────────────────┼─────────┤\n",
      "│       Sharpe Ratio        │  0.713  │\n",
      "├───────────────────────────┼─────────┤\n",
      "│       Sortino Ratio       │  0.890  │\n",
      "├───────────────────────────┼─────────┤\n",
      "│     Maximum Drawdown      │ 24.59%  │\n",
      "├───────────────────────────┼─────────┤\n",
      "│ Maximum Drawdown Duration │ 54 days │\n",
      "├───────────────────────────┼─────────┤\n",
      "│       Profitability       │ 100.00% │\n",
      "├───────────────────────────┼─────────┤\n",
      "│ Ratio Average Profit/Loss │   inf   │\n",
      "├───────────────────────────┼─────────┤\n",
      "│         Skewness          │  0.257  │\n",
      "╘═══════════════════════════╧═════════╛\n",
      "Validation2\n",
      "╒═══════════════════════════╤══════════╕\n",
      "│   Performance Indicator   │   TDQN   │\n",
      "╞═══════════════════════════╪══════════╡\n",
      "│    Profit & Loss (P&L)    │  -91451  │\n",
      "├───────────────────────────┼──────────┤\n",
      "│     Annualized Return     │ -100.00% │\n",
      "├───────────────────────────┼──────────┤\n",
      "│   Annualized Volatility   │ 396.16%  │\n",
      "├───────────────────────────┼──────────┤\n",
      "│       Sharpe Ratio        │  -0.546  │\n",
      "├───────────────────────────┼──────────┤\n",
      "│       Sortino Ratio       │  -0.265  │\n",
      "├───────────────────────────┼──────────┤\n",
      "│     Maximum Drawdown      │ 100.54%  │\n",
      "├───────────────────────────┼──────────┤\n",
      "│ Maximum Drawdown Duration │ 357 days │\n",
      "├───────────────────────────┼──────────┤\n",
      "│       Profitability       │  80.00%  │\n",
      "├───────────────────────────┼──────────┤\n",
      "│ Ratio Average Profit/Loss │  0.022   │\n",
      "├───────────────────────────┼──────────┤\n",
      "│         Skewness          │ -25.750  │\n",
      "╘═══════════════════════════╧══════════╛\n",
      "Training3\n"
     ]
    },
    {
     "name": "stderr",
     "output_type": "stream",
     "text": [
      "\r",
      "  0%|          | 0/1 [00:00<?, ?it/s]"
     ]
    },
    {
     "name": "stdout",
     "output_type": "stream",
     "text": [
      "Training progression (hardware selected => cpu):\n"
     ]
    },
    {
     "name": "stderr",
     "output_type": "stream",
     "text": [
      "100%|██████████| 1/1 [00:29<00:00, 29.69s/it]\n"
     ]
    },
    {
     "name": "stdout",
     "output_type": "stream",
     "text": [
      "╒═══════════════════════════╤══════════╕\n",
      "│   Performance Indicator   │   TDQN   │\n",
      "╞═══════════════════════════╪══════════╡\n",
      "│    Profit & Loss (P&L)    │  -20528  │\n",
      "├───────────────────────────┼──────────┤\n",
      "│     Annualized Return     │  -4.02%  │\n",
      "├───────────────────────────┼──────────┤\n",
      "│   Annualized Volatility   │  22.88%  │\n",
      "├───────────────────────────┼──────────┤\n",
      "│       Sharpe Ratio        │  -0.116  │\n",
      "├───────────────────────────┼──────────┤\n",
      "│       Sortino Ratio       │  -0.143  │\n",
      "├───────────────────────────┼──────────┤\n",
      "│     Maximum Drawdown      │  56.14%  │\n",
      "├───────────────────────────┼──────────┤\n",
      "│ Maximum Drawdown Duration │ 714 days │\n",
      "├───────────────────────────┼──────────┤\n",
      "│       Profitability       │  0.00%   │\n",
      "├───────────────────────────┼──────────┤\n",
      "│ Ratio Average Profit/Loss │  0.000   │\n",
      "├───────────────────────────┼──────────┤\n",
      "│         Skewness          │  0.048   │\n",
      "╘═══════════════════════════╧══════════╛\n",
      "Validation3\n",
      "╒═══════════════════════════╤══════════╕\n",
      "│   Performance Indicator   │   TDQN   │\n",
      "╞═══════════════════════════╪══════════╡\n",
      "│    Profit & Loss (P&L)    │ -105735  │\n",
      "├───────────────────────────┼──────────┤\n",
      "│     Annualized Return     │ -100.00% │\n",
      "├───────────────────────────┼──────────┤\n",
      "│   Annualized Volatility   │ 215.15%  │\n",
      "├───────────────────────────┼──────────┤\n",
      "│       Sharpe Ratio        │  -0.708  │\n",
      "├───────────────────────────┼──────────┤\n",
      "│       Sortino Ratio       │  -0.338  │\n",
      "├───────────────────────────┼──────────┤\n",
      "│     Maximum Drawdown      │ 103.91%  │\n",
      "├───────────────────────────┼──────────┤\n",
      "│ Maximum Drawdown Duration │ 90 days  │\n",
      "├───────────────────────────┼──────────┤\n",
      "│       Profitability       │  47.06%  │\n",
      "├───────────────────────────┼──────────┤\n",
      "│ Ratio Average Profit/Loss │  0.432   │\n",
      "├───────────────────────────┼──────────┤\n",
      "│         Skewness          │ -18.548  │\n",
      "╘═══════════════════════════╧══════════╛\n",
      "Training4\n"
     ]
    },
    {
     "name": "stderr",
     "output_type": "stream",
     "text": [
      "\r",
      "  0%|          | 0/1 [00:00<?, ?it/s]"
     ]
    },
    {
     "name": "stdout",
     "output_type": "stream",
     "text": [
      "Training progression (hardware selected => cpu):\n"
     ]
    },
    {
     "name": "stderr",
     "output_type": "stream",
     "text": [
      "100%|██████████| 1/1 [00:39<00:00, 39.20s/it]\n"
     ]
    },
    {
     "name": "stdout",
     "output_type": "stream",
     "text": [
      "╒═══════════════════════════╤══════════╕\n",
      "│   Performance Indicator   │   TDQN   │\n",
      "╞═══════════════════════════╪══════════╡\n",
      "│    Profit & Loss (P&L)    │  -99906  │\n",
      "├───────────────────────────┼──────────┤\n",
      "│     Annualized Return     │ -100.00% │\n",
      "├───────────────────────────┼──────────┤\n",
      "│   Annualized Volatility   │ 156.65%  │\n",
      "├───────────────────────────┼──────────┤\n",
      "│       Sharpe Ratio        │  -0.926  │\n",
      "├───────────────────────────┼──────────┤\n",
      "│       Sortino Ratio       │  -0.639  │\n",
      "├───────────────────────────┼──────────┤\n",
      "│     Maximum Drawdown      │ 100.02%  │\n",
      "├───────────────────────────┼──────────┤\n",
      "│ Maximum Drawdown Duration │ 848 days │\n",
      "├───────────────────────────┼──────────┤\n",
      "│       Profitability       │  0.00%   │\n",
      "├───────────────────────────┼──────────┤\n",
      "│ Ratio Average Profit/Loss │  0.000   │\n",
      "├───────────────────────────┼──────────┤\n",
      "│         Skewness          │ -23.963  │\n",
      "╘═══════════════════════════╧══════════╛\n",
      "Validation4\n",
      "╒═══════════════════════════╤═════════╕\n",
      "│   Performance Indicator   │  TDQN   │\n",
      "╞═══════════════════════════╪═════════╡\n",
      "│    Profit & Loss (P&L)    │  57027  │\n",
      "├───────────────────────────┼─────────┤\n",
      "│     Annualized Return     │ 55.07%  │\n",
      "├───────────────────────────┼─────────┤\n",
      "│   Annualized Volatility   │ 36.86%  │\n",
      "├───────────────────────────┼─────────┤\n",
      "│       Sharpe Ratio        │  1.028  │\n",
      "├───────────────────────────┼─────────┤\n",
      "│       Sortino Ratio       │  1.428  │\n",
      "├───────────────────────────┼─────────┤\n",
      "│     Maximum Drawdown      │ 32.74%  │\n",
      "├───────────────────────────┼─────────┤\n",
      "│ Maximum Drawdown Duration │ 28 days │\n",
      "├───────────────────────────┼─────────┤\n",
      "│       Profitability       │ 100.00% │\n",
      "├───────────────────────────┼─────────┤\n",
      "│ Ratio Average Profit/Loss │   inf   │\n",
      "├───────────────────────────┼─────────┤\n",
      "│         Skewness          │  0.533  │\n",
      "╘═══════════════════════════╧═════════╛\n",
      "Training5\n"
     ]
    },
    {
     "name": "stderr",
     "output_type": "stream",
     "text": [
      "\r",
      "  0%|          | 0/1 [00:00<?, ?it/s]"
     ]
    },
    {
     "name": "stdout",
     "output_type": "stream",
     "text": [
      "Training progression (hardware selected => cpu):\n"
     ]
    },
    {
     "name": "stderr",
     "output_type": "stream",
     "text": [
      "100%|██████████| 1/1 [00:50<00:00, 50.02s/it]\n"
     ]
    },
    {
     "name": "stdout",
     "output_type": "stream",
     "text": [
      "╒═══════════════════════════╤══════════╕\n",
      "│   Performance Indicator   │   TDQN   │\n",
      "╞═══════════════════════════╪══════════╡\n",
      "│    Profit & Loss (P&L)    │  850465  │\n",
      "├───────────────────────────┼──────────┤\n",
      "│     Annualized Return     │  35.32%  │\n",
      "├───────────────────────────┼──────────┤\n",
      "│   Annualized Volatility   │  59.64%  │\n",
      "├───────────────────────────┼──────────┤\n",
      "│       Sharpe Ratio        │  0.818   │\n",
      "├───────────────────────────┼──────────┤\n",
      "│       Sortino Ratio       │  1.090   │\n",
      "├───────────────────────────┼──────────┤\n",
      "│     Maximum Drawdown      │  83.47%  │\n",
      "├───────────────────────────┼──────────┤\n",
      "│ Maximum Drawdown Duration │ 364 days │\n",
      "├───────────────────────────┼──────────┤\n",
      "│       Profitability       │  43.48%  │\n",
      "├───────────────────────────┼──────────┤\n",
      "│ Ratio Average Profit/Loss │  11.689  │\n",
      "├───────────────────────────┼──────────┤\n",
      "│         Skewness          │  0.253   │\n",
      "╘═══════════════════════════╧══════════╛\n",
      "gamma: 0.677755879992466, learningRate: 0.0009039453914553879, dropout: 0.11290102329349878,\n",
      "epsilonDecay: 157717.80343163415, alpha: 0.3724899321971593, L2Factor: 0.08743510521792865\n",
      "Training1\n"
     ]
    },
    {
     "name": "stderr",
     "output_type": "stream",
     "text": [
      "\r",
      "  0%|          | 0/1 [00:00<?, ?it/s]"
     ]
    },
    {
     "name": "stdout",
     "output_type": "stream",
     "text": [
      "Training progression (hardware selected => cpu):\n"
     ]
    },
    {
     "name": "stderr",
     "output_type": "stream",
     "text": [
      "100%|██████████| 1/1 [00:07<00:00,  7.89s/it]\n"
     ]
    },
    {
     "name": "stdout",
     "output_type": "stream",
     "text": [
      "╒═══════════════════════════╤══════════╕\n",
      "│   Performance Indicator   │   TDQN   │\n",
      "╞═══════════════════════════╪══════════╡\n",
      "│    Profit & Loss (P&L)    │  -59868  │\n",
      "├───────────────────────────┼──────────┤\n",
      "│     Annualized Return     │ -66.35%  │\n",
      "├───────────────────────────┼──────────┤\n",
      "│   Annualized Volatility   │  58.82%  │\n",
      "├───────────────────────────┼──────────┤\n",
      "│       Sharpe Ratio        │  -0.778  │\n",
      "├───────────────────────────┼──────────┤\n",
      "│       Sortino Ratio       │  -1.068  │\n",
      "├───────────────────────────┼──────────┤\n",
      "│     Maximum Drawdown      │  61.58%  │\n",
      "├───────────────────────────┼──────────┤\n",
      "│ Maximum Drawdown Duration │ 331 days │\n",
      "├───────────────────────────┼──────────┤\n",
      "│       Profitability       │  0.00%   │\n",
      "├───────────────────────────┼──────────┤\n",
      "│ Ratio Average Profit/Loss │  0.000   │\n",
      "├───────────────────────────┼──────────┤\n",
      "│         Skewness          │  0.414   │\n",
      "╘═══════════════════════════╧══════════╛\n",
      "Validation1\n",
      "╒═══════════════════════════╤══════════╕\n",
      "│   Performance Indicator   │   TDQN   │\n",
      "╞═══════════════════════════╪══════════╡\n",
      "│    Profit & Loss (P&L)    │ 1609963  │\n",
      "├───────────────────────────┼──────────┤\n",
      "│     Annualized Return     │  48.61%  │\n",
      "├───────────────────────────┼──────────┤\n",
      "│   Annualized Volatility   │  59.90%  │\n",
      "├───────────────────────────┼──────────┤\n",
      "│       Sharpe Ratio        │  1.117   │\n",
      "├───────────────────────────┼──────────┤\n",
      "│       Sortino Ratio       │  1.466   │\n",
      "├───────────────────────────┼──────────┤\n",
      "│     Maximum Drawdown      │  83.47%  │\n",
      "├───────────────────────────┼──────────┤\n",
      "│ Maximum Drawdown Duration │ 364 days │\n",
      "├───────────────────────────┼──────────┤\n",
      "│       Profitability       │ 100.00%  │\n",
      "├───────────────────────────┼──────────┤\n",
      "│ Ratio Average Profit/Loss │   inf    │\n",
      "├───────────────────────────┼──────────┤\n",
      "│         Skewness          │  0.228   │\n",
      "╘═══════════════════════════╧══════════╛\n",
      "Training2\n"
     ]
    },
    {
     "name": "stderr",
     "output_type": "stream",
     "text": [
      "\r",
      "  0%|          | 0/1 [00:00<?, ?it/s]"
     ]
    },
    {
     "name": "stdout",
     "output_type": "stream",
     "text": [
      "Training progression (hardware selected => cpu):\n"
     ]
    },
    {
     "name": "stderr",
     "output_type": "stream",
     "text": [
      "100%|██████████| 1/1 [00:24<00:00, 24.17s/it]\n"
     ]
    },
    {
     "name": "stdout",
     "output_type": "stream",
     "text": [
      "╒═══════════════════════════╤══════════╕\n",
      "│   Performance Indicator   │   TDQN   │\n",
      "╞═══════════════════════════╪══════════╡\n",
      "│    Profit & Loss (P&L)    │  -46325  │\n",
      "├───────────────────────────┼──────────┤\n",
      "│     Annualized Return     │  -6.89%  │\n",
      "├───────────────────────────┼──────────┤\n",
      "│   Annualized Volatility   │  57.89%  │\n",
      "├───────────────────────────┼──────────┤\n",
      "│       Sharpe Ratio        │  -0.079  │\n",
      "├───────────────────────────┼──────────┤\n",
      "│       Sortino Ratio       │  -0.101  │\n",
      "├───────────────────────────┼──────────┤\n",
      "│     Maximum Drawdown      │  78.61%  │\n",
      "├───────────────────────────┼──────────┤\n",
      "│ Maximum Drawdown Duration │ 346 days │\n",
      "├───────────────────────────┼──────────┤\n",
      "│       Profitability       │  0.00%   │\n",
      "├───────────────────────────┼──────────┤\n",
      "│ Ratio Average Profit/Loss │  0.000   │\n",
      "├───────────────────────────┼──────────┤\n",
      "│         Skewness          │  -0.063  │\n",
      "╘═══════════════════════════╧══════════╛\n",
      "Validation2\n",
      "╒═══════════════════════════╤══════════╕\n",
      "│   Performance Indicator   │   TDQN   │\n",
      "╞═══════════════════════════╪══════════╡\n",
      "│    Profit & Loss (P&L)    │  914077  │\n",
      "├───────────────────────────┼──────────┤\n",
      "│     Annualized Return     │  61.12%  │\n",
      "├───────────────────────────┼──────────┤\n",
      "│   Annualized Volatility   │  63.23%  │\n",
      "├───────────────────────────┼──────────┤\n",
      "│       Sharpe Ratio        │  1.157   │\n",
      "├───────────────────────────┼──────────┤\n",
      "│       Sortino Ratio       │  1.529   │\n",
      "├───────────────────────────┼──────────┤\n",
      "│     Maximum Drawdown      │  83.47%  │\n",
      "├───────────────────────────┼──────────┤\n",
      "│ Maximum Drawdown Duration │ 364 days │\n",
      "├───────────────────────────┼──────────┤\n",
      "│       Profitability       │ 100.00%  │\n",
      "├───────────────────────────┼──────────┤\n",
      "│ Ratio Average Profit/Loss │   inf    │\n",
      "├───────────────────────────┼──────────┤\n",
      "│         Skewness          │  0.306   │\n",
      "╘═══════════════════════════╧══════════╛\n",
      "Training3\n"
     ]
    },
    {
     "name": "stderr",
     "output_type": "stream",
     "text": [
      "\r",
      "  0%|          | 0/1 [00:00<?, ?it/s]"
     ]
    },
    {
     "name": "stdout",
     "output_type": "stream",
     "text": [
      "Training progression (hardware selected => cpu):\n"
     ]
    },
    {
     "name": "stderr",
     "output_type": "stream",
     "text": [
      "100%|██████████| 1/1 [00:28<00:00, 28.44s/it]\n"
     ]
    },
    {
     "name": "stdout",
     "output_type": "stream",
     "text": [
      "╒═══════════════════════════╤══════════╕\n",
      "│   Performance Indicator   │   TDQN   │\n",
      "╞═══════════════════════════╪══════════╡\n",
      "│    Profit & Loss (P&L)    │  -20528  │\n",
      "├───────────────────────────┼──────────┤\n",
      "│     Annualized Return     │  -4.02%  │\n",
      "├───────────────────────────┼──────────┤\n",
      "│   Annualized Volatility   │  22.88%  │\n",
      "├───────────────────────────┼──────────┤\n",
      "│       Sharpe Ratio        │  -0.116  │\n",
      "├───────────────────────────┼──────────┤\n",
      "│       Sortino Ratio       │  -0.143  │\n",
      "├───────────────────────────┼──────────┤\n",
      "│     Maximum Drawdown      │  56.14%  │\n",
      "├───────────────────────────┼──────────┤\n",
      "│ Maximum Drawdown Duration │ 714 days │\n",
      "├───────────────────────────┼──────────┤\n",
      "│       Profitability       │  0.00%   │\n",
      "├───────────────────────────┼──────────┤\n",
      "│ Ratio Average Profit/Loss │  0.000   │\n",
      "├───────────────────────────┼──────────┤\n",
      "│         Skewness          │  0.048   │\n",
      "╘═══════════════════════════╧══════════╛\n",
      "Validation3\n",
      "╒═══════════════════════════╤══════════╕\n",
      "│   Performance Indicator   │   TDQN   │\n",
      "╞═══════════════════════════╪══════════╡\n",
      "│    Profit & Loss (P&L)    │ -107460  │\n",
      "├───────────────────────────┼──────────┤\n",
      "│     Annualized Return     │ 111.34%  │\n",
      "├───────────────────────────┼──────────┤\n",
      "│   Annualized Volatility   │ 309.57%  │\n",
      "├───────────────────────────┼──────────┤\n",
      "│       Sharpe Ratio        │  0.386   │\n",
      "├───────────────────────────┼──────────┤\n",
      "│       Sortino Ratio       │  0.472   │\n",
      "├───────────────────────────┼──────────┤\n",
      "│     Maximum Drawdown      │ 107.56%  │\n",
      "├───────────────────────────┼──────────┤\n",
      "│ Maximum Drawdown Duration │ 386 days │\n",
      "├───────────────────────────┼──────────┤\n",
      "│       Profitability       │  20.00%  │\n",
      "├───────────────────────────┼──────────┤\n",
      "│ Ratio Average Profit/Loss │  0.014   │\n",
      "├───────────────────────────┼──────────┤\n",
      "│         Skewness          │  15.958  │\n",
      "╘═══════════════════════════╧══════════╛\n",
      "Training4\n"
     ]
    },
    {
     "name": "stderr",
     "output_type": "stream",
     "text": [
      "\r",
      "  0%|          | 0/1 [00:00<?, ?it/s]"
     ]
    },
    {
     "name": "stdout",
     "output_type": "stream",
     "text": [
      "Training progression (hardware selected => cpu):\n"
     ]
    },
    {
     "name": "stderr",
     "output_type": "stream",
     "text": [
      "100%|██████████| 1/1 [00:34<00:00, 34.26s/it]\n"
     ]
    },
    {
     "name": "stdout",
     "output_type": "stream",
     "text": [
      "╒═══════════════════════════╤════════╕\n",
      "│   Performance Indicator   │  TDQN  │\n",
      "╞═══════════════════════════╪════════╡\n",
      "│    Profit & Loss (P&L)    │ 516423 │\n",
      "├───────────────────────────┼────────┤\n",
      "│     Annualized Return     │ 40.45% │\n",
      "├───────────────────────────┼────────┤\n",
      "│   Annualized Volatility   │ 60.72% │\n",
      "├───────────────────────────┼────────┤\n",
      "│       Sharpe Ratio        │ 0.821  │\n",
      "├───────────────────────────┼────────┤\n",
      "│       Sortino Ratio       │ 1.042  │\n",
      "├───────────────────────────┼────────┤\n",
      "│     Maximum Drawdown      │ 26.27% │\n",
      "├───────────────────────────┼────────┤\n",
      "│ Maximum Drawdown Duration │ 5 days │\n",
      "├───────────────────────────┼────────┤\n",
      "│       Profitability       │ 41.18% │\n",
      "├───────────────────────────┼────────┤\n",
      "│ Ratio Average Profit/Loss │ 3.544  │\n",
      "├───────────────────────────┼────────┤\n",
      "│         Skewness          │ 0.075  │\n",
      "╘═══════════════════════════╧════════╛\n",
      "Validation4\n",
      "╒═══════════════════════════╤══════════╕\n",
      "│   Performance Indicator   │   TDQN   │\n",
      "╞═══════════════════════════╪══════════╡\n",
      "│    Profit & Loss (P&L)    │  -35149  │\n",
      "├───────────────────────────┼──────────┤\n",
      "│     Annualized Return     │ -17.14%  │\n",
      "├───────────────────────────┼──────────┤\n",
      "│   Annualized Volatility   │  60.21%  │\n",
      "├───────────────────────────┼──────────┤\n",
      "│       Sharpe Ratio        │  -0.196  │\n",
      "├───────────────────────────┼──────────┤\n",
      "│       Sortino Ratio       │  -0.272  │\n",
      "├───────────────────────────┼──────────┤\n",
      "│     Maximum Drawdown      │  71.58%  │\n",
      "├───────────────────────────┼──────────┤\n",
      "│ Maximum Drawdown Duration │ 285 days │\n",
      "├───────────────────────────┼──────────┤\n",
      "│       Profitability       │  70.00%  │\n",
      "├───────────────────────────┼──────────┤\n",
      "│ Ratio Average Profit/Loss │  0.302   │\n",
      "├───────────────────────────┼──────────┤\n",
      "│         Skewness          │  0.148   │\n",
      "╘═══════════════════════════╧══════════╛\n",
      "Training5\n"
     ]
    },
    {
     "name": "stderr",
     "output_type": "stream",
     "text": [
      "\r",
      "  0%|          | 0/1 [00:00<?, ?it/s]"
     ]
    },
    {
     "name": "stdout",
     "output_type": "stream",
     "text": [
      "Training progression (hardware selected => cpu):\n"
     ]
    },
    {
     "name": "stderr",
     "output_type": "stream",
     "text": [
      "100%|██████████| 1/1 [00:38<00:00, 38.39s/it]\n"
     ]
    },
    {
     "name": "stdout",
     "output_type": "stream",
     "text": [
      "╒═══════════════════════════╤══════════╕\n",
      "│   Performance Indicator   │   TDQN   │\n",
      "╞═══════════════════════════╪══════════╡\n",
      "│    Profit & Loss (P&L)    │  364249  │\n",
      "├───────────────────────────┼──────────┤\n",
      "│     Annualized Return     │  31.41%  │\n",
      "├───────────────────────────┼──────────┤\n",
      "│   Annualized Volatility   │  61.81%  │\n",
      "├───────────────────────────┼──────────┤\n",
      "│       Sharpe Ratio        │  0.652   │\n",
      "├───────────────────────────┼──────────┤\n",
      "│       Sortino Ratio       │  0.855   │\n",
      "├───────────────────────────┼──────────┤\n",
      "│     Maximum Drawdown      │  83.46%  │\n",
      "├───────────────────────────┼──────────┤\n",
      "│ Maximum Drawdown Duration │ 364 days │\n",
      "├───────────────────────────┼──────────┤\n",
      "│       Profitability       │ 100.00%  │\n",
      "├───────────────────────────┼──────────┤\n",
      "│ Ratio Average Profit/Loss │   inf    │\n",
      "├───────────────────────────┼──────────┤\n",
      "│         Skewness          │  0.168   │\n",
      "╘═══════════════════════════╧══════════╛\n",
      "gamma: 0.677755879992466, learningRate: 0.0009039453914553879, dropout: 0.11290102329349878,\n",
      "epsilonDecay: 157717.80343163415, alpha: 0.3724899321971593, L2Factor: 0.038387740073089684\n",
      "Training1\n"
     ]
    },
    {
     "name": "stderr",
     "output_type": "stream",
     "text": [
      "\r",
      "  0%|          | 0/1 [00:00<?, ?it/s]"
     ]
    },
    {
     "name": "stdout",
     "output_type": "stream",
     "text": [
      "Training progression (hardware selected => cpu):\n"
     ]
    },
    {
     "name": "stderr",
     "output_type": "stream",
     "text": [
      "100%|██████████| 1/1 [00:06<00:00,  6.44s/it]\n"
     ]
    },
    {
     "name": "stdout",
     "output_type": "stream",
     "text": [
      "╒═══════════════════════════╤═════════╕\n",
      "│   Performance Indicator   │  TDQN   │\n",
      "╞═══════════════════════════╪═════════╡\n",
      "│    Profit & Loss (P&L)    │  59669  │\n",
      "├───────────────────────────┼─────────┤\n",
      "│     Annualized Return     │ 52.64%  │\n",
      "├───────────────────────────┼─────────┤\n",
      "│   Annualized Volatility   │ 27.95%  │\n",
      "├───────────────────────────┼─────────┤\n",
      "│       Sharpe Ratio        │  1.296  │\n",
      "├───────────────────────────┼─────────┤\n",
      "│       Sortino Ratio       │  1.579  │\n",
      "├───────────────────────────┼─────────┤\n",
      "│     Maximum Drawdown      │ 24.59%  │\n",
      "├───────────────────────────┼─────────┤\n",
      "│ Maximum Drawdown Duration │ 54 days │\n",
      "├───────────────────────────┼─────────┤\n",
      "│       Profitability       │ 100.00% │\n",
      "├───────────────────────────┼─────────┤\n",
      "│ Ratio Average Profit/Loss │   inf   │\n",
      "├───────────────────────────┼─────────┤\n",
      "│         Skewness          │  0.072  │\n",
      "╘═══════════════════════════╧═════════╛\n",
      "Validation1\n",
      "╒═══════════════════════════╤══════════╕\n",
      "│   Performance Indicator   │   TDQN   │\n",
      "╞═══════════════════════════╪══════════╡\n",
      "│    Profit & Loss (P&L)    │ -100704  │\n",
      "├───────────────────────────┼──────────┤\n",
      "│     Annualized Return     │ -100.00% │\n",
      "├───────────────────────────┼──────────┤\n",
      "│   Annualized Volatility   │ 154.15%  │\n",
      "├───────────────────────────┼──────────┤\n",
      "│       Sharpe Ratio        │  -0.237  │\n",
      "├───────────────────────────┼──────────┤\n",
      "│       Sortino Ratio       │  -0.172  │\n",
      "├───────────────────────────┼──────────┤\n",
      "│     Maximum Drawdown      │ 100.68%  │\n",
      "├───────────────────────────┼──────────┤\n",
      "│ Maximum Drawdown Duration │ 294 days │\n",
      "├───────────────────────────┼──────────┤\n",
      "│       Profitability       │  0.00%   │\n",
      "├───────────────────────────┼──────────┤\n",
      "│ Ratio Average Profit/Loss │  0.000   │\n",
      "├───────────────────────────┼──────────┤\n",
      "│         Skewness          │  6.314   │\n",
      "╘═══════════════════════════╧══════════╛\n",
      "Training2\n"
     ]
    },
    {
     "name": "stderr",
     "output_type": "stream",
     "text": [
      "\r",
      "  0%|          | 0/1 [00:00<?, ?it/s]"
     ]
    },
    {
     "name": "stdout",
     "output_type": "stream",
     "text": [
      "Training progression (hardware selected => cpu):\n"
     ]
    },
    {
     "name": "stderr",
     "output_type": "stream",
     "text": [
      "100%|██████████| 1/1 [00:13<00:00, 13.09s/it]\n"
     ]
    },
    {
     "name": "stdout",
     "output_type": "stream",
     "text": [
      "╒═══════════════════════════╤═════════╕\n",
      "│   Performance Indicator   │  TDQN   │\n",
      "╞═══════════════════════════╪═════════╡\n",
      "│    Profit & Loss (P&L)    │  46126  │\n",
      "├───────────────────────────┼─────────┤\n",
      "│     Annualized Return     │ 20.32%  │\n",
      "├───────────────────────────┼─────────┤\n",
      "│   Annualized Volatility   │ 21.63%  │\n",
      "├───────────────────────────┼─────────┤\n",
      "│       Sharpe Ratio        │  0.713  │\n",
      "├───────────────────────────┼─────────┤\n",
      "│       Sortino Ratio       │  0.890  │\n",
      "├───────────────────────────┼─────────┤\n",
      "│     Maximum Drawdown      │ 24.59%  │\n",
      "├───────────────────────────┼─────────┤\n",
      "│ Maximum Drawdown Duration │ 54 days │\n",
      "├───────────────────────────┼─────────┤\n",
      "│       Profitability       │ 100.00% │\n",
      "├───────────────────────────┼─────────┤\n",
      "│ Ratio Average Profit/Loss │   inf   │\n",
      "├───────────────────────────┼─────────┤\n",
      "│         Skewness          │  0.257  │\n",
      "╘═══════════════════════════╧═════════╛\n",
      "Validation2\n",
      "╒═══════════════════════════╤══════════╕\n",
      "│   Performance Indicator   │   TDQN   │\n",
      "╞═══════════════════════════╪══════════╡\n",
      "│    Profit & Loss (P&L)    │ -100359  │\n",
      "├───────────────────────────┼──────────┤\n",
      "│     Annualized Return     │ -100.00% │\n",
      "├───────────────────────────┼──────────┤\n",
      "│   Annualized Volatility   │ 127.21%  │\n",
      "├───────────────────────────┼──────────┤\n",
      "│       Sharpe Ratio        │  -0.858  │\n",
      "├───────────────────────────┼──────────┤\n",
      "│       Sortino Ratio       │  -0.444  │\n",
      "├───────────────────────────┼──────────┤\n",
      "│     Maximum Drawdown      │ 100.54%  │\n",
      "├───────────────────────────┼──────────┤\n",
      "│ Maximum Drawdown Duration │ 357 days │\n",
      "├───────────────────────────┼──────────┤\n",
      "│       Profitability       │  0.00%   │\n",
      "├───────────────────────────┼──────────┤\n",
      "│ Ratio Average Profit/Loss │  0.000   │\n",
      "├───────────────────────────┼──────────┤\n",
      "│         Skewness          │ -10.363  │\n",
      "╘═══════════════════════════╧══════════╛\n",
      "Training3\n"
     ]
    },
    {
     "name": "stderr",
     "output_type": "stream",
     "text": [
      "\r",
      "  0%|          | 0/1 [00:00<?, ?it/s]"
     ]
    },
    {
     "name": "stdout",
     "output_type": "stream",
     "text": [
      "Training progression (hardware selected => cpu):\n"
     ]
    },
    {
     "name": "stderr",
     "output_type": "stream",
     "text": [
      "100%|██████████| 1/1 [00:22<00:00, 22.56s/it]\n"
     ]
    },
    {
     "name": "stdout",
     "output_type": "stream",
     "text": [
      "╒═══════════════════════════╤══════════╕\n",
      "│   Performance Indicator   │   TDQN   │\n",
      "╞═══════════════════════════╪══════════╡\n",
      "│    Profit & Loss (P&L)    │  -20528  │\n",
      "├───────────────────────────┼──────────┤\n",
      "│     Annualized Return     │  -4.02%  │\n",
      "├───────────────────────────┼──────────┤\n",
      "│   Annualized Volatility   │  22.88%  │\n",
      "├───────────────────────────┼──────────┤\n",
      "│       Sharpe Ratio        │  -0.116  │\n",
      "├───────────────────────────┼──────────┤\n",
      "│       Sortino Ratio       │  -0.143  │\n",
      "├───────────────────────────┼──────────┤\n",
      "│     Maximum Drawdown      │  56.14%  │\n",
      "├───────────────────────────┼──────────┤\n",
      "│ Maximum Drawdown Duration │ 714 days │\n",
      "├───────────────────────────┼──────────┤\n",
      "│       Profitability       │  0.00%   │\n",
      "├───────────────────────────┼──────────┤\n",
      "│ Ratio Average Profit/Loss │  0.000   │\n",
      "├───────────────────────────┼──────────┤\n",
      "│         Skewness          │  0.048   │\n",
      "╘═══════════════════════════╧══════════╛\n",
      "Validation3\n",
      "╒═══════════════════════════╤═════════╕\n",
      "│   Performance Indicator   │  TDQN   │\n",
      "╞═══════════════════════════╪═════════╡\n",
      "│    Profit & Loss (P&L)    │ -101021 │\n",
      "├───────────────────────────┼─────────┤\n",
      "│     Annualized Return     │  9.38%  │\n",
      "├───────────────────────────┼─────────┤\n",
      "│   Annualized Volatility   │ 279.08% │\n",
      "├───────────────────────────┼─────────┤\n",
      "│       Sharpe Ratio        │  0.024  │\n",
      "├───────────────────────────┼─────────┤\n",
      "│       Sortino Ratio       │  0.025  │\n",
      "├───────────────────────────┼─────────┤\n",
      "│     Maximum Drawdown      │ 100.99% │\n",
      "├───────────────────────────┼─────────┤\n",
      "│ Maximum Drawdown Duration │ 61 days │\n",
      "├───────────────────────────┼─────────┤\n",
      "│       Profitability       │  0.00%  │\n",
      "├───────────────────────────┼─────────┤\n",
      "│ Ratio Average Profit/Loss │  0.000  │\n",
      "├───────────────────────────┼─────────┤\n",
      "│         Skewness          │ 19.500  │\n",
      "╘═══════════════════════════╧═════════╛\n",
      "Training4\n"
     ]
    },
    {
     "name": "stderr",
     "output_type": "stream",
     "text": [
      "\r",
      "  0%|          | 0/1 [00:00<?, ?it/s]"
     ]
    },
    {
     "name": "stdout",
     "output_type": "stream",
     "text": [
      "Training progression (hardware selected => cpu):\n"
     ]
    },
    {
     "name": "stderr",
     "output_type": "stream",
     "text": [
      "100%|██████████| 1/1 [00:29<00:00, 29.69s/it]\n"
     ]
    },
    {
     "name": "stdout",
     "output_type": "stream",
     "text": [
      "╒═══════════════════════════╤══════════╕\n",
      "│   Performance Indicator   │   TDQN   │\n",
      "╞═══════════════════════════╪══════════╡\n",
      "│    Profit & Loss (P&L)    │  -99906  │\n",
      "├───────────────────────────┼──────────┤\n",
      "│     Annualized Return     │ -100.00% │\n",
      "├───────────────────────────┼──────────┤\n",
      "│   Annualized Volatility   │ 156.65%  │\n",
      "├───────────────────────────┼──────────┤\n",
      "│       Sharpe Ratio        │  -0.926  │\n",
      "├───────────────────────────┼──────────┤\n",
      "│       Sortino Ratio       │  -0.639  │\n",
      "├───────────────────────────┼──────────┤\n",
      "│     Maximum Drawdown      │ 100.02%  │\n",
      "├───────────────────────────┼──────────┤\n",
      "│ Maximum Drawdown Duration │ 848 days │\n",
      "├───────────────────────────┼──────────┤\n",
      "│       Profitability       │  0.00%   │\n",
      "├───────────────────────────┼──────────┤\n",
      "│ Ratio Average Profit/Loss │  0.000   │\n",
      "├───────────────────────────┼──────────┤\n",
      "│         Skewness          │ -23.963  │\n",
      "╘═══════════════════════════╧══════════╛\n",
      "Validation4\n",
      "╒═══════════════════════════╤═════════╕\n",
      "│   Performance Indicator   │  TDQN   │\n",
      "╞═══════════════════════════╪═════════╡\n",
      "│    Profit & Loss (P&L)    │  57027  │\n",
      "├───────────────────────────┼─────────┤\n",
      "│     Annualized Return     │ 55.07%  │\n",
      "├───────────────────────────┼─────────┤\n",
      "│   Annualized Volatility   │ 36.86%  │\n",
      "├───────────────────────────┼─────────┤\n",
      "│       Sharpe Ratio        │  1.028  │\n",
      "├───────────────────────────┼─────────┤\n",
      "│       Sortino Ratio       │  1.428  │\n",
      "├───────────────────────────┼─────────┤\n",
      "│     Maximum Drawdown      │ 32.74%  │\n",
      "├───────────────────────────┼─────────┤\n",
      "│ Maximum Drawdown Duration │ 28 days │\n",
      "├───────────────────────────┼─────────┤\n",
      "│       Profitability       │ 100.00% │\n",
      "├───────────────────────────┼─────────┤\n",
      "│ Ratio Average Profit/Loss │   inf   │\n",
      "├───────────────────────────┼─────────┤\n",
      "│         Skewness          │  0.533  │\n",
      "╘═══════════════════════════╧═════════╛\n",
      "Training5\n"
     ]
    },
    {
     "name": "stderr",
     "output_type": "stream",
     "text": [
      "\r",
      "  0%|          | 0/1 [00:00<?, ?it/s]"
     ]
    },
    {
     "name": "stdout",
     "output_type": "stream",
     "text": [
      "Training progression (hardware selected => cpu):\n"
     ]
    },
    {
     "name": "stderr",
     "output_type": "stream",
     "text": [
      "100%|██████████| 1/1 [00:37<00:00, 37.83s/it]\n"
     ]
    },
    {
     "name": "stdout",
     "output_type": "stream",
     "text": [
      "╒═══════════════════════════╤══════════╕\n",
      "│   Performance Indicator   │   TDQN   │\n",
      "╞═══════════════════════════╪══════════╡\n",
      "│    Profit & Loss (P&L)    │  -49111  │\n",
      "├───────────────────────────┼──────────┤\n",
      "│     Annualized Return     │  10.58%  │\n",
      "├───────────────────────────┼──────────┤\n",
      "│   Annualized Volatility   │  60.56%  │\n",
      "├───────────────────────────┼──────────┤\n",
      "│       Sharpe Ratio        │  0.149   │\n",
      "├───────────────────────────┼──────────┤\n",
      "│       Sortino Ratio       │  0.197   │\n",
      "├───────────────────────────┼──────────┤\n",
      "│     Maximum Drawdown      │  81.08%  │\n",
      "├───────────────────────────┼──────────┤\n",
      "│ Maximum Drawdown Duration │ 381 days │\n",
      "├───────────────────────────┼──────────┤\n",
      "│       Profitability       │  49.03%  │\n",
      "├───────────────────────────┼──────────┤\n",
      "│ Ratio Average Profit/Loss │  0.955   │\n",
      "├───────────────────────────┼──────────┤\n",
      "│         Skewness          │  0.184   │\n",
      "╘═══════════════════════════╧══════════╛\n",
      "gamma: 0.677755879992466, learningRate: 0.0009039453914553879, dropout: 0.11290102329349878,\n",
      "epsilonDecay: 157717.80343163415, alpha: 0.3724899321971593, L2Factor: 0.08401718381846215\n",
      "Training1\n"
     ]
    },
    {
     "name": "stderr",
     "output_type": "stream",
     "text": [
      "\r",
      "  0%|          | 0/1 [00:00<?, ?it/s]"
     ]
    },
    {
     "name": "stdout",
     "output_type": "stream",
     "text": [
      "Training progression (hardware selected => cpu):\n"
     ]
    },
    {
     "name": "stderr",
     "output_type": "stream",
     "text": [
      "100%|██████████| 1/1 [00:08<00:00,  8.68s/it]\n"
     ]
    },
    {
     "name": "stdout",
     "output_type": "stream",
     "text": [
      "╒═══════════════════════════╤═════════╕\n",
      "│   Performance Indicator   │  TDQN   │\n",
      "╞═══════════════════════════╪═════════╡\n",
      "│    Profit & Loss (P&L)    │  59669  │\n",
      "├───────────────────────────┼─────────┤\n",
      "│     Annualized Return     │ 52.64%  │\n",
      "├───────────────────────────┼─────────┤\n",
      "│   Annualized Volatility   │ 27.95%  │\n",
      "├───────────────────────────┼─────────┤\n",
      "│       Sharpe Ratio        │  1.296  │\n",
      "├───────────────────────────┼─────────┤\n",
      "│       Sortino Ratio       │  1.579  │\n",
      "├───────────────────────────┼─────────┤\n",
      "│     Maximum Drawdown      │ 24.59%  │\n",
      "├───────────────────────────┼─────────┤\n",
      "│ Maximum Drawdown Duration │ 54 days │\n",
      "├───────────────────────────┼─────────┤\n",
      "│       Profitability       │ 100.00% │\n",
      "├───────────────────────────┼─────────┤\n",
      "│ Ratio Average Profit/Loss │   inf   │\n",
      "├───────────────────────────┼─────────┤\n",
      "│         Skewness          │  0.072  │\n",
      "╘═══════════════════════════╧═════════╛\n",
      "Validation1\n",
      "╒═══════════════════════════╤══════════╕\n",
      "│   Performance Indicator   │   TDQN   │\n",
      "╞═══════════════════════════╪══════════╡\n",
      "│    Profit & Loss (P&L)    │ -100704  │\n",
      "├───────────────────────────┼──────────┤\n",
      "│     Annualized Return     │ -100.00% │\n",
      "├───────────────────────────┼──────────┤\n",
      "│   Annualized Volatility   │ 154.15%  │\n",
      "├───────────────────────────┼──────────┤\n",
      "│       Sharpe Ratio        │  -0.237  │\n",
      "├───────────────────────────┼──────────┤\n",
      "│       Sortino Ratio       │  -0.172  │\n",
      "├───────────────────────────┼──────────┤\n",
      "│     Maximum Drawdown      │ 100.68%  │\n",
      "├───────────────────────────┼──────────┤\n",
      "│ Maximum Drawdown Duration │ 294 days │\n",
      "├───────────────────────────┼──────────┤\n",
      "│       Profitability       │  0.00%   │\n",
      "├───────────────────────────┼──────────┤\n",
      "│ Ratio Average Profit/Loss │  0.000   │\n",
      "├───────────────────────────┼──────────┤\n",
      "│         Skewness          │  6.314   │\n",
      "╘═══════════════════════════╧══════════╛\n",
      "Training2\n"
     ]
    },
    {
     "name": "stderr",
     "output_type": "stream",
     "text": [
      "\r",
      "  0%|          | 0/1 [00:00<?, ?it/s]"
     ]
    },
    {
     "name": "stdout",
     "output_type": "stream",
     "text": [
      "Training progression (hardware selected => cpu):\n"
     ]
    },
    {
     "name": "stderr",
     "output_type": "stream",
     "text": [
      "100%|██████████| 1/1 [00:17<00:00, 17.20s/it]\n"
     ]
    },
    {
     "name": "stdout",
     "output_type": "stream",
     "text": [
      "╒═══════════════════════════╤═════════╕\n",
      "│   Performance Indicator   │  TDQN   │\n",
      "╞═══════════════════════════╪═════════╡\n",
      "│    Profit & Loss (P&L)    │  46126  │\n",
      "├───────────────────────────┼─────────┤\n",
      "│     Annualized Return     │ 20.32%  │\n",
      "├───────────────────────────┼─────────┤\n",
      "│   Annualized Volatility   │ 21.63%  │\n",
      "├───────────────────────────┼─────────┤\n",
      "│       Sharpe Ratio        │  0.713  │\n",
      "├───────────────────────────┼─────────┤\n",
      "│       Sortino Ratio       │  0.890  │\n",
      "├───────────────────────────┼─────────┤\n",
      "│     Maximum Drawdown      │ 24.59%  │\n",
      "├───────────────────────────┼─────────┤\n",
      "│ Maximum Drawdown Duration │ 54 days │\n",
      "├───────────────────────────┼─────────┤\n",
      "│       Profitability       │ 100.00% │\n",
      "├───────────────────────────┼─────────┤\n",
      "│ Ratio Average Profit/Loss │   inf   │\n",
      "├───────────────────────────┼─────────┤\n",
      "│         Skewness          │  0.257  │\n",
      "╘═══════════════════════════╧═════════╛\n",
      "Validation2\n",
      "╒═══════════════════════════╤══════════╕\n",
      "│   Performance Indicator   │   TDQN   │\n",
      "╞═══════════════════════════╪══════════╡\n",
      "│    Profit & Loss (P&L)    │ -100359  │\n",
      "├───────────────────────────┼──────────┤\n",
      "│     Annualized Return     │ -100.00% │\n",
      "├───────────────────────────┼──────────┤\n",
      "│   Annualized Volatility   │ 127.21%  │\n",
      "├───────────────────────────┼──────────┤\n",
      "│       Sharpe Ratio        │  -0.858  │\n",
      "├───────────────────────────┼──────────┤\n",
      "│       Sortino Ratio       │  -0.444  │\n",
      "├───────────────────────────┼──────────┤\n",
      "│     Maximum Drawdown      │ 100.54%  │\n",
      "├───────────────────────────┼──────────┤\n",
      "│ Maximum Drawdown Duration │ 357 days │\n",
      "├───────────────────────────┼──────────┤\n",
      "│       Profitability       │  0.00%   │\n",
      "├───────────────────────────┼──────────┤\n",
      "│ Ratio Average Profit/Loss │  0.000   │\n",
      "├───────────────────────────┼──────────┤\n",
      "│         Skewness          │ -10.363  │\n",
      "╘═══════════════════════════╧══════════╛\n",
      "Training3\n"
     ]
    },
    {
     "name": "stderr",
     "output_type": "stream",
     "text": [
      "\r",
      "  0%|          | 0/1 [00:00<?, ?it/s]"
     ]
    },
    {
     "name": "stdout",
     "output_type": "stream",
     "text": [
      "Training progression (hardware selected => cpu):\n"
     ]
    },
    {
     "name": "stderr",
     "output_type": "stream",
     "text": [
      "100%|██████████| 1/1 [00:21<00:00, 21.17s/it]\n"
     ]
    },
    {
     "name": "stdout",
     "output_type": "stream",
     "text": [
      "╒═══════════════════════════╤═══════════╕\n",
      "│   Performance Indicator   │   TDQN    │\n",
      "╞═══════════════════════════╪═══════════╡\n",
      "│    Profit & Loss (P&L)    │  -77452   │\n",
      "├───────────────────────────┼───────────┤\n",
      "│     Annualized Return     │  -45.46%  │\n",
      "├───────────────────────────┼───────────┤\n",
      "│   Annualized Volatility   │  54.70%   │\n",
      "├───────────────────────────┼───────────┤\n",
      "│       Sharpe Ratio        │  -0.352   │\n",
      "├───────────────────────────┼───────────┤\n",
      "│       Sortino Ratio       │  -0.458   │\n",
      "├───────────────────────────┼───────────┤\n",
      "│     Maximum Drawdown      │  82.30%   │\n",
      "├───────────────────────────┼───────────┤\n",
      "│ Maximum Drawdown Duration │ 1014 days │\n",
      "├───────────────────────────┼───────────┤\n",
      "│       Profitability       │  48.10%   │\n",
      "├───────────────────────────┼───────────┤\n",
      "│ Ratio Average Profit/Loss │   0.972   │\n",
      "├───────────────────────────┼───────────┤\n",
      "│         Skewness          │   0.283   │\n",
      "╘═══════════════════════════╧═══════════╛\n",
      "Validation3\n",
      "╒═══════════════════════════╤═════════╕\n",
      "│   Performance Indicator   │  TDQN   │\n",
      "╞═══════════════════════════╪═════════╡\n",
      "│    Profit & Loss (P&L)    │ -101021 │\n",
      "├───────────────────────────┼─────────┤\n",
      "│     Annualized Return     │  9.38%  │\n",
      "├───────────────────────────┼─────────┤\n",
      "│   Annualized Volatility   │ 279.08% │\n",
      "├───────────────────────────┼─────────┤\n",
      "│       Sharpe Ratio        │  0.024  │\n",
      "├───────────────────────────┼─────────┤\n",
      "│       Sortino Ratio       │  0.025  │\n",
      "├───────────────────────────┼─────────┤\n",
      "│     Maximum Drawdown      │ 100.99% │\n",
      "├───────────────────────────┼─────────┤\n",
      "│ Maximum Drawdown Duration │ 61 days │\n",
      "├───────────────────────────┼─────────┤\n",
      "│       Profitability       │  0.00%  │\n",
      "├───────────────────────────┼─────────┤\n",
      "│ Ratio Average Profit/Loss │  0.000  │\n",
      "├───────────────────────────┼─────────┤\n",
      "│         Skewness          │ 19.500  │\n",
      "╘═══════════════════════════╧═════════╛\n",
      "Training4\n"
     ]
    },
    {
     "name": "stderr",
     "output_type": "stream",
     "text": [
      "\r",
      "  0%|          | 0/1 [00:00<?, ?it/s]"
     ]
    },
    {
     "name": "stdout",
     "output_type": "stream",
     "text": [
      "Training progression (hardware selected => cpu):\n"
     ]
    },
    {
     "name": "stderr",
     "output_type": "stream",
     "text": [
      "100%|██████████| 1/1 [00:29<00:00, 29.66s/it]\n"
     ]
    },
    {
     "name": "stdout",
     "output_type": "stream",
     "text": [
      "╒═══════════════════════════╤══════════╕\n",
      "│   Performance Indicator   │   TDQN   │\n",
      "╞═══════════════════════════╪══════════╡\n",
      "│    Profit & Loss (P&L)    │ -102869  │\n",
      "├───────────────────────────┼──────────┤\n",
      "│     Annualized Return     │  -5.86%  │\n",
      "├───────────────────────────┼──────────┤\n",
      "│   Annualized Volatility   │  99.56%  │\n",
      "├───────────────────────────┼──────────┤\n",
      "│       Sharpe Ratio        │  -0.037  │\n",
      "├───────────────────────────┼──────────┤\n",
      "│       Sortino Ratio       │  -0.032  │\n",
      "├───────────────────────────┼──────────┤\n",
      "│     Maximum Drawdown      │ 101.16%  │\n",
      "├───────────────────────────┼──────────┤\n",
      "│ Maximum Drawdown Duration │ 278 days │\n",
      "├───────────────────────────┼──────────┤\n",
      "│       Profitability       │  57.14%  │\n",
      "├───────────────────────────┼──────────┤\n",
      "│ Ratio Average Profit/Loss │  0.444   │\n",
      "├───────────────────────────┼──────────┤\n",
      "│         Skewness          │  -1.199  │\n",
      "╘═══════════════════════════╧══════════╛\n",
      "Validation4\n",
      "╒═══════════════════════════╤═════════╕\n",
      "│   Performance Indicator   │  TDQN   │\n",
      "╞═══════════════════════════╪═════════╡\n",
      "│    Profit & Loss (P&L)    │  57027  │\n",
      "├───────────────────────────┼─────────┤\n",
      "│     Annualized Return     │ 55.07%  │\n",
      "├───────────────────────────┼─────────┤\n",
      "│   Annualized Volatility   │ 36.86%  │\n",
      "├───────────────────────────┼─────────┤\n",
      "│       Sharpe Ratio        │  1.028  │\n",
      "├───────────────────────────┼─────────┤\n",
      "│       Sortino Ratio       │  1.428  │\n",
      "├───────────────────────────┼─────────┤\n",
      "│     Maximum Drawdown      │ 32.74%  │\n",
      "├───────────────────────────┼─────────┤\n",
      "│ Maximum Drawdown Duration │ 28 days │\n",
      "├───────────────────────────┼─────────┤\n",
      "│       Profitability       │ 100.00% │\n",
      "├───────────────────────────┼─────────┤\n",
      "│ Ratio Average Profit/Loss │   inf   │\n",
      "├───────────────────────────┼─────────┤\n",
      "│         Skewness          │  0.533  │\n",
      "╘═══════════════════════════╧═════════╛\n",
      "Training5\n"
     ]
    },
    {
     "name": "stderr",
     "output_type": "stream",
     "text": [
      "\r",
      "  0%|          | 0/1 [00:00<?, ?it/s]"
     ]
    },
    {
     "name": "stdout",
     "output_type": "stream",
     "text": [
      "Training progression (hardware selected => cpu):\n"
     ]
    },
    {
     "name": "stderr",
     "output_type": "stream",
     "text": [
      "100%|██████████| 1/1 [00:32<00:00, 32.50s/it]\n"
     ]
    },
    {
     "name": "stdout",
     "output_type": "stream",
     "text": [
      "╒═══════════════════════════╤══════════╕\n",
      "│   Performance Indicator   │   TDQN   │\n",
      "╞═══════════════════════════╪══════════╡\n",
      "│    Profit & Loss (P&L)    │  292935  │\n",
      "├───────────────────────────┼──────────┤\n",
      "│     Annualized Return     │  30.35%  │\n",
      "├───────────────────────────┼──────────┤\n",
      "│   Annualized Volatility   │  61.89%  │\n",
      "├───────────────────────────┼──────────┤\n",
      "│       Sharpe Ratio        │  0.616   │\n",
      "├───────────────────────────┼──────────┤\n",
      "│       Sortino Ratio       │  0.783   │\n",
      "├───────────────────────────┼──────────┤\n",
      "│     Maximum Drawdown      │  83.47%  │\n",
      "├───────────────────────────┼──────────┤\n",
      "│ Maximum Drawdown Duration │ 364 days │\n",
      "├───────────────────────────┼──────────┤\n",
      "│       Profitability       │  48.52%  │\n",
      "├───────────────────────────┼──────────┤\n",
      "│ Ratio Average Profit/Loss │  2.562   │\n",
      "├───────────────────────────┼──────────┤\n",
      "│         Skewness          │  -0.025  │\n",
      "╘═══════════════════════════╧══════════╛\n",
      "gamma: 0.677755879992466, learningRate: 0.0009039453914553879, dropout: 0.11290102329349878,\n",
      "epsilonDecay: 157717.80343163415, alpha: 0.10714452816999796, L2Factor: 0.08743510521792865\n",
      "Training1\n"
     ]
    },
    {
     "name": "stderr",
     "output_type": "stream",
     "text": [
      "\r",
      "  0%|          | 0/1 [00:00<?, ?it/s]"
     ]
    },
    {
     "name": "stdout",
     "output_type": "stream",
     "text": [
      "Training progression (hardware selected => cpu):\n"
     ]
    },
    {
     "name": "stderr",
     "output_type": "stream",
     "text": [
      "100%|██████████| 1/1 [00:06<00:00,  6.31s/it]\n"
     ]
    },
    {
     "name": "stdout",
     "output_type": "stream",
     "text": [
      "╒═══════════════════════════╤═════════╕\n",
      "│   Performance Indicator   │  TDQN   │\n",
      "╞═══════════════════════════╪═════════╡\n",
      "│    Profit & Loss (P&L)    │  59669  │\n",
      "├───────────────────────────┼─────────┤\n",
      "│     Annualized Return     │ 52.64%  │\n",
      "├───────────────────────────┼─────────┤\n",
      "│   Annualized Volatility   │ 27.95%  │\n",
      "├───────────────────────────┼─────────┤\n",
      "│       Sharpe Ratio        │  1.296  │\n",
      "├───────────────────────────┼─────────┤\n",
      "│       Sortino Ratio       │  1.579  │\n",
      "├───────────────────────────┼─────────┤\n",
      "│     Maximum Drawdown      │ 24.59%  │\n",
      "├───────────────────────────┼─────────┤\n",
      "│ Maximum Drawdown Duration │ 54 days │\n",
      "├───────────────────────────┼─────────┤\n",
      "│       Profitability       │ 100.00% │\n",
      "├───────────────────────────┼─────────┤\n",
      "│ Ratio Average Profit/Loss │   inf   │\n",
      "├───────────────────────────┼─────────┤\n",
      "│         Skewness          │  0.072  │\n",
      "╘═══════════════════════════╧═════════╛\n",
      "Validation1\n",
      "╒═══════════════════════════╤══════════╕\n",
      "│   Performance Indicator   │   TDQN   │\n",
      "╞═══════════════════════════╪══════════╡\n",
      "│    Profit & Loss (P&L)    │ -100704  │\n",
      "├───────────────────────────┼──────────┤\n",
      "│     Annualized Return     │ -100.00% │\n",
      "├───────────────────────────┼──────────┤\n",
      "│   Annualized Volatility   │ 154.15%  │\n",
      "├───────────────────────────┼──────────┤\n",
      "│       Sharpe Ratio        │  -0.237  │\n",
      "├───────────────────────────┼──────────┤\n",
      "│       Sortino Ratio       │  -0.172  │\n",
      "├───────────────────────────┼──────────┤\n",
      "│     Maximum Drawdown      │ 100.68%  │\n",
      "├───────────────────────────┼──────────┤\n",
      "│ Maximum Drawdown Duration │ 294 days │\n",
      "├───────────────────────────┼──────────┤\n",
      "│       Profitability       │  0.00%   │\n",
      "├───────────────────────────┼──────────┤\n",
      "│ Ratio Average Profit/Loss │  0.000   │\n",
      "├───────────────────────────┼──────────┤\n",
      "│         Skewness          │  6.314   │\n",
      "╘═══════════════════════════╧══════════╛\n",
      "Training2\n"
     ]
    },
    {
     "name": "stderr",
     "output_type": "stream",
     "text": [
      "\r",
      "  0%|          | 0/1 [00:00<?, ?it/s]"
     ]
    },
    {
     "name": "stdout",
     "output_type": "stream",
     "text": [
      "Training progression (hardware selected => cpu):\n"
     ]
    },
    {
     "name": "stderr",
     "output_type": "stream",
     "text": [
      "100%|██████████| 1/1 [00:13<00:00, 13.92s/it]\n"
     ]
    },
    {
     "name": "stdout",
     "output_type": "stream",
     "text": [
      "╒═══════════════════════════╤══════════╕\n",
      "│   Performance Indicator   │   TDQN   │\n",
      "╞═══════════════════════════╪══════════╡\n",
      "│    Profit & Loss (P&L)    │  -82923  │\n",
      "├───────────────────────────┼──────────┤\n",
      "│     Annualized Return     │ -100.00% │\n",
      "├───────────────────────────┼──────────┤\n",
      "│   Annualized Volatility   │  63.41%  │\n",
      "├───────────────────────────┼──────────┤\n",
      "│       Sharpe Ratio        │  -0.646  │\n",
      "├───────────────────────────┼──────────┤\n",
      "│       Sortino Ratio       │  -0.867  │\n",
      "├───────────────────────────┼──────────┤\n",
      "│     Maximum Drawdown      │  86.25%  │\n",
      "├───────────────────────────┼──────────┤\n",
      "│ Maximum Drawdown Duration │ 640 days │\n",
      "├───────────────────────────┼──────────┤\n",
      "│       Profitability       │  33.33%  │\n",
      "├───────────────────────────┼──────────┤\n",
      "│ Ratio Average Profit/Loss │  0.343   │\n",
      "├───────────────────────────┼──────────┤\n",
      "│         Skewness          │  0.720   │\n",
      "╘═══════════════════════════╧══════════╛\n",
      "Validation2\n",
      "╒═══════════════════════════╤══════════╕\n",
      "│   Performance Indicator   │   TDQN   │\n",
      "╞═══════════════════════════╪══════════╡\n",
      "│    Profit & Loss (P&L)    │ -100566  │\n",
      "├───────────────────────────┼──────────┤\n",
      "│     Annualized Return     │ -18.89%  │\n",
      "├───────────────────────────┼──────────┤\n",
      "│   Annualized Volatility   │ 278.22%  │\n",
      "├───────────────────────────┼──────────┤\n",
      "│       Sharpe Ratio        │  -0.039  │\n",
      "├───────────────────────────┼──────────┤\n",
      "│       Sortino Ratio       │  -0.043  │\n",
      "├───────────────────────────┼──────────┤\n",
      "│     Maximum Drawdown      │ 117.47%  │\n",
      "├───────────────────────────┼──────────┤\n",
      "│ Maximum Drawdown Duration │ 715 days │\n",
      "├───────────────────────────┼──────────┤\n",
      "│       Profitability       │  31.25%  │\n",
      "├───────────────────────────┼──────────┤\n",
      "│ Ratio Average Profit/Loss │  0.091   │\n",
      "├───────────────────────────┼──────────┤\n",
      "│         Skewness          │  0.205   │\n",
      "╘═══════════════════════════╧══════════╛\n",
      "Training3\n"
     ]
    },
    {
     "name": "stderr",
     "output_type": "stream",
     "text": [
      "\r",
      "  0%|          | 0/1 [00:00<?, ?it/s]"
     ]
    },
    {
     "name": "stdout",
     "output_type": "stream",
     "text": [
      "Training progression (hardware selected => cpu):\n"
     ]
    },
    {
     "name": "stderr",
     "output_type": "stream",
     "text": [
      "100%|██████████| 1/1 [00:19<00:00, 19.62s/it]\n"
     ]
    },
    {
     "name": "stdout",
     "output_type": "stream",
     "text": [
      "╒═══════════════════════════╤══════════╕\n",
      "│   Performance Indicator   │   TDQN   │\n",
      "╞═══════════════════════════╪══════════╡\n",
      "│    Profit & Loss (P&L)    │  20329   │\n",
      "├───────────────────────────┼──────────┤\n",
      "│     Annualized Return     │  21.47%  │\n",
      "├───────────────────────────┼──────────┤\n",
      "│   Annualized Volatility   │  52.63%  │\n",
      "├───────────────────────────┼──────────┤\n",
      "│       Sharpe Ratio        │  0.346   │\n",
      "├───────────────────────────┼──────────┤\n",
      "│       Sortino Ratio       │  0.427   │\n",
      "├───────────────────────────┼──────────┤\n",
      "│     Maximum Drawdown      │  78.61%  │\n",
      "├───────────────────────────┼──────────┤\n",
      "│ Maximum Drawdown Duration │ 346 days │\n",
      "├───────────────────────────┼──────────┤\n",
      "│       Profitability       │ 100.00%  │\n",
      "├───────────────────────────┼──────────┤\n",
      "│ Ratio Average Profit/Loss │   inf    │\n",
      "├───────────────────────────┼──────────┤\n",
      "│         Skewness          │  -0.133  │\n",
      "╘═══════════════════════════╧══════════╛\n",
      "Validation3\n",
      "╒═══════════════════════════╤══════════╕\n",
      "│   Performance Indicator   │   TDQN   │\n",
      "╞═══════════════════════════╪══════════╡\n",
      "│    Profit & Loss (P&L)    │  285459  │\n",
      "├───────────────────────────┼──────────┤\n",
      "│     Annualized Return     │  76.00%  │\n",
      "├───────────────────────────┼──────────┤\n",
      "│   Annualized Volatility   │  71.93%  │\n",
      "├───────────────────────────┼──────────┤\n",
      "│       Sharpe Ratio        │  1.004   │\n",
      "├───────────────────────────┼──────────┤\n",
      "│       Sortino Ratio       │  1.442   │\n",
      "├───────────────────────────┼──────────┤\n",
      "│     Maximum Drawdown      │  83.47%  │\n",
      "├───────────────────────────┼──────────┤\n",
      "│ Maximum Drawdown Duration │ 364 days │\n",
      "├───────────────────────────┼──────────┤\n",
      "│       Profitability       │ 100.00%  │\n",
      "├───────────────────────────┼──────────┤\n",
      "│ Ratio Average Profit/Loss │   inf    │\n",
      "├───────────────────────────┼──────────┤\n",
      "│         Skewness          │  0.356   │\n",
      "╘═══════════════════════════╧══════════╛\n",
      "Training4\n"
     ]
    },
    {
     "name": "stderr",
     "output_type": "stream",
     "text": [
      "\r",
      "  0%|          | 0/1 [00:00<?, ?it/s]"
     ]
    },
    {
     "name": "stdout",
     "output_type": "stream",
     "text": [
      "Training progression (hardware selected => cpu):\n"
     ]
    },
    {
     "name": "stderr",
     "output_type": "stream",
     "text": [
      "100%|██████████| 1/1 [00:26<00:00, 26.08s/it]\n"
     ]
    },
    {
     "name": "stdout",
     "output_type": "stream",
     "text": [
      "╒═══════════════════════════╤═════════╕\n",
      "│   Performance Indicator   │  TDQN   │\n",
      "╞═══════════════════════════╪═════════╡\n",
      "│    Profit & Loss (P&L)    │ 1623511 │\n",
      "├───────────────────────────┼─────────┤\n",
      "│     Annualized Return     │ 48.73%  │\n",
      "├───────────────────────────┼─────────┤\n",
      "│   Annualized Volatility   │ 60.13%  │\n",
      "├───────────────────────────┼─────────┤\n",
      "│       Sharpe Ratio        │  1.117  │\n",
      "├───────────────────────────┼─────────┤\n",
      "│       Sortino Ratio       │  1.475  │\n",
      "├───────────────────────────┼─────────┤\n",
      "│     Maximum Drawdown      │ 34.93%  │\n",
      "├───────────────────────────┼─────────┤\n",
      "│ Maximum Drawdown Duration │ 14 days │\n",
      "├───────────────────────────┼─────────┤\n",
      "│       Profitability       │ 100.00% │\n",
      "├───────────────────────────┼─────────┤\n",
      "│ Ratio Average Profit/Loss │   inf   │\n",
      "├───────────────────────────┼─────────┤\n",
      "│         Skewness          │  0.308  │\n",
      "╘═══════════════════════════╧═════════╛\n",
      "Validation4\n",
      "╒═══════════════════════════╤══════════╕\n",
      "│   Performance Indicator   │   TDQN   │\n",
      "╞═══════════════════════════╪══════════╡\n",
      "│    Profit & Loss (P&L)    │  -57209  │\n",
      "├───────────────────────────┼──────────┤\n",
      "│     Annualized Return     │ -64.14%  │\n",
      "├───────────────────────────┼──────────┤\n",
      "│   Annualized Volatility   │  53.39%  │\n",
      "├───────────────────────────┼──────────┤\n",
      "│       Sharpe Ratio        │  -0.828  │\n",
      "├───────────────────────────┼──────────┤\n",
      "│       Sortino Ratio       │  -1.063  │\n",
      "├───────────────────────────┼──────────┤\n",
      "│     Maximum Drawdown      │  66.23%  │\n",
      "├───────────────────────────┼──────────┤\n",
      "│ Maximum Drawdown Duration │ 285 days │\n",
      "├───────────────────────────┼──────────┤\n",
      "│       Profitability       │  0.00%   │\n",
      "├───────────────────────────┼──────────┤\n",
      "│ Ratio Average Profit/Loss │  0.000   │\n",
      "├───────────────────────────┼──────────┤\n",
      "│         Skewness          │  -0.150  │\n",
      "╘═══════════════════════════╧══════════╛\n",
      "Training5\n"
     ]
    },
    {
     "name": "stderr",
     "output_type": "stream",
     "text": [
      "\r",
      "  0%|          | 0/1 [00:00<?, ?it/s]"
     ]
    },
    {
     "name": "stdout",
     "output_type": "stream",
     "text": [
      "Training progression (hardware selected => cpu):\n"
     ]
    },
    {
     "name": "stderr",
     "output_type": "stream",
     "text": [
      "100%|██████████| 1/1 [00:36<00:00, 36.95s/it]\n"
     ]
    },
    {
     "name": "stdout",
     "output_type": "stream",
     "text": [
      "╒═══════════════════════════╤══════════╕\n",
      "│   Performance Indicator   │   TDQN   │\n",
      "╞═══════════════════════════╪══════════╡\n",
      "│    Profit & Loss (P&L)    │  -99906  │\n",
      "├───────────────────────────┼──────────┤\n",
      "│     Annualized Return     │ -100.00% │\n",
      "├───────────────────────────┼──────────┤\n",
      "│   Annualized Volatility   │ 140.16%  │\n",
      "├───────────────────────────┼──────────┤\n",
      "│       Sharpe Ratio        │  -0.828  │\n",
      "├───────────────────────────┼──────────┤\n",
      "│       Sortino Ratio       │  -0.511  │\n",
      "├───────────────────────────┼──────────┤\n",
      "│     Maximum Drawdown      │ 100.02%  │\n",
      "├───────────────────────────┼──────────┤\n",
      "│ Maximum Drawdown Duration │ 848 days │\n",
      "├───────────────────────────┼──────────┤\n",
      "│       Profitability       │  0.00%   │\n",
      "├───────────────────────────┼──────────┤\n",
      "│ Ratio Average Profit/Loss │  0.000   │\n",
      "├───────────────────────────┼──────────┤\n",
      "│         Skewness          │ -26.796  │\n",
      "╘═══════════════════════════╧══════════╛\n",
      "gamma: 0.677755879992466, learningRate: 0.0009039453914553879, dropout: 0.11290102329349878,\n",
      "epsilonDecay: 157717.80343163415, alpha: 0.10714452816999796, L2Factor: 0.038387740073089684\n",
      "Training1\n"
     ]
    },
    {
     "name": "stderr",
     "output_type": "stream",
     "text": [
      "\r",
      "  0%|          | 0/1 [00:00<?, ?it/s]"
     ]
    },
    {
     "name": "stdout",
     "output_type": "stream",
     "text": [
      "Training progression (hardware selected => cpu):\n"
     ]
    },
    {
     "name": "stderr",
     "output_type": "stream",
     "text": [
      "100%|██████████| 1/1 [00:06<00:00,  6.12s/it]\n"
     ]
    },
    {
     "name": "stdout",
     "output_type": "stream",
     "text": [
      "╒═══════════════════════════╤══════════╕\n",
      "│   Performance Indicator   │   TDQN   │\n",
      "╞═══════════════════════════╪══════════╡\n",
      "│    Profit & Loss (P&L)    │  -50084  │\n",
      "├───────────────────────────┼──────────┤\n",
      "│     Annualized Return     │ -44.66%  │\n",
      "├───────────────────────────┼──────────┤\n",
      "│   Annualized Volatility   │  58.78%  │\n",
      "├───────────────────────────┼──────────┤\n",
      "│       Sharpe Ratio        │  -0.523  │\n",
      "├───────────────────────────┼──────────┤\n",
      "│       Sortino Ratio       │  -0.734  │\n",
      "├───────────────────────────┼──────────┤\n",
      "│     Maximum Drawdown      │  54.01%  │\n",
      "├───────────────────────────┼──────────┤\n",
      "│ Maximum Drawdown Duration │ 326 days │\n",
      "├───────────────────────────┼──────────┤\n",
      "│       Profitability       │  33.33%  │\n",
      "├───────────────────────────┼──────────┤\n",
      "│ Ratio Average Profit/Loss │  0.645   │\n",
      "├───────────────────────────┼──────────┤\n",
      "│         Skewness          │  0.487   │\n",
      "╘═══════════════════════════╧══════════╛\n",
      "Validation1\n",
      "╒═══════════════════════════╤══════════╕\n",
      "│   Performance Indicator   │   TDQN   │\n",
      "╞═══════════════════════════╪══════════╡\n",
      "│    Profit & Loss (P&L)    │ 1609963  │\n",
      "├───────────────────────────┼──────────┤\n",
      "│     Annualized Return     │  48.61%  │\n",
      "├───────────────────────────┼──────────┤\n",
      "│   Annualized Volatility   │  59.90%  │\n",
      "├───────────────────────────┼──────────┤\n",
      "│       Sharpe Ratio        │  1.117   │\n",
      "├───────────────────────────┼──────────┤\n",
      "│       Sortino Ratio       │  1.466   │\n",
      "├───────────────────────────┼──────────┤\n",
      "│     Maximum Drawdown      │  83.47%  │\n",
      "├───────────────────────────┼──────────┤\n",
      "│ Maximum Drawdown Duration │ 364 days │\n",
      "├───────────────────────────┼──────────┤\n",
      "│       Profitability       │ 100.00%  │\n",
      "├───────────────────────────┼──────────┤\n",
      "│ Ratio Average Profit/Loss │   inf    │\n",
      "├───────────────────────────┼──────────┤\n",
      "│         Skewness          │  0.228   │\n",
      "╘═══════════════════════════╧══════════╛\n",
      "Training2\n"
     ]
    },
    {
     "name": "stderr",
     "output_type": "stream",
     "text": [
      "\r",
      "  0%|          | 0/1 [00:00<?, ?it/s]"
     ]
    },
    {
     "name": "stdout",
     "output_type": "stream",
     "text": [
      "Training progression (hardware selected => cpu):\n"
     ]
    },
    {
     "name": "stderr",
     "output_type": "stream",
     "text": [
      "100%|██████████| 1/1 [00:13<00:00, 13.05s/it]\n"
     ]
    },
    {
     "name": "stdout",
     "output_type": "stream",
     "text": [
      "╒═══════════════════════════╤══════════╕\n",
      "│   Performance Indicator   │   TDQN   │\n",
      "╞═══════════════════════════╪══════════╡\n",
      "│    Profit & Loss (P&L)    │  -46325  │\n",
      "├───────────────────────────┼──────────┤\n",
      "│     Annualized Return     │  -6.89%  │\n",
      "├───────────────────────────┼──────────┤\n",
      "│   Annualized Volatility   │  57.89%  │\n",
      "├───────────────────────────┼──────────┤\n",
      "│       Sharpe Ratio        │  -0.079  │\n",
      "├───────────────────────────┼──────────┤\n",
      "│       Sortino Ratio       │  -0.101  │\n",
      "├───────────────────────────┼──────────┤\n",
      "│     Maximum Drawdown      │  78.61%  │\n",
      "├───────────────────────────┼──────────┤\n",
      "│ Maximum Drawdown Duration │ 346 days │\n",
      "├───────────────────────────┼──────────┤\n",
      "│       Profitability       │  0.00%   │\n",
      "├───────────────────────────┼──────────┤\n",
      "│ Ratio Average Profit/Loss │  0.000   │\n",
      "├───────────────────────────┼──────────┤\n",
      "│         Skewness          │  -0.063  │\n",
      "╘═══════════════════════════╧══════════╛\n",
      "Validation2\n",
      "╒═══════════════════════════╤══════════╕\n",
      "│   Performance Indicator   │   TDQN   │\n",
      "╞═══════════════════════════╪══════════╡\n",
      "│    Profit & Loss (P&L)    │  914077  │\n",
      "├───────────────────────────┼──────────┤\n",
      "│     Annualized Return     │  61.12%  │\n",
      "├───────────────────────────┼──────────┤\n",
      "│   Annualized Volatility   │  63.23%  │\n",
      "├───────────────────────────┼──────────┤\n",
      "│       Sharpe Ratio        │  1.157   │\n",
      "├───────────────────────────┼──────────┤\n",
      "│       Sortino Ratio       │  1.529   │\n",
      "├───────────────────────────┼──────────┤\n",
      "│     Maximum Drawdown      │  83.47%  │\n",
      "├───────────────────────────┼──────────┤\n",
      "│ Maximum Drawdown Duration │ 364 days │\n",
      "├───────────────────────────┼──────────┤\n",
      "│       Profitability       │ 100.00%  │\n",
      "├───────────────────────────┼──────────┤\n",
      "│ Ratio Average Profit/Loss │   inf    │\n",
      "├───────────────────────────┼──────────┤\n",
      "│         Skewness          │  0.306   │\n",
      "╘═══════════════════════════╧══════════╛\n",
      "Training3\n"
     ]
    },
    {
     "name": "stderr",
     "output_type": "stream",
     "text": [
      "\r",
      "  0%|          | 0/1 [00:00<?, ?it/s]"
     ]
    },
    {
     "name": "stdout",
     "output_type": "stream",
     "text": [
      "Training progression (hardware selected => cpu):\n"
     ]
    },
    {
     "name": "stderr",
     "output_type": "stream",
     "text": [
      "100%|██████████| 1/1 [00:19<00:00, 19.08s/it]\n"
     ]
    },
    {
     "name": "stdout",
     "output_type": "stream",
     "text": [
      "╒═══════════════════════════╤══════════╕\n",
      "│   Performance Indicator   │   TDQN   │\n",
      "╞═══════════════════════════╪══════════╡\n",
      "│    Profit & Loss (P&L)    │  25284   │\n",
      "├───────────────────────────┼──────────┤\n",
      "│     Annualized Return     │  14.94%  │\n",
      "├───────────────────────────┼──────────┤\n",
      "│   Annualized Volatility   │  36.97%  │\n",
      "├───────────────────────────┼──────────┤\n",
      "│       Sharpe Ratio        │  0.323   │\n",
      "├───────────────────────────┼──────────┤\n",
      "│       Sortino Ratio       │  0.424   │\n",
      "├───────────────────────────┼──────────┤\n",
      "│     Maximum Drawdown      │  59.66%  │\n",
      "├───────────────────────────┼──────────┤\n",
      "│ Maximum Drawdown Duration │ 519 days │\n",
      "├───────────────────────────┼──────────┤\n",
      "│       Profitability       │  77.78%  │\n",
      "├───────────────────────────┼──────────┤\n",
      "│ Ratio Average Profit/Loss │  0.544   │\n",
      "├───────────────────────────┼──────────┤\n",
      "│         Skewness          │  1.070   │\n",
      "╘═══════════════════════════╧══════════╛\n",
      "Validation3\n",
      "╒═══════════════════════════╤══════════╕\n",
      "│   Performance Indicator   │   TDQN   │\n",
      "╞═══════════════════════════╪══════════╡\n",
      "│    Profit & Loss (P&L)    │  338666  │\n",
      "├───────────────────────────┼──────────┤\n",
      "│     Annualized Return     │  79.89%  │\n",
      "├───────────────────────────┼──────────┤\n",
      "│   Annualized Volatility   │  72.45%  │\n",
      "├───────────────────────────┼──────────┤\n",
      "│       Sharpe Ratio        │  1.063   │\n",
      "├───────────────────────────┼──────────┤\n",
      "│       Sortino Ratio       │  1.597   │\n",
      "├───────────────────────────┼──────────┤\n",
      "│     Maximum Drawdown      │  83.44%  │\n",
      "├───────────────────────────┼──────────┤\n",
      "│ Maximum Drawdown Duration │ 364 days │\n",
      "├───────────────────────────┼──────────┤\n",
      "│       Profitability       │  75.00%  │\n",
      "├───────────────────────────┼──────────┤\n",
      "│ Ratio Average Profit/Loss │  51.417  │\n",
      "├───────────────────────────┼──────────┤\n",
      "│         Skewness          │  0.446   │\n",
      "╘═══════════════════════════╧══════════╛\n",
      "Training4\n"
     ]
    },
    {
     "name": "stderr",
     "output_type": "stream",
     "text": [
      "\r",
      "  0%|          | 0/1 [00:00<?, ?it/s]"
     ]
    },
    {
     "name": "stdout",
     "output_type": "stream",
     "text": [
      "Training progression (hardware selected => cpu):\n"
     ]
    },
    {
     "name": "stderr",
     "output_type": "stream",
     "text": [
      "100%|██████████| 1/1 [00:36<00:00, 36.10s/it]\n"
     ]
    },
    {
     "name": "stdout",
     "output_type": "stream",
     "text": [
      "╒═══════════════════════════╤══════════╕\n",
      "│   Performance Indicator   │   TDQN   │\n",
      "╞═══════════════════════════╪══════════╡\n",
      "│    Profit & Loss (P&L)    │  -90728  │\n",
      "├───────────────────────────┼──────────┤\n",
      "│     Annualized Return     │ -100.00% │\n",
      "├───────────────────────────┼──────────┤\n",
      "│   Annualized Volatility   │ 111.72%  │\n",
      "├───────────────────────────┼──────────┤\n",
      "│       Sharpe Ratio        │  -0.501  │\n",
      "├───────────────────────────┼──────────┤\n",
      "│       Sortino Ratio       │  -0.336  │\n",
      "├───────────────────────────┼──────────┤\n",
      "│     Maximum Drawdown      │ 101.44%  │\n",
      "├───────────────────────────┼──────────┤\n",
      "│ Maximum Drawdown Duration │ 68 days  │\n",
      "├───────────────────────────┼──────────┤\n",
      "│       Profitability       │  40.88%  │\n",
      "├───────────────────────────┼──────────┤\n",
      "│ Ratio Average Profit/Loss │  1.307   │\n",
      "├───────────────────────────┼──────────┤\n",
      "│         Skewness          │ -20.822  │\n",
      "╘═══════════════════════════╧══════════╛\n",
      "Validation4\n",
      "╒═══════════════════════════╤═════════╕\n",
      "│   Performance Indicator   │  TDQN   │\n",
      "╞═══════════════════════════╪═════════╡\n",
      "│    Profit & Loss (P&L)    │  57027  │\n",
      "├───────────────────────────┼─────────┤\n",
      "│     Annualized Return     │ 55.07%  │\n",
      "├───────────────────────────┼─────────┤\n",
      "│   Annualized Volatility   │ 36.86%  │\n",
      "├───────────────────────────┼─────────┤\n",
      "│       Sharpe Ratio        │  1.028  │\n",
      "├───────────────────────────┼─────────┤\n",
      "│       Sortino Ratio       │  1.428  │\n",
      "├───────────────────────────┼─────────┤\n",
      "│     Maximum Drawdown      │ 32.74%  │\n",
      "├───────────────────────────┼─────────┤\n",
      "│ Maximum Drawdown Duration │ 28 days │\n",
      "├───────────────────────────┼─────────┤\n",
      "│       Profitability       │ 100.00% │\n",
      "├───────────────────────────┼─────────┤\n",
      "│ Ratio Average Profit/Loss │   inf   │\n",
      "├───────────────────────────┼─────────┤\n",
      "│         Skewness          │  0.533  │\n",
      "╘═══════════════════════════╧═════════╛\n",
      "Training5\n"
     ]
    },
    {
     "name": "stderr",
     "output_type": "stream",
     "text": [
      "\r",
      "  0%|          | 0/1 [00:00<?, ?it/s]"
     ]
    },
    {
     "name": "stdout",
     "output_type": "stream",
     "text": [
      "Training progression (hardware selected => cpu):\n"
     ]
    },
    {
     "name": "stderr",
     "output_type": "stream",
     "text": [
      "100%|██████████| 1/1 [00:39<00:00, 39.11s/it]\n"
     ]
    },
    {
     "name": "stdout",
     "output_type": "stream",
     "text": [
      "╒═══════════════════════════╤══════════╕\n",
      "│   Performance Indicator   │   TDQN   │\n",
      "╞═══════════════════════════╪══════════╡\n",
      "│    Profit & Loss (P&L)    │ -100734  │\n",
      "├───────────────────────────┼──────────┤\n",
      "│     Annualized Return     │ -100.00% │\n",
      "├───────────────────────────┼──────────┤\n",
      "│   Annualized Volatility   │ 137.74%  │\n",
      "├───────────────────────────┼──────────┤\n",
      "│       Sharpe Ratio        │  -0.170  │\n",
      "├───────────────────────────┼──────────┤\n",
      "│       Sortino Ratio       │  -0.142  │\n",
      "├───────────────────────────┼──────────┤\n",
      "│     Maximum Drawdown      │ 100.48%  │\n",
      "├───────────────────────────┼──────────┤\n",
      "│ Maximum Drawdown Duration │ 795 days │\n",
      "├───────────────────────────┼──────────┤\n",
      "│       Profitability       │  17.65%  │\n",
      "├───────────────────────────┼──────────┤\n",
      "│ Ratio Average Profit/Loss │  2.153   │\n",
      "├───────────────────────────┼──────────┤\n",
      "│         Skewness          │  7.756   │\n",
      "╘═══════════════════════════╧══════════╛\n",
      "gamma: 0.677755879992466, learningRate: 0.0009039453914553879, dropout: 0.11290102329349878,\n",
      "epsilonDecay: 157717.80343163415, alpha: 0.10714452816999796, L2Factor: 0.08401718381846215\n",
      "Training1\n"
     ]
    },
    {
     "name": "stderr",
     "output_type": "stream",
     "text": [
      "\r",
      "  0%|          | 0/1 [00:00<?, ?it/s]"
     ]
    },
    {
     "name": "stdout",
     "output_type": "stream",
     "text": [
      "Training progression (hardware selected => cpu):\n"
     ]
    },
    {
     "name": "stderr",
     "output_type": "stream",
     "text": [
      "100%|██████████| 1/1 [00:07<00:00,  7.41s/it]\n"
     ]
    },
    {
     "name": "stdout",
     "output_type": "stream",
     "text": [
      "╒═══════════════════════════╤═════════╕\n",
      "│   Performance Indicator   │  TDQN   │\n",
      "╞═══════════════════════════╪═════════╡\n",
      "│    Profit & Loss (P&L)    │  54860  │\n",
      "├───────────────────────────┼─────────┤\n",
      "│     Annualized Return     │ 50.26%  │\n",
      "├───────────────────────────┼─────────┤\n",
      "│   Annualized Volatility   │ 29.62%  │\n",
      "├───────────────────────────┼─────────┤\n",
      "│       Sharpe Ratio        │  1.168  │\n",
      "├───────────────────────────┼─────────┤\n",
      "│       Sortino Ratio       │  1.448  │\n",
      "├───────────────────────────┼─────────┤\n",
      "│     Maximum Drawdown      │ 24.59%  │\n",
      "├───────────────────────────┼─────────┤\n",
      "│ Maximum Drawdown Duration │ 54 days │\n",
      "├───────────────────────────┼─────────┤\n",
      "│       Profitability       │ 53.85%  │\n",
      "├───────────────────────────┼─────────┤\n",
      "│ Ratio Average Profit/Loss │  2.814  │\n",
      "├───────────────────────────┼─────────┤\n",
      "│         Skewness          │  0.063  │\n",
      "╘═══════════════════════════╧═════════╛\n",
      "Validation1\n",
      "╒═══════════════════════════╤══════════╕\n",
      "│   Performance Indicator   │   TDQN   │\n",
      "╞═══════════════════════════╪══════════╡\n",
      "│    Profit & Loss (P&L)    │ 1252459  │\n",
      "├───────────────────────────┼──────────┤\n",
      "│     Annualized Return     │  46.98%  │\n",
      "├───────────────────────────┼──────────┤\n",
      "│   Annualized Volatility   │  60.58%  │\n",
      "├───────────────────────────┼──────────┤\n",
      "│       Sharpe Ratio        │  1.044   │\n",
      "├───────────────────────────┼──────────┤\n",
      "│       Sortino Ratio       │  1.371   │\n",
      "├───────────────────────────┼──────────┤\n",
      "│     Maximum Drawdown      │  84.81%  │\n",
      "├───────────────────────────┼──────────┤\n",
      "│ Maximum Drawdown Duration │ 364 days │\n",
      "├───────────────────────────┼──────────┤\n",
      "│       Profitability       │  44.83%  │\n",
      "├───────────────────────────┼──────────┤\n",
      "│ Ratio Average Profit/Loss │  1.643   │\n",
      "├───────────────────────────┼──────────┤\n",
      "│         Skewness          │  0.218   │\n",
      "╘═══════════════════════════╧══════════╛\n",
      "Training2\n"
     ]
    },
    {
     "name": "stderr",
     "output_type": "stream",
     "text": [
      "\r",
      "  0%|          | 0/1 [00:00<?, ?it/s]"
     ]
    },
    {
     "name": "stdout",
     "output_type": "stream",
     "text": [
      "Training progression (hardware selected => cpu):\n"
     ]
    },
    {
     "name": "stderr",
     "output_type": "stream",
     "text": [
      "100%|██████████| 1/1 [00:15<00:00, 15.96s/it]\n"
     ]
    },
    {
     "name": "stdout",
     "output_type": "stream",
     "text": [
      "╒═══════════════════════════╤══════════╕\n",
      "│   Performance Indicator   │   TDQN   │\n",
      "╞═══════════════════════════╪══════════╡\n",
      "│    Profit & Loss (P&L)    │  -46325  │\n",
      "├───────────────────────────┼──────────┤\n",
      "│     Annualized Return     │  -6.89%  │\n",
      "├───────────────────────────┼──────────┤\n",
      "│   Annualized Volatility   │  57.89%  │\n",
      "├───────────────────────────┼──────────┤\n",
      "│       Sharpe Ratio        │  -0.079  │\n",
      "├───────────────────────────┼──────────┤\n",
      "│       Sortino Ratio       │  -0.101  │\n",
      "├───────────────────────────┼──────────┤\n",
      "│     Maximum Drawdown      │  78.61%  │\n",
      "├───────────────────────────┼──────────┤\n",
      "│ Maximum Drawdown Duration │ 346 days │\n",
      "├───────────────────────────┼──────────┤\n",
      "│       Profitability       │  0.00%   │\n",
      "├───────────────────────────┼──────────┤\n",
      "│ Ratio Average Profit/Loss │  0.000   │\n",
      "├───────────────────────────┼──────────┤\n",
      "│         Skewness          │  -0.063  │\n",
      "╘═══════════════════════════╧══════════╛\n",
      "Validation2\n",
      "╒═══════════════════════════╤══════════╕\n",
      "│   Performance Indicator   │   TDQN   │\n",
      "╞═══════════════════════════╪══════════╡\n",
      "│    Profit & Loss (P&L)    │  914077  │\n",
      "├───────────────────────────┼──────────┤\n",
      "│     Annualized Return     │  61.12%  │\n",
      "├───────────────────────────┼──────────┤\n",
      "│   Annualized Volatility   │  63.23%  │\n",
      "├───────────────────────────┼──────────┤\n",
      "│       Sharpe Ratio        │  1.157   │\n",
      "├───────────────────────────┼──────────┤\n",
      "│       Sortino Ratio       │  1.529   │\n",
      "├───────────────────────────┼──────────┤\n",
      "│     Maximum Drawdown      │  83.47%  │\n",
      "├───────────────────────────┼──────────┤\n",
      "│ Maximum Drawdown Duration │ 364 days │\n",
      "├───────────────────────────┼──────────┤\n",
      "│       Profitability       │ 100.00%  │\n",
      "├───────────────────────────┼──────────┤\n",
      "│ Ratio Average Profit/Loss │   inf    │\n",
      "├───────────────────────────┼──────────┤\n",
      "│         Skewness          │  0.306   │\n",
      "╘═══════════════════════════╧══════════╛\n",
      "Training3\n"
     ]
    },
    {
     "name": "stderr",
     "output_type": "stream",
     "text": [
      "\r",
      "  0%|          | 0/1 [00:00<?, ?it/s]"
     ]
    },
    {
     "name": "stdout",
     "output_type": "stream",
     "text": [
      "Training progression (hardware selected => cpu):\n"
     ]
    },
    {
     "name": "stderr",
     "output_type": "stream",
     "text": [
      "100%|██████████| 1/1 [00:24<00:00, 24.93s/it]\n"
     ]
    },
    {
     "name": "stdout",
     "output_type": "stream",
     "text": [
      "╒═══════════════════════════╤══════════╕\n",
      "│   Performance Indicator   │   TDQN   │\n",
      "╞═══════════════════════════╪══════════╡\n",
      "│    Profit & Loss (P&L)    │  20329   │\n",
      "├───────────────────────────┼──────────┤\n",
      "│     Annualized Return     │  21.47%  │\n",
      "├───────────────────────────┼──────────┤\n",
      "│   Annualized Volatility   │  52.63%  │\n",
      "├───────────────────────────┼──────────┤\n",
      "│       Sharpe Ratio        │  0.346   │\n",
      "├───────────────────────────┼──────────┤\n",
      "│       Sortino Ratio       │  0.427   │\n",
      "├───────────────────────────┼──────────┤\n",
      "│     Maximum Drawdown      │  78.61%  │\n",
      "├───────────────────────────┼──────────┤\n",
      "│ Maximum Drawdown Duration │ 346 days │\n",
      "├───────────────────────────┼──────────┤\n",
      "│       Profitability       │ 100.00%  │\n",
      "├───────────────────────────┼──────────┤\n",
      "│ Ratio Average Profit/Loss │   inf    │\n",
      "├───────────────────────────┼──────────┤\n",
      "│         Skewness          │  -0.133  │\n",
      "╘═══════════════════════════╧══════════╛\n",
      "Validation3\n",
      "╒═══════════════════════════╤══════════╕\n",
      "│   Performance Indicator   │   TDQN   │\n",
      "╞═══════════════════════════╪══════════╡\n",
      "│    Profit & Loss (P&L)    │  285459  │\n",
      "├───────────────────────────┼──────────┤\n",
      "│     Annualized Return     │  76.00%  │\n",
      "├───────────────────────────┼──────────┤\n",
      "│   Annualized Volatility   │  71.93%  │\n",
      "├───────────────────────────┼──────────┤\n",
      "│       Sharpe Ratio        │  1.004   │\n",
      "├───────────────────────────┼──────────┤\n",
      "│       Sortino Ratio       │  1.442   │\n",
      "├───────────────────────────┼──────────┤\n",
      "│     Maximum Drawdown      │  83.47%  │\n",
      "├───────────────────────────┼──────────┤\n",
      "│ Maximum Drawdown Duration │ 364 days │\n",
      "├───────────────────────────┼──────────┤\n",
      "│       Profitability       │ 100.00%  │\n",
      "├───────────────────────────┼──────────┤\n",
      "│ Ratio Average Profit/Loss │   inf    │\n",
      "├───────────────────────────┼──────────┤\n",
      "│         Skewness          │  0.356   │\n",
      "╘═══════════════════════════╧══════════╛\n",
      "Training4\n"
     ]
    },
    {
     "name": "stderr",
     "output_type": "stream",
     "text": [
      "\r",
      "  0%|          | 0/1 [00:00<?, ?it/s]"
     ]
    },
    {
     "name": "stdout",
     "output_type": "stream",
     "text": [
      "Training progression (hardware selected => cpu):\n"
     ]
    },
    {
     "name": "stderr",
     "output_type": "stream",
     "text": [
      "100%|██████████| 1/1 [00:34<00:00, 34.49s/it]\n"
     ]
    }
   ],
   "source": [
    "# randomized search optimization \n",
    "percentageCosts = [0, 0.1, 0.2]\n",
    "transactionCosts = percentageCosts[1]/100\n",
    "stateLength = 30\n",
    "OPTIMIZATION_TRAINING_PARAM = {\n",
    "    'money': 100000,\n",
    "    'percentageCosts': percentageCosts,\n",
    "    'transactionCosts': transactionCosts,\n",
    "    'name': 'training',\n",
    "    'network': '',\n",
    "    # Parameters related to the DQN algorithm\n",
    "    'stateLength': stateLength,\n",
    "    'numberOfEpisodes': 1,\n",
    "    'targetNetworkUpdate': 1000,\n",
    "    'learningUpdatePeriod': 1,\n",
    "    # Default parameters related to the Experience Replay mechanism\n",
    "    'capacity': 100000,\n",
    "    'batchSize': 32,\n",
    "    'experiencesRequired': 1000,\n",
    "    # Default parameters related to the Deep Neural Network\n",
    "    'numberOfNeurons': 512,\n",
    "    # Default parameters related to the Epsilon-Greedy exploration technique\n",
    "    'epsilonStart': 1.0,\n",
    "    'epsilonEnd': 0.01,\n",
    "    # Default parameters regarding the sticky actions RL generalization technique\n",
    "    # Default parameters related to preprocessing\n",
    "    'filterOrder': 5,\n",
    "    # Default paramters related to the clipping of both the gradient and the RL rewards\n",
    "    'gradientClipping': 1,\n",
    "    'rewardClipping': 1,\n",
    "}\n",
    "OPTIMIZATION_VALIDATION_PARAM = {\n",
    "    'money': 100000,\n",
    "    'stateLength': stateLength,\n",
    "    'transactionCosts': transactionCosts,\n",
    "    'name': 'validation',\n",
    "    'network': '',\n",
    "}\n",
    "# hyperparameters will be selected randomly from the range specified below\n",
    "OPTIMIZATION_HYPERPARAM = {\n",
    "    'gamma': [.1, .9],\n",
    "    'learningRate': [.0001, .005],\n",
    "    'dropout': [.1, .9],\n",
    "    'epsilonDecay': [5000,500000],\n",
    "    'alpha': [.1, .9],\n",
    "    'L2Factor': [.1, .000001],\n",
    "}\n",
    "\n",
    "strategy = \"TDQN\"\n",
    "trainCryptocurrency = \"Bitcoin\"\n",
    "OPTIMIZATION_TRAINING_PARAM['network'] = 'DuelingDQN'\n",
    "OPTIMIZATION_TRAINING_PARAM['name'] = 'btc_tdqn_DuelingDQN_training'\n",
    "OPTIMIZATION_VALIDATION_PARAM['network'] = 'DuelingDQN'\n",
    "OPTIMIZATION_VALIDATION_PARAM['name'] = 'btc_tdqn_DuelingDQN_validation'\n",
    "simulator.randomizedSearchOptimization(strategy, trainCryptocurrency, OPTIMIZATION_TRAINING_PARAM, OPTIMIZATION_VALIDATION_PARAM, OPTIMIZATION_HYPERPARAM, 3)\n",
    "print()"
   ]
  },
  {
   "cell_type": "code",
   "execution_count": null,
   "metadata": {},
   "outputs": [],
   "source": [
    "# set parameters after optimization\n",
    "percentageCosts = [0, 0.1, 0.2]\n",
    "transactionCosts = percentageCosts[1]/100\n",
    "stateLength = 30\n",
    "AI_TRAINING_PARAM = {\n",
    "    'money': 100000,\n",
    "    'percentageCosts': percentageCosts,\n",
    "    'transactionCosts': transactionCosts,\n",
    "    'name': 'training',\n",
    "    'network': '',\n",
    "    # Parameters related to the DQN algorithm\n",
    "    'stateLength': stateLength,\n",
    "    'numberOfEpisodes': 50,\n",
    "    'gamma': 0.4,\n",
    "    'learningRate': 0.0001,\n",
    "    'targetNetworkUpdate': 1000,\n",
    "    'learningUpdatePeriod': 1,\n",
    "    # Default parameters related to the Experience Replay mechanism\n",
    "    'capacity': 100000,\n",
    "    'batchSize': 32,\n",
    "    'experiencesRequired': 1000,\n",
    "    # Default parameters related to the Deep Neural Network\n",
    "    'numberOfNeurons': 512,\n",
    "    'dropout': 0.2,\n",
    "    # Default parameters related to the Epsilon-Greedy exploration technique\n",
    "    'epsilonStart': 1.0,\n",
    "    'epsilonEnd': 0.01,\n",
    "    'epsilonDecay': 10000,\n",
    "    # Default parameters regarding the sticky actions RL generalization technique\n",
    "    'alpha': 0.1,\n",
    "    # Default parameters related to preprocessing\n",
    "    'filterOrder': 5,\n",
    "    # Default paramters related to the clipping of both the gradient and the RL rewards\n",
    "    'gradientClipping': 1,\n",
    "    'rewardClipping': 1,\n",
    "    # Default parameter related to the L2 Regularization \n",
    "    'L2Factor': 0.000001,\n",
    "}\n",
    "\n",
    "NON_AI_TRAINING_PARAM = {\n",
    "    'startingDate': '2014-01-01',\n",
    "    'endingDate': '2019-01-01',\n",
    "    'money': 100000,\n",
    "    'stateLength': stateLength,\n",
    "    'percentageCosts': percentageCosts,\n",
    "    'transactionCosts': transactionCosts,\n",
    "    'name': 'training',\n",
    "    'network': ''\n",
    "}\n",
    "\n",
    "VALIDATION_PARAM = {\n",
    "    'money': 100000,\n",
    "    'stateLength': stateLength,\n",
    "    'transactionCosts': transactionCosts,\n",
    "    'name': 'validation',\n",
    "    'network': '',\n",
    "}\n",
    "\n",
    "BACKTEST_PARAM = {\n",
    "    'startingDate': '2014-01-01',\n",
    "    'endingDate': '2021-01-01',\n",
    "    'money': 100000,\n",
    "    'stateLength': stateLength,\n",
    "    'transactionCosts': transactionCosts,\n",
    "    'name': 'backtest',\n",
    "    'network': '',\n",
    "}\n",
    "\n",
    "TEST_PARAM = {\n",
    "    'startingDate': '2019-01-01',\n",
    "    'endingDate': '2021-01-01',\n",
    "    'money': 100000,\n",
    "    'stateLength': stateLength,\n",
    "    'transactionCosts': transactionCosts,\n",
    "    'name': 'test',\n",
    "    'network': '',\n",
    "}\n",
    "\n",
    "# ETH_TEST_PARAM = {\n",
    "#     'startingDate': '2019-01-01',\n",
    "#     'endingDate': '2021-01-01',\n",
    "#     'money': 100000,\n",
    "#     'stateLength': stateLength,\n",
    "#     'transactionCosts': transactionCosts,\n",
    "#     'name': 'test',\n",
    "#     'network': '',\n",
    "# }"
   ]
  },
  {
   "cell_type": "code",
   "execution_count": null,
   "metadata": {
    "scrolled": true
   },
   "outputs": [],
   "source": [
    "strategy = \"TDQN\"\n",
    "trainCryptocurrency = \"Bitcoin\"\n",
    "AI_TRAINING_PARAM['network'] = 'DuelingDQN'\n",
    "AI_TRAINING_PARAM['name'] = 'btc_tdqn_DuelingDQN_training'\n",
    "VALIDATION_PARAM['network'] = 'DuelingDQN'\n",
    "VALIDATION_PARAM['name'] = 'btc_tdqn_DuelingDQN_validation'\n",
    "simulator.aiTrainWithCrossValidation(strategy, trainCryptocurrency, AI_TRAINING_PARAM, VALIDATION_PARAM)\n",
    "print()"
   ]
  },
  {
   "cell_type": "code",
   "execution_count": null,
   "metadata": {
    "scrolled": true
   },
   "outputs": [],
   "source": [
    "strategy = \"TDQN\"\n",
    "trainCryptocurrency = \"Bitcoin\"\n",
    "testCryptocurrency = \"Bitcoin\"\n",
    "TEST_PARAM['name'] = 'btc_tdqn_DuelingDQN_test'\n",
    "TEST_PARAM['network'] = 'DuelingDQN'\n",
    "simulator.test(strategy, trainCryptocurrency, testCryptocurrency, AI_TRAINING_PARAM, TEST_PARAM)\n",
    "print()"
   ]
  },
  {
   "cell_type": "code",
   "execution_count": null,
   "metadata": {},
   "outputs": [],
   "source": [
    "strategy = \"TDQN\"\n",
    "trainCryptocurrency = \"Bitcoin\"\n",
    "testCryptocurrency = \"Bitcoin\"\n",
    "BACKTEST_PARAM['name'] = 'btc_tdqn_DuelingDQN_backtest'\n",
    "BACKTEST_PARAM['network'] = 'DuelingDQN'\n",
    "simulator.test(strategy, trainCryptocurrency, testCryptocurrency, AI_TRAINING_PARAM, BACKTEST_PARAM)\n",
    "print()"
   ]
  },
  {
   "cell_type": "code",
   "execution_count": null,
   "metadata": {},
   "outputs": [],
   "source": [
    "# Haven't scraped eth s2f\n",
    "# strategy = \"TDQN\"\n",
    "# trainCryptocurrency = \"Bitcoin\"\n",
    "# testCryptocurrency = \"Ethereum\"\n",
    "# ETH_TEST_PARAM['name'] = 'eth_tdqn_DQN_test'\n",
    "# ETH_TEST_PARAM['network'] = 'DQN'\n",
    "# simulator.test(strategy, trainCryptocurrency, testCryptocurrency, AI_TRAINING_PARAM, ETH_TEST_PARAM)\n",
    "# print()"
   ]
  },
  {
   "cell_type": "code",
   "execution_count": null,
   "metadata": {},
   "outputs": [],
   "source": [
    "# strategy = \"Mean Reversion Moving Averages\"\n",
    "# trainCryptocurrency = \"Bitcoin\"\n",
    "# NON_AI_TRAINING_PARAM['name'] = 'btc_mrma_training'\n",
    "# simulator.nonAiTrain(strategy, trainCryptocurrency, NON_AI_TRAINING_PARAM)\n",
    "# print()"
   ]
  },
  {
   "cell_type": "code",
   "execution_count": null,
   "metadata": {},
   "outputs": [],
   "source": [
    "# strategy = \"Mean Reversion Moving Averages\"\n",
    "# trainCryptocurrency = \"Bitcoin\"\n",
    "# testCryptocurrency = \"Bitcoin\"\n",
    "# BACKTEST_PARAM['name'] = 'btc_mrma_backtest'\n",
    "# simulator.test(strategy, trainCryptocurrency, testCryptocurrency, NON_AI_TRAINING_PARAM, BACKTEST_PARAM)\n",
    "# print()"
   ]
  },
  {
   "cell_type": "code",
   "execution_count": null,
   "metadata": {},
   "outputs": [],
   "source": [
    "# strategy = \"Mean Reversion Moving Averages\"\n",
    "# trainCryptocurrency = \"Bitcoin\"\n",
    "# testCryptocurrency = \"Bitcoin\"\n",
    "# TEST_PARAM['name'] = 'btc_mrma_test'\n",
    "# simulator.test(strategy, trainCryptocurrency, testCryptocurrency, NON_AI_TRAINING_PARAM, TEST_PARAM)\n",
    "# print()"
   ]
  },
  {
   "cell_type": "code",
   "execution_count": null,
   "metadata": {},
   "outputs": [],
   "source": [
    "# strategy = \"Mean Reversion Moving Averages\"\n",
    "# trainCryptocurrency = \"Bitcoin\"\n",
    "# testCryptocurrency = \"Ethereum\"\n",
    "# ETH_TEST_PARAM['name'] = 'eth_mrma_test'\n",
    "# simulator.test(strategy, trainCryptocurrency, testCryptocurrency, NON_AI_TRAINING_PARAM, ETH_TEST_PARAM)\n",
    "# print()"
   ]
  },
  {
   "cell_type": "code",
   "execution_count": null,
   "metadata": {},
   "outputs": [],
   "source": []
  }
 ],
 "metadata": {
  "kernelspec": {
   "display_name": "Python 3",
   "language": "python",
   "name": "python3"
  },
  "language_info": {
   "codemirror_mode": {
    "name": "ipython",
    "version": 3
   },
   "file_extension": ".py",
   "mimetype": "text/x-python",
   "name": "python",
   "nbconvert_exporter": "python",
   "pygments_lexer": "ipython3",
   "version": "3.8.5"
  }
 },
 "nbformat": 4,
 "nbformat_minor": 5
}
