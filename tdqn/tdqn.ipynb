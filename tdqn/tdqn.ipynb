{
 "cells": [
  {
   "cell_type": "code",
   "execution_count": 1,
   "metadata": {},
   "outputs": [],
   "source": [
    "# import the files\n",
    "from tradingSimulator import TradingSimulator\n",
    "simulator = TradingSimulator()"
   ]
  },
  {
   "cell_type": "code",
   "execution_count": 2,
   "metadata": {},
   "outputs": [],
   "source": [
    "# strategy, cryptocurrency and network supported\n",
    "# strategy in {\n",
    "#     'Buy and Hold',\n",
    "#     'Sell and Hold',\n",
    "#     'Trend Following Moving Averages',\n",
    "#     'Mean Reversion Moving Averages',\n",
    "#     'TDQN'\n",
    "# }\n",
    "# cryptocurrency in {'Bitcoin', 'Ethereum'}\n",
    "# network in {\"DuelingDQN\", \"ConvDuelingDQN\"}"
   ]
  },
  {
   "cell_type": "code",
   "execution_count": 3,
   "metadata": {},
   "outputs": [],
   "source": [
    "# EDA\n",
    "# cryptocurrency = \"Bitcoin\"\n",
    "# simulator.exploratoryDataAnalysis(cryptocurrency, '2014-01-01', '2021-01-01')"
   ]
  },
  {
   "cell_type": "code",
   "execution_count": null,
   "metadata": {},
   "outputs": [
    {
     "name": "stdout",
     "output_type": "stream",
     "text": [
      "gamma: 0.5175342678423827, learningRate: 0.0032641941940764314, dropout: 0.4402343154792473,\n",
      "epsilonDecay: 226387.93540510806, alpha: 0.519434331843478, L2Factor: 0.09633055703828242\n",
      "Training1\n"
     ]
    },
    {
     "name": "stderr",
     "output_type": "stream",
     "text": [
      "\r",
      "  0%|          | 0/1 [00:00<?, ?it/s]"
     ]
    },
    {
     "name": "stdout",
     "output_type": "stream",
     "text": [
      "Training progression (hardware selected => cpu):\n"
     ]
    },
    {
     "name": "stderr",
     "output_type": "stream",
     "text": [
      "100%|██████████| 1/1 [00:09<00:00,  9.45s/it]\n"
     ]
    },
    {
     "name": "stdout",
     "output_type": "stream",
     "text": [
      "╒═══════════════════════════╤══════════╕\n",
      "│   Performance Indicator   │   TDQN   │\n",
      "╞═══════════════════════════╪══════════╡\n",
      "│    Profit & Loss (P&L)    │  -59868  │\n",
      "├───────────────────────────┼──────────┤\n",
      "│     Annualized Return     │ -66.35%  │\n",
      "├───────────────────────────┼──────────┤\n",
      "│   Annualized Volatility   │  58.82%  │\n",
      "├───────────────────────────┼──────────┤\n",
      "│       Sharpe Ratio        │  -0.778  │\n",
      "├───────────────────────────┼──────────┤\n",
      "│       Sortino Ratio       │  -1.068  │\n",
      "├───────────────────────────┼──────────┤\n",
      "│     Maximum Drawdown      │  61.58%  │\n",
      "├───────────────────────────┼──────────┤\n",
      "│ Maximum Drawdown Duration │ 331 days │\n",
      "├───────────────────────────┼──────────┤\n",
      "│       Profitability       │  0.00%   │\n",
      "├───────────────────────────┼──────────┤\n",
      "│ Ratio Average Profit/Loss │  0.000   │\n",
      "├───────────────────────────┼──────────┤\n",
      "│         Skewness          │  0.414   │\n",
      "╘═══════════════════════════╧══════════╛\n",
      "Validation1\n",
      "╒═══════════════════════════╤══════════╕\n",
      "│   Performance Indicator   │   TDQN   │\n",
      "╞═══════════════════════════╪══════════╡\n",
      "│    Profit & Loss (P&L)    │ 1609963  │\n",
      "├───────────────────────────┼──────────┤\n",
      "│     Annualized Return     │  48.61%  │\n",
      "├───────────────────────────┼──────────┤\n",
      "│   Annualized Volatility   │  59.90%  │\n",
      "├───────────────────────────┼──────────┤\n",
      "│       Sharpe Ratio        │  1.117   │\n",
      "├───────────────────────────┼──────────┤\n",
      "│       Sortino Ratio       │  1.466   │\n",
      "├───────────────────────────┼──────────┤\n",
      "│     Maximum Drawdown      │  83.47%  │\n",
      "├───────────────────────────┼──────────┤\n",
      "│ Maximum Drawdown Duration │ 364 days │\n",
      "├───────────────────────────┼──────────┤\n",
      "│       Profitability       │ 100.00%  │\n",
      "├───────────────────────────┼──────────┤\n",
      "│ Ratio Average Profit/Loss │   inf    │\n",
      "├───────────────────────────┼──────────┤\n",
      "│         Skewness          │  0.228   │\n",
      "╘═══════════════════════════╧══════════╛\n",
      "Training2\n"
     ]
    },
    {
     "name": "stderr",
     "output_type": "stream",
     "text": [
      "\r",
      "  0%|          | 0/1 [00:00<?, ?it/s]"
     ]
    },
    {
     "name": "stdout",
     "output_type": "stream",
     "text": [
      "Training progression (hardware selected => cpu):\n"
     ]
    },
    {
     "name": "stderr",
     "output_type": "stream",
     "text": [
      "100%|██████████| 1/1 [00:13<00:00, 13.68s/it]\n"
     ]
    },
    {
     "name": "stdout",
     "output_type": "stream",
     "text": [
      "╒═══════════════════════════╤═════════╕\n",
      "│   Performance Indicator   │  TDQN   │\n",
      "╞═══════════════════════════╪═════════╡\n",
      "│    Profit & Loss (P&L)    │  46126  │\n",
      "├───────────────────────────┼─────────┤\n",
      "│     Annualized Return     │ 20.32%  │\n",
      "├───────────────────────────┼─────────┤\n",
      "│   Annualized Volatility   │ 21.63%  │\n",
      "├───────────────────────────┼─────────┤\n",
      "│       Sharpe Ratio        │  0.713  │\n",
      "├───────────────────────────┼─────────┤\n",
      "│       Sortino Ratio       │  0.890  │\n",
      "├───────────────────────────┼─────────┤\n",
      "│     Maximum Drawdown      │ 24.59%  │\n",
      "├───────────────────────────┼─────────┤\n",
      "│ Maximum Drawdown Duration │ 54 days │\n",
      "├───────────────────────────┼─────────┤\n",
      "│       Profitability       │ 100.00% │\n",
      "├───────────────────────────┼─────────┤\n",
      "│ Ratio Average Profit/Loss │   inf   │\n",
      "├───────────────────────────┼─────────┤\n",
      "│         Skewness          │  0.257  │\n",
      "╘═══════════════════════════╧═════════╛\n",
      "Validation2\n",
      "╒═══════════════════════════╤══════════╕\n",
      "│   Performance Indicator   │   TDQN   │\n",
      "╞═══════════════════════════╪══════════╡\n",
      "│    Profit & Loss (P&L)    │ -100359  │\n",
      "├───────────────────────────┼──────────┤\n",
      "│     Annualized Return     │ -100.00% │\n",
      "├───────────────────────────┼──────────┤\n",
      "│   Annualized Volatility   │ 127.21%  │\n",
      "├───────────────────────────┼──────────┤\n",
      "│       Sharpe Ratio        │  -0.858  │\n",
      "├───────────────────────────┼──────────┤\n",
      "│       Sortino Ratio       │  -0.444  │\n",
      "├───────────────────────────┼──────────┤\n",
      "│     Maximum Drawdown      │ 100.54%  │\n",
      "├───────────────────────────┼──────────┤\n",
      "│ Maximum Drawdown Duration │ 357 days │\n",
      "├───────────────────────────┼──────────┤\n",
      "│       Profitability       │  0.00%   │\n",
      "├───────────────────────────┼──────────┤\n",
      "│ Ratio Average Profit/Loss │  0.000   │\n",
      "├───────────────────────────┼──────────┤\n",
      "│         Skewness          │ -10.363  │\n",
      "╘═══════════════════════════╧══════════╛\n",
      "Training3\n"
     ]
    },
    {
     "name": "stderr",
     "output_type": "stream",
     "text": [
      "\r",
      "  0%|          | 0/1 [00:00<?, ?it/s]"
     ]
    },
    {
     "name": "stdout",
     "output_type": "stream",
     "text": [
      "Training progression (hardware selected => cpu):\n"
     ]
    },
    {
     "name": "stderr",
     "output_type": "stream",
     "text": [
      "100%|██████████| 1/1 [00:19<00:00, 19.19s/it]\n"
     ]
    },
    {
     "name": "stdout",
     "output_type": "stream",
     "text": [
      "╒═══════════════════════════╤══════════╕\n",
      "│   Performance Indicator   │   TDQN   │\n",
      "╞═══════════════════════════╪══════════╡\n",
      "│    Profit & Loss (P&L)    │  20329   │\n",
      "├───────────────────────────┼──────────┤\n",
      "│     Annualized Return     │  21.47%  │\n",
      "├───────────────────────────┼──────────┤\n",
      "│   Annualized Volatility   │  52.63%  │\n",
      "├───────────────────────────┼──────────┤\n",
      "│       Sharpe Ratio        │  0.346   │\n",
      "├───────────────────────────┼──────────┤\n",
      "│       Sortino Ratio       │  0.427   │\n",
      "├───────────────────────────┼──────────┤\n",
      "│     Maximum Drawdown      │  78.61%  │\n",
      "├───────────────────────────┼──────────┤\n",
      "│ Maximum Drawdown Duration │ 346 days │\n",
      "├───────────────────────────┼──────────┤\n",
      "│       Profitability       │ 100.00%  │\n",
      "├───────────────────────────┼──────────┤\n",
      "│ Ratio Average Profit/Loss │   inf    │\n",
      "├───────────────────────────┼──────────┤\n",
      "│         Skewness          │  -0.133  │\n",
      "╘═══════════════════════════╧══════════╛\n",
      "Validation3\n",
      "╒═══════════════════════════╤══════════╕\n",
      "│   Performance Indicator   │   TDQN   │\n",
      "╞═══════════════════════════╪══════════╡\n",
      "│    Profit & Loss (P&L)    │  -95180  │\n",
      "├───────────────────────────┼──────────┤\n",
      "│     Annualized Return     │ -26.44%  │\n",
      "├───────────────────────────┼──────────┤\n",
      "│   Annualized Volatility   │ 2540.33% │\n",
      "├───────────────────────────┼──────────┤\n",
      "│       Sharpe Ratio        │  -0.006  │\n",
      "├───────────────────────────┼──────────┤\n",
      "│       Sortino Ratio       │  -0.003  │\n",
      "├───────────────────────────┼──────────┤\n",
      "│     Maximum Drawdown      │ 101.30%  │\n",
      "├───────────────────────────┼──────────┤\n",
      "│ Maximum Drawdown Duration │ 288 days │\n",
      "├───────────────────────────┼──────────┤\n",
      "│       Profitability       │  75.00%  │\n",
      "├───────────────────────────┼──────────┤\n",
      "│ Ratio Average Profit/Loss │  0.085   │\n",
      "├───────────────────────────┼──────────┤\n",
      "│         Skewness          │ -13.201  │\n",
      "╘═══════════════════════════╧══════════╛\n",
      "Training4\n"
     ]
    },
    {
     "name": "stderr",
     "output_type": "stream",
     "text": [
      "\r",
      "  0%|          | 0/1 [00:00<?, ?it/s]"
     ]
    },
    {
     "name": "stdout",
     "output_type": "stream",
     "text": [
      "Training progression (hardware selected => cpu):\n"
     ]
    },
    {
     "name": "stderr",
     "output_type": "stream",
     "text": [
      "100%|██████████| 1/1 [00:26<00:00, 26.78s/it]\n"
     ]
    },
    {
     "name": "stdout",
     "output_type": "stream",
     "text": [
      "╒═══════════════════════════╤═════════╕\n",
      "│   Performance Indicator   │  TDQN   │\n",
      "╞═══════════════════════════╪═════════╡\n",
      "│    Profit & Loss (P&L)    │ 1567618 │\n",
      "├───────────────────────────┼─────────┤\n",
      "│     Annualized Return     │ 48.52%  │\n",
      "├───────────────────────────┼─────────┤\n",
      "│   Annualized Volatility   │ 60.27%  │\n",
      "├───────────────────────────┼─────────┤\n",
      "│       Sharpe Ratio        │  1.106  │\n",
      "├───────────────────────────┼─────────┤\n",
      "│       Sortino Ratio       │  1.462  │\n",
      "├───────────────────────────┼─────────┤\n",
      "│     Maximum Drawdown      │ 34.94%  │\n",
      "├───────────────────────────┼─────────┤\n",
      "│ Maximum Drawdown Duration │ 14 days │\n",
      "├───────────────────────────┼─────────┤\n",
      "│       Profitability       │ 33.33%  │\n",
      "├───────────────────────────┼─────────┤\n",
      "│ Ratio Average Profit/Loss │ 44.409  │\n",
      "├───────────────────────────┼─────────┤\n",
      "│         Skewness          │  0.307  │\n",
      "╘═══════════════════════════╧═════════╛\n",
      "Validation4\n",
      "╒═══════════════════════════╤══════════╕\n",
      "│   Performance Indicator   │   TDQN   │\n",
      "╞═══════════════════════════╪══════════╡\n",
      "│    Profit & Loss (P&L)    │  -57209  │\n",
      "├───────────────────────────┼──────────┤\n",
      "│     Annualized Return     │ -64.14%  │\n",
      "├───────────────────────────┼──────────┤\n",
      "│   Annualized Volatility   │  53.39%  │\n",
      "├───────────────────────────┼──────────┤\n",
      "│       Sharpe Ratio        │  -0.828  │\n",
      "├───────────────────────────┼──────────┤\n",
      "│       Sortino Ratio       │  -1.063  │\n",
      "├───────────────────────────┼──────────┤\n",
      "│     Maximum Drawdown      │  66.23%  │\n",
      "├───────────────────────────┼──────────┤\n",
      "│ Maximum Drawdown Duration │ 285 days │\n",
      "├───────────────────────────┼──────────┤\n",
      "│       Profitability       │  0.00%   │\n",
      "├───────────────────────────┼──────────┤\n",
      "│ Ratio Average Profit/Loss │  0.000   │\n",
      "├───────────────────────────┼──────────┤\n",
      "│         Skewness          │  -0.150  │\n",
      "╘═══════════════════════════╧══════════╛\n",
      "Training5\n"
     ]
    },
    {
     "name": "stderr",
     "output_type": "stream",
     "text": [
      "\r",
      "  0%|          | 0/1 [00:00<?, ?it/s]"
     ]
    },
    {
     "name": "stdout",
     "output_type": "stream",
     "text": [
      "Training progression (hardware selected => cpu):\n"
     ]
    },
    {
     "name": "stderr",
     "output_type": "stream",
     "text": [
      "100%|██████████| 1/1 [00:35<00:00, 35.13s/it]\n",
      "/home/johnny/Documents/COMP3359_GP15_Deep_Reinforcement_Learning_in_Cryptocurrency_Algorithmic_Trading/tdqn/tradingEnv.py:266: RuntimeWarning: More than 20 figures have been opened. Figures created through the pyplot interface (`matplotlib.pyplot.figure`) are retained until explicitly closed and may consume too much memory. (To control this warning, see the rcParam `figure.max_open_warning`).\n",
      "  fig = plt.figure(figsize=(10, 8))\n"
     ]
    },
    {
     "name": "stdout",
     "output_type": "stream",
     "text": [
      "╒═══════════════════════════╤══════════╕\n",
      "│   Performance Indicator   │   TDQN   │\n",
      "╞═══════════════════════════╪══════════╡\n",
      "│    Profit & Loss (P&L)    │  364249  │\n",
      "├───────────────────────────┼──────────┤\n",
      "│     Annualized Return     │  31.41%  │\n",
      "├───────────────────────────┼──────────┤\n",
      "│   Annualized Volatility   │  61.81%  │\n",
      "├───────────────────────────┼──────────┤\n",
      "│       Sharpe Ratio        │  0.652   │\n",
      "├───────────────────────────┼──────────┤\n",
      "│       Sortino Ratio       │  0.855   │\n",
      "├───────────────────────────┼──────────┤\n",
      "│     Maximum Drawdown      │  83.46%  │\n",
      "├───────────────────────────┼──────────┤\n",
      "│ Maximum Drawdown Duration │ 364 days │\n",
      "├───────────────────────────┼──────────┤\n",
      "│       Profitability       │ 100.00%  │\n",
      "├───────────────────────────┼──────────┤\n",
      "│ Ratio Average Profit/Loss │   inf    │\n",
      "├───────────────────────────┼──────────┤\n",
      "│         Skewness          │  0.168   │\n",
      "╘═══════════════════════════╧══════════╛\n",
      "gamma: 0.6110878309644849, learningRate: 0.0031739092643619624, dropout: 0.3626014109882679,\n",
      "epsilonDecay: 278581.0578424952, alpha: 0.18340150182566753, L2Factor: 0.09259467892296477\n",
      "Training1\n"
     ]
    },
    {
     "name": "stderr",
     "output_type": "stream",
     "text": [
      "\r",
      "  0%|          | 0/1 [00:00<?, ?it/s]"
     ]
    },
    {
     "name": "stdout",
     "output_type": "stream",
     "text": [
      "Training progression (hardware selected => cpu):\n"
     ]
    },
    {
     "name": "stderr",
     "output_type": "stream",
     "text": [
      "100%|██████████| 1/1 [00:07<00:00,  7.45s/it]\n"
     ]
    },
    {
     "name": "stdout",
     "output_type": "stream",
     "text": [
      "╒═══════════════════════════╤═════════╕\n",
      "│   Performance Indicator   │  TDQN   │\n",
      "╞═══════════════════════════╪═════════╡\n",
      "│    Profit & Loss (P&L)    │  59669  │\n",
      "├───────────────────────────┼─────────┤\n",
      "│     Annualized Return     │ 52.64%  │\n",
      "├───────────────────────────┼─────────┤\n",
      "│   Annualized Volatility   │ 27.95%  │\n",
      "├───────────────────────────┼─────────┤\n",
      "│       Sharpe Ratio        │  1.296  │\n",
      "├───────────────────────────┼─────────┤\n",
      "│       Sortino Ratio       │  1.579  │\n",
      "├───────────────────────────┼─────────┤\n",
      "│     Maximum Drawdown      │ 24.59%  │\n",
      "├───────────────────────────┼─────────┤\n",
      "│ Maximum Drawdown Duration │ 54 days │\n",
      "├───────────────────────────┼─────────┤\n",
      "│       Profitability       │ 100.00% │\n",
      "├───────────────────────────┼─────────┤\n",
      "│ Ratio Average Profit/Loss │   inf   │\n",
      "├───────────────────────────┼─────────┤\n",
      "│         Skewness          │  0.072  │\n",
      "╘═══════════════════════════╧═════════╛\n",
      "Validation1\n",
      "╒═══════════════════════════╤══════════╕\n",
      "│   Performance Indicator   │   TDQN   │\n",
      "╞═══════════════════════════╪══════════╡\n",
      "│    Profit & Loss (P&L)    │ -100704  │\n",
      "├───────────────────────────┼──────────┤\n",
      "│     Annualized Return     │ -100.00% │\n",
      "├───────────────────────────┼──────────┤\n",
      "│   Annualized Volatility   │ 154.15%  │\n",
      "├───────────────────────────┼──────────┤\n",
      "│       Sharpe Ratio        │  -0.237  │\n",
      "├───────────────────────────┼──────────┤\n",
      "│       Sortino Ratio       │  -0.172  │\n",
      "├───────────────────────────┼──────────┤\n",
      "│     Maximum Drawdown      │ 100.68%  │\n",
      "├───────────────────────────┼──────────┤\n",
      "│ Maximum Drawdown Duration │ 294 days │\n",
      "├───────────────────────────┼──────────┤\n",
      "│       Profitability       │  0.00%   │\n",
      "├───────────────────────────┼──────────┤\n",
      "│ Ratio Average Profit/Loss │  0.000   │\n",
      "├───────────────────────────┼──────────┤\n",
      "│         Skewness          │  6.314   │\n",
      "╘═══════════════════════════╧══════════╛\n",
      "Training2\n"
     ]
    },
    {
     "name": "stderr",
     "output_type": "stream",
     "text": [
      "\r",
      "  0%|          | 0/1 [00:00<?, ?it/s]"
     ]
    },
    {
     "name": "stdout",
     "output_type": "stream",
     "text": [
      "Training progression (hardware selected => cpu):\n"
     ]
    },
    {
     "name": "stderr",
     "output_type": "stream",
     "text": [
      "100%|██████████| 1/1 [00:13<00:00, 13.55s/it]\n"
     ]
    },
    {
     "name": "stdout",
     "output_type": "stream",
     "text": [
      "╒═══════════════════════════╤══════════╕\n",
      "│   Performance Indicator   │   TDQN   │\n",
      "╞═══════════════════════════╪══════════╡\n",
      "│    Profit & Loss (P&L)    │  -46360  │\n",
      "├───────────────────────────┼──────────┤\n",
      "│     Annualized Return     │  -6.81%  │\n",
      "├───────────────────────────┼──────────┤\n",
      "│   Annualized Volatility   │  57.97%  │\n",
      "├───────────────────────────┼──────────┤\n",
      "│       Sharpe Ratio        │  -0.078  │\n",
      "├───────────────────────────┼──────────┤\n",
      "│       Sortino Ratio       │  -0.098  │\n",
      "├───────────────────────────┼──────────┤\n",
      "│     Maximum Drawdown      │  78.35%  │\n",
      "├───────────────────────────┼──────────┤\n",
      "│ Maximum Drawdown Duration │ 378 days │\n",
      "├───────────────────────────┼──────────┤\n",
      "│       Profitability       │  40.91%  │\n",
      "├───────────────────────────┼──────────┤\n",
      "│ Ratio Average Profit/Loss │  0.594   │\n",
      "├───────────────────────────┼──────────┤\n",
      "│         Skewness          │  -0.119  │\n",
      "╘═══════════════════════════╧══════════╛\n",
      "Validation2\n",
      "╒═══════════════════════════╤══════════╕\n",
      "│   Performance Indicator   │   TDQN   │\n",
      "╞═══════════════════════════╪══════════╡\n",
      "│    Profit & Loss (P&L)    │  914077  │\n",
      "├───────────────────────────┼──────────┤\n",
      "│     Annualized Return     │  61.12%  │\n",
      "├───────────────────────────┼──────────┤\n",
      "│   Annualized Volatility   │  63.23%  │\n",
      "├───────────────────────────┼──────────┤\n",
      "│       Sharpe Ratio        │  1.157   │\n",
      "├───────────────────────────┼──────────┤\n",
      "│       Sortino Ratio       │  1.529   │\n",
      "├───────────────────────────┼──────────┤\n",
      "│     Maximum Drawdown      │  83.47%  │\n",
      "├───────────────────────────┼──────────┤\n",
      "│ Maximum Drawdown Duration │ 364 days │\n",
      "├───────────────────────────┼──────────┤\n",
      "│       Profitability       │ 100.00%  │\n",
      "├───────────────────────────┼──────────┤\n",
      "│ Ratio Average Profit/Loss │   inf    │\n",
      "├───────────────────────────┼──────────┤\n",
      "│         Skewness          │  0.306   │\n",
      "╘═══════════════════════════╧══════════╛\n",
      "Training3\n"
     ]
    },
    {
     "name": "stderr",
     "output_type": "stream",
     "text": [
      "\r",
      "  0%|          | 0/1 [00:00<?, ?it/s]"
     ]
    },
    {
     "name": "stdout",
     "output_type": "stream",
     "text": [
      "Training progression (hardware selected => cpu):\n"
     ]
    },
    {
     "name": "stderr",
     "output_type": "stream",
     "text": [
      "100%|██████████| 1/1 [00:23<00:00, 23.65s/it]\n"
     ]
    },
    {
     "name": "stdout",
     "output_type": "stream",
     "text": [
      "╒═══════════════════════════╤══════════╕\n",
      "│   Performance Indicator   │   TDQN   │\n",
      "╞═══════════════════════════╪══════════╡\n",
      "│    Profit & Loss (P&L)    │  -20528  │\n",
      "├───────────────────────────┼──────────┤\n",
      "│     Annualized Return     │  -4.02%  │\n",
      "├───────────────────────────┼──────────┤\n",
      "│   Annualized Volatility   │  22.88%  │\n",
      "├───────────────────────────┼──────────┤\n",
      "│       Sharpe Ratio        │  -0.116  │\n",
      "├───────────────────────────┼──────────┤\n",
      "│       Sortino Ratio       │  -0.143  │\n",
      "├───────────────────────────┼──────────┤\n",
      "│     Maximum Drawdown      │  56.14%  │\n",
      "├───────────────────────────┼──────────┤\n",
      "│ Maximum Drawdown Duration │ 714 days │\n",
      "├───────────────────────────┼──────────┤\n",
      "│       Profitability       │  0.00%   │\n",
      "├───────────────────────────┼──────────┤\n",
      "│ Ratio Average Profit/Loss │  0.000   │\n",
      "├───────────────────────────┼──────────┤\n",
      "│         Skewness          │  0.048   │\n",
      "╘═══════════════════════════╧══════════╛\n",
      "Validation3\n",
      "╒═══════════════════════════╤══════════╕\n",
      "│   Performance Indicator   │   TDQN   │\n",
      "╞═══════════════════════════╪══════════╡\n",
      "│    Profit & Loss (P&L)    │ -102053  │\n",
      "├───────────────────────────┼──────────┤\n",
      "│     Annualized Return     │ 108.07%  │\n",
      "├───────────────────────────┼──────────┤\n",
      "│   Annualized Volatility   │ 314.11%  │\n",
      "├───────────────────────────┼──────────┤\n",
      "│       Sharpe Ratio        │  0.365   │\n",
      "├───────────────────────────┼──────────┤\n",
      "│       Sortino Ratio       │  0.764   │\n",
      "├───────────────────────────┼──────────┤\n",
      "│     Maximum Drawdown      │ 117.28%  │\n",
      "├───────────────────────────┼──────────┤\n",
      "│ Maximum Drawdown Duration │ 267 days │\n",
      "├───────────────────────────┼──────────┤\n",
      "│       Profitability       │  0.00%   │\n",
      "├───────────────────────────┼──────────┤\n",
      "│ Ratio Average Profit/Loss │  0.000   │\n",
      "├───────────────────────────┼──────────┤\n",
      "│         Skewness          │  14.253  │\n",
      "╘═══════════════════════════╧══════════╛\n",
      "Training4\n"
     ]
    },
    {
     "name": "stderr",
     "output_type": "stream",
     "text": [
      "\r",
      "  0%|          | 0/1 [00:00<?, ?it/s]"
     ]
    },
    {
     "name": "stdout",
     "output_type": "stream",
     "text": [
      "Training progression (hardware selected => cpu):\n"
     ]
    },
    {
     "name": "stderr",
     "output_type": "stream",
     "text": [
      "100%|██████████| 1/1 [00:35<00:00, 35.79s/it]\n"
     ]
    },
    {
     "name": "stdout",
     "output_type": "stream",
     "text": [
      "╒═══════════════════════════╤═════════╕\n",
      "│   Performance Indicator   │  TDQN   │\n",
      "╞═══════════════════════════╪═════════╡\n",
      "│    Profit & Loss (P&L)    │ 1623511 │\n",
      "├───────────────────────────┼─────────┤\n",
      "│     Annualized Return     │ 48.73%  │\n",
      "├───────────────────────────┼─────────┤\n",
      "│   Annualized Volatility   │ 60.13%  │\n",
      "├───────────────────────────┼─────────┤\n",
      "│       Sharpe Ratio        │  1.117  │\n",
      "├───────────────────────────┼─────────┤\n",
      "│       Sortino Ratio       │  1.475  │\n",
      "├───────────────────────────┼─────────┤\n",
      "│     Maximum Drawdown      │ 34.93%  │\n",
      "├───────────────────────────┼─────────┤\n",
      "│ Maximum Drawdown Duration │ 14 days │\n",
      "├───────────────────────────┼─────────┤\n",
      "│       Profitability       │ 100.00% │\n",
      "├───────────────────────────┼─────────┤\n",
      "│ Ratio Average Profit/Loss │   inf   │\n",
      "├───────────────────────────┼─────────┤\n",
      "│         Skewness          │  0.308  │\n",
      "╘═══════════════════════════╧═════════╛\n",
      "Validation4\n",
      "╒═══════════════════════════╤══════════╕\n",
      "│   Performance Indicator   │   TDQN   │\n",
      "╞═══════════════════════════╪══════════╡\n",
      "│    Profit & Loss (P&L)    │  -57209  │\n",
      "├───────────────────────────┼──────────┤\n",
      "│     Annualized Return     │ -64.14%  │\n",
      "├───────────────────────────┼──────────┤\n",
      "│   Annualized Volatility   │  53.39%  │\n",
      "├───────────────────────────┼──────────┤\n",
      "│       Sharpe Ratio        │  -0.828  │\n",
      "├───────────────────────────┼──────────┤\n",
      "│       Sortino Ratio       │  -1.063  │\n",
      "├───────────────────────────┼──────────┤\n",
      "│     Maximum Drawdown      │  66.23%  │\n",
      "├───────────────────────────┼──────────┤\n",
      "│ Maximum Drawdown Duration │ 285 days │\n",
      "├───────────────────────────┼──────────┤\n",
      "│       Profitability       │  0.00%   │\n",
      "├───────────────────────────┼──────────┤\n",
      "│ Ratio Average Profit/Loss │  0.000   │\n",
      "├───────────────────────────┼──────────┤\n",
      "│         Skewness          │  -0.150  │\n",
      "╘═══════════════════════════╧══════════╛\n",
      "Training5\n"
     ]
    },
    {
     "name": "stderr",
     "output_type": "stream",
     "text": [
      "\r",
      "  0%|          | 0/1 [00:00<?, ?it/s]"
     ]
    },
    {
     "name": "stdout",
     "output_type": "stream",
     "text": [
      "Training progression (hardware selected => cpu):\n"
     ]
    }
   ],
   "source": [
    "# randomized search optimization \n",
    "percentageCosts = [0, 0.1, 0.2]\n",
    "transactionCosts = percentageCosts[1]/100\n",
    "stateLength = 30\n",
    "OPTIMIZATION_TRAINING_PARAM = {\n",
    "    'money': 100000,\n",
    "    'percentageCosts': percentageCosts,\n",
    "    'transactionCosts': transactionCosts,\n",
    "    'name': 'training',\n",
    "    'network': '',\n",
    "    # Parameters related to the DQN algorithm\n",
    "    'stateLength': stateLength,\n",
    "    'numberOfEpisodes': 1,\n",
    "    'targetNetworkUpdate': 1000,\n",
    "    'learningUpdatePeriod': 1,\n",
    "    # Default parameters related to the Experience Replay mechanism\n",
    "    'capacity': 100000,\n",
    "    'batchSize': 32,\n",
    "    'experiencesRequired': 1000,\n",
    "    # Default parameters related to the Deep Neural Network\n",
    "    'numberOfNeurons': 512,\n",
    "    # Default parameters related to the Epsilon-Greedy exploration technique\n",
    "    'epsilonStart': 1.0,\n",
    "    'epsilonEnd': 0.01,\n",
    "    # Default parameters regarding the sticky actions RL generalization technique\n",
    "    # Default parameters related to preprocessing\n",
    "    'filterOrder': 5,\n",
    "    # Default paramters related to the clipping of both the gradient and the RL rewards\n",
    "    'gradientClipping': 1,\n",
    "    'rewardClipping': 1,\n",
    "}\n",
    "OPTIMIZATION_VALIDATION_PARAM = {\n",
    "    'money': 100000,\n",
    "    'stateLength': stateLength,\n",
    "    'transactionCosts': transactionCosts,\n",
    "    'name': 'validation',\n",
    "    'network': '',\n",
    "}\n",
    "# hyperparameters will be selected randomly from the range specified below\n",
    "OPTIMIZATION_HYPERPARAM = {\n",
    "    'gamma': [.1, .9],\n",
    "    'learningRate': [.0001, .005],\n",
    "    'dropout': [.1, .9],\n",
    "    'epsilonDecay': [5000,500000],\n",
    "    'alpha': [.1, .9],\n",
    "    'L2Factor': [.1, .000001],\n",
    "}\n",
    "\n",
    "strategy = \"TDQN\"\n",
    "trainCryptocurrency = \"Bitcoin\"\n",
    "OPTIMIZATION_TRAINING_PARAM['network'] = 'DuelingDQN'\n",
    "OPTIMIZATION_TRAINING_PARAM['name'] = 'btc_tdqn_DuelingDQN_training'\n",
    "OPTIMIZATION_VALIDATION_PARAM['network'] = 'DuelingDQN'\n",
    "OPTIMIZATION_VALIDATION_PARAM['name'] = 'btc_tdqn_DuelingDQN_validation'\n",
    "simulator.randomizedSearchOptimization(strategy, trainCryptocurrency, OPTIMIZATION_TRAINING_PARAM, OPTIMIZATION_VALIDATION_PARAM, OPTIMIZATION_HYPERPARAM, 3)\n",
    "print()"
   ]
  },
  {
   "cell_type": "code",
   "execution_count": null,
   "metadata": {},
   "outputs": [],
   "source": [
    "# set parameters after optimization\n",
    "percentageCosts = [0, 0.1, 0.2]\n",
    "transactionCosts = percentageCosts[1]/100\n",
    "stateLength = 30\n",
    "AI_TRAINING_PARAM = {\n",
    "    'money': 100000,\n",
    "    'percentageCosts': percentageCosts,\n",
    "    'transactionCosts': transactionCosts,\n",
    "    'name': 'training',\n",
    "    'network': '',\n",
    "    # Parameters related to the DQN algorithm\n",
    "    'stateLength': stateLength,\n",
    "    'numberOfEpisodes': 50,\n",
    "    'gamma': 0.4,\n",
    "    'learningRate': 0.0001,\n",
    "    'targetNetworkUpdate': 1000,\n",
    "    'learningUpdatePeriod': 1,\n",
    "    # Default parameters related to the Experience Replay mechanism\n",
    "    'capacity': 100000,\n",
    "    'batchSize': 32,\n",
    "    'experiencesRequired': 1000,\n",
    "    # Default parameters related to the Deep Neural Network\n",
    "    'numberOfNeurons': 512,\n",
    "    'dropout': 0.2,\n",
    "    # Default parameters related to the Epsilon-Greedy exploration technique\n",
    "    'epsilonStart': 1.0,\n",
    "    'epsilonEnd': 0.01,\n",
    "    'epsilonDecay': 10000,\n",
    "    # Default parameters regarding the sticky actions RL generalization technique\n",
    "    'alpha': 0.1,\n",
    "    # Default parameters related to preprocessing\n",
    "    'filterOrder': 5,\n",
    "    # Default paramters related to the clipping of both the gradient and the RL rewards\n",
    "    'gradientClipping': 1,\n",
    "    'rewardClipping': 1,\n",
    "    # Default parameter related to the L2 Regularization \n",
    "    'L2Factor': 0.000001,\n",
    "}\n",
    "\n",
    "NON_AI_TRAINING_PARAM = {\n",
    "    'startingDate': '2014-01-01',\n",
    "    'endingDate': '2019-01-01',\n",
    "    'money': 100000,\n",
    "    'stateLength': stateLength,\n",
    "    'percentageCosts': percentageCosts,\n",
    "    'transactionCosts': transactionCosts,\n",
    "    'name': 'training',\n",
    "    'network': ''\n",
    "}\n",
    "\n",
    "VALIDATION_PARAM = {\n",
    "    'money': 100000,\n",
    "    'stateLength': stateLength,\n",
    "    'transactionCosts': transactionCosts,\n",
    "    'name': 'validation',\n",
    "    'network': '',\n",
    "}\n",
    "\n",
    "BACKTEST_PARAM = {\n",
    "    'startingDate': '2014-01-01',\n",
    "    'endingDate': '2021-01-01',\n",
    "    'money': 100000,\n",
    "    'stateLength': stateLength,\n",
    "    'transactionCosts': transactionCosts,\n",
    "    'name': 'backtest',\n",
    "    'network': '',\n",
    "}\n",
    "\n",
    "TEST_PARAM = {\n",
    "    'startingDate': '2019-01-01',\n",
    "    'endingDate': '2021-01-01',\n",
    "    'money': 100000,\n",
    "    'stateLength': stateLength,\n",
    "    'transactionCosts': transactionCosts,\n",
    "    'name': 'test',\n",
    "    'network': '',\n",
    "}\n",
    "\n",
    "# ETH_TEST_PARAM = {\n",
    "#     'startingDate': '2019-01-01',\n",
    "#     'endingDate': '2021-01-01',\n",
    "#     'money': 100000,\n",
    "#     'stateLength': stateLength,\n",
    "#     'transactionCosts': transactionCosts,\n",
    "#     'name': 'test',\n",
    "#     'network': '',\n",
    "# }"
   ]
  },
  {
   "cell_type": "code",
   "execution_count": null,
   "metadata": {
    "scrolled": true
   },
   "outputs": [],
   "source": [
    "strategy = \"TDQN\"\n",
    "trainCryptocurrency = \"Bitcoin\"\n",
    "AI_TRAINING_PARAM['network'] = 'DuelingDQN'\n",
    "AI_TRAINING_PARAM['name'] = 'btc_tdqn_DuelingDQN_training'\n",
    "VALIDATION_PARAM['network'] = 'DuelingDQN'\n",
    "VALIDATION_PARAM['name'] = 'btc_tdqn_DuelingDQN_validation'\n",
    "simulator.aiTrainWithCrossValidation(strategy, trainCryptocurrency, AI_TRAINING_PARAM, VALIDATION_PARAM)\n",
    "print()"
   ]
  },
  {
   "cell_type": "code",
   "execution_count": null,
   "metadata": {
    "scrolled": true
   },
   "outputs": [],
   "source": [
    "strategy = \"TDQN\"\n",
    "trainCryptocurrency = \"Bitcoin\"\n",
    "testCryptocurrency = \"Bitcoin\"\n",
    "TEST_PARAM['name'] = 'btc_tdqn_DuelingDQN_test'\n",
    "TEST_PARAM['network'] = 'DuelingDQN'\n",
    "simulator.test(strategy, trainCryptocurrency, testCryptocurrency, AI_TRAINING_PARAM, TEST_PARAM)\n",
    "print()"
   ]
  },
  {
   "cell_type": "code",
   "execution_count": null,
   "metadata": {},
   "outputs": [],
   "source": [
    "strategy = \"TDQN\"\n",
    "trainCryptocurrency = \"Bitcoin\"\n",
    "testCryptocurrency = \"Bitcoin\"\n",
    "BACKTEST_PARAM['name'] = 'btc_tdqn_DuelingDQN_backtest'\n",
    "BACKTEST_PARAM['network'] = 'DuelingDQN'\n",
    "simulator.test(strategy, trainCryptocurrency, testCryptocurrency, AI_TRAINING_PARAM, BACKTEST_PARAM)\n",
    "print()"
   ]
  },
  {
   "cell_type": "code",
   "execution_count": null,
   "metadata": {},
   "outputs": [],
   "source": [
    "# Haven't scraped eth s2f\n",
    "# strategy = \"TDQN\"\n",
    "# trainCryptocurrency = \"Bitcoin\"\n",
    "# testCryptocurrency = \"Ethereum\"\n",
    "# ETH_TEST_PARAM['name'] = 'eth_tdqn_DQN_test'\n",
    "# ETH_TEST_PARAM['network'] = 'DQN'\n",
    "# simulator.test(strategy, trainCryptocurrency, testCryptocurrency, AI_TRAINING_PARAM, ETH_TEST_PARAM)\n",
    "# print()"
   ]
  },
  {
   "cell_type": "code",
   "execution_count": null,
   "metadata": {},
   "outputs": [],
   "source": [
    "# strategy = \"Mean Reversion Moving Averages\"\n",
    "# trainCryptocurrency = \"Bitcoin\"\n",
    "# NON_AI_TRAINING_PARAM['name'] = 'btc_mrma_training'\n",
    "# simulator.nonAiTrain(strategy, trainCryptocurrency, NON_AI_TRAINING_PARAM)\n",
    "# print()"
   ]
  },
  {
   "cell_type": "code",
   "execution_count": null,
   "metadata": {},
   "outputs": [],
   "source": [
    "# strategy = \"Mean Reversion Moving Averages\"\n",
    "# trainCryptocurrency = \"Bitcoin\"\n",
    "# testCryptocurrency = \"Bitcoin\"\n",
    "# BACKTEST_PARAM['name'] = 'btc_mrma_backtest'\n",
    "# simulator.test(strategy, trainCryptocurrency, testCryptocurrency, NON_AI_TRAINING_PARAM, BACKTEST_PARAM)\n",
    "# print()"
   ]
  },
  {
   "cell_type": "code",
   "execution_count": null,
   "metadata": {},
   "outputs": [],
   "source": [
    "# strategy = \"Mean Reversion Moving Averages\"\n",
    "# trainCryptocurrency = \"Bitcoin\"\n",
    "# testCryptocurrency = \"Bitcoin\"\n",
    "# TEST_PARAM['name'] = 'btc_mrma_test'\n",
    "# simulator.test(strategy, trainCryptocurrency, testCryptocurrency, NON_AI_TRAINING_PARAM, TEST_PARAM)\n",
    "# print()"
   ]
  },
  {
   "cell_type": "code",
   "execution_count": null,
   "metadata": {},
   "outputs": [],
   "source": [
    "# strategy = \"Mean Reversion Moving Averages\"\n",
    "# trainCryptocurrency = \"Bitcoin\"\n",
    "# testCryptocurrency = \"Ethereum\"\n",
    "# ETH_TEST_PARAM['name'] = 'eth_mrma_test'\n",
    "# simulator.test(strategy, trainCryptocurrency, testCryptocurrency, NON_AI_TRAINING_PARAM, ETH_TEST_PARAM)\n",
    "# print()"
   ]
  },
  {
   "cell_type": "code",
   "execution_count": null,
   "metadata": {},
   "outputs": [],
   "source": []
  }
 ],
 "metadata": {
  "kernelspec": {
   "display_name": "Python 3",
   "language": "python",
   "name": "python3"
  },
  "language_info": {
   "codemirror_mode": {
    "name": "ipython",
    "version": 3
   },
   "file_extension": ".py",
   "mimetype": "text/x-python",
   "name": "python",
   "nbconvert_exporter": "python",
   "pygments_lexer": "ipython3",
   "version": "3.8.5"
  }
 },
 "nbformat": 4,
 "nbformat_minor": 5
}
