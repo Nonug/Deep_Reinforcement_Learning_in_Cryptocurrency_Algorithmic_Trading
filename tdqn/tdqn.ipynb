{
 "cells": [
  {
   "cell_type": "code",
   "execution_count": 1,
   "metadata": {},
   "outputs": [],
   "source": [
    "# import the files\n",
    "from tradingSimulator import TradingSimulator\n",
    "simulator = TradingSimulator()"
   ]
  },
  {
   "cell_type": "code",
   "execution_count": null,
   "metadata": {},
   "outputs": [
    {
     "name": "stdout",
     "output_type": "stream",
     "text": [
      "gamma: 0.3595910651811134, learningRate: 0.004335379481498976, dropout: 0.13686954615999217,\n",
      "epsilonDecay: 324507.87798364006, alpha: 0.5948523919924134, L2Factor: 0.07227373240593507\n",
      "Training1\n"
     ]
    },
    {
     "name": "stderr",
     "output_type": "stream",
     "text": [
      "  0%|          | 0/50 [00:00<?, ?it/s]"
     ]
    },
    {
     "name": "stdout",
     "output_type": "stream",
     "text": [
      "Training progression (hardware selected => cuda:0):\n"
     ]
    },
    {
     "name": "stderr",
     "output_type": "stream",
     "text": [
      "100%|██████████| 50/50 [06:02<00:00,  7.25s/it]\n"
     ]
    },
    {
     "name": "stdout",
     "output_type": "stream",
     "text": [
      "╒═══════════════════════════╤═════════╕\n",
      "│   Performance Indicator   │  TDQN   │\n",
      "╞═══════════════════════════╪═════════╡\n",
      "│    Profit & Loss (P&L)    │  59862  │\n",
      "├───────────────────────────┼─────────┤\n",
      "│     Annualized Return     │ 52.79%  │\n",
      "├───────────────────────────┼─────────┤\n",
      "│   Annualized Volatility   │ 28.02%  │\n",
      "├───────────────────────────┼─────────┤\n",
      "│       Sharpe Ratio        │  1.296  │\n",
      "├───────────────────────────┼─────────┤\n",
      "│       Sortino Ratio       │  1.579  │\n",
      "├───────────────────────────┼─────────┤\n",
      "│     Maximum Drawdown      │ 24.64%  │\n",
      "├───────────────────────────┼─────────┤\n",
      "│ Maximum Drawdown Duration │ 54 days │\n",
      "├───────────────────────────┼─────────┤\n",
      "│       Profitability       │ 100.00% │\n",
      "├───────────────────────────┼─────────┤\n",
      "│ Ratio Average Profit/Loss │   inf   │\n",
      "├───────────────────────────┼─────────┤\n",
      "│         Skewness          │  0.072  │\n",
      "╘═══════════════════════════╧═════════╛\n",
      "Validation1\n",
      "╒═══════════════════════════╤══════════╕\n",
      "│   Performance Indicator   │   TDQN   │\n",
      "╞═══════════════════════════╪══════════╡\n",
      "│    Profit & Loss (P&L)    │ -100639  │\n",
      "├───────────────────────────┼──────────┤\n",
      "│     Annualized Return     │ -100.00% │\n",
      "├───────────────────────────┼──────────┤\n",
      "│   Annualized Volatility   │ 151.75%  │\n",
      "├───────────────────────────┼──────────┤\n",
      "│       Sharpe Ratio        │  -0.218  │\n",
      "├───────────────────────────┼──────────┤\n",
      "│       Sortino Ratio       │  -0.162  │\n",
      "├───────────────────────────┼──────────┤\n",
      "│     Maximum Drawdown      │ 100.62%  │\n",
      "├───────────────────────────┼──────────┤\n",
      "│ Maximum Drawdown Duration │ 294 days │\n",
      "├───────────────────────────┼──────────┤\n",
      "│       Profitability       │  0.00%   │\n",
      "├───────────────────────────┼──────────┤\n",
      "│ Ratio Average Profit/Loss │  0.000   │\n",
      "├───────────────────────────┼──────────┤\n",
      "│         Skewness          │  7.320   │\n",
      "╘═══════════════════════════╧══════════╛\n",
      "Training2\n"
     ]
    },
    {
     "name": "stderr",
     "output_type": "stream",
     "text": [
      "  0%|          | 0/50 [00:00<?, ?it/s]"
     ]
    },
    {
     "name": "stdout",
     "output_type": "stream",
     "text": [
      "Training progression (hardware selected => cuda:0):\n"
     ]
    },
    {
     "name": "stderr",
     "output_type": "stream",
     "text": [
      "100%|██████████| 50/50 [12:29<00:00, 14.99s/it]\n"
     ]
    },
    {
     "name": "stdout",
     "output_type": "stream",
     "text": [
      "╒═══════════════════════════╤═════════╕\n",
      "│   Performance Indicator   │  TDQN   │\n",
      "╞═══════════════════════════╪═════════╡\n",
      "│    Profit & Loss (P&L)    │  46275  │\n",
      "├───────────────────────────┼─────────┤\n",
      "│     Annualized Return     │ 20.38%  │\n",
      "├───────────────────────────┼─────────┤\n",
      "│   Annualized Volatility   │ 21.68%  │\n",
      "├───────────────────────────┼─────────┤\n",
      "│       Sharpe Ratio        │  0.714  │\n",
      "├───────────────────────────┼─────────┤\n",
      "│       Sortino Ratio       │  0.891  │\n",
      "├───────────────────────────┼─────────┤\n",
      "│     Maximum Drawdown      │ 24.64%  │\n",
      "├───────────────────────────┼─────────┤\n",
      "│ Maximum Drawdown Duration │ 54 days │\n",
      "├───────────────────────────┼─────────┤\n",
      "│       Profitability       │ 100.00% │\n",
      "├───────────────────────────┼─────────┤\n",
      "│ Ratio Average Profit/Loss │   inf   │\n",
      "├───────────────────────────┼─────────┤\n",
      "│         Skewness          │  0.257  │\n",
      "╘═══════════════════════════╧═════════╛\n",
      "Validation2\n",
      "╒═══════════════════════════╤══════════╕\n",
      "│   Performance Indicator   │   TDQN   │\n",
      "╞═══════════════════════════╪══════════╡\n",
      "│    Profit & Loss (P&L)    │ -100303  │\n",
      "├───────────────────────────┼──────────┤\n",
      "│     Annualized Return     │ -100.00% │\n",
      "├───────────────────────────┼──────────┤\n",
      "│   Annualized Volatility   │ 124.15%  │\n",
      "├───────────────────────────┼──────────┤\n",
      "│       Sharpe Ratio        │  -0.869  │\n",
      "├───────────────────────────┼──────────┤\n",
      "│       Sortino Ratio       │  -0.454  │\n",
      "├───────────────────────────┼──────────┤\n",
      "│     Maximum Drawdown      │ 100.49%  │\n",
      "├───────────────────────────┼──────────┤\n",
      "│ Maximum Drawdown Duration │ 357 days │\n",
      "├───────────────────────────┼──────────┤\n",
      "│       Profitability       │  0.00%   │\n",
      "├───────────────────────────┼──────────┤\n",
      "│ Ratio Average Profit/Loss │  0.000   │\n",
      "├───────────────────────────┼──────────┤\n",
      "│         Skewness          │  -9.519  │\n",
      "╘═══════════════════════════╧══════════╛\n",
      "Training3\n"
     ]
    },
    {
     "name": "stderr",
     "output_type": "stream",
     "text": [
      "  0%|          | 0/50 [00:00<?, ?it/s]"
     ]
    },
    {
     "name": "stdout",
     "output_type": "stream",
     "text": [
      "Training progression (hardware selected => cuda:0):\n"
     ]
    },
    {
     "name": "stderr",
     "output_type": "stream",
     "text": [
      "100%|██████████| 50/50 [19:00<00:00, 22.80s/it]\n"
     ]
    },
    {
     "name": "stdout",
     "output_type": "stream",
     "text": [
      "╒═══════════════════════════╤══════════╕\n",
      "│   Performance Indicator   │   TDQN   │\n",
      "╞═══════════════════════════╪══════════╡\n",
      "│    Profit & Loss (P&L)    │  -20594  │\n",
      "├───────────────────────────┼──────────┤\n",
      "│     Annualized Return     │  -4.03%  │\n",
      "├───────────────────────────┼──────────┤\n",
      "│   Annualized Volatility   │  22.94%  │\n",
      "├───────────────────────────┼──────────┤\n",
      "│       Sharpe Ratio        │  -0.116  │\n",
      "├───────────────────────────┼──────────┤\n",
      "│       Sortino Ratio       │  -0.142  │\n",
      "├───────────────────────────┼──────────┤\n",
      "│     Maximum Drawdown      │  56.24%  │\n",
      "├───────────────────────────┼──────────┤\n",
      "│ Maximum Drawdown Duration │ 714 days │\n",
      "├───────────────────────────┼──────────┤\n",
      "│       Profitability       │  0.00%   │\n",
      "├───────────────────────────┼──────────┤\n",
      "│ Ratio Average Profit/Loss │  0.000   │\n",
      "├───────────────────────────┼──────────┤\n",
      "│         Skewness          │  0.047   │\n",
      "╘═══════════════════════════╧══════════╛\n",
      "Validation3\n",
      "╒═══════════════════════════╤═════════╕\n",
      "│   Performance Indicator   │  TDQN   │\n",
      "╞═══════════════════════════╪═════════╡\n",
      "│    Profit & Loss (P&L)    │ -101024 │\n",
      "├───────────────────────────┼─────────┤\n",
      "│     Annualized Return     │ 267.35% │\n",
      "├───────────────────────────┼─────────┤\n",
      "│   Annualized Volatility   │ 965.77% │\n",
      "├───────────────────────────┼─────────┤\n",
      "│       Sharpe Ratio        │  0.445  │\n",
      "├───────────────────────────┼─────────┤\n",
      "│       Sortino Ratio       │  1.753  │\n",
      "├───────────────────────────┼─────────┤\n",
      "│     Maximum Drawdown      │ 100.99% │\n",
      "├───────────────────────────┼─────────┤\n",
      "│ Maximum Drawdown Duration │ 61 days │\n",
      "├───────────────────────────┼─────────┤\n",
      "│       Profitability       │  0.00%  │\n",
      "├───────────────────────────┼─────────┤\n",
      "│ Ratio Average Profit/Loss │  0.000  │\n",
      "├───────────────────────────┼─────────┤\n",
      "│         Skewness          │ 26.437  │\n",
      "╘═══════════════════════════╧═════════╛\n",
      "Training4\n"
     ]
    },
    {
     "name": "stderr",
     "output_type": "stream",
     "text": [
      "  0%|          | 0/50 [00:00<?, ?it/s]"
     ]
    },
    {
     "name": "stdout",
     "output_type": "stream",
     "text": [
      "Training progression (hardware selected => cuda:0):\n"
     ]
    },
    {
     "name": "stderr",
     "output_type": "stream",
     "text": [
      "100%|██████████| 50/50 [25:30<00:00, 30.61s/it]\n"
     ]
    },
    {
     "name": "stdout",
     "output_type": "stream",
     "text": [
      "╒═══════════════════════════╤═══════════╕\n",
      "│   Performance Indicator   │   TDQN    │\n",
      "╞═══════════════════════════╪═══════════╡\n",
      "│    Profit & Loss (P&L)    │  -100005  │\n",
      "├───────────────────────────┼───────────┤\n",
      "│     Annualized Return     │  134.47%  │\n",
      "├───────────────────────────┼───────────┤\n",
      "│   Annualized Volatility   │ 1374.92%  │\n",
      "├───────────────────────────┼───────────┤\n",
      "│       Sharpe Ratio        │   0.367   │\n",
      "├───────────────────────────┼───────────┤\n",
      "│       Sortino Ratio       │   3.091   │\n",
      "├───────────────────────────┼───────────┤\n",
      "│     Maximum Drawdown      │  100.00%  │\n",
      "├───────────────────────────┼───────────┤\n",
      "│ Maximum Drawdown Duration │ 1066 days │\n",
      "├───────────────────────────┼───────────┤\n",
      "│       Profitability       │   0.00%   │\n",
      "├───────────────────────────┼───────────┤\n",
      "│ Ratio Average Profit/Loss │   0.000   │\n",
      "├───────────────────────────┼───────────┤\n",
      "│         Skewness          │  36.271   │\n",
      "╘═══════════════════════════╧═══════════╛\n",
      "Validation4\n",
      "╒═══════════════════════════╤═════════╕\n",
      "│   Performance Indicator   │  TDQN   │\n",
      "╞═══════════════════════════╪═════════╡\n",
      "│    Profit & Loss (P&L)    │  62730  │\n",
      "├───────────────────────────┼─────────┤\n",
      "│     Annualized Return     │ 60.50%  │\n",
      "├───────────────────────────┼─────────┤\n",
      "│   Annualized Volatility   │ 40.19%  │\n",
      "├───────────────────────────┼─────────┤\n",
      "│       Sharpe Ratio        │  1.036  │\n",
      "├───────────────────────────┼─────────┤\n",
      "│       Sortino Ratio       │  1.439  │\n",
      "├───────────────────────────┼─────────┤\n",
      "│     Maximum Drawdown      │ 35.23%  │\n",
      "├───────────────────────────┼─────────┤\n",
      "│ Maximum Drawdown Duration │ 28 days │\n",
      "├───────────────────────────┼─────────┤\n",
      "│       Profitability       │ 100.00% │\n",
      "├───────────────────────────┼─────────┤\n",
      "│ Ratio Average Profit/Loss │   inf   │\n",
      "├───────────────────────────┼─────────┤\n",
      "│         Skewness          │  0.556  │\n",
      "╘═══════════════════════════╧═════════╛\n",
      "Training5\n"
     ]
    },
    {
     "name": "stderr",
     "output_type": "stream",
     "text": [
      "  0%|          | 0/50 [00:00<?, ?it/s]"
     ]
    },
    {
     "name": "stdout",
     "output_type": "stream",
     "text": [
      "Training progression (hardware selected => cuda:0):\n"
     ]
    },
    {
     "name": "stderr",
     "output_type": "stream",
     "text": [
      "100%|██████████| 50/50 [31:55<00:00, 38.30s/it]\n",
      "/userhome/cs/u3569279/COMP3359_GP15_Deep_Reinforcement_Learning_in_Cryptocurrency_Algorithmic_Trading/tdqn/tradingEnv.py:303: RuntimeWarning: More than 20 figures have been opened. Figures created through the pyplot interface (`matplotlib.pyplot.figure`) are retained until explicitly closed and may consume too much memory. (To control this warning, see the rcParam `figure.max_open_warning`).\n",
      "  fig = plt.figure(figsize=(10, 8))\n",
      "/userhome/cs/u3569279/COMP3359_GP15_Deep_Reinforcement_Learning_in_Cryptocurrency_Algorithmic_Trading/tdqn/TDQN.py:674: RuntimeWarning: More than 20 figures have been opened. Figures created through the pyplot interface (`matplotlib.pyplot.figure`) are retained until explicitly closed and may consume too much memory. (To control this warning, see the rcParam `figure.max_open_warning`).\n",
      "  fig = plt.figure()\n",
      "/userhome/cs/u3569279/COMP3359_GP15_Deep_Reinforcement_Learning_in_Cryptocurrency_Algorithmic_Trading/tdqn/TDQN.py:761: RuntimeWarning: More than 20 figures have been opened. Figures created through the pyplot interface (`matplotlib.pyplot.figure`) are retained until explicitly closed and may consume too much memory. (To control this warning, see the rcParam `figure.max_open_warning`).\n",
      "  fig = plt.figure()\n"
     ]
    },
    {
     "name": "stdout",
     "output_type": "stream",
     "text": [
      "╒═══════════════════════════╤══════════╕\n",
      "│   Performance Indicator   │   TDQN   │\n",
      "╞═══════════════════════════╪══════════╡\n",
      "│    Profit & Loss (P&L)    │  365424  │\n",
      "├───────────────────────────┼──────────┤\n",
      "│     Annualized Return     │  31.50%  │\n",
      "├───────────────────────────┼──────────┤\n",
      "│   Annualized Volatility   │  62.02%  │\n",
      "├───────────────────────────┼──────────┤\n",
      "│       Sharpe Ratio        │  0.652   │\n",
      "├───────────────────────────┼──────────┤\n",
      "│       Sortino Ratio       │  0.856   │\n",
      "├───────────────────────────┼──────────┤\n",
      "│     Maximum Drawdown      │  83.47%  │\n",
      "├───────────────────────────┼──────────┤\n",
      "│ Maximum Drawdown Duration │ 364 days │\n",
      "├───────────────────────────┼──────────┤\n",
      "│       Profitability       │ 100.00%  │\n",
      "├───────────────────────────┼──────────┤\n",
      "│ Ratio Average Profit/Loss │   inf    │\n",
      "├───────────────────────────┼──────────┤\n",
      "│         Skewness          │  0.166   │\n",
      "╘═══════════════════════════╧══════════╛\n",
      "gamma: 0.7071493697535111, learningRate: 0.0015748913253155114, dropout: 0.3293009506706196,\n",
      "epsilonDecay: 438562.5747311017, alpha: 0.7011027566385387, L2Factor: 0.07396668210423087\n",
      "Training1\n"
     ]
    },
    {
     "name": "stderr",
     "output_type": "stream",
     "text": [
      "  0%|          | 0/50 [00:00<?, ?it/s]"
     ]
    },
    {
     "name": "stdout",
     "output_type": "stream",
     "text": [
      "Training progression (hardware selected => cuda:0):\n"
     ]
    },
    {
     "name": "stderr",
     "output_type": "stream",
     "text": [
      "100%|██████████| 50/50 [06:06<00:00,  7.33s/it]\n"
     ]
    },
    {
     "name": "stdout",
     "output_type": "stream",
     "text": [
      "╒═══════════════════════════╤══════════╕\n",
      "│   Performance Indicator   │   TDQN   │\n",
      "╞═══════════════════════════╪══════════╡\n",
      "│    Profit & Loss (P&L)    │  -60061  │\n",
      "├───────────────────────────┼──────────┤\n",
      "│     Annualized Return     │ -66.55%  │\n",
      "├───────────────────────────┼──────────┤\n",
      "│   Annualized Volatility   │  59.14%  │\n",
      "├───────────────────────────┼──────────┤\n",
      "│       Sharpe Ratio        │  -0.776  │\n",
      "├───────────────────────────┼──────────┤\n",
      "│       Sortino Ratio       │  -1.066  │\n",
      "├───────────────────────────┼──────────┤\n",
      "│     Maximum Drawdown      │  61.78%  │\n",
      "├───────────────────────────┼──────────┤\n",
      "│ Maximum Drawdown Duration │ 331 days │\n",
      "├───────────────────────────┼──────────┤\n",
      "│       Profitability       │  0.00%   │\n",
      "├───────────────────────────┼──────────┤\n",
      "│ Ratio Average Profit/Loss │  0.000   │\n",
      "├───────────────────────────┼──────────┤\n",
      "│         Skewness          │  0.416   │\n",
      "╘═══════════════════════════╧══════════╛\n",
      "Validation1\n"
     ]
    },
    {
     "name": "stderr",
     "output_type": "stream",
     "text": [
      "/userhome/cs/u3569279/COMP3359_GP15_Deep_Reinforcement_Learning_in_Cryptocurrency_Algorithmic_Trading/tdqn/TDQN.py:778: RuntimeWarning: More than 20 figures have been opened. Figures created through the pyplot interface (`matplotlib.pyplot.figure`) are retained until explicitly closed and may consume too much memory. (To control this warning, see the rcParam `figure.max_open_warning`).\n",
      "  fig = plt.figure()\n"
     ]
    },
    {
     "name": "stdout",
     "output_type": "stream",
     "text": [
      "╒═══════════════════════════╤══════════╕\n",
      "│   Performance Indicator   │   TDQN   │\n",
      "╞═══════════════════════════╪══════════╡\n",
      "│    Profit & Loss (P&L)    │ 1613028  │\n",
      "├───────────────────────────┼──────────┤\n",
      "│     Annualized Return     │  48.63%  │\n",
      "├───────────────────────────┼──────────┤\n",
      "│   Annualized Volatility   │  59.92%  │\n",
      "├───────────────────────────┼──────────┤\n",
      "│       Sharpe Ratio        │  1.117   │\n",
      "├───────────────────────────┼──────────┤\n",
      "│       Sortino Ratio       │  1.466   │\n",
      "├───────────────────────────┼──────────┤\n",
      "│     Maximum Drawdown      │  83.47%  │\n",
      "├───────────────────────────┼──────────┤\n",
      "│ Maximum Drawdown Duration │ 364 days │\n",
      "├───────────────────────────┼──────────┤\n",
      "│       Profitability       │ 100.00%  │\n",
      "├───────────────────────────┼──────────┤\n",
      "│ Ratio Average Profit/Loss │   inf    │\n",
      "├───────────────────────────┼──────────┤\n",
      "│         Skewness          │  0.227   │\n",
      "╘═══════════════════════════╧══════════╛\n",
      "Training2\n"
     ]
    },
    {
     "name": "stderr",
     "output_type": "stream",
     "text": [
      "  0%|          | 0/50 [00:00<?, ?it/s]"
     ]
    },
    {
     "name": "stdout",
     "output_type": "stream",
     "text": [
      "Training progression (hardware selected => cuda:0):\n"
     ]
    },
    {
     "name": "stderr",
     "output_type": "stream",
     "text": [
      "100%|██████████| 50/50 [12:33<00:00, 15.06s/it]\n"
     ]
    },
    {
     "name": "stdout",
     "output_type": "stream",
     "text": [
      "╒═══════════════════════════╤═════════╕\n",
      "│   Performance Indicator   │  TDQN   │\n",
      "╞═══════════════════════════╪═════════╡\n",
      "│    Profit & Loss (P&L)    │  46275  │\n",
      "├───────────────────────────┼─────────┤\n",
      "│     Annualized Return     │ 20.38%  │\n",
      "├───────────────────────────┼─────────┤\n",
      "│   Annualized Volatility   │ 21.68%  │\n",
      "├───────────────────────────┼─────────┤\n",
      "│       Sharpe Ratio        │  0.714  │\n",
      "├───────────────────────────┼─────────┤\n",
      "│       Sortino Ratio       │  0.891  │\n",
      "├───────────────────────────┼─────────┤\n",
      "│     Maximum Drawdown      │ 24.64%  │\n",
      "├───────────────────────────┼─────────┤\n",
      "│ Maximum Drawdown Duration │ 54 days │\n",
      "├───────────────────────────┼─────────┤\n",
      "│       Profitability       │ 100.00% │\n",
      "├───────────────────────────┼─────────┤\n",
      "│ Ratio Average Profit/Loss │   inf   │\n",
      "├───────────────────────────┼─────────┤\n",
      "│         Skewness          │  0.257  │\n",
      "╘═══════════════════════════╧═════════╛\n",
      "Validation2\n",
      "╒═══════════════════════════╤══════════╕\n",
      "│   Performance Indicator   │   TDQN   │\n",
      "╞═══════════════════════════╪══════════╡\n",
      "│    Profit & Loss (P&L)    │ -100303  │\n",
      "├───────────────────────────┼──────────┤\n",
      "│     Annualized Return     │ -100.00% │\n",
      "├───────────────────────────┼──────────┤\n",
      "│   Annualized Volatility   │ 124.15%  │\n",
      "├───────────────────────────┼──────────┤\n",
      "│       Sharpe Ratio        │  -0.869  │\n",
      "├───────────────────────────┼──────────┤\n",
      "│       Sortino Ratio       │  -0.454  │\n",
      "├───────────────────────────┼──────────┤\n",
      "│     Maximum Drawdown      │ 100.49%  │\n",
      "├───────────────────────────┼──────────┤\n",
      "│ Maximum Drawdown Duration │ 357 days │\n",
      "├───────────────────────────┼──────────┤\n",
      "│       Profitability       │  0.00%   │\n",
      "├───────────────────────────┼──────────┤\n",
      "│ Ratio Average Profit/Loss │  0.000   │\n",
      "├───────────────────────────┼──────────┤\n",
      "│         Skewness          │  -9.519  │\n",
      "╘═══════════════════════════╧══════════╛\n",
      "Training3\n"
     ]
    },
    {
     "name": "stderr",
     "output_type": "stream",
     "text": [
      "  0%|          | 0/50 [00:00<?, ?it/s]"
     ]
    },
    {
     "name": "stdout",
     "output_type": "stream",
     "text": [
      "Training progression (hardware selected => cuda:0):\n"
     ]
    },
    {
     "name": "stderr",
     "output_type": "stream",
     "text": [
      "100%|██████████| 50/50 [19:00<00:00, 22.80s/it]\n"
     ]
    },
    {
     "name": "stdout",
     "output_type": "stream",
     "text": [
      "╒═══════════════════════════╤══════════╕\n",
      "│   Performance Indicator   │   TDQN   │\n",
      "╞═══════════════════════════╪══════════╡\n",
      "│    Profit & Loss (P&L)    │  -20594  │\n",
      "├───────────────────────────┼──────────┤\n",
      "│     Annualized Return     │  -4.03%  │\n",
      "├───────────────────────────┼──────────┤\n",
      "│   Annualized Volatility   │  22.94%  │\n",
      "├───────────────────────────┼──────────┤\n",
      "│       Sharpe Ratio        │  -0.116  │\n",
      "├───────────────────────────┼──────────┤\n",
      "│       Sortino Ratio       │  -0.142  │\n",
      "├───────────────────────────┼──────────┤\n",
      "│     Maximum Drawdown      │  56.24%  │\n",
      "├───────────────────────────┼──────────┤\n",
      "│ Maximum Drawdown Duration │ 714 days │\n",
      "├───────────────────────────┼──────────┤\n",
      "│       Profitability       │  0.00%   │\n",
      "├───────────────────────────┼──────────┤\n",
      "│ Ratio Average Profit/Loss │  0.000   │\n",
      "├───────────────────────────┼──────────┤\n",
      "│         Skewness          │  0.047   │\n",
      "╘═══════════════════════════╧══════════╛\n",
      "Validation3\n",
      "╒═══════════════════════════╤═════════╕\n",
      "│   Performance Indicator   │  TDQN   │\n",
      "╞═══════════════════════════╪═════════╡\n",
      "│    Profit & Loss (P&L)    │ -101024 │\n",
      "├───────────────────────────┼─────────┤\n",
      "│     Annualized Return     │ 267.35% │\n",
      "├───────────────────────────┼─────────┤\n",
      "│   Annualized Volatility   │ 965.77% │\n",
      "├───────────────────────────┼─────────┤\n",
      "│       Sharpe Ratio        │  0.445  │\n",
      "├───────────────────────────┼─────────┤\n",
      "│       Sortino Ratio       │  1.753  │\n",
      "├───────────────────────────┼─────────┤\n",
      "│     Maximum Drawdown      │ 100.99% │\n",
      "├───────────────────────────┼─────────┤\n",
      "│ Maximum Drawdown Duration │ 61 days │\n",
      "├───────────────────────────┼─────────┤\n",
      "│       Profitability       │  0.00%  │\n",
      "├───────────────────────────┼─────────┤\n",
      "│ Ratio Average Profit/Loss │  0.000  │\n",
      "├───────────────────────────┼─────────┤\n",
      "│         Skewness          │ 26.437  │\n",
      "╘═══════════════════════════╧═════════╛\n",
      "Training4\n"
     ]
    },
    {
     "name": "stderr",
     "output_type": "stream",
     "text": [
      "  0%|          | 0/50 [00:00<?, ?it/s]"
     ]
    },
    {
     "name": "stdout",
     "output_type": "stream",
     "text": [
      "Training progression (hardware selected => cuda:0):\n"
     ]
    },
    {
     "name": "stderr",
     "output_type": "stream",
     "text": [
      "100%|██████████| 50/50 [25:27<00:00, 30.55s/it]\n"
     ]
    },
    {
     "name": "stdout",
     "output_type": "stream",
     "text": [
      "╒═══════════════════════════╤═══════════╕\n",
      "│   Performance Indicator   │   TDQN    │\n",
      "╞═══════════════════════════╪═══════════╡\n",
      "│    Profit & Loss (P&L)    │  -100005  │\n",
      "├───────────────────────────┼───────────┤\n",
      "│     Annualized Return     │  134.47%  │\n",
      "├───────────────────────────┼───────────┤\n",
      "│   Annualized Volatility   │ 1374.92%  │\n",
      "├───────────────────────────┼───────────┤\n",
      "│       Sharpe Ratio        │   0.367   │\n",
      "├───────────────────────────┼───────────┤\n",
      "│       Sortino Ratio       │   3.091   │\n",
      "├───────────────────────────┼───────────┤\n",
      "│     Maximum Drawdown      │  100.00%  │\n",
      "├───────────────────────────┼───────────┤\n",
      "│ Maximum Drawdown Duration │ 1066 days │\n",
      "├───────────────────────────┼───────────┤\n",
      "│       Profitability       │   0.00%   │\n",
      "├───────────────────────────┼───────────┤\n",
      "│ Ratio Average Profit/Loss │   0.000   │\n",
      "├───────────────────────────┼───────────┤\n",
      "│         Skewness          │  36.271   │\n",
      "╘═══════════════════════════╧═══════════╛\n",
      "Validation4\n",
      "╒═══════════════════════════╤═════════╕\n",
      "│   Performance Indicator   │  TDQN   │\n",
      "╞═══════════════════════════╪═════════╡\n",
      "│    Profit & Loss (P&L)    │  62730  │\n",
      "├───────────────────────────┼─────────┤\n",
      "│     Annualized Return     │ 60.50%  │\n",
      "├───────────────────────────┼─────────┤\n",
      "│   Annualized Volatility   │ 40.19%  │\n",
      "├───────────────────────────┼─────────┤\n",
      "│       Sharpe Ratio        │  1.036  │\n",
      "├───────────────────────────┼─────────┤\n",
      "│       Sortino Ratio       │  1.439  │\n",
      "├───────────────────────────┼─────────┤\n",
      "│     Maximum Drawdown      │ 35.23%  │\n",
      "├───────────────────────────┼─────────┤\n",
      "│ Maximum Drawdown Duration │ 28 days │\n",
      "├───────────────────────────┼─────────┤\n",
      "│       Profitability       │ 100.00% │\n",
      "├───────────────────────────┼─────────┤\n",
      "│ Ratio Average Profit/Loss │   inf   │\n",
      "├───────────────────────────┼─────────┤\n",
      "│         Skewness          │  0.556  │\n",
      "╘═══════════════════════════╧═════════╛\n",
      "Training5\n"
     ]
    },
    {
     "name": "stderr",
     "output_type": "stream",
     "text": [
      "  0%|          | 0/50 [00:00<?, ?it/s]"
     ]
    },
    {
     "name": "stdout",
     "output_type": "stream",
     "text": [
      "Training progression (hardware selected => cuda:0):\n"
     ]
    },
    {
     "name": "stderr",
     "output_type": "stream",
     "text": [
      "100%|██████████| 50/50 [32:04<00:00, 38.49s/it]\n"
     ]
    },
    {
     "name": "stdout",
     "output_type": "stream",
     "text": [
      "╒═══════════════════════════╤═══════════╕\n",
      "│   Performance Indicator   │   TDQN    │\n",
      "╞═══════════════════════════╪═══════════╡\n",
      "│    Profit & Loss (P&L)    │  -100005  │\n",
      "├───────────────────────────┼───────────┤\n",
      "│     Annualized Return     │  97.73%   │\n",
      "├───────────────────────────┼───────────┤\n",
      "│   Annualized Volatility   │ 1229.83%  │\n",
      "├───────────────────────────┼───────────┤\n",
      "│       Sharpe Ratio        │   0.328   │\n",
      "├───────────────────────────┼───────────┤\n",
      "│       Sortino Ratio       │   2.698   │\n",
      "├───────────────────────────┼───────────┤\n",
      "│     Maximum Drawdown      │  100.00%  │\n",
      "├───────────────────────────┼───────────┤\n",
      "│ Maximum Drawdown Duration │ 1066 days │\n",
      "├───────────────────────────┼───────────┤\n",
      "│       Profitability       │   0.00%   │\n",
      "├───────────────────────────┼───────────┤\n",
      "│ Ratio Average Profit/Loss │   0.000   │\n",
      "├───────────────────────────┼───────────┤\n",
      "│         Skewness          │  40.550   │\n",
      "╘═══════════════════════════╧═══════════╛\n",
      "gamma: 0.8463823731519561, learningRate: 0.0025491097457794494, dropout: 0.6787545911174924,\n",
      "epsilonDecay: 467510.6654737136, alpha: 0.6650722263073945, L2Factor: 0.008362810306342783\n",
      "Training1\n"
     ]
    },
    {
     "name": "stderr",
     "output_type": "stream",
     "text": [
      "  0%|          | 0/50 [00:00<?, ?it/s]"
     ]
    },
    {
     "name": "stdout",
     "output_type": "stream",
     "text": [
      "Training progression (hardware selected => cuda:0):\n"
     ]
    },
    {
     "name": "stderr",
     "output_type": "stream",
     "text": [
      " 56%|█████▌    | 28/50 [03:27<02:43,  7.43s/it]"
     ]
    }
   ],
   "source": [
    "# randomized search optimization \n",
    "percentageCosts = [0, 0.1, 0.2]\n",
    "transactionCosts = percentageCosts[1]/100\n",
    "stateLength = 30\n",
    "OPTIMIZATION_TRAINING_PARAM = {\n",
    "    'money': 100000,\n",
    "    'percentageCosts': percentageCosts,\n",
    "    'transactionCosts': transactionCosts,\n",
    "    'name': 'training',\n",
    "    'network': '',\n",
    "    # Parameters related to the DQN algorithm\n",
    "    'stateLength': stateLength,\n",
    "    'numberOfEpisodes': 50,\n",
    "    'targetNetworkUpdate': 1000,\n",
    "    'learningUpdatePeriod': 1,\n",
    "    # Default parameters related to the Experience Replay mechanism\n",
    "    'capacity': 100000,\n",
    "    'batchSize': 32,\n",
    "    'experiencesRequired': 1000,\n",
    "    # Default parameters related to the Deep Neural Network\n",
    "    'numberOfNeurons': 512,\n",
    "    # Default parameters related to the Epsilon-Greedy exploration technique\n",
    "    'epsilonStart': 1.0,\n",
    "    'epsilonEnd': 0.01,\n",
    "    # Default parameters regarding the sticky actions RL generalization technique\n",
    "    # Default parameters related to preprocessing\n",
    "    'filterOrder': 5,\n",
    "    # Default paramters related to the clipping of both the gradient and the RL rewards\n",
    "    'gradientClipping': 1,\n",
    "    'rewardClipping': 1,\n",
    "}\n",
    "OPTIMIZATION_VALIDATION_PARAM = {\n",
    "    'money': 100000,\n",
    "    'stateLength': stateLength,\n",
    "    'transactionCosts': transactionCosts,\n",
    "    'name': 'validation',\n",
    "    'network': '',\n",
    "}\n",
    "# hyperparameters will be selected randomly from the range specified below\n",
    "OPTIMIZATION_HYPERPARAM = {\n",
    "    'gamma': [.1, .9],\n",
    "    'learningRate': [.0001, .005],\n",
    "    'dropout': [.1, .9],\n",
    "    'epsilonDecay': [5000,500000],\n",
    "    'alpha': [.1, .9],\n",
    "    'L2Factor': [.1, .000001],\n",
    "}\n",
    "\n",
    "strategy = \"TDQN\"\n",
    "trainCryptocurrency = \"Bitcoin\"\n",
    "OPTIMIZATION_TRAINING_PARAM['network'] = 'ConvDuelingDQN'\n",
    "OPTIMIZATION_TRAINING_PARAM['name'] = 'btc_tdqn_ConvDuelingDQN_training'\n",
    "OPTIMIZATION_VALIDATION_PARAM['network'] = 'ConvDuelingDQN'\n",
    "OPTIMIZATION_VALIDATION_PARAM['name'] = 'btc_tdqn_ConvDuelingDQN_validation'\n",
    "simulator.randomizedSearchOptimization(strategy, trainCryptocurrency, OPTIMIZATION_TRAINING_PARAM, OPTIMIZATION_VALIDATION_PARAM, OPTIMIZATION_HYPERPARAM, 3)\n",
    "print()"
   ]
  },
  {
   "cell_type": "code",
   "execution_count": 2,
   "metadata": {},
   "outputs": [],
   "source": [
    "# set parameters after optimization\n",
    "percentageCosts = [0, 0.1, 0.2]\n",
    "transactionCosts = percentageCosts[1]/100\n",
    "stateLength = 30\n",
    "AI_TRAINING_PARAM = {\n",
    "    'startingDate': '2014-01-01',\n",
    "    'endingDate': '2019-01-01',\n",
    "    'money': 100000,\n",
    "    'percentageCosts': percentageCosts,\n",
    "    'transactionCosts': transactionCosts,\n",
    "    'name': 'training',\n",
    "    'network': '',\n",
    "    # Parameters related to the DQN algorithm\n",
    "    'stateLength': stateLength,\n",
    "    'numberOfEpisodes': 50,\n",
    "    'gamma': 0.15702,\n",
    "    'learningRate': 0.0018921,\n",
    "    'targetNetworkUpdate': 1000,\n",
    "    'learningUpdatePeriod': 1,\n",
    "    # Default parameters related to the Experience Replay mechanism\n",
    "    'capacity': 100000,\n",
    "    'batchSize': 32,\n",
    "    'experiencesRequired': 1000,\n",
    "    # Default parameters related to the Deep Neural Network\n",
    "    'numberOfNeurons': 512,\n",
    "    'dropout': 0.35739,\n",
    "    # Default parameters related to the Epsilon-Greedy exploration technique\n",
    "    'epsilonStart': 1.0,\n",
    "    'epsilonEnd': 0.01,\n",
    "    'epsilonDecay': 129343,\n",
    "    # Default parameters regarding the sticky actions RL generalization technique\n",
    "    'alpha': 0.11305,\n",
    "    # Default parameters related to preprocessing\n",
    "    'filterOrder': 5,\n",
    "    # Default paramters related to the clipping of both the gradient and the RL rewards\n",
    "    'gradientClipping': 1,\n",
    "    'rewardClipping': 1,\n",
    "    # Default parameter related to the L2 Regularization \n",
    "    'L2Factor': 0.077270,\n",
    "}\n",
    "\n",
    "BACKTEST_PARAM = {\n",
    "    'startingDate': '2014-01-01',\n",
    "    'endingDate': '2021-01-01',\n",
    "    'money': 100000,\n",
    "    'stateLength': stateLength,\n",
    "    'transactionCosts': transactionCosts,\n",
    "    'name': 'backtest',\n",
    "    'network': '',\n",
    "}\n",
    "\n",
    "TEST_PARAM = {\n",
    "    'startingDate': '2019-01-01',\n",
    "    'endingDate': '2021-01-01',\n",
    "    'money': 100000,\n",
    "    'stateLength': stateLength,\n",
    "    'transactionCosts': transactionCosts,\n",
    "    'name': 'test',\n",
    "    'network': '',\n",
    "}"
   ]
  },
  {
   "cell_type": "code",
   "execution_count": 3,
   "metadata": {},
   "outputs": [
    {
     "name": "stderr",
     "output_type": "stream",
     "text": [
      "  0%|          | 0/50 [00:00<?, ?it/s]"
     ]
    },
    {
     "name": "stdout",
     "output_type": "stream",
     "text": [
      "Training progression (hardware selected => cuda:0):\n"
     ]
    },
    {
     "name": "stderr",
     "output_type": "stream",
     "text": [
      "100%|██████████| 50/50 [32:12<00:00, 38.66s/it]\n"
     ]
    },
    {
     "name": "stdout",
     "output_type": "stream",
     "text": [
      "╒═══════════════════════════╤══════════╕\n",
      "│   Performance Indicator   │   TDQN   │\n",
      "╞═══════════════════════════╪══════════╡\n",
      "│    Profit & Loss (P&L)    │  365424  │\n",
      "├───────────────────────────┼──────────┤\n",
      "│     Annualized Return     │  31.50%  │\n",
      "├───────────────────────────┼──────────┤\n",
      "│   Annualized Volatility   │  62.02%  │\n",
      "├───────────────────────────┼──────────┤\n",
      "│       Sharpe Ratio        │  0.652   │\n",
      "├───────────────────────────┼──────────┤\n",
      "│       Sortino Ratio       │  0.856   │\n",
      "├───────────────────────────┼──────────┤\n",
      "│     Maximum Drawdown      │  83.47%  │\n",
      "├───────────────────────────┼──────────┤\n",
      "│ Maximum Drawdown Duration │ 364 days │\n",
      "├───────────────────────────┼──────────┤\n",
      "│       Profitability       │ 100.00%  │\n",
      "├───────────────────────────┼──────────┤\n",
      "│ Ratio Average Profit/Loss │   inf    │\n",
      "├───────────────────────────┼──────────┤\n",
      "│         Skewness          │  0.166   │\n",
      "╘═══════════════════════════╧══════════╛\n",
      "\n"
     ]
    },
    {
     "data": {
      "image/png": "[encoded data removed]",
      "text/plain": [
       "<Figure size 720x576 with 2 Axes>"
      ]
     },
     "metadata": {
      "needs_background": "light"
     },
     "output_type": "display_data"
    },
    {
     "data": {
      "image/png": "[encoded data removed]",
      "text/plain": [
       "<Figure size 432x288 with 1 Axes>"
      ]
     },
     "metadata": {
      "needs_background": "light"
     },
     "output_type": "display_data"
    },
    {
     "data": {
      "image/png": "[encoded data removed]",
      "text/plain": [
       "<Figure size 432x288 with 1 Axes>"
      ]
     },
     "metadata": {
      "needs_background": "light"
     },
     "output_type": "display_data"
    }
   ],
   "source": [
    "strategy = \"TDQN\"\n",
    "trainCryptocurrency = \"Bitcoin\"\n",
    "AI_TRAINING_PARAM['network'] = 'ConvDuelingDQN'\n",
    "AI_TRAINING_PARAM['name'] = 'btc_tdqn_ConvDuelingDQN_training'\n",
    "simulator.aiTrain(strategy, trainCryptocurrency, AI_TRAINING_PARAM)\n",
    "print()"
   ]
  },
  {
   "cell_type": "code",
   "execution_count": 4,
   "metadata": {},
   "outputs": [
    {
     "name": "stdout",
     "output_type": "stream",
     "text": [
      "╒═══════════════════════════╤══════════╕\n",
      "│   Performance Indicator   │   TDQN   │\n",
      "╞═══════════════════════════╪══════════╡\n",
      "│    Profit & Loss (P&L)    │  737504  │\n",
      "├───────────────────────────┼──────────┤\n",
      "│     Annualized Return     │  90.75%  │\n",
      "├───────────────────────────┼──────────┤\n",
      "│   Annualized Volatility   │  58.13%  │\n",
      "├───────────────────────────┼──────────┤\n",
      "│       Sharpe Ratio        │  1.565   │\n",
      "├───────────────────────────┼──────────┤\n",
      "│       Sortino Ratio       │  1.897   │\n",
      "├───────────────────────────┼──────────┤\n",
      "│     Maximum Drawdown      │  62.62%  │\n",
      "├───────────────────────────┼──────────┤\n",
      "│ Maximum Drawdown Duration │ 260 days │\n",
      "├───────────────────────────┼──────────┤\n",
      "│       Profitability       │ 100.00%  │\n",
      "├───────────────────────────┼──────────┤\n",
      "│ Ratio Average Profit/Loss │   inf    │\n",
      "├───────────────────────────┼──────────┤\n",
      "│         Skewness          │  -1.061  │\n",
      "╘═══════════════════════════╧══════════╛\n",
      "\n"
     ]
    },
    {
     "data": {
      "image/png": "[encoded data removed]",
      "text/plain": [
       "<Figure size 720x576 with 2 Axes>"
      ]
     },
     "metadata": {
      "needs_background": "light"
     },
     "output_type": "display_data"
    },
    {
     "data": {
      "image/png": "[encoded data removed]",
      "text/plain": [
       "<Figure size 432x288 with 1 Axes>"
      ]
     },
     "metadata": {
      "needs_background": "light"
     },
     "output_type": "display_data"
    }
   ],
   "source": [
    "strategy = \"TDQN\"\n",
    "trainCryptocurrency = \"Bitcoin\"\n",
    "testCryptocurrency = \"Bitcoin\"\n",
    "TEST_PARAM['name'] = 'btc_tdqn_ConvDuelingDQN_test'\n",
    "TEST_PARAM['network'] = 'ConvDuelingDQN'\n",
    "simulator.test(strategy, trainCryptocurrency, testCryptocurrency, AI_TRAINING_PARAM, TEST_PARAM)\n",
    "print()"
   ]
  }
 ],
 "metadata": {
  "kernelspec": {
   "display_name": "Python 3",
   "language": "python",
   "name": "python3"
  },
  "language_info": {
   "codemirror_mode": {
    "name": "ipython",
    "version": 3
   },
   "file_extension": ".py",
   "mimetype": "text/x-python",
   "name": "python",
   "nbconvert_exporter": "python",
   "pygments_lexer": "ipython3",
   "version": "3.7.4"
  }
 },
 "nbformat": 4,
 "nbformat_minor": 4
}
