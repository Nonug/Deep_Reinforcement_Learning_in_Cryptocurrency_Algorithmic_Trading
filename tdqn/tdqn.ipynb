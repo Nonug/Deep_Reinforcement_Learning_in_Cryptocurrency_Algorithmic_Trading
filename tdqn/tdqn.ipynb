{
 "cells": [
  {
   "cell_type": "code",
   "execution_count": 1,
   "metadata": {},
   "outputs": [],
   "source": [
    "# import the files\n",
    "from tradingSimulator import TradingSimulator\n",
    "simulator = TradingSimulator()"
   ]
  },
  {
   "cell_type": "code",
   "execution_count": 2,
   "metadata": {},
   "outputs": [],
   "source": [
    "# strategy, cryptocurrency and network supported\n",
    "# strategy in {\n",
    "#     'Buy and Hold',\n",
    "#     'Sell and Hold',\n",
    "#     'Trend Following Moving Averages',\n",
    "#     'Mean Reversion Moving Averages',\n",
    "#     'TDQN'\n",
    "# }\n",
    "# cryptocurrency in {'Bitcoin'}\n",
    "# network in {\"DQN\", \"LSTM\", \"ConvDuelingDQN\"}"
   ]
  },
  {
   "cell_type": "code",
   "execution_count": 3,
   "metadata": {},
   "outputs": [],
   "source": [
    "# # EDA\n",
    "# cryptocurrency = \"Bitcoin\"\n",
    "# simulator.exploratoryDataAnalysis(cryptocurrency, '2014-01-01', '2021-01-01')"
   ]
  },
  {
   "cell_type": "code",
   "execution_count": 4,
   "metadata": {},
   "outputs": [],
   "source": [
    "# # randomized search optimization \n",
    "# percentageCosts = [0, 0.1, 0.2]\n",
    "# transactionCosts = percentageCosts[1]/100\n",
    "# stateLength = 30\n",
    "# OPTIMIZATION_TRAINING_PARAM = {\n",
    "#     'money': 100000,\n",
    "#     'percentageCosts': percentageCosts,\n",
    "#     'transactionCosts': transactionCosts,\n",
    "#     'name': 'training',\n",
    "#     'network': '',\n",
    "#     # Parameters related to the DQN algorithm\n",
    "#     'stateLength': stateLength,\n",
    "#     'numberOfEpisodes': 1,\n",
    "#     'targetNetworkUpdate': 1000,\n",
    "#     'learningUpdatePeriod': 1,\n",
    "#     # Default parameters related to the Experience Replay mechanism\n",
    "#     'capacity': 100000,\n",
    "#     'batchSize': 32,\n",
    "#     'experiencesRequired': 1000,\n",
    "#     # Default parameters related to the Deep Neural Network\n",
    "#     'numberOfNeurons': 512,\n",
    "#     # Default parameters related to the Epsilon-Greedy exploration technique\n",
    "#     'epsilonStart': 1.0,\n",
    "#     'epsilonEnd': 0.01,\n",
    "#     # Default parameters regarding the sticky actions RL generalization technique\n",
    "#     # Default parameters related to preprocessing\n",
    "#     'filterOrder': 5,\n",
    "#     # Default paramters related to the clipping of both the gradient and the RL rewards\n",
    "#     'gradientClipping': 1,\n",
    "#     'rewardClipping': 1,\n",
    "# }\n",
    "# OPTIMIZATION_VALIDATION_PARAM = {\n",
    "#     'money': 100000,\n",
    "#     'stateLength': stateLength,\n",
    "#     'transactionCosts': transactionCosts,\n",
    "#     'name': 'validation',\n",
    "#     'network': '',\n",
    "# }\n",
    "# # hyperparameters will be selected randomly from the range specified below\n",
    "# OPTIMIZATION_HYPERPARAM = {\n",
    "#     'gamma': [.1, .9],\n",
    "#     'learningRate': [.0001, .005],\n",
    "#     'dropout': [.1, .9],\n",
    "#     'epsilonDecay': [5000,500000],\n",
    "#     'alpha': [.1, .9],\n",
    "#     'L2Factor': [.1, .000001],\n",
    "# }\n",
    "\n",
    "# strategy = \"TDQN\"\n",
    "# trainCryptocurrency = \"Bitcoin\"\n",
    "# OPTIMIZATION_TRAINING_PARAM['network'] = 'ConvDuelingDQN'\n",
    "# OPTIMIZATION_TRAINING_PARAM['name'] = 'btc_tdqn_ConvDuelingDQN_training'\n",
    "# OPTIMIZATION_VALIDATION_PARAM['network'] = 'ConvDuelingDQN'\n",
    "# OPTIMIZATION_VALIDATION_PARAM['name'] = 'btc_tdqn_ConvDuelingDQN_validation'\n",
    "# simulator.randomizedSearchOptimization(strategy, trainCryptocurrency, OPTIMIZATION_TRAINING_PARAM, OPTIMIZATION_VALIDATION_PARAM, OPTIMIZATION_HYPERPARAM, 3)\n",
    "# print()"
   ]
  },
  {
   "cell_type": "code",
   "execution_count": 5,
   "metadata": {},
   "outputs": [],
   "source": [
    "# set parameters after optimization\n",
    "percentageCosts = [0, 0.1, 0.2]\n",
    "transactionCosts = percentageCosts[1]/100\n",
    "stateLength = 30\n",
    "AI_TRAINING_PARAM = {\n",
    "    'money': 100000,\n",
    "    'percentageCosts': percentageCosts,\n",
    "    'transactionCosts': transactionCosts,\n",
    "    'name': 'training',\n",
    "    'network': '',\n",
    "    # Parameters related to the DQN algorithm\n",
    "    'stateLength': stateLength,\n",
    "    'numberOfEpisodes': 50,\n",
    "    'gamma': 0.4,\n",
    "    'learningRate': 0.0001,\n",
    "    'targetNetworkUpdate': 1000,\n",
    "    'learningUpdatePeriod': 1,\n",
    "    # Default parameters related to the Experience Replay mechanism\n",
    "    'capacity': 100000,\n",
    "    'batchSize': 32,\n",
    "    'experiencesRequired': 1000,\n",
    "    # Default parameters related to the Deep Neural Network\n",
    "    'numberOfNeurons': 512,\n",
    "    'dropout': 0.2,\n",
    "    # Default parameters related to the Epsilon-Greedy exploration technique\n",
    "    'epsilonStart': 1.0,\n",
    "    'epsilonEnd': 0.01,\n",
    "    'epsilonDecay': 10000,\n",
    "    # Default parameters regarding the sticky actions RL generalization technique\n",
    "    'alpha': 0.1,\n",
    "    # Default parameters related to preprocessing\n",
    "    'filterOrder': 5,\n",
    "    # Default paramters related to the clipping of both the gradient and the RL rewards\n",
    "    'gradientClipping': 1,\n",
    "    'rewardClipping': 1,\n",
    "    # Default parameter related to the L2 Regularization \n",
    "    'L2Factor': 0.000001,\n",
    "}\n",
    "\n",
    "NON_AI_TRAINING_PARAM = {\n",
    "    'startingDate': '2014-01-01',\n",
    "    'endingDate': '2019-01-01',\n",
    "    'money': 100000,\n",
    "    'stateLength': stateLength,\n",
    "    'percentageCosts': percentageCosts,\n",
    "    'transactionCosts': transactionCosts,\n",
    "    'name': 'training',\n",
    "    'network': ''\n",
    "}\n",
    "\n",
    "VALIDATION_PARAM = {\n",
    "    'money': 100000,\n",
    "    'stateLength': stateLength,\n",
    "    'transactionCosts': transactionCosts,\n",
    "    'name': 'validation',\n",
    "    'network': '',\n",
    "}\n",
    "\n",
    "BACKTEST_PARAM = {\n",
    "    'startingDate': '2014-01-01',\n",
    "    'endingDate': '2021-01-01',\n",
    "    'money': 100000,\n",
    "    'stateLength': stateLength,\n",
    "    'transactionCosts': transactionCosts,\n",
    "    'name': 'backtest',\n",
    "    'network': '',\n",
    "}\n",
    "\n",
    "TEST_PARAM = {\n",
    "    'startingDate': '2019-01-01',\n",
    "    'endingDate': '2021-01-01',\n",
    "    'money': 100000,\n",
    "    'stateLength': stateLength,\n",
    "    'transactionCosts': transactionCosts,\n",
    "    'name': 'test',\n",
    "    'network': '',\n",
    "}\n",
    "\n",
    "# ETH_TEST_PARAM = {\n",
    "#     'startingDate': '2019-01-01',\n",
    "#     'endingDate': '2021-01-01',\n",
    "#     'money': 100000,\n",
    "#     'stateLength': stateLength,\n",
    "#     'transactionCosts': transactionCosts,\n",
    "#     'name': 'test',\n",
    "#     'network': '',\n",
    "# }"
   ]
  },
  {
   "cell_type": "code",
   "execution_count": 6,
   "metadata": {
    "scrolled": true
   },
   "outputs": [
    {
     "ename": "KeyError",
     "evalue": "'startingDate'",
     "output_type": "error",
     "traceback": [
      "\u001b[1;31m---------------------------------------------------------------------------\u001b[0m",
      "\u001b[1;31mKeyError\u001b[0m                                  Traceback (most recent call last)",
      "\u001b[1;32m<ipython-input-6-769dcc8a4078>\u001b[0m in \u001b[0;36m<module>\u001b[1;34m\u001b[0m\n\u001b[0;32m      6\u001b[0m \u001b[0mVALIDATION_PARAM\u001b[0m\u001b[1;33m[\u001b[0m\u001b[1;34m'name'\u001b[0m\u001b[1;33m]\u001b[0m \u001b[1;33m=\u001b[0m \u001b[1;34m'btc_tdqn_LSTM_validation'\u001b[0m\u001b[1;33m\u001b[0m\u001b[1;33m\u001b[0m\u001b[0m\n\u001b[0;32m      7\u001b[0m \u001b[1;31m# WithCrossValidation\u001b[0m\u001b[1;33m\u001b[0m\u001b[1;33m\u001b[0m\u001b[1;33m\u001b[0m\u001b[0m\n\u001b[1;32m----> 8\u001b[1;33m \u001b[0msimulator\u001b[0m\u001b[1;33m.\u001b[0m\u001b[0maiTrain\u001b[0m\u001b[1;33m(\u001b[0m\u001b[0mstrategy\u001b[0m\u001b[1;33m,\u001b[0m \u001b[0mtrainCryptocurrency\u001b[0m\u001b[1;33m,\u001b[0m \u001b[0mAI_TRAINING_PARAM\u001b[0m\u001b[1;33m,\u001b[0m \u001b[0mVALIDATION_PARAM\u001b[0m\u001b[1;33m)\u001b[0m\u001b[1;33m\u001b[0m\u001b[1;33m\u001b[0m\u001b[0m\n\u001b[0m\u001b[0;32m      9\u001b[0m \u001b[0mprint\u001b[0m\u001b[1;33m(\u001b[0m\u001b[1;33m)\u001b[0m\u001b[1;33m\u001b[0m\u001b[1;33m\u001b[0m\u001b[0m\n",
      "\u001b[1;32m~\\Documents\\school\\yr 2 sem 2\\COMP3359 AI applications\\COMP3359_GP15_Deep_Reinforcement_Learning_in_Cryptocurrency_Algorithmic_Trading-main\\CONT action space\\tdqn_cont3\\tradingSimulator.py\u001b[0m in \u001b[0;36maiTrain\u001b[1;34m(self, strategyName, cryptocurrencyName, PARAM, verbose, plotTraining, rendering, showPerformance, saveStrategy)\u001b[0m\n\u001b[0;32m     97\u001b[0m         \u001b[1;31m# initialize variables\u001b[0m\u001b[1;33m\u001b[0m\u001b[1;33m\u001b[0m\u001b[1;33m\u001b[0m\u001b[0m\n\u001b[0;32m     98\u001b[0m         \u001b[0mstrategy\u001b[0m \u001b[1;33m=\u001b[0m \u001b[0mstrategiesAI\u001b[0m\u001b[1;33m[\u001b[0m\u001b[0mstrategyName\u001b[0m\u001b[1;33m]\u001b[0m\u001b[1;33m\u001b[0m\u001b[1;33m\u001b[0m\u001b[0m\n\u001b[1;32m---> 99\u001b[1;33m         \u001b[0mstartingDate\u001b[0m \u001b[1;33m=\u001b[0m \u001b[0mPARAM\u001b[0m\u001b[1;33m[\u001b[0m\u001b[1;34m'startingDate'\u001b[0m\u001b[1;33m]\u001b[0m\u001b[1;33m\u001b[0m\u001b[1;33m\u001b[0m\u001b[0m\n\u001b[0m\u001b[0;32m    100\u001b[0m         \u001b[0mendingDate\u001b[0m \u001b[1;33m=\u001b[0m \u001b[0mPARAM\u001b[0m\u001b[1;33m[\u001b[0m\u001b[1;34m'endingDate'\u001b[0m\u001b[1;33m]\u001b[0m\u001b[1;33m\u001b[0m\u001b[1;33m\u001b[0m\u001b[0m\n\u001b[0;32m    101\u001b[0m         \u001b[0mmoney\u001b[0m \u001b[1;33m=\u001b[0m \u001b[0mPARAM\u001b[0m\u001b[1;33m[\u001b[0m\u001b[1;34m'money'\u001b[0m\u001b[1;33m]\u001b[0m\u001b[1;33m\u001b[0m\u001b[1;33m\u001b[0m\u001b[0m\n",
      "\u001b[1;31mKeyError\u001b[0m: 'startingDate'"
     ]
    }
   ],
   "source": [
    "strategy = \"TDQN\"\n",
    "trainCryptocurrency = \"Bitcoin\"\n",
    "AI_TRAINING_PARAM['network'] = 'LSTM'\n",
    "AI_TRAINING_PARAM['name'] = 'btc_tdqn_LSTM_training'\n",
    "VALIDATION_PARAM['network'] = 'LSTM'\n",
    "VALIDATION_PARAM['name'] = 'btc_tdqn_LSTM_validation'\n",
    "# WithCrossValidation\n",
    "simulator.aiTrain(strategy, trainCryptocurrency, AI_TRAINING_PARAM, VALIDATION_PARAM)\n",
    "print()"
   ]
  },
  {
   "cell_type": "code",
   "execution_count": 4,
   "metadata": {
    "scrolled": true
   },
   "outputs": [
    {
     "name": "stdout",
     "output_type": "stream",
     "text": [
      "╒═══════════════════════════╤══════════╕\n",
      "│   Performance Indicator   │   TDQN   │\n",
      "╞═══════════════════════════╪══════════╡\n",
      "│    Profit & Loss (P&L)    │ -147526  │\n",
      "├───────────────────────────┼──────────┤\n",
      "│     Annualized Return     │  69.87%  │\n",
      "├───────────────────────────┼──────────┤\n",
      "│   Annualized Volatility   │ 208.36%  │\n",
      "├───────────────────────────┼──────────┤\n",
      "│       Sharpe Ratio        │  0.312   │\n",
      "├───────────────────────────┼──────────┤\n",
      "│       Sortino Ratio       │  0.455   │\n",
      "├───────────────────────────┼──────────┤\n",
      "│     Maximum Drawdown      │ 147.36%  │\n",
      "├───────────────────────────┼──────────┤\n",
      "│ Maximum Drawdown Duration │ 693 days │\n",
      "├───────────────────────────┼──────────┤\n",
      "│       Profitability       │  0.00%   │\n",
      "├───────────────────────────┼──────────┤\n",
      "│ Ratio Average Profit/Loss │  0.000   │\n",
      "├───────────────────────────┼──────────┤\n",
      "│         Skewness          │  8.321   │\n",
      "╘═══════════════════════════╧══════════╛\n",
      "\n"
     ]
    },
    {
     "data": {
      "image/png": "[encoded data removed]",
      "text/plain": [
       "<Figure size 720x576 with 2 Axes>"
      ]
     },
     "metadata": {
      "needs_background": "light"
     },
     "output_type": "display_data"
    },
    {
     "data": {
      "image/png": "[encoded data removed]",
      "text/plain": [
       "<Figure size 432x288 with 1 Axes>"
      ]
     },
     "metadata": {
      "needs_background": "light"
     },
     "output_type": "display_data"
    }
   ],
   "source": [
    "strategy = \"TDQN\"\n",
    "trainCryptocurrency = \"Bitcoin\"\n",
    "testCryptocurrency = \"Bitcoin\"\n",
    "TEST_PARAM['name'] = 'btc_tdqn_LSTM_test'\n",
    "TEST_PARAM['network'] = 'LSTM'\n",
    "simulator.test(strategy, trainCryptocurrency, testCryptocurrency, AI_TRAINING_PARAM, TEST_PARAM)\n",
    "print()"
   ]
  },
  {
   "cell_type": "code",
   "execution_count": null,
   "metadata": {},
   "outputs": [],
   "source": [
    "strategy = \"TDQN\"\n",
    "trainCryptocurrency = \"Bitcoin\"\n",
    "testCryptocurrency = \"Bitcoin\"\n",
    "BACKTEST_PARAM['name'] = 'btc_tdqn_LSTM_backtest'\n",
    "BACKTEST_PARAM['network'] = 'LSTM'\n",
    "simulator.test(strategy, trainCryptocurrency, testCryptocurrency, AI_TRAINING_PARAM, BACKTEST_PARAM)\n",
    "print()"
   ]
  },
  {
   "cell_type": "code",
   "execution_count": null,
   "metadata": {},
   "outputs": [],
   "source": [
    "# Haven't scraped eth s2f\n",
    "# strategy = \"TDQN\"\n",
    "# trainCryptocurrency = \"Bitcoin\"\n",
    "# testCryptocurrency = \"Ethereum\"\n",
    "# ETH_TEST_PARAM['name'] = 'eth_tdqn_DQN_test'\n",
    "# ETH_TEST_PARAM['network'] = 'DQN'\n",
    "# simulator.test(strategy, trainCryptocurrency, testCryptocurrency, AI_TRAINING_PARAM, ETH_TEST_PARAM)\n",
    "# print()"
   ]
  },
  {
   "cell_type": "code",
   "execution_count": null,
   "metadata": {},
   "outputs": [],
   "source": [
    "# strategy = \"Mean Reversion Moving Averages\"\n",
    "# trainCryptocurrency = \"Bitcoin\"\n",
    "# NON_AI_TRAINING_PARAM['name'] = 'btc_mrma_training'\n",
    "# simulator.nonAiTrain(strategy, trainCryptocurrency, NON_AI_TRAINING_PARAM)\n",
    "# print()"
   ]
  },
  {
   "cell_type": "code",
   "execution_count": null,
   "metadata": {},
   "outputs": [],
   "source": [
    "# strategy = \"Mean Reversion Moving Averages\"\n",
    "# trainCryptocurrency = \"Bitcoin\"\n",
    "# testCryptocurrency = \"Bitcoin\"\n",
    "# BACKTEST_PARAM['name'] = 'btc_mrma_backtest'\n",
    "# simulator.test(strategy, trainCryptocurrency, testCryptocurrency, NON_AI_TRAINING_PARAM, BACKTEST_PARAM)\n",
    "# print()"
   ]
  },
  {
   "cell_type": "code",
   "execution_count": null,
   "metadata": {},
   "outputs": [],
   "source": [
    "# strategy = \"Mean Reversion Moving Averages\"\n",
    "# trainCryptocurrency = \"Bitcoin\"\n",
    "# testCryptocurrency = \"Bitcoin\"\n",
    "# TEST_PARAM['name'] = 'btc_mrma_test'\n",
    "# simulator.test(strategy, trainCryptocurrency, testCryptocurrency, NON_AI_TRAINING_PARAM, TEST_PARAM)\n",
    "# print()"
   ]
  },
  {
   "cell_type": "code",
   "execution_count": null,
   "metadata": {},
   "outputs": [],
   "source": [
    "# strategy = \"Mean Reversion Moving Averages\"\n",
    "# trainCryptocurrency = \"Bitcoin\"\n",
    "# testCryptocurrency = \"Ethereum\"\n",
    "# ETH_TEST_PARAM['name'] = 'eth_mrma_test'\n",
    "# simulator.test(strategy, trainCryptocurrency, testCryptocurrency, NON_AI_TRAINING_PARAM, ETH_TEST_PARAM)\n",
    "# print()"
   ]
  },
  {
   "cell_type": "code",
   "execution_count": null,
   "metadata": {},
   "outputs": [],
   "source": []
  }
 ],
 "metadata": {
  "kernelspec": {
   "display_name": "Python 3",
   "language": "python",
   "name": "python3"
  },
  "language_info": {
   "codemirror_mode": {
    "name": "ipython",
    "version": 3
   },
   "file_extension": ".py",
   "mimetype": "text/x-python",
   "name": "python",
   "nbconvert_exporter": "python",
   "pygments_lexer": "ipython3",
   "version": "3.8.6"
  }
 },
 "nbformat": 4,
 "nbformat_minor": 5
}
