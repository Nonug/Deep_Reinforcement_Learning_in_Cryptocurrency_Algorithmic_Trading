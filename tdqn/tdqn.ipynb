{
 "cells": [
  {
   "cell_type": "code",
   "execution_count": null,
   "id": "continent-shaft",
   "metadata": {},
   "outputs": [],
   "source": [
    "from tradingSimulator import TradingSimulator\n",
    "simulator = TradingSimulator()"
   ]
  },
  {
   "cell_type": "code",
   "execution_count": null,
   "id": "sharp-oklahoma",
   "metadata": {},
   "outputs": [],
   "source": [
    "# strategy in {\n",
    "#     'Buy and Hold',\n",
    "#     'Sell and Hold',\n",
    "#     'Trend Following Moving Averages',\n",
    "#     'Mean Reversion Moving Averages',\n",
    "#     'TDQN'\n",
    "# }\n",
    "# cryptocurrency in {'Bitcoin', 'Ethereum'}"
   ]
  },
  {
   "cell_type": "code",
   "execution_count": null,
   "id": "isolated-shadow",
   "metadata": {},
   "outputs": [],
   "source": [
    "cryptocurrency = \"Bitcoin\"\n",
    "simulator.exploratoryDataAnalysis(cryptocurrency, '2014-01-01', '2021-01-01')"
   ]
  },
  {
   "cell_type": "code",
   "execution_count": null,
   "id": "engaging-fundamental",
   "metadata": {},
   "outputs": [],
   "source": [
    "stateLength = 30\n",
    "AI_TRAINING_PARAM = {\n",
    "    'startingDate': '2014-01-01',\n",
    "    'endingDate': '2017-01-01',\n",
    "    \n",
    "    # Variables specifying the default capital at the disposal of the trader\n",
    "    'money': 100000,\n",
    "    \n",
    "    # Variables setting up the default transaction costs\n",
    "    'percentageCosts': [0, 0.1, 0.2],\n",
    "\n",
    "    # Parameters related to the DQN algorithm\n",
    "    'stateLength': stateLength,\n",
    "    'numberOfEpisodes': 3,\n",
    "    'gamma': 0.4,\n",
    "    'learningRate': 0.0001,\n",
    "    'targetNetworkUpdate': 1000,\n",
    "    'learningUpdatePeriod': 1,\n",
    "\n",
    "    # Parameters related to the Experience Replay mechanism\n",
    "    'capacity': 100000,\n",
    "    'batchSize': 32,\n",
    "    'experiencesRequired': 1000,\n",
    "\n",
    "    # Parameters related to the Epsilon-Greedy exploration technique\n",
    "    'epsilonStart': 1.0,\n",
    "    'epsilonEnd': 0.01,\n",
    "    'epsilonDecay': 10000\n",
    "}\n",
    "AI_TRAINING_PARAM['transactionCosts'] = AI_TRAINING_PARAM['percentageCosts'][1]/100\n",
    "\n",
    "AI_VALIDATION_BACKTEST_PARAM = {\n",
    "    'startingDate': '2014-01-01',\n",
    "    'endingDate': '2017-01-01',\n",
    "    'money': 100000,\n",
    "    'stateLength': stateLength,\n",
    "    'transactionCosts': AI_TRAINING_PARAM['transactionCosts'],\n",
    "    'name': 'validation_backtest'\n",
    "}\n",
    "\n",
    "AI_VALIDATION_PARAM = {\n",
    "    'startingDate': '2017-01-01',\n",
    "    'endingDate': '2019-01-01',\n",
    "    'money': 100000,\n",
    "    'stateLength': stateLength,\n",
    "    'transactionCosts': AI_TRAINING_PARAM['transactionCosts'],\n",
    "    'name': 'validation_test'\n",
    "}\n",
    "\n",
    "AI_BACKTEST_PARAM = {\n",
    "    'startingDate': '2014-01-01',\n",
    "    'endingDate': '2019-01-01',\n",
    "    'money': 100000,\n",
    "    'stateLength': stateLength,\n",
    "    'transactionCosts': AI_TRAINING_PARAM['transactionCosts'],\n",
    "    'name': 'backtest'\n",
    "}\n",
    "\n",
    "AI_TEST_PARAM = {\n",
    "    'startingDate': '2019-01-01',\n",
    "    'endingDate': '2021-01-01',\n",
    "    'money': 100000,\n",
    "    'stateLength': stateLength,\n",
    "    'transactionCosts': AI_TRAINING_PARAM['transactionCosts'],\n",
    "    'name': 'test'\n",
    "}\n",
    "\n",
    "AI_ETH_TEST_PARAM = {\n",
    "    'startingDate': '2016-01-01',\n",
    "    'endingDate': '2021-01-01',\n",
    "    'money': 100000,\n",
    "    'stateLength': stateLength,\n",
    "    'transactionCosts': AI_TRAINING_PARAM['transactionCosts'],\n",
    "    'name': 'eth_test'\n",
    "}\n",
    "\n",
    "NON_AI_TRAINING_PARAM = {\n",
    "    'startingDate': '2014-01-01',\n",
    "    'endingDate': '2017-01-01',\n",
    "    'money': 100000,\n",
    "    'stateLength': stateLength,\n",
    "    'percentageCosts': [0, 0.1, 0.2],\n",
    "}\n",
    "NON_AI_TRAINING_PARAM['transactionCosts'] = NON_AI_TRAINING_PARAM['percentageCosts'][1]/100\n",
    "\n",
    "NON_AI_VALIDATION_BACKTEST_PARAM = {\n",
    "    'startingDate': '2014-01-01',\n",
    "    'endingDate': '2017-01-01',\n",
    "    'money': 100000,\n",
    "    'stateLength': stateLength,\n",
    "    'transactionCosts': AI_TRAINING_PARAM['transactionCosts'],\n",
    "    'name': 'validation_backtest'\n",
    "}\n",
    "\n",
    "NON_AI_VALIDATION_PARAM = {\n",
    "    'startingDate': '2017-01-01',\n",
    "    'endingDate': '2019-01-01',\n",
    "    'money': 100000,\n",
    "    'stateLength': stateLength,\n",
    "    'transactionCosts': AI_TRAINING_PARAM['transactionCosts'],\n",
    "    'name': 'validation_test'\n",
    "}\n",
    "\n",
    "NON_AI_BACKTEST_PARAM = {\n",
    "    'startingDate': '2014-01-01',\n",
    "    'endingDate': '2019-01-01',\n",
    "    'money': 100000,\n",
    "    'stateLength': stateLength,\n",
    "    'transactionCosts': AI_TRAINING_PARAM['transactionCosts'],\n",
    "    'name': 'backtest'\n",
    "}\n",
    "\n",
    "NON_AI_TEST_PARAM = {\n",
    "    'startingDate': '2019-01-01',\n",
    "    'endingDate': '2021-01-01',\n",
    "    'money': 100000,\n",
    "    'stateLength': stateLength,\n",
    "    'transactionCosts': AI_TRAINING_PARAM['transactionCosts'],\n",
    "    'name': 'test'\n",
    "}\n",
    "\n",
    "NON_AI_ETH_TEST_PARAM = {\n",
    "    'startingDate': '2016-01-01',\n",
    "    'endingDate': '2021-01-01',\n",
    "    'money': 100000,\n",
    "    'stateLength': stateLength,\n",
    "    'transactionCosts': AI_TRAINING_PARAM['transactionCosts'],\n",
    "    'name': 'eth_test'\n",
    "}"
   ]
  },
  {
   "cell_type": "code",
   "execution_count": null,
   "id": "sexual-chaos",
   "metadata": {
    "scrolled": false
   },
   "outputs": [],
   "source": [
    "strategy = \"TDQN\"\n",
    "trainCryptocurrency = \"Bitcoin\"\n",
    "simulator.aiTrain(strategy, trainCryptocurrency, AI_TRAINING_PARAM)\n",
    "print()"
   ]
  },
  {
   "cell_type": "code",
   "execution_count": null,
   "id": "christian-palmer",
   "metadata": {},
   "outputs": [],
   "source": [
    "strategy = \"TDQN\"\n",
    "trainCryptocurrency = \"Bitcoin\"\n",
    "testCryptocurrency = \"Bitcoin\"\n",
    "simulator.test(strategy, trainCryptocurrency, testCryptocurrency, AI_VALIDATION_BACKTEST_PARAM)\n",
    "print()"
   ]
  },
  {
   "cell_type": "code",
   "execution_count": null,
   "id": "hindu-thomas",
   "metadata": {},
   "outputs": [],
   "source": [
    "strategy = \"TDQN\"\n",
    "trainCryptocurrency = \"Bitcoin\"\n",
    "testCryptocurrency = \"Bitcoin\"\n",
    "simulator.test(strategy, trainCryptocurrency, testCryptocurrency, AI_VALIDATION_PARAM)\n",
    "print()"
   ]
  },
  {
   "cell_type": "code",
   "execution_count": null,
   "id": "worst-david",
   "metadata": {},
   "outputs": [],
   "source": [
    "strategy = \"TDQN\"\n",
    "trainCryptocurrency = \"Bitcoin\"\n",
    "testCryptocurrency = \"Bitcoin\"\n",
    "simulator.test(strategy, trainCryptocurrency, testCryptocurrency, AI_BACKTEST_PARAM)\n",
    "print()"
   ]
  },
  {
   "cell_type": "code",
   "execution_count": null,
   "id": "female-father",
   "metadata": {},
   "outputs": [],
   "source": [
    "strategy = \"TDQN\"\n",
    "trainCryptocurrency = \"Bitcoin\"\n",
    "testCryptocurrency = \"Bitcoin\"\n",
    "simulator.test(strategy, trainCryptocurrency, testCryptocurrency, AI_TEST_PARAM)\n",
    "print()"
   ]
  },
  {
   "cell_type": "code",
   "execution_count": null,
   "id": "warming-equipment",
   "metadata": {},
   "outputs": [],
   "source": [
    "strategy = \"TDQN\"\n",
    "trainCryptocurrency = \"Bitcoin\"\n",
    "testCryptocurrency = \"Ethereum\"\n",
    "simulator.test(strategy, trainCryptocurrency, testCryptocurrency, AI_ETH_TEST_PARAM)\n",
    "print()"
   ]
  },
  {
   "cell_type": "code",
   "execution_count": null,
   "id": "interracial-paris",
   "metadata": {},
   "outputs": [],
   "source": [
    "strategy = \"Buy and Hold\"\n",
    "trainCryptocurrency = \"Bitcoin\"\n",
    "simulator.nonAiTrain(strategy, trainCryptocurrency, NON_AI_TRAINING_PARAM)\n",
    "print()"
   ]
  },
  {
   "cell_type": "code",
   "execution_count": null,
   "id": "copyrighted-adelaide",
   "metadata": {},
   "outputs": [],
   "source": [
    "strategy = \"Buy and Hold\"\n",
    "trainCryptocurrency = \"Bitcoin\"\n",
    "testCryptocurrency = \"Bitcoin\"\n",
    "simulator.test(strategy, trainCryptocurrency, testCryptocurrency, NON_AI_VALIDATION_PARAM)\n",
    "print()"
   ]
  },
  {
   "cell_type": "code",
   "execution_count": null,
   "id": "bulgarian-episode",
   "metadata": {},
   "outputs": [],
   "source": [
    "strategy = \"Buy and Hold\"\n",
    "trainCryptocurrency = \"Bitcoin\"\n",
    "testCryptocurrency = \"Bitcoin\"\n",
    "simulator.test(strategy, trainCryptocurrency, testCryptocurrency, NON_AI_TEST_PARAM)\n",
    "print()"
   ]
  },
  {
   "cell_type": "code",
   "execution_count": null,
   "id": "charitable-tanzania",
   "metadata": {},
   "outputs": [],
   "source": [
    "strategy = \"Buy and Hold\"\n",
    "trainCryptocurrency = \"Bitcoin\"\n",
    "testCryptocurrency = \"Ethereum\"\n",
    "simulator.test(strategy, trainCryptocurrency, testCryptocurrency, NON_AI_ETH_TEST_PARAM)\n",
    "print()"
   ]
  },
  {
   "cell_type": "code",
   "execution_count": null,
   "id": "suspected-focus",
   "metadata": {},
   "outputs": [],
   "source": [
    "strategy = \"Sell and Hold\"\n",
    "trainCryptocurrency = \"Bitcoin\"\n",
    "simulator.nonAitrain(strategy, trainCryptocurrency, NON_AI_TRAINING_PARAM)\n",
    "print()"
   ]
  },
  {
   "cell_type": "code",
   "execution_count": null,
   "id": "interracial-difficulty",
   "metadata": {},
   "outputs": [],
   "source": [
    "strategy = \"Sell and Hold\"\n",
    "trainCryptocurrency = \"Bitcoin\"\n",
    "testCryptocurrency = \"Bitcoin\"\n",
    "simulator.test(strategy, trainCryptocurrency, testCryptocurrency, NON_AI_VALIDATION_PARAM)\n",
    "print()"
   ]
  },
  {
   "cell_type": "code",
   "execution_count": null,
   "id": "enhanced-firmware",
   "metadata": {},
   "outputs": [],
   "source": [
    "strategy = \"Sell and Hold\"\n",
    "trainCryptocurrency = \"Bitcoin\"\n",
    "testCryptocurrency = \"Bitcoin\"\n",
    "simulator.test(strategy, trainCryptocurrency, testCryptocurrency, NON_AI_TEST_PARAM)\n",
    "print()"
   ]
  },
  {
   "cell_type": "code",
   "execution_count": null,
   "id": "variable-russia",
   "metadata": {},
   "outputs": [],
   "source": [
    "strategy = \"Sell and Hold\"\n",
    "trainCryptocurrency = \"Bitcoin\"\n",
    "testCryptocurrency = \"Ethereum\"\n",
    "simulator.test(strategy, trainCryptocurrency, testCryptocurrency, NON_AI_ETH_TEST_PARAM)\n",
    "print()"
   ]
  },
  {
   "cell_type": "code",
   "execution_count": null,
   "id": "genetic-mountain",
   "metadata": {},
   "outputs": [],
   "source": [
    "strategy = \"Trend Following Moving Averages\"\n",
    "trainCryptocurrency = \"Bitcoin\"\n",
    "simulator.nonAiTrain(strategy, trainCryptocurrency, NON_AI_TRAINING_PARAM)\n",
    "print()"
   ]
  },
  {
   "cell_type": "code",
   "execution_count": null,
   "id": "proprietary-laugh",
   "metadata": {},
   "outputs": [],
   "source": [
    "strategy = \"Trend Following Moving Averages\"\n",
    "trainCryptocurrency = \"Bitcoin\"\n",
    "testCryptocurrency = \"Bitcoin\"\n",
    "simulator.test(strategy, trainCryptocurrency, testCryptocurrency, NON_AI_VALIDATION_PARAM)\n",
    "print()"
   ]
  },
  {
   "cell_type": "code",
   "execution_count": null,
   "id": "loaded-blogger",
   "metadata": {},
   "outputs": [],
   "source": [
    "strategy = \"Trend Following Moving Averages\"\n",
    "trainCryptocurrency = \"Bitcoin\"\n",
    "testCryptocurrency = \"Bitcoin\"\n",
    "simulator.test(strategy, trainCryptocurrency, testCryptocurrency, NON_AI_TEST_PARAM)\n",
    "print()"
   ]
  },
  {
   "cell_type": "code",
   "execution_count": null,
   "id": "external-nylon",
   "metadata": {},
   "outputs": [],
   "source": [
    "strategy = \"Trend Following Moving Averages\"\n",
    "trainCryptocurrency = \"Bitcoin\"\n",
    "testCryptocurrency = \"Ethereum\"\n",
    "simulator.test(strategy, trainCryptocurrency, testCryptocurrency, NON_AI_ETH_TEST_PARAM)\n",
    "print()"
   ]
  },
  {
   "cell_type": "code",
   "execution_count": null,
   "id": "cellular-acceptance",
   "metadata": {},
   "outputs": [],
   "source": [
    "strategy = \"Mean Reversion Moving Averages\"\n",
    "trainCryptocurrency = \"Bitcoin\"\n",
    "testCryptocurrency = \"Bitcoin\"\n",
    "simulator.nonAitrain(strategy, trainCryptocurrency, NON_AI_TRAINING_PARAM)\n",
    "print()"
   ]
  },
  {
   "cell_type": "code",
   "execution_count": null,
   "id": "swedish-toddler",
   "metadata": {},
   "outputs": [],
   "source": [
    "strategy = \"Mean Reversion Moving Averages\"\n",
    "trainCryptocurrency = \"Bitcoin\"\n",
    "testCryptocurrency = \"Bitcoin\"\n",
    "simulator.test(strategy, trainCryptocurrency, testCryptocurrency, NON_AI_VALIDATION_PARAM)\n",
    "print()"
   ]
  },
  {
   "cell_type": "code",
   "execution_count": null,
   "id": "associate-celebrity",
   "metadata": {},
   "outputs": [],
   "source": [
    "strategy = \"Mean Reversion Moving Averages\"\n",
    "trainCryptocurrency = \"Bitcoin\"\n",
    "testCryptocurrency = \"Bitcoin\"\n",
    "simulator.test(strategy, trainCryptocurrency, testCryptocurrency, NON_AI_TEST_PARAM)\n",
    "print()"
   ]
  },
  {
   "cell_type": "code",
   "execution_count": null,
   "id": "czech-medicine",
   "metadata": {},
   "outputs": [],
   "source": [
    "strategy = \"Mean Reversion Moving Averages\"\n",
    "trainCryptocurrency = \"Bitcoin\"\n",
    "testCryptocurrency = \"Ethereum\"\n",
    "simulator.test(strategy, trainCryptocurrency, testCryptocurrency, NON_AI_ETH_TEST_PARAM)\n",
    "print()"
   ]
  }
 ],
 "metadata": {
  "kernelspec": {
   "display_name": "Python 3",
   "language": "python",
   "name": "python3"
  },
  "language_info": {
   "codemirror_mode": {
    "name": "ipython",
    "version": 3
   },
   "file_extension": ".py",
   "mimetype": "text/x-python",
   "name": "python",
   "nbconvert_exporter": "python",
   "pygments_lexer": "ipython3",
   "version": "3.8.8"
  }
 },
 "nbformat": 4,
 "nbformat_minor": 5
}
