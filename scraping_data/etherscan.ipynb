{
 "cells": [
  {
   "cell_type": "code",
   "execution_count": 1,
   "id": "educational-distinction",
   "metadata": {},
   "outputs": [],
   "source": [
    "import etherscan\n",
    "import pandas as pd"
   ]
  },
  {
   "cell_type": "code",
   "execution_count": 2,
   "id": "expensive-virtue",
   "metadata": {},
   "outputs": [],
   "source": [
    "api_key = 'U8EM893CETVDZQPM3V16S1C7NJHP3X6KA1'\n",
    "es = etherscan.Client(\n",
    "    api_key=api_key,\n",
    "    cache_expire_after=5,\n",
    ")"
   ]
  },
  {
   "cell_type": "code",
   "execution_count": 5,
   "id": "jewish-effects",
   "metadata": {},
   "outputs": [
    {
     "name": "stdout",
     "output_type": "stream",
     "text": [
      "<class 'int'>\n"
     ]
    }
   ],
   "source": [
    "eth_supply = es.get_eth_supply()\n",
    "print(type(eth_supply))"
   ]
  }
 ],
 "metadata": {
  "kernelspec": {
   "display_name": "Python 3",
   "language": "python",
   "name": "python3"
  },
  "language_info": {
   "codemirror_mode": {
    "name": "ipython",
    "version": 3
   },
   "file_extension": ".py",
   "mimetype": "text/x-python",
   "name": "python",
   "nbconvert_exporter": "python",
   "pygments_lexer": "ipython3",
   "version": "3.8.8"
  }
 },
 "nbformat": 4,
 "nbformat_minor": 5
}
