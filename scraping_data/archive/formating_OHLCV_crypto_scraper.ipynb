{
 "cells": [
  {
   "cell_type": "code",
   "execution_count": 7,
   "id": "equipped-filing",
   "metadata": {},
   "outputs": [],
   "source": [
    "import pandas as pd\n",
    "crypto = 'btc'\n",
    "df = pd.read_csv(\"../data/btc_processed.csv\")\n",
    "df = df.drop(columns=['Market Cap'])\n",
    "df.columns = ['Timestamp', 'Open', 'High', 'Low', 'Close', 'Volume']\n",
    "trainStartDate = \"2014-01-01\"\n",
    "trainEndDate = \"2017-01-01\"\n",
    "validStartDate = \"2017-01-01\"\n",
    "validEndDate = \"2019-01-01\"\n",
    "testStartDate = \"2019-01-01\"\n",
    "testEndDate = \"2021-01-01\"\n",
    "trainDF = df.loc[(df['Timestamp']>=trainStartDate) & (df['Timestamp']<trainEndDate)]\n",
    "validDF = df.loc[(df['Timestamp']>=validStartDate) & (df['Timestamp']<validEndDate)]\n",
    "testDF = df.loc[(df['Timestamp']>=testStartDate) & (df['Timestamp']<testEndDate)]\n",
    "trainAndValidDF = df.loc[(df['Timestamp']>=trainStartDate) & (df['Timestamp']<validEndDate)]\n",
    "trainDF.to_csv('../data/'+crypto+'_'+trainStartDate+'_'+trainEndDate+'.csv', index=False)\n",
    "validDF.to_csv('../data/'+crypto+'_'+validStartDate+'_'+validEndDate+'.csv', index=False)\n",
    "testDF.to_csv('../data/'+crypto+'_'+testStartDate+'_'+testEndDate+'.csv', index=False)\n",
    "trainAndValidDF.to_csv('../data/'+crypto+'_'+trainStartDate+'_'+validEndDate+'.csv', index=False)\n",
    "df.to_csv('../data/'+crypto+'_'+trainStartDate+'_'+testEndDate+'.csv', index=False)"
   ]
  }
 ],
 "metadata": {
  "kernelspec": {
   "display_name": "Python 3",
   "language": "python",
   "name": "python3"
  },
  "language_info": {
   "codemirror_mode": {
    "name": "ipython",
    "version": 3
   },
   "file_extension": ".py",
   "mimetype": "text/x-python",
   "name": "python",
   "nbconvert_exporter": "python",
   "pygments_lexer": "ipython3",
   "version": "3.8.8"
  }
 },
 "nbformat": 4,
 "nbformat_minor": 5
}
