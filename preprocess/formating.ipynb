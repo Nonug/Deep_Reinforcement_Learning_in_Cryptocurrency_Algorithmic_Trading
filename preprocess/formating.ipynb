{
 "cells": [
  {
   "cell_type": "code",
   "execution_count": 2,
   "id": "expanded-blank",
   "metadata": {},
   "outputs": [],
   "source": [
    "import pandas as pd\n",
    "import ast"
   ]
  },
  {
   "cell_type": "code",
   "execution_count": null,
   "id": "suburban-storage",
   "metadata": {},
   "outputs": [],
   "source": [
    "crypto = 'btc'\n",
    "ohlc_path = '../data/'+crypto+'_price_usd_ohlc.csv'\n",
    "v_path = '../data/'+crypto+'_transactions_size_sum.csv'\n",
    "df = pd.read_csv(ohlc_path)\n",
    "v = pd.read_csv(v_path)\n",
    "df['o'] = df['o'].map(lambda x:ast.literal_eval(x))\n",
    "df = df.join(pd.DataFrame(df.pop('o').values.tolist()))\n",
    "df = df.join(v['v'])\n",
    "df = df[['t', 'o', 'h', 'l', 'c', 'v']]\n",
    "df.columns = ['Timestamp', 'Open', 'High', 'Low', 'Close', 'Volume']"
   ]
  },
  {
   "cell_type": "code",
   "execution_count": 18,
   "id": "challenging-arthritis",
   "metadata": {},
   "outputs": [],
   "source": [
    "trainStartDate = \"2014-01-01\"\n",
    "trainEndDate = \"2017-01-01\"\n",
    "validStartDate = \"2017-01-01\"\n",
    "validEndDate = \"2019-01-01\"\n",
    "testStartDate = \"2019-01-01\"\n",
    "testEndDate = \"2021-01-01\"\n",
    "trainDF = df.loc[(df['Timestamp']>=trainStartDate) & (df['Timestamp']<trainEndDate)]\n",
    "validDF = df.loc[(df['Timestamp']>=validStartDate) & (df['Timestamp']<validEndDate)]\n",
    "testDF = df.loc[(df['Timestamp']>=testStartDate) & (df['Timestamp']<testEndDate)]\n",
    "trainAndValidDF = df.loc[(df['Timestamp']>=trainStartDate) & (df['Timestamp']<validEndDate)]\n",
    "trainDF.to_csv('../data/'+crypto+'_'+trainStartDate+'_'+trainEndDate, index=False)\n",
    "validDF.to_csv('../data/'+crypto+'_'+validStartDate+'_'+validEndDate, index=False)\n",
    "testDF.to_csv('../data/'+crypto+'_'+testStartDate+'_'+testEndDate, index=False)\n",
    "trainAndValidDF.to_csv('../data/'+crypto+'_'+trainStartDate+'_'+validEndDate, index=False)\n",
    "df.to_csv('../data/'+crypto+'_'+trainStartDate+'_'+testEndDate, index=False)"
   ]
  }
 ],
 "metadata": {
  "kernelspec": {
   "display_name": "Python 3",
   "language": "python",
   "name": "python3"
  },
  "language_info": {
   "codemirror_mode": {
    "name": "ipython",
    "version": 3
   },
   "file_extension": ".py",
   "mimetype": "text/x-python",
   "name": "python",
   "nbconvert_exporter": "python",
   "pygments_lexer": "ipython3",
   "version": "3.8.8"
  }
 },
 "nbformat": 4,
 "nbformat_minor": 5
}
